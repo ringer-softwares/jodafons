{
 "cells": [
  {
   "cell_type": "markdown",
   "id": "ca2f7274-f3c9-4920-8846-f57206e7ce34",
   "metadata": {},
   "source": [
    "# Kepler Framework, Emulate v9"
   ]
  },
  {
   "cell_type": "code",
   "execution_count": 2,
   "id": "59967f39-befe-42c6-b8aa-c81bcc13734b",
   "metadata": {},
   "outputs": [
    {
     "name": "stdout",
     "output_type": "stream",
     "text": [
      "The autoreload extension is already loaded. To reload it, use:\n",
      "  %reload_ext autoreload\n"
     ]
    }
   ],
   "source": [
    "from kepler.pandas.menu       import ElectronSequence as Chain\n",
    "from kepler.pandas.readers    import load, load_in_loop, load_hdf\n",
    "from core import Efficiency\n",
    "from Gaugi import mkdir_p, progressbar\n",
    "import numpy as np\n",
    "import pandas as pd\n",
    "import collections\n",
    "import os\n",
    "from pprint import pprint\n",
    "from copy import deepcopy\n",
    "\n",
    "import gc\n",
    "%config InlineBackend.figure_format = 'retina'\n",
    "%load_ext autoreload\n",
    "%autoreload 2"
   ]
  },
  {
   "cell_type": "code",
   "execution_count": 3,
   "id": "eff9d2e4-7725-401d-8591-23a51b5c3802",
   "metadata": {},
   "outputs": [],
   "source": [
    "output_path = 'output/emulation'\n",
    "mkdir_p(output_path)"
   ]
  },
  {
   "cell_type": "code",
   "execution_count": 4,
   "id": "9906fa52-812f-4db7-9f00-e5c9a8b317ff",
   "metadata": {},
   "outputs": [],
   "source": [
    "dpath_data17 = '../../data/output/data17_13TeV.AllPeriods.sgn.probes_lhvloose_EGAM1.bkg.vprobes_vlhvloose_EGAM7.GRL_v97.dataframe.h5'\n",
    "dpath_data18 = '../../data/output/data18_13TeV.AllPeriods.sgn.probes_lhvloose_EGAM1.bkg.vprobes_vlhvloose_EGAM7.GRL_v97.dataframe.h5'\n",
    "dpath_mc16   = '../../data/output/mc16_13TeV.302236_309995_341330.sgn.boosted_probes.WZ_llqq_plus_radion_ZZ_llqq_plus_ggH3000.merge.dataframe.h5'"
   ]
  },
  {
   "cell_type": "code",
   "execution_count": 5,
   "id": "8c3232c2-56de-4739-9052-93b27508c421",
   "metadata": {},
   "outputs": [],
   "source": [
    "tpath_data17 = 'output/emulation/data17_table_v9.h5'\n",
    "tpath_data18 = 'output/emulation/data18_table_v9.h5'\n",
    "tpath_mc16   = 'output/emulation/mc16_table_v9.h5'"
   ]
  },
  {
   "cell_type": "markdown",
   "id": "5a0b2e3b-e048-486a-b10e-b38c299dafe2",
   "metadata": {},
   "source": [
    "## Setup Chains:"
   ]
  },
  {
   "cell_type": "code",
   "execution_count": 6,
   "id": "6a8a7130-1079-45e8-86f8-80795de2473d",
   "metadata": {},
   "outputs": [
    {
     "name": "stdout",
     "output_type": "stream",
     "text": [
      "OrderedDict([('L1Seed', 'L1_EM15VHI'),\n",
      "             ('L2Calo', (14000.0, 'ringer_v9_vloose')),\n",
      "             ('L2', 'trig_L2_el_cut_pt15to20'),\n",
      "             ('EFCalo', 17000.0),\n",
      "             ('HLT', (17000.0, 'trig_EF_el_lhvloose'))])\n",
      "OrderedDict([('L1Seed', 'L1_EM22VHI'),\n",
      "             ('L2Calo', (25000.0, 'ringer_v9_tight')),\n",
      "             ('L2', 'trig_L2_el_cut_pt20to50'),\n",
      "             ('EFCalo', 28000.0),\n",
      "             ('HLT', (28000.0, 'trig_EF_el_lhtight_ivarloose'))])\n",
      "OrderedDict([('L1Seed', 'L1_EM24VHI'),\n",
      "             ('L2Calo', (57000.0, 'ringer_v9_medium')),\n",
      "             ('L2', 'trig_L2_el_cut_pt50toInf'),\n",
      "             ('EFCalo', 60000.0),\n",
      "             ('HLT', (60000.0, 'trig_EF_el_lhmedium'))])\n",
      "OrderedDict([('L1Seed', 'L1_EM24VHI'),\n",
      "             ('L2Calo', (137000.0, 'ringer_v9_loose')),\n",
      "             ('L2', 'trig_L2_el_cut_pt50toInf'),\n",
      "             ('EFCalo', 140000.0),\n",
      "             ('HLT', (140000.0, 'trig_EF_el_lhloose'))])\n"
     ]
    }
   ],
   "source": [
    "# create my chain\n",
    "chains = [\n",
    "            Chain( \"HLT_e17_lhvloose_nod0_ringer_v9_L1EM15VHI\", L1Seed = 'L1_EM15VHI' , l2calo_column = 'ringer_v9_vloose'),\n",
    "            Chain( \"HLT_e28_lhtight_nod0_ringer_v9_ivarloose\", L1Seed = 'L1_EM22VHI' , l2calo_column = 'ringer_v9_tight' ),\n",
    "            Chain( \"HLT_e60_lhmedium_nod0_ringer_v9_L1EM24VHI\", L1Seed = 'L1_EM24VHI' , l2calo_column = 'ringer_v9_medium'),\n",
    "            Chain( \"HLT_e140_lhloose_nod0_ringer_v9\" , L1Seed = 'L1_EM24VHI', l2calo_column = 'ringer_v9_loose'),\n",
    "]\n",
    "\n",
    "def emulate( df ):\n",
    "    for chain in progressbar(chains, prefix='Emulate...'):\n",
    "        chain.apply(df)"
   ]
  },
  {
   "cell_type": "markdown",
   "id": "d55125f6-ad91-4e6b-9568-b8efcf510c4c",
   "metadata": {},
   "source": [
    "## Emulate 2017:\n",
    "\n",
    "Take something like 1 hour"
   ]
  },
  {
   "cell_type": "code",
   "execution_count": 7,
   "id": "9ef17eb5-de24-47ca-91db-f3c4b058ed93",
   "metadata": {},
   "outputs": [],
   "source": [
    "data17_df = pd.concat( (load_hdf(dpath_data17), load_hdf(tpath_data17)), axis=1)"
   ]
  },
  {
   "cell_type": "code",
   "execution_count": 8,
   "id": "d05247bc-f622-4ac8-ae35-125960666352",
   "metadata": {},
   "outputs": [
    {
     "name": "stderr",
     "output_type": "stream",
     "text": [
      "Emulate...: 100%|██████████| 4/4 [01:35<00:00, 23.77s/it]\n"
     ]
    }
   ],
   "source": [
    "emulate(data17_df)"
   ]
  },
  {
   "cell_type": "code",
   "execution_count": 9,
   "id": "3c1b5e86-9940-48a0-b156-0ab677716b4d",
   "metadata": {},
   "outputs": [
    {
     "data": {
      "text/plain": [
       "(43311283, 111)"
      ]
     },
     "execution_count": 9,
     "metadata": {},
     "output_type": "execute_result"
    }
   ],
   "source": [
    "data17_df.shape"
   ]
  },
  {
   "cell_type": "markdown",
   "id": "9ba387d6-8f54-4032-b0f2-2437814886bd",
   "metadata": {},
   "source": [
    "### Validate:"
   ]
  },
  {
   "cell_type": "code",
   "execution_count": 10,
   "id": "a081015c-c396-43da-838f-6824365b3b22",
   "metadata": {},
   "outputs": [
    {
     "name": "stdout",
     "output_type": "stream",
     "text": [
      "2022-03-09 18:36:00,902 | Py.Efficiency                           INFO Creating the StoreGate service with path: output/emulation/data17_Zee_efficiency_v9.root\n"
     ]
    }
   ],
   "source": [
    "eff_data17_Zee = Efficiency( output_path+'/data17_Zee_efficiency_v9.root')"
   ]
  },
  {
   "cell_type": "code",
   "execution_count": 11,
   "id": "696e7ae6-7a61-467e-bbd3-df68af163e04",
   "metadata": {},
   "outputs": [
    {
     "name": "stderr",
     "output_type": "stream",
     "text": [
      "Filling...: 100%|██████████| 5/5 [01:52<00:00, 22.55s/it]\n"
     ]
    },
    {
     "name": "stdout",
     "output_type": "stream",
     "text": [
      "HLT_e17_lhvloose_nod0_ringer_v9_L1EM15VHI\n",
      "+--------+----------+-------------------+\n",
      "|  Step  | Eff [%%] |    passed/total   |\n",
      "+--------+----------+-------------------+\n",
      "| L1Calo | 94.1069  | 30158981/32047563 |\n",
      "| L2Calo | 93.4993  | 29964235/32047563 |\n",
      "|   L2   | 93.2617  | 29888090/32047563 |\n",
      "| EFCalo | 91.9508  | 29468006/32047563 |\n",
      "|  HLT   | 90.0283  | 28851868/32047563 |\n",
      "+--------+----------+-------------------+\n"
     ]
    },
    {
     "name": "stderr",
     "output_type": "stream",
     "text": [
      "Filling...: 100%|██████████| 5/5 [01:21<00:00, 16.40s/it]\n"
     ]
    },
    {
     "name": "stdout",
     "output_type": "stream",
     "text": [
      "HLT_e28_lhtight_nod0_ringer_v9_ivarloose\n",
      "+--------+----------+-------------------+\n",
      "|  Step  | Eff [%%] |    passed/total   |\n",
      "+--------+----------+-------------------+\n",
      "| L1Calo | 94.6937  | 21557594/22765602 |\n",
      "| L2Calo | 94.2570  | 21458184/22765602 |\n",
      "|   L2   | 94.1426  | 21432137/22765602 |\n",
      "| EFCalo | 93.2183  | 21221698/22765602 |\n",
      "|  HLT   | 87.0467  | 19816696/22765602 |\n",
      "+--------+----------+-------------------+\n"
     ]
    },
    {
     "name": "stderr",
     "output_type": "stream",
     "text": [
      "Filling...: 100%|██████████| 5/5 [00:05<00:00,  1.19s/it]\n"
     ]
    },
    {
     "name": "stdout",
     "output_type": "stream",
     "text": [
      "HLT_e60_lhmedium_nod0_ringer_v9_L1EM24VHI\n",
      "+--------+----------+-----------------+\n",
      "|  Step  | Eff [%%] |   passed/total  |\n",
      "+--------+----------+-----------------+\n",
      "| L1Calo | 99.5079  | 1361055/1367786 |\n",
      "| L2Calo | 97.3732  | 1331857/1367786 |\n",
      "|   L2   | 97.2831  | 1330624/1367786 |\n",
      "| EFCalo | 95.1930  | 1302037/1367786 |\n",
      "|  HLT   | 91.9069  | 1257090/1367786 |\n",
      "+--------+----------+-----------------+\n"
     ]
    },
    {
     "name": "stderr",
     "output_type": "stream",
     "text": [
      "Filling...: 100%|██████████| 5/5 [00:00<00:00, 19.96it/s]\n"
     ]
    },
    {
     "name": "stdout",
     "output_type": "stream",
     "text": [
      "HLT_e140_lhloose_nod0_ringer_v9\n",
      "+--------+----------+--------------+\n",
      "|  Step  | Eff [%%] | passed/total |\n",
      "+--------+----------+--------------+\n",
      "| L1Calo | 100.0000 | 60541/60541  |\n",
      "| L2Calo | 98.0592  | 59366/60541  |\n",
      "|   L2   | 97.9898  | 59324/60541  |\n",
      "| EFCalo | 96.6700  | 58525/60541  |\n",
      "|  HLT   | 94.7127  | 57340/60541  |\n",
      "+--------+----------+--------------+\n"
     ]
    }
   ],
   "source": [
    "eff_data17_Zee.fill( data17_df.loc[data17_df['target']==1], 'HLT_e17_lhvloose_nod0_ringer_v9_L1EM15VHI', pidname='el_lhvloose', reset=True)\n",
    "eff_data17_Zee.fill( data17_df.loc[data17_df['target']==1], 'HLT_e28_lhtight_nod0_ringer_v9_ivarloose' , pidname='el_lhtight' , reset=True)\n",
    "eff_data17_Zee.fill( data17_df.loc[data17_df['target']==1], 'HLT_e60_lhmedium_nod0_ringer_v9_L1EM24VHI', pidname='el_lhmedium', reset=True)\n",
    "eff_data17_Zee.fill( data17_df.loc[data17_df['target']==1], 'HLT_e140_lhloose_nod0_ringer_v9'          , pidname='el_lhloose' , reset=True)"
   ]
  },
  {
   "cell_type": "code",
   "execution_count": 12,
   "id": "2d5e76eb-2dce-4b92-92ce-ef691506629a",
   "metadata": {},
   "outputs": [],
   "source": [
    "eff_data17_Zee.save()"
   ]
  },
  {
   "cell_type": "code",
   "execution_count": 13,
   "id": "3e46582b-9a89-45e7-96ac-3a81e18cbe8c",
   "metadata": {},
   "outputs": [
    {
     "name": "stdout",
     "output_type": "stream",
     "text": [
      "2022-03-09 18:40:16,284 | Py.Efficiency                           INFO Creating the StoreGate service with path: output/emulation/data17_JF17_efficiency_v9.root\n"
     ]
    }
   ],
   "source": [
    "eff_data17_JF17 = Efficiency( output_path+'/data17_JF17_efficiency_v9.root')"
   ]
  },
  {
   "cell_type": "code",
   "execution_count": 14,
   "id": "fb059db5-fd95-46cd-9f1a-e6b99b435936",
   "metadata": {},
   "outputs": [
    {
     "name": "stderr",
     "output_type": "stream",
     "text": [
      "Filling...: 100%|██████████| 5/5 [00:21<00:00,  4.39s/it]\n"
     ]
    },
    {
     "name": "stdout",
     "output_type": "stream",
     "text": [
      "HLT_e17_lhvloose_nod0_ringer_v9_L1EM15VHI\n",
      "+--------+----------+------------------+\n",
      "|  Step  | Eff [%%] |   passed/total   |\n",
      "+--------+----------+------------------+\n",
      "| L1Calo | 84.4275  | 8738241/10349992 |\n",
      "| L2Calo |  1.9152  | 198223/10349992  |\n",
      "|   L2   |  1.8345  | 189869/10349992  |\n",
      "| EFCalo |  1.6375  | 169476/10349992  |\n",
      "|  HLT   |  0.1436  |  14863/10349992  |\n",
      "+--------+----------+------------------+\n"
     ]
    },
    {
     "name": "stderr",
     "output_type": "stream",
     "text": [
      "Filling...: 100%|██████████| 5/5 [00:19<00:00,  3.97s/it]\n"
     ]
    },
    {
     "name": "stdout",
     "output_type": "stream",
     "text": [
      "HLT_e28_lhtight_nod0_ringer_v9_ivarloose\n",
      "+--------+----------+-----------------+\n",
      "|  Step  | Eff [%%] |   passed/total  |\n",
      "+--------+----------+-----------------+\n",
      "| L1Calo | 90.6060  | 8384948/9254300 |\n",
      "| L2Calo |  1.1724  |  108494/9254300 |\n",
      "|   L2   |  1.1142  |  103107/9254300 |\n",
      "| EFCalo |  0.9351  |  86540/9254300  |\n",
      "|  HLT   |  0.0020  |   184/9254300   |\n",
      "+--------+----------+-----------------+\n"
     ]
    },
    {
     "name": "stderr",
     "output_type": "stream",
     "text": [
      "Filling...: 100%|██████████| 5/5 [00:16<00:00,  3.35s/it]\n"
     ]
    },
    {
     "name": "stdout",
     "output_type": "stream",
     "text": [
      "HLT_e60_lhmedium_nod0_ringer_v9_L1EM24VHI\n",
      "+--------+----------+-----------------+\n",
      "|  Step  | Eff [%%] |   passed/total  |\n",
      "+--------+----------+-----------------+\n",
      "| L1Calo | 99.9012  | 7844422/7852181 |\n",
      "| L2Calo |  1.5721  |  123447/7852181 |\n",
      "|   L2   |  1.4934  |  117261/7852181 |\n",
      "| EFCalo |  1.2574  |  98730/7852181  |\n",
      "|  HLT   |  0.0035  |   271/7852181   |\n",
      "+--------+----------+-----------------+\n"
     ]
    },
    {
     "name": "stderr",
     "output_type": "stream",
     "text": [
      "Filling...: 100%|██████████| 5/5 [00:12<00:00,  2.49s/it]"
     ]
    },
    {
     "name": "stdout",
     "output_type": "stream",
     "text": [
      "HLT_e140_lhloose_nod0_ringer_v9\n",
      "+--------+----------+-----------------+\n",
      "|  Step  | Eff [%%] |   passed/total  |\n",
      "+--------+----------+-----------------+\n",
      "| L1Calo | 99.9227  | 5629684/5634041 |\n",
      "| L2Calo |  2.1381  |  120463/5634041 |\n",
      "|   L2   |  2.0201  |  113816/5634041 |\n",
      "| EFCalo |  1.7374  |  97888/5634041  |\n",
      "|  HLT   |  0.0402  |   2265/5634041  |\n",
      "+--------+----------+-----------------+\n"
     ]
    },
    {
     "name": "stderr",
     "output_type": "stream",
     "text": [
      "\n"
     ]
    }
   ],
   "source": [
    "eff_data17_JF17.fill( data17_df.loc[data17_df['target']==0], 'HLT_e17_lhvloose_nod0_ringer_v9_L1EM15VHI', pidname='!el_lhvloose', reset=True)\n",
    "eff_data17_JF17.fill( data17_df.loc[data17_df['target']==0], 'HLT_e28_lhtight_nod0_ringer_v9_ivarloose' , pidname='!el_lhvloose', reset=True)\n",
    "eff_data17_JF17.fill( data17_df.loc[data17_df['target']==0], 'HLT_e60_lhmedium_nod0_ringer_v9_L1EM24VHI', pidname='!el_lhvloose', reset=True)\n",
    "eff_data17_JF17.fill( data17_df.loc[data17_df['target']==0], 'HLT_e140_lhloose_nod0_ringer_v9'          , pidname='!el_lhvloose', reset=True)"
   ]
  },
  {
   "cell_type": "code",
   "execution_count": 15,
   "id": "e771c09b-09aa-41ab-b49c-190b47ae8d33",
   "metadata": {},
   "outputs": [],
   "source": [
    "eff_data17_JF17.save()"
   ]
  },
  {
   "cell_type": "code",
   "execution_count": 16,
   "id": "c9bed441-ca7a-4e03-af4c-72e2b7545cc5",
   "metadata": {},
   "outputs": [],
   "source": [
    "del data17_df"
   ]
  },
  {
   "cell_type": "markdown",
   "id": "882828ab-b64b-4fc1-a64a-04bcf468a639",
   "metadata": {},
   "source": [
    "## Emulate 2018:"
   ]
  },
  {
   "cell_type": "code",
   "execution_count": 17,
   "id": "74056ec7-1605-47f1-a2a2-74d0556adbf8",
   "metadata": {},
   "outputs": [],
   "source": [
    "data18_df = pd.concat( (load_hdf(dpath_data18), load_hdf(tpath_data18)), axis=1)"
   ]
  },
  {
   "cell_type": "code",
   "execution_count": 18,
   "id": "b1728428-a4d0-49e2-820d-18279498aa90",
   "metadata": {},
   "outputs": [
    {
     "name": "stderr",
     "output_type": "stream",
     "text": [
      "Emulate...: 100%|██████████| 4/4 [01:36<00:00, 24.10s/it]\n"
     ]
    }
   ],
   "source": [
    "emulate(data18_df)"
   ]
  },
  {
   "cell_type": "code",
   "execution_count": 19,
   "id": "bf6d8121-4ee1-4538-b861-c6e317ac7e99",
   "metadata": {},
   "outputs": [
    {
     "data": {
      "text/plain": [
       "(41873973, 111)"
      ]
     },
     "execution_count": 19,
     "metadata": {},
     "output_type": "execute_result"
    }
   ],
   "source": [
    "data18_df.shape"
   ]
  },
  {
   "cell_type": "code",
   "execution_count": 20,
   "id": "a970f45d-b03d-49b7-b3e0-75630a4d172a",
   "metadata": {},
   "outputs": [
    {
     "name": "stdout",
     "output_type": "stream",
     "text": [
      "2022-03-09 18:45:37,948 | Py.Efficiency                           INFO Creating the StoreGate service with path: output/emulation/data18_Zee_efficiency_v9.root\n"
     ]
    }
   ],
   "source": [
    "eff_data18_Zee = Efficiency( output_path+'/data18_Zee_efficiency_v9.root')"
   ]
  },
  {
   "cell_type": "code",
   "execution_count": 21,
   "id": "16d56a44-5005-4fca-957c-ae20705d9847",
   "metadata": {},
   "outputs": [
    {
     "name": "stderr",
     "output_type": "stream",
     "text": [
      "Filling...: 100%|██████████| 5/5 [01:52<00:00, 22.60s/it]\n"
     ]
    },
    {
     "name": "stdout",
     "output_type": "stream",
     "text": [
      "HLT_e17_lhvloose_nod0_ringer_v9_L1EM15VHI\n",
      "+--------+----------+-------------------+\n",
      "|  Step  | Eff [%%] |    passed/total   |\n",
      "+--------+----------+-------------------+\n",
      "| L1Calo | 94.1301  | 30705693/32620495 |\n",
      "| L2Calo | 93.5427  | 30514089/32620495 |\n",
      "|   L2   | 93.3121  | 30438857/32620495 |\n",
      "| EFCalo | 91.9784  | 30003816/32620495 |\n",
      "|  HLT   | 90.5428  | 29535495/32620495 |\n",
      "+--------+----------+-------------------+\n"
     ]
    },
    {
     "name": "stderr",
     "output_type": "stream",
     "text": [
      "Filling...: 100%|██████████| 5/5 [01:22<00:00, 16.53s/it]\n"
     ]
    },
    {
     "name": "stdout",
     "output_type": "stream",
     "text": [
      "HLT_e28_lhtight_nod0_ringer_v9_ivarloose\n",
      "+--------+----------+-------------------+\n",
      "|  Step  | Eff [%%] |    passed/total   |\n",
      "+--------+----------+-------------------+\n",
      "| L1Calo | 94.6555  | 22067825/23313826 |\n",
      "| L2Calo | 94.2189  | 21966035/23313826 |\n",
      "|   L2   | 94.1238  | 21943853/23313826 |\n",
      "| EFCalo | 93.3247  | 21757557/23313826 |\n",
      "|  HLT   | 87.6113  | 20425556/23313826 |\n",
      "+--------+----------+-------------------+\n"
     ]
    },
    {
     "name": "stderr",
     "output_type": "stream",
     "text": [
      "Filling...: 100%|██████████| 5/5 [00:05<00:00,  1.20s/it]\n"
     ]
    },
    {
     "name": "stdout",
     "output_type": "stream",
     "text": [
      "HLT_e60_lhmedium_nod0_ringer_v9_L1EM24VHI\n",
      "+--------+----------+-----------------+\n",
      "|  Step  | Eff [%%] |   passed/total  |\n",
      "+--------+----------+-----------------+\n",
      "| L1Calo | 99.5563  | 1375545/1381675 |\n",
      "| L2Calo | 97.3526  | 1345097/1381675 |\n",
      "|   L2   | 97.2643  | 1343876/1381675 |\n",
      "| EFCalo | 95.1778  | 1315048/1381675 |\n",
      "|  HLT   | 92.1894  | 1273758/1381675 |\n",
      "+--------+----------+-----------------+\n"
     ]
    },
    {
     "name": "stderr",
     "output_type": "stream",
     "text": [
      "Filling...: 100%|██████████| 5/5 [00:00<00:00, 20.31it/s]\n"
     ]
    },
    {
     "name": "stdout",
     "output_type": "stream",
     "text": [
      "HLT_e140_lhloose_nod0_ringer_v9\n",
      "+--------+----------+--------------+\n",
      "|  Step  | Eff [%%] | passed/total |\n",
      "+--------+----------+--------------+\n",
      "| L1Calo | 99.9934  | 60385/60389  |\n",
      "| L2Calo | 98.1619  | 59279/60389  |\n",
      "|   L2   | 98.0609  | 59218/60389  |\n",
      "| EFCalo | 96.8753  | 58502/60389  |\n",
      "|  HLT   | 95.0355  | 57391/60389  |\n",
      "+--------+----------+--------------+\n"
     ]
    }
   ],
   "source": [
    "eff_data18_Zee.fill( data18_df.loc[data18_df['target']==1], 'HLT_e17_lhvloose_nod0_ringer_v9_L1EM15VHI', pidname='el_lhvloose', reset=True)\n",
    "eff_data18_Zee.fill( data18_df.loc[data18_df['target']==1], 'HLT_e28_lhtight_nod0_ringer_v9_ivarloose' , pidname='el_lhtight' , reset=True)\n",
    "eff_data18_Zee.fill( data18_df.loc[data18_df['target']==1], 'HLT_e60_lhmedium_nod0_ringer_v9_L1EM24VHI', pidname='el_lhmedium', reset=True)\n",
    "eff_data18_Zee.fill( data18_df.loc[data18_df['target']==1], 'HLT_e140_lhloose_nod0_ringer_v9'          , pidname='el_lhloose' , reset=True)"
   ]
  },
  {
   "cell_type": "code",
   "execution_count": 22,
   "id": "3a6253a7-ff35-4f22-b6c0-c785d1b89cdc",
   "metadata": {},
   "outputs": [],
   "source": [
    "eff_data18_Zee.save()"
   ]
  },
  {
   "cell_type": "code",
   "execution_count": 23,
   "id": "d1d7113b-b5eb-4d4d-81ac-cb5e96bdd6e8",
   "metadata": {},
   "outputs": [
    {
     "name": "stdout",
     "output_type": "stream",
     "text": [
      "2022-03-09 18:49:58,704 | Py.Efficiency                           INFO Creating the StoreGate service with path: output/emulation/data18_JF17_efficiency_v9.root\n"
     ]
    }
   ],
   "source": [
    "eff_data18_JF17 = Efficiency( output_path+'/data18_JF17_efficiency_v9.root')"
   ]
  },
  {
   "cell_type": "code",
   "execution_count": 24,
   "id": "bdab5167-02db-4413-8681-d1f74a06f8f2",
   "metadata": {},
   "outputs": [
    {
     "name": "stderr",
     "output_type": "stream",
     "text": [
      "Filling...: 100%|██████████| 5/5 [00:17<00:00,  3.58s/it]\n"
     ]
    },
    {
     "name": "stdout",
     "output_type": "stream",
     "text": [
      "HLT_e17_lhvloose_nod0_ringer_v9_L1EM15VHI\n",
      "+--------+----------+-----------------+\n",
      "|  Step  | Eff [%%] |   passed/total  |\n",
      "+--------+----------+-----------------+\n",
      "| L1Calo | 85.5183  | 7240922/8467098 |\n",
      "| L2Calo |  2.2917  |  194042/8467098 |\n",
      "|   L2   |  2.2187  |  187860/8467098 |\n",
      "| EFCalo |  2.0274  |  171663/8467098 |\n",
      "|  HLT   |  0.6299  |  53338/8467098  |\n",
      "+--------+----------+-----------------+\n"
     ]
    },
    {
     "name": "stderr",
     "output_type": "stream",
     "text": [
      "Filling...: 100%|██████████| 5/5 [00:16<00:00,  3.21s/it]\n"
     ]
    },
    {
     "name": "stdout",
     "output_type": "stream",
     "text": [
      "HLT_e28_lhtight_nod0_ringer_v9_ivarloose\n",
      "+--------+----------+-----------------+\n",
      "|  Step  | Eff [%%] |   passed/total  |\n",
      "+--------+----------+-----------------+\n",
      "| L1Calo | 91.4008  | 6972786/7628804 |\n",
      "| L2Calo |  1.5317  |  116853/7628804 |\n",
      "|   L2   |  1.4777  |  112729/7628804 |\n",
      "| EFCalo |  1.3077  |  99761/7628804  |\n",
      "|  HLT   |  0.0503  |   3839/7628804  |\n",
      "+--------+----------+-----------------+\n"
     ]
    },
    {
     "name": "stderr",
     "output_type": "stream",
     "text": [
      "Filling...: 100%|██████████| 5/5 [00:13<00:00,  2.77s/it]\n"
     ]
    },
    {
     "name": "stdout",
     "output_type": "stream",
     "text": [
      "HLT_e60_lhmedium_nod0_ringer_v9_L1EM24VHI\n",
      "+--------+----------+-----------------+\n",
      "|  Step  | Eff [%%] |   passed/total  |\n",
      "+--------+----------+-----------------+\n",
      "| L1Calo | 99.8995  | 6555389/6561985 |\n",
      "| L2Calo |  1.9514  |  128051/6561985 |\n",
      "|   L2   |  1.8763  |  123122/6561985 |\n",
      "| EFCalo |  1.6534  |  108494/6561985 |\n",
      "|  HLT   |  0.0677  |   4441/6561985  |\n",
      "+--------+----------+-----------------+\n"
     ]
    },
    {
     "name": "stderr",
     "output_type": "stream",
     "text": [
      "Filling...: 100%|██████████| 5/5 [00:10<00:00,  2.09s/it]"
     ]
    },
    {
     "name": "stdout",
     "output_type": "stream",
     "text": [
      "HLT_e140_lhloose_nod0_ringer_v9\n",
      "+--------+----------+-----------------+\n",
      "|  Step  | Eff [%%] |   passed/total  |\n",
      "+--------+----------+-----------------+\n",
      "| L1Calo | 99.9159  | 4772502/4776518 |\n",
      "| L2Calo |  2.5505  |  121823/4776518 |\n",
      "|   L2   |  2.4435  |  116712/4776518 |\n",
      "| EFCalo |  2.1763  |  103949/4776518 |\n",
      "|  HLT   |  0.3546  |  16937/4776518  |\n",
      "+--------+----------+-----------------+\n"
     ]
    },
    {
     "name": "stderr",
     "output_type": "stream",
     "text": [
      "\n"
     ]
    }
   ],
   "source": [
    "eff_data18_JF17.fill( data18_df.loc[data18_df['target']==0], 'HLT_e17_lhvloose_nod0_ringer_v9_L1EM15VHI', pidname='!el_lhvloose',reset=True)\n",
    "eff_data18_JF17.fill( data18_df.loc[data18_df['target']==0], 'HLT_e28_lhtight_nod0_ringer_v9_ivarloose' , pidname='!el_lhvloose',reset=True)\n",
    "eff_data18_JF17.fill( data18_df.loc[data18_df['target']==0], 'HLT_e60_lhmedium_nod0_ringer_v9_L1EM24VHI', pidname='!el_lhvloose',reset=True)\n",
    "eff_data18_JF17.fill( data18_df.loc[data18_df['target']==0], 'HLT_e140_lhloose_nod0_ringer_v9'          , pidname='!el_lhvloose',reset=True)"
   ]
  },
  {
   "cell_type": "code",
   "execution_count": 25,
   "id": "8c000fe9-888f-4e27-a7b1-b85d044ca86b",
   "metadata": {},
   "outputs": [],
   "source": [
    "eff_data18_JF17.save()"
   ]
  },
  {
   "cell_type": "markdown",
   "id": "4d78c204-7dc3-46e6-8f7b-3f7b91038ac3",
   "metadata": {},
   "source": [
    "## Evaluate mc16 boosted:"
   ]
  },
  {
   "cell_type": "code",
   "execution_count": 26,
   "id": "c34ad106-4b52-4d7d-87de-57abc8607f55",
   "metadata": {},
   "outputs": [],
   "source": [
    "mc16_df = pd.concat( (load_hdf(dpath_mc16), load_hdf(tpath_mc16)), axis=1)"
   ]
  },
  {
   "cell_type": "code",
   "execution_count": 27,
   "id": "615827f1-abac-4c15-aa41-446b32f029d2",
   "metadata": {},
   "outputs": [
    {
     "name": "stderr",
     "output_type": "stream",
     "text": [
      "Emulate...: 100%|██████████| 4/4 [00:00<00:00, 29.18it/s]\n"
     ]
    }
   ],
   "source": [
    "emulate(mc16_df)"
   ]
  },
  {
   "cell_type": "code",
   "execution_count": 28,
   "id": "f8336194-2493-4f9e-9ae9-0eb9bbddb6cd",
   "metadata": {},
   "outputs": [
    {
     "name": "stdout",
     "output_type": "stream",
     "text": [
      "2022-03-09 18:51:15,742 | Py.Efficiency                           INFO Creating the StoreGate service with path: output/emulation/mc16_boosted_efficiency_v9.root\n"
     ]
    }
   ],
   "source": [
    "eff_mc16 = Efficiency( output_path+'/mc16_boosted_efficiency_v9.root')"
   ]
  },
  {
   "cell_type": "code",
   "execution_count": 29,
   "id": "0b878a35-1944-478e-820b-58aefbc6d9f4",
   "metadata": {},
   "outputs": [
    {
     "name": "stderr",
     "output_type": "stream",
     "text": [
      "Filling...: 100%|██████████| 5/5 [00:00<00:00, 15.47it/s]\n"
     ]
    },
    {
     "name": "stdout",
     "output_type": "stream",
     "text": [
      "HLT_e17_lhvloose_nod0_ringer_v9_L1EM15VHI\n",
      "+--------+----------+--------------+\n",
      "|  Step  | Eff [%%] | passed/total |\n",
      "+--------+----------+--------------+\n",
      "| L1Calo | 99.7303  | 78407/78619  |\n",
      "| L2Calo | 97.2895  | 76488/78619  |\n",
      "|   L2   | 97.2806  | 76481/78619  |\n",
      "| EFCalo | 76.3836  | 60052/78619  |\n",
      "|  HLT   | 75.3380  | 59230/78619  |\n",
      "+--------+----------+--------------+\n"
     ]
    },
    {
     "name": "stderr",
     "output_type": "stream",
     "text": [
      "Filling...: 100%|██████████| 5/5 [00:00<00:00, 17.39it/s]\n"
     ]
    },
    {
     "name": "stdout",
     "output_type": "stream",
     "text": [
      "HLT_e28_lhtight_nod0_ringer_v9_ivarloose\n",
      "+--------+----------+--------------+\n",
      "|  Step  | Eff [%%] | passed/total |\n",
      "+--------+----------+--------------+\n",
      "| L1Calo | 99.8427  | 72990/73105  |\n",
      "| L2Calo | 91.1155  | 66610/73105  |\n",
      "|   L2   | 91.1100  | 66606/73105  |\n",
      "| EFCalo | 72.0758  | 52691/73105  |\n",
      "|  HLT   | 69.3181  | 50675/73105  |\n",
      "+--------+----------+--------------+\n"
     ]
    },
    {
     "name": "stderr",
     "output_type": "stream",
     "text": [
      "Filling...: 100%|██████████| 5/5 [00:00<00:00, 16.89it/s]\n"
     ]
    },
    {
     "name": "stdout",
     "output_type": "stream",
     "text": [
      "HLT_e60_lhmedium_nod0_ringer_v9_L1EM24VHI\n",
      "+--------+----------+--------------+\n",
      "|  Step  | Eff [%%] | passed/total |\n",
      "+--------+----------+--------------+\n",
      "| L1Calo | 99.9635  | 73911/73938  |\n",
      "| L2Calo | 96.1008  | 71055/73938  |\n",
      "|   L2   | 96.0954  | 71051/73938  |\n",
      "| EFCalo | 75.0818  | 55514/73938  |\n",
      "|  HLT   | 73.2343  | 54148/73938  |\n",
      "+--------+----------+--------------+\n"
     ]
    },
    {
     "name": "stderr",
     "output_type": "stream",
     "text": [
      "Filling...: 100%|██████████| 5/5 [00:00<00:00, 18.12it/s]"
     ]
    },
    {
     "name": "stdout",
     "output_type": "stream",
     "text": [
      "HLT_e140_lhloose_nod0_ringer_v9\n",
      "+--------+----------+--------------+\n",
      "|  Step  | Eff [%%] | passed/total |\n",
      "+--------+----------+--------------+\n",
      "| L1Calo | 99.9882  | 67947/67955  |\n",
      "| L2Calo | 97.1878  | 66044/67955  |\n",
      "|   L2   | 97.1834  | 66041/67955  |\n",
      "| EFCalo | 75.6456  | 51405/67955  |\n",
      "|  HLT   | 74.2624  | 50465/67955  |\n",
      "+--------+----------+--------------+\n"
     ]
    },
    {
     "name": "stderr",
     "output_type": "stream",
     "text": [
      "\n"
     ]
    }
   ],
   "source": [
    "eff_mc16.fill( mc16_df.loc[mc16_df['target']==1], 'HLT_e17_lhvloose_nod0_ringer_v9_L1EM15VHI', pidname='el_lhvloose', reset=True)\n",
    "eff_mc16.fill( mc16_df.loc[mc16_df['target']==1], 'HLT_e28_lhtight_nod0_ringer_v9_ivarloose' , pidname='el_lhtight' , reset=True)\n",
    "eff_mc16.fill( mc16_df.loc[mc16_df['target']==1], 'HLT_e60_lhmedium_nod0_ringer_v9_L1EM24VHI', pidname='el_lhmedium', reset=True)\n",
    "eff_mc16.fill( mc16_df.loc[mc16_df['target']==1], 'HLT_e140_lhloose_nod0_ringer_v9'          , pidname='el_lhloose' , reset=True)"
   ]
  },
  {
   "cell_type": "code",
   "execution_count": null,
   "id": "5b6b2657-0154-49a5-9143-e5bbb0779fd7",
   "metadata": {},
   "outputs": [],
   "source": []
  },
  {
   "cell_type": "code",
   "execution_count": null,
   "id": "14ab1405-b9cd-4c87-89cc-61b0ba1f8e46",
   "metadata": {},
   "outputs": [],
   "source": []
  },
  {
   "cell_type": "code",
   "execution_count": null,
   "id": "60019dd9-4a91-4dad-8454-35e1bda078bf",
   "metadata": {},
   "outputs": [],
   "source": []
  },
  {
   "cell_type": "code",
   "execution_count": null,
   "id": "063a69e8-2020-465c-b630-68dc4bd85d81",
   "metadata": {},
   "outputs": [],
   "source": []
  },
  {
   "cell_type": "code",
   "execution_count": null,
   "id": "8465fc7b-5608-4169-8042-1bea2602828f",
   "metadata": {},
   "outputs": [],
   "source": []
  },
  {
   "cell_type": "code",
   "execution_count": null,
   "id": "dd6fd5a7-ace4-44b7-bfa7-953d1082be0c",
   "metadata": {},
   "outputs": [],
   "source": []
  },
  {
   "cell_type": "code",
   "execution_count": null,
   "id": "ac3c7c1f-7ab2-4407-a570-9b98cdb8034c",
   "metadata": {},
   "outputs": [],
   "source": []
  }
 ],
 "metadata": {
  "kernelspec": {
   "display_name": "Python 3",
   "language": "python",
   "name": "python3"
  },
  "language_info": {
   "codemirror_mode": {
    "name": "ipython",
    "version": 3
   },
   "file_extension": ".py",
   "mimetype": "text/x-python",
   "name": "python",
   "nbconvert_exporter": "python",
   "pygments_lexer": "ipython3",
   "version": "3.6.9"
  }
 },
 "nbformat": 4,
 "nbformat_minor": 5
}
