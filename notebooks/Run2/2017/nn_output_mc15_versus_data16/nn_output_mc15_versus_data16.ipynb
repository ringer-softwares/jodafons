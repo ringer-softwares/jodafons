{
 "cells": [
  {
   "cell_type": "code",
   "execution_count": 43,
   "metadata": {},
   "outputs": [
    {
     "name": "stdout",
     "output_type": "stream",
     "text": [
      "The autoreload extension is already loaded. To reload it, use:\n",
      "  %reload_ext autoreload\n"
     ]
    }
   ],
   "source": [
    "from Gaugi.monet.TAxisFunctions import *\n",
    "from Gaugi.monet.PlotFunctions import *\n",
    "from Gaugi.monet import ATLASLabel\n",
    "from Gaugi.monet.utils import NormHist, getColor\n",
    "from ROOT import TH1F,TCanvas, TFile, TPad, TColor\n",
    "from ROOT import kBlack,kBlue,kRed,kAzure,kGreen,kMagenta,kCyan,kOrange,kGray,kYellow\n",
    "import numpy as np\n",
    "import array\n",
    "import os\n",
    "from pprint import pprint\n",
    "%config InlineBackend.figure_format = 'retina'\n",
    "%load_ext autoreload\n",
    "%autoreload 2"
   ]
  },
  {
   "cell_type": "code",
   "execution_count": 19,
   "metadata": {},
   "outputs": [
    {
     "name": "stdout",
     "output_type": "stream",
     "text": [
      "\n",
      "Applying ATLAS style settings...\n"
     ]
    }
   ],
   "source": [
    "from Gaugi.monet.AtlasStyle import SetAtlasStyle\n",
    "SetAtlasStyle()"
   ]
  },
  {
   "cell_type": "code",
   "execution_count": 2,
   "metadata": {},
   "outputs": [],
   "source": [
    "etbins = [15, 20, 30, 40, 50, 1000000]\n",
    "etabins = [0.0, 0.8, 1.37, 1.54, 2.37, 2.50]"
   ]
  },
  {
   "cell_type": "code",
   "execution_count": 3,
   "metadata": {},
   "outputs": [],
   "source": [
    "def get_models( location , etbins, etabins, remove_last=True):\n",
    "    from tensorflow.keras.models import Model, model_from_json\n",
    "    from tensorflow.keras.layers import Activation\n",
    "    import json\n",
    "    models = [[ None for _ in range(len(etabins)-1)] for __ in range(len(etbins)-1)]\n",
    "    for et_bin in range(len(etbins)-1):\n",
    "        for eta_bin in range(len(etabins)-1):\n",
    "            d_tuned = {}\n",
    "            path=location.format(ET=et_bin,ETA=3 if eta_bin==4 else eta_bin)\n",
    "            #print(path)\n",
    "            with open(path+'.json', 'r') as json_file:\n",
    "                model = model_from_json(json_file.read())\n",
    "                # load weights into new model\n",
    "                model.load_weights(path+\".h5\")\n",
    "                # since the production version has no tansig fucntion as default. Let's include it\n",
    "                # for study\n",
    "                model.add(Activation('tanh'))\n",
    "                new_model = Model(model.inputs, model.layers[-2].output) if remove_last else model\n",
    "                d_tuned['model']    = new_model\n",
    "                d_tuned['etBin']    = [etbins[et_bin], etbins[et_bin+1]]\n",
    "                d_tuned['etaBin']   = [etabins[eta_bin], etabins[eta_bin+1]]\n",
    "                d_tuned['etBinIdx'] = et_bin\n",
    "                d_tuned['etaBinIdx']= eta_bin\n",
    "                models[et_bin][eta_bin] = d_tuned\n",
    "                \n",
    "    # return the models's matrix          \n",
    "    return models\n",
    "\n",
    "model_path = '/Volumes/castor/tuning_data/Zee/production/TrigL2_20170505_v6/models'\n",
    "model_path+='/mc15_13TeV.423300.Zee_probes_lhmedium.423300.JF17_Truth.model_v6.electronTight.et{ET}_eta{ETA}'\n",
    "best_models = get_models(model_path, etbins, etabins,remove_last=True)"
   ]
  },
  {
   "cell_type": "code",
   "execution_count": 5,
   "metadata": {},
   "outputs": [],
   "source": [
    "path = '/Volumes/castor/cern_data/files/Zee/mc15_13TeV.sgn.probes_lhmedium_Zee.bkg.Truth.JF17/'\n",
    "path+= 'mc15_13TeV.sgn.probes_lhmedium_Zee.bkg.Truth.JF17_et{ET}_eta{ETA}.npz'\n",
    "mc_paths = [[ path.format(ET=et,ETA=eta) for eta in range(5)] for et in range(5)] "
   ]
  },
  {
   "cell_type": "code",
   "execution_count": 7,
   "metadata": {},
   "outputs": [],
   "source": [
    "path = '/Volumes/castor/cern_data/files/Zee/data16_13TeV.AllPeriods.sgn.probes_lhmedium_EGAM1.GRL_v97.mc15_13TeV.bkg.Truth.JF17/'\n",
    "path+= 'data16_13TeV.AllPeriods.sgn.probes_lhmedium.GRL_v97.mc15_13TeV.bkg.Truth.JF17_et{ET}_eta{ETA}.npz'\n",
    "data_paths = [[ path.format(ET=et,ETA=eta) for eta in range(5)] for et in range(5)]"
   ]
  },
  {
   "cell_type": "code",
   "execution_count": 56,
   "metadata": {},
   "outputs": [],
   "source": [
    "def get_nn_output( _path, _model ):\n",
    "    from Gaugi import load\n",
    "    def norm1( data ):\n",
    "        norms = np.abs( data.sum(axis=1) )\n",
    "        norms[norms==0] = 1\n",
    "        return data/norms[:,None]\n",
    "    from Gaugi import load\n",
    "    d = load(_path)\n",
    "    # extract rings\n",
    "    data_rings = norm1(d['data'][:,1:101])\n",
    "    target = d['target']\n",
    "    output = _model.predict(data_rings,batch_size=1024, verbose=1).flatten()\n",
    "    return output, target"
   ]
  },
  {
   "cell_type": "code",
   "execution_count": 57,
   "metadata": {},
   "outputs": [
    {
     "name": "stdout",
     "output_type": "stream",
     "text": [
      "120/120 [==============================] - 0s 957us/step\n"
     ]
    },
    {
     "data": {
      "text/plain": [
       "(121879,)"
      ]
     },
     "execution_count": 57,
     "metadata": {},
     "output_type": "execute_result"
    }
   ],
   "source": [
    "mc_outputs , mc_target= get_nn_output(mc_paths[2][0], best_models[2][0]['model'])\n",
    "mc_outputs.shape"
   ]
  },
  {
   "cell_type": "code",
   "execution_count": 58,
   "metadata": {},
   "outputs": [
    {
     "name": "stdout",
     "output_type": "stream",
     "text": [
      "1155/1155 [==============================] - 1s 812us/step\n"
     ]
    },
    {
     "data": {
      "text/plain": [
       "(1182602,)"
      ]
     },
     "execution_count": 58,
     "metadata": {},
     "output_type": "execute_result"
    }
   ],
   "source": [
    "data_outputs , data_target = get_nn_output(data_paths[2][0], best_models[2][0]['model'])\n",
    "data_outputs.shape"
   ]
  },
  {
   "cell_type": "code",
   "execution_count": 38,
   "metadata": {},
   "outputs": [],
   "source": [
    "def AddLegend(canvas, x, y, legends):\n",
    "    MakeLegend( canvas,x,y,x+0.48,y+0.20,textsize=16, names=legends, option = 'f' )"
   ]
  },
  {
   "cell_type": "code",
   "execution_count": 111,
   "metadata": {},
   "outputs": [],
   "source": [
    "def plot_mc_versus_data( _mc_outputs, _data_outputs , xbins, xmin, xmax , \n",
    "                          these_color_fill, these_color_line, normalize=False, y_maximum=None):\n",
    "    \n",
    "    mc = TH1F( 'mc', '', xbins, xmin, xmax )\n",
    "    w = array.array( 'd', np.ones_like( _mc_outputs ) )\n",
    "    mc.FillN( len(_mc_outputs), array.array('d',  _mc_outputs.tolist()), w)  \n",
    "    pp = TH1F( 'data', '', xbins, xmin, xmax )\n",
    "    w = array.array( 'd', np.ones_like( _data_outputs ) )\n",
    "    pp.FillN( len(_data_outputs), array.array('d',  _data_outputs.tolist()), w)\n",
    "    \n",
    "    canvas = TCanvas('canvas',\"\",700, 500)\n",
    "    if normalize:\n",
    "        mc = NormHist(mc)\n",
    "        pp = NormHist(pp)\n",
    "    mc.SetLineColor(these_color_line[0])\n",
    "    mc.SetFillColor(these_color_fill[0])\n",
    "    if y_maximum:\n",
    "        mc.SetMaximum(y_maximum)\n",
    "    pp.SetLineColor(these_color_line[1])\n",
    "    pp.SetFillColor(these_color_fill[1])\n",
    "    if y_maximum:\n",
    "        pp.SetMaximum(y_maximum)\n",
    "    AddHistogram(canvas,mc, 'same')\n",
    "    AddHistogram(canvas,pp, 'same')    \n",
    "    FormatCanvasAxes(canvas, XLabelSize=16, YLabelSize=16, XTitleOffset=0.87, ZLabelSize=16,\n",
    "                             ZTitleSize=16, YTitleOffset=1.20, ZTitleOffset=1.1)\n",
    "    SetAxisLabels(canvas,'Neural Network Output (Discriminant)', 'counts/bin (norm by counts)', 'Data/MC')\n",
    "    return canvas"
   ]
  },
  {
   "cell_type": "code",
   "execution_count": 125,
   "metadata": {},
   "outputs": [
    {
     "data": {
      "image/png": "[encoded data removed]",
      "text/plain": [
       "<IPython.core.display.Image object>"
      ]
     },
     "metadata": {},
     "output_type": "display_data"
    }
   ],
   "source": [
    "color_fill = [kAzure-4,0]\n",
    "color_line = [kBlue, kBlack]\n",
    "\n",
    "canvas = plot_mc_versus_data(mc_outputs[mc_target==1], data_outputs[data_target==1], \n",
    "                             100, -2.2, 5.0, color_fill, color_line, normalize=True)\n",
    "\n",
    "AddATLASLabel(canvas, 0.2, 0.88, 'Internal')\n",
    "AddTexLabel(canvas, 0.2, 0.80, '0.0 < |#eta| < 0.8', textsize=0.04)\n",
    "AddTexLabel(canvas, 0.2, 0.72, '30 < E_{T} [GeV] < 40', textsize=0.04)\n",
    "AddLegend( canvas,0.2,0.51, ['Z#rightarrowee Monte Carlo', 'pp data 2016'])\n",
    "canvas.Draw()\n",
    "canvas.SaveAs(\"nn_output_mc15_versus_data16_et2_eta0.pdf\")"
   ]
  },
  {
   "cell_type": "code",
   "execution_count": null,
   "metadata": {},
   "outputs": [],
   "source": []
  },
  {
   "cell_type": "code",
   "execution_count": null,
   "metadata": {},
   "outputs": [],
   "source": []
  }
 ],
 "metadata": {
  "kernelspec": {
   "display_name": "Python 3",
   "language": "python",
   "name": "python3"
  },
  "language_info": {
   "codemirror_mode": {
    "name": "ipython",
    "version": 3
   },
   "file_extension": ".py",
   "mimetype": "text/x-python",
   "name": "python",
   "nbconvert_exporter": "python",
   "pygments_lexer": "ipython3",
   "version": "3.6.9"
  }
 },
 "nbformat": 4,
 "nbformat_minor": 4
}
