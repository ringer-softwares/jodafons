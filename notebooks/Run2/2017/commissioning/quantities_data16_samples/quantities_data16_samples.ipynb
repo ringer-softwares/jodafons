{
 "cells": [
  {
   "cell_type": "markdown",
   "metadata": {},
   "source": [
    "# Plot Monte Carlo quantities\n",
    "\n",
    "Plot some distributions for mc15 data"
   ]
  },
  {
   "cell_type": "code",
   "execution_count": 1,
   "metadata": {},
   "outputs": [
    {
     "name": "stdout",
     "output_type": "stream",
     "text": [
      "Welcome to JupyROOT 6.23/01\n",
      "Using all sub packages with ROOT dependence\n",
      "\n",
      "Applying ATLAS style settings...\n"
     ]
    }
   ],
   "source": [
    "from ProfileTools import profiles\n",
    "from Gaugi.monet.utils import getColor\n",
    "from Gaugi.monet.PlotFunctions import *\n",
    "from Gaugi.monet.TAxisFunctions import *\n",
    "from Gaugi.monet.AtlasStyle import *\n",
    "from ROOT import TCanvas\n",
    "from ROOT import kRed, kBlue, kBlack,TLine,kBird, kOrange,kGray, kYellow, kViolet, kGreen, kAzure\n",
    "from pprint import pprint\n",
    "%config InlineBackend.figure_format = 'retina'\n",
    "%load_ext autoreload\n",
    "%autoreload 2\n",
    "SetAtlasStyle()"
   ]
  },
  {
   "cell_type": "markdown",
   "metadata": {},
   "source": [
    "## Fill all histograms:"
   ]
  },
  {
   "cell_type": "code",
   "execution_count": 2,
   "metadata": {},
   "outputs": [],
   "source": [
    "etbins = [15, 20, 30, 40, 50, 1000000]\n",
    "etabins = [0.0, 0.8, 1.37, 1.54, 2.37, 2.50]"
   ]
  },
  {
   "cell_type": "code",
   "execution_count": 3,
   "metadata": {},
   "outputs": [],
   "source": [
    "path = '/Volumes/castor/cern_data/files/Zee/mc15_13TeV.sgn.probes_lhmedium_Zee.bkg.Truth.JF17/'\n",
    "path+= 'mc15_13TeV.sgn.probes_lhmedium_Zee.bkg.Truth.JF17_et{ET}_eta{ETA}.npz'\n",
    "paths = [[ path.format(ET=et,ETA=eta) for eta in range(5)] for et in range(5)]  "
   ]
  },
  {
   "cell_type": "code",
   "execution_count": 4,
   "metadata": {},
   "outputs": [],
   "source": [
    "def generator_for_signal(path):\n",
    "    from Gaugi import load\n",
    "    raw = load(path)\n",
    "    features = raw['features'].tolist()\n",
    "    data = raw['data']\n",
    "    target =  raw['target']\n",
    "    return data[target==1,:], features"
   ]
  },
  {
   "cell_type": "code",
   "execution_count": 5,
   "metadata": {},
   "outputs": [],
   "source": [
    "from collections import OrderedDict\n",
    "layers = OrderedDict([ ('PS', 8),\n",
    "                       ('EM1', 64),\n",
    "                       ('EM2', 8),\n",
    "                       ('EM3', 8),\n",
    "                       ('HAD1', 4),\n",
    "                       ('HAD2', 4),\n",
    "                       ('HAD3', 4) ])\n",
    "\n",
    "def ringParser(idx):\n",
    "    cTotal = 0\n",
    "    for key, nRings in layers.items():\n",
    "        if idx < cTotal+nRings: break\n",
    "        cTotal += nRings\n",
    "    return 'Ring_{(%s,%d;%d)} [MeV]' % (key, idx-cTotal, idx)"
   ]
  },
  {
   "cell_type": "code",
   "execution_count": 6,
   "metadata": {},
   "outputs": [],
   "source": [
    "from ProfileTools import ringLowerEdges, ringHighEdges, ringNBins\n",
    "from ProfileTools import standardQuantitiesLowerEdges, standardQuantitiesHighEdges, standardQuantitiesNBins\n",
    "from ProfileTools import electronQuantities\n",
    "\n",
    "profile = profiles(etbins, etabins)\n",
    "\n",
    "for key in ['f1','f3','eratio','reta','weta2']:\n",
    "    profile.add_hist('L2Calo_'+key, standardQuantitiesNBins[key], \n",
    "                                     standardQuantitiesLowerEdges[key],\n",
    "                                     standardQuantitiesHighEdges[key], \n",
    "                                     electronQuantities[key]) \n",
    "ring = 9\n",
    "profile.add_hist('L2Calo_ring_%d'%ring, ringNBins[ring], ringLowerEdges[ring],ringHighEdges[ring], ringParser(ring))"
   ]
  },
  {
   "cell_type": "code",
   "execution_count": 8,
   "metadata": {},
   "outputs": [
    {
     "name": "stdout",
     "output_type": "stream",
     "text": [
      "Reading... |############################################################| 25/25\n",
      "Reading... ... finished task in 8.470362s.\n"
     ]
    }
   ],
   "source": [
    "hists = profile.fill( generator_for_signal, paths)"
   ]
  },
  {
   "cell_type": "markdown",
   "metadata": {},
   "source": [
    "## Make some plots:"
   ]
  },
  {
   "cell_type": "code",
   "execution_count": 9,
   "metadata": {},
   "outputs": [],
   "source": [
    "def PlotHist( hist_list , xlabel, these_fill_colors, these_line_colors, y_axis_maximum=1 ):\n",
    "    from Gaugi.monet.utils import NormHist\n",
    "    # Create canvas\n",
    "    canvas = TCanvas('canvas','canvas',700, 500)\n",
    "\n",
    "    for idx, hist in enumerate(hist_list):\n",
    "        h = NormHist(hist)\n",
    "        h.SetLineColor(these_line_colors[idx])\n",
    "        h.SetFillColor(these_fill_colors[idx])\n",
    "        h.SetMaximum(y_axis_maximum)\n",
    "        AddHistogram(canvas,h, 'same')\n",
    "    FormatCanvasAxes(canvas, XLabelSize=16, YLabelSize=16, XTitleOffset=0.87, ZLabelSize=16,\n",
    "                             ZTitleSize=16, YTitleOffset=1.10, ZTitleOffset=1.1)\n",
    "    SetAxisLabels(canvas,xlabel, 'counts/bin (norm by counts)')\n",
    "    return canvas"
   ]
  },
  {
   "cell_type": "code",
   "execution_count": 10,
   "metadata": {},
   "outputs": [],
   "source": [
    "def AddLegend(canvas, x, y, legends):\n",
    "    MakeLegend( canvas,x,y,x+0.98,y+0.30,textsize=16, names=legends, option = 'f' )"
   ]
  },
  {
   "cell_type": "code",
   "execution_count": 14,
   "metadata": {},
   "outputs": [
    {
     "data": {
      "image/png": "[encoded data removed]",
      "text/plain": [
       "<IPython.core.display.Image object>"
      ]
     },
     "metadata": {},
     "output_type": "display_data"
    }
   ],
   "source": [
    "\n",
    "fill_colors = [getColor(color, 0.5) for color in [kYellow-9, kOrange+6, kViolet-4, kGreen-2, kAzure-8] ]\n",
    "line_colors = [kYellow, kOrange+7, kViolet-5, kGreen-2, kAzure+4]\n",
    "et_bin = 3\n",
    "texlabel = profile.get_str_etbin(et_bin)\n",
    "legends = [ profile.get_str_etabin(idx) for idx in range(5) ]\n",
    "branch = 'L2Calo_ring_9'\n",
    "hist_list = [ hists[branch][et_bin][eta_bin] for eta_bin in range(len(etabins)-1) ]\n",
    "canvas = PlotHist( hist_list, ringParser(9), fill_colors, line_colors,0.53)\n",
    "AddATLASLabel(canvas, 0.2, 0.88, 'Internal, mc15, #sqrt{s}= 13TeV, Z#rightarrowee')\n",
    "AddTexLabel(canvas, 0.43, 0.78, texlabel, textsize=0.04)\n",
    "AddLegend( canvas,0.65,0.43, legends)\n",
    "canvas.Draw()\n",
    "canvas.SaveAs('L2Calo_ring_9_et3_etaComp.pdf')"
   ]
  },
  {
   "cell_type": "code",
   "execution_count": 16,
   "metadata": {},
   "outputs": [
    {
     "data": {
      "image/png": "[encoded data removed]",
      "text/plain": [
       "<IPython.core.display.Image object>"
      ]
     },
     "metadata": {},
     "output_type": "display_data"
    }
   ],
   "source": [
    "branch = 'L2Calo_ring_9'\n",
    "eta_bin = 0\n",
    "\n",
    "fill_colors = [getColor(color, 0.5) for color in [kYellow-9, kOrange+6, kViolet-4, kGreen-2, kAzure-8] ]\n",
    "line_colors = [kYellow, kOrange+7, kViolet-5, kGreen-2, kAzure+4]\n",
    "texlabel = profile.get_str_etabin(eta_bin)\n",
    "legends = [ profile.get_str_etbin(idx) for idx in range(5) ]\n",
    "legends[-1] = 'E_{T} [GeV] > 50' #Fix latex. For some reason the jupyter is not be able to handle this!\n",
    "hist_list = [ hists[branch][et_bin][eta_bin] for et_bin in range(len(etbins)-1) ]\n",
    "canvas = PlotHist( hist_list, ringParser(9), fill_colors, line_colors,0.22)\n",
    "AddATLASLabel(canvas, 0.2, 0.88, 'Internal, mc15, #sqrt{s}= 13TeV, Z#rightarrowee')\n",
    "AddTexLabel(canvas, 0.2, 0.8, texlabel, textsize=0.04)\n",
    "AddLegend( canvas,0.6,0.55, legends)\n",
    "canvas.Draw()\n",
    "canvas.SaveAs('L2Calo_ring_9_eta0_etComp.pdf')"
   ]
  },
  {
   "cell_type": "code",
   "execution_count": null,
   "metadata": {},
   "outputs": [],
   "source": []
  },
  {
   "cell_type": "code",
   "execution_count": null,
   "metadata": {},
   "outputs": [],
   "source": []
  }
 ],
 "metadata": {
  "kernelspec": {
   "display_name": "Python 3",
   "language": "python",
   "name": "python3"
  },
  "language_info": {
   "codemirror_mode": {
    "name": "ipython",
    "version": 3
   },
   "file_extension": ".py",
   "mimetype": "text/x-python",
   "name": "python",
   "nbconvert_exporter": "python",
   "pygments_lexer": "ipython3",
   "version": "3.6.9"
  }
 },
 "nbformat": 4,
 "nbformat_minor": 4
}
