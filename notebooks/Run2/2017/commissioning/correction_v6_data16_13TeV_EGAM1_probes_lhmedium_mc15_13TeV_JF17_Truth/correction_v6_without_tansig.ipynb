{
 "cells": [
  {
   "cell_type": "markdown",
   "metadata": {},
   "source": [
    "# Set references for v6 tuning using the linear function\n",
    "\n",
    "This notebook is dedicated to apply the linear correction in the neural network output w.r.t the avgmu. \n",
    "\n",
    "**NOTE**: This is an extra study.\n",
    "\n",
    "**NOTE**: Get all models with 5 neurons."
   ]
  },
  {
   "cell_type": "code",
   "execution_count": 1,
   "metadata": {},
   "outputs": [
    {
     "name": "stdout",
     "output_type": "stream",
     "text": [
      "Welcome to JupyROOT 6.23/01\n",
      "Using all sub packages with ROOT dependence\n"
     ]
    }
   ],
   "source": [
    "from kolmov import crossval_table, get_color_fader, fit_table\n",
    "import saphyra\n",
    "import numpy as np\n",
    "import pandas as pd\n",
    "import collections\n",
    "import os\n",
    "import matplotlib\n",
    "import matplotlib.pyplot as plt\n",
    "from pprint import pprint\n",
    "%config InlineBackend.figure_format = 'retina'\n",
    "%load_ext autoreload\n",
    "%autoreload 2"
   ]
  },
  {
   "cell_type": "code",
   "execution_count": 2,
   "metadata": {},
   "outputs": [],
   "source": [
    "etbins = [15, 20, 30, 40, 50, 1000000]\n",
    "etabins = [0.0, 0.8, 1.37, 1.54, 2.37, 2.50]"
   ]
  },
  {
   "cell_type": "markdown",
   "metadata": {},
   "source": [
    "## 1) Reading all tunings:\n",
    "\n",
    "Since I don't have v6 tuning files available, I will reload the production files and get the models for each bin."
   ]
  },
  {
   "cell_type": "code",
   "execution_count": 3,
   "metadata": {},
   "outputs": [],
   "source": [
    "def get_models( location , etbins, etabins, remove_last=True):\n",
    "\n",
    "    from tensorflow.keras.models import Model, model_from_json\n",
    "    from tensorflow.keras.layers import Activation\n",
    "    import json\n",
    "    models = [[ None for _ in range(len(etabins)-1)] for __ in range(len(etbins)-1)]\n",
    "    for et_bin in range(len(etbins)-1):\n",
    "        for eta_bin in range(len(etabins)-1):\n",
    "            d_tuned = {}\n",
    "            path=location.format(ET=et_bin,ETA=3 if eta_bin==4 else eta_bin)\n",
    "            #print(path)\n",
    "            with open(path+'.json', 'r') as json_file:\n",
    "                model = model_from_json(json_file.read())\n",
    "                # load weights into new model\n",
    "                model.load_weights(path+\".h5\")\n",
    "                # since the production version has no tansig fucntion as default. Let's include it\n",
    "                # for study\n",
    "                model.add(Activation('tanh'))\n",
    "                new_model = Model(model.inputs, model.layers[-2].output) if remove_last else model\n",
    "                d_tuned['model']    = new_model\n",
    "                d_tuned['etBin']    = [etbins[et_bin], etbins[et_bin+1]]\n",
    "                d_tuned['etaBin']   = [etabins[eta_bin], etabins[eta_bin+1]]\n",
    "                d_tuned['etBinIdx'] = et_bin\n",
    "                d_tuned['etaBinIdx']= eta_bin\n",
    "                models[et_bin][eta_bin] = d_tuned\n",
    "                \n",
    "    # return the models's matrix          \n",
    "    return models\n",
    "\n",
    "model_path = '/Volumes/castor/tuning_data/Zee/production/TrigL2_20170505_v6/models'\n",
    "model_path+='/mc15_13TeV.423300.Zee_probes_lhmedium.423300.JF17_Truth.model_v6.electronTight.et{ET}_eta{ETA}'\n",
    "best_models = get_models(model_path, etbins, etabins,remove_last=True)\n"
   ]
  },
  {
   "cell_type": "code",
   "execution_count": 4,
   "metadata": {},
   "outputs": [
    {
     "name": "stdout",
     "output_type": "stream",
     "text": [
      "Model: \"functional_1\"\n",
      "_________________________________________________________________\n",
      "Layer (type)                 Output Shape              Param #   \n",
      "=================================================================\n",
      "dense_input (InputLayer)     [(None, 100)]             0         \n",
      "_________________________________________________________________\n",
      "dense (Dense)                (None, 5)                 505       \n",
      "_________________________________________________________________\n",
      "dense_1 (Dense)              (None, 1)                 6         \n",
      "=================================================================\n",
      "Total params: 511\n",
      "Trainable params: 511\n",
      "Non-trainable params: 0\n",
      "_________________________________________________________________\n"
     ]
    }
   ],
   "source": [
    "best_models[0][0]['model'].summary()"
   ]
  },
  {
   "cell_type": "markdown",
   "metadata": {},
   "source": [
    "## 2) Linear correction:\n",
    "\n",
    "Here we will set all thresholds to operate as the same pd reference from cut-based using the pileup linear correction strategy. As the classifier efficiency has some \"dependence\" w.r.t the pileup we adopt the linear adjustment to \"fix\" the trigger efficiency. Here we will \"fix\" the neural network threshold w.r.t the pileup. \n",
    "\n",
    "### 2.1) Get all PD/Fas values:\n",
    "\n",
    "Read all reference values from the storage."
   ]
  },
  {
   "cell_type": "code",
   "execution_count": 5,
   "metadata": {},
   "outputs": [],
   "source": [
    "# calculate all pd/fa from reference file\n",
    "ref_path = '/Volumes/castor/cern_data/files/Zee/data16_13TeV.AllPeriods.sgn.probes_lhmedium_EGAM1.GRL_v97.mc15_13TeV.bkg.Truth.JF17/references/'\n",
    "ref_path+= 'data16_13TeV.AllPeriods.sgn.probes_lhmedium.GRL_v97.mc15_13TeV.bkg.Truth.JF17_et{ET}_eta{ETA}.ref.pic.gz'\n",
    "\n",
    "ref_paths = [[ ref_path.format(ET=et,ETA=eta) for eta in range(5)] for et in range(5)]\n",
    "ref_matrix = [[ {} for eta in range(5)] for et in range(5)]\n",
    "references = ['tight_cutbased', 'medium_cutbased' , 'loose_cutbased', 'vloose_cutbased']\n",
    "from saphyra.core import ReferenceReader\n",
    "for et_bin in range(5):\n",
    "    for eta_bin in range(5):\n",
    "        for name in references:\n",
    "            refObj = ReferenceReader().load(ref_paths[et_bin][eta_bin])\n",
    "            pd = refObj.getSgnPassed(name)/refObj.getSgnTotal(name)\n",
    "            fa = refObj.getBkgPassed(name)/refObj.getBkgTotal(name)\n",
    "            ref_matrix[et_bin][eta_bin][name] = {'pd':pd, 'fa':fa}"
   ]
  },
  {
   "cell_type": "markdown",
   "metadata": {},
   "source": [
    "### 2.2) Create data generator:\n",
    "\n",
    "Since each tuning models is fed by a different data organization, we need to create a generator to open the data file, prepare the matrix and apply some pre-processing (if needed)."
   ]
  },
  {
   "cell_type": "code",
   "execution_count": 6,
   "metadata": {},
   "outputs": [],
   "source": [
    "def generator( path ):\n",
    "    def norm1( data ):\n",
    "        norms = np.abs( data.sum(axis=1) )\n",
    "        norms[norms==0] = 1\n",
    "        return data/norms[:,None]\n",
    "    from Gaugi import load\n",
    "    d = load(path)\n",
    "    feature_names = d['features'].tolist()\n",
    "\n",
    "    # How many events?\n",
    "    n = d['data'].shape[0]\n",
    "    \n",
    "    # extract rings\n",
    "    data_rings = norm1(d['data'][:,1:101])\n",
    "    target = d['target']\n",
    "    avgmu = d['data'][:,0]\n",
    "    \n",
    "    return [data_rings], target, avgmu"
   ]
  },
  {
   "cell_type": "code",
   "execution_count": 7,
   "metadata": {},
   "outputs": [],
   "source": [
    "path = '/Volumes/castor/cern_data/files/Zee/data16_13TeV.AllPeriods.sgn.probes_lhmedium_EGAM1.GRL_v97.mc15_13TeV.bkg.Truth.JF17/'\n",
    "path+= 'data16_13TeV.AllPeriods.sgn.probes_lhmedium.GRL_v97.mc15_13TeV.bkg.Truth.JF17_et{ET}_eta{ETA}.npz'\n",
    "paths = [[ path.format(ET=et,ETA=eta) for eta in range(5)] for et in range(5)]"
   ]
  },
  {
   "cell_type": "code",
   "execution_count": 8,
   "metadata": {},
   "outputs": [],
   "source": [
    "# create the table class\n",
    "ct  = fit_table( generator, etbins , etabins, 0.001, 1.5, 16.5, 40.5, \n",
    "                 xmin_percentage=0.05, xmax_percentage=99.95 )"
   ]
  },
  {
   "cell_type": "markdown",
   "metadata": {},
   "source": [
    "### 2.3) Apply linear correction:\n",
    "\n",
    "**NOTE**: Take about 25 minutes."
   ]
  },
  {
   "cell_type": "code",
   "execution_count": 9,
   "metadata": {},
   "outputs": [
    {
     "name": "stdout",
     "output_type": "stream",
     "text": [
      "\n",
      "Applying ATLAS style settings...\n",
      "Fitting... |############################################################| 25/25\n",
      "Fitting... ... finished task in 635.577481s.\n"
     ]
    }
   ],
   "source": [
    "# Fill it\n",
    "ct.fill(paths, best_models, ref_matrix,'correction_v6_data16_13TeV_EGAM1_probes_lhmedium_mc15_13TeV_JF17_Truth_without_tansig')"
   ]
  },
  {
   "cell_type": "code",
   "execution_count": 10,
   "metadata": {},
   "outputs": [
    {
     "data": {
      "text/html": [
       "<div>\n",
       "<style scoped>\n",
       "    .dataframe tbody tr th:only-of-type {\n",
       "        vertical-align: middle;\n",
       "    }\n",
       "\n",
       "    .dataframe tbody tr th {\n",
       "        vertical-align: top;\n",
       "    }\n",
       "\n",
       "    .dataframe thead th {\n",
       "        text-align: right;\n",
       "    }\n",
       "</style>\n",
       "<table border=\"1\" class=\"dataframe\">\n",
       "  <thead>\n",
       "    <tr style=\"text-align: right;\">\n",
       "      <th></th>\n",
       "      <th>name</th>\n",
       "      <th>et_bin</th>\n",
       "      <th>eta_bin</th>\n",
       "      <th>reference_signal_passed</th>\n",
       "      <th>reference_signal_total</th>\n",
       "      <th>reference_signal_eff</th>\n",
       "      <th>reference_background_passed</th>\n",
       "      <th>reference_background_total</th>\n",
       "      <th>reference_background_eff</th>\n",
       "      <th>signal_passed</th>\n",
       "      <th>...</th>\n",
       "      <th>signal_eff</th>\n",
       "      <th>background_passed</th>\n",
       "      <th>background_total</th>\n",
       "      <th>background_eff</th>\n",
       "      <th>signal_corrected_passed</th>\n",
       "      <th>signal_corrected_total</th>\n",
       "      <th>signal_corrected_eff</th>\n",
       "      <th>background_corrected_passed</th>\n",
       "      <th>background_corrected_total</th>\n",
       "      <th>background_corrected_eff</th>\n",
       "    </tr>\n",
       "  </thead>\n",
       "  <tbody>\n",
       "    <tr>\n",
       "      <th>0</th>\n",
       "      <td>tight_cutbased</td>\n",
       "      <td>0</td>\n",
       "      <td>0</td>\n",
       "      <td>67794</td>\n",
       "      <td>69403</td>\n",
       "      <td>0.976817</td>\n",
       "      <td>37743</td>\n",
       "      <td>332468</td>\n",
       "      <td>0.113524</td>\n",
       "      <td>67792</td>\n",
       "      <td>...</td>\n",
       "      <td>0.976788</td>\n",
       "      <td>10980</td>\n",
       "      <td>332468</td>\n",
       "      <td>0.033026</td>\n",
       "      <td>67786</td>\n",
       "      <td>69403</td>\n",
       "      <td>0.976701</td>\n",
       "      <td>11645</td>\n",
       "      <td>332468</td>\n",
       "      <td>0.035026</td>\n",
       "    </tr>\n",
       "    <tr>\n",
       "      <th>1</th>\n",
       "      <td>medium_cutbased</td>\n",
       "      <td>0</td>\n",
       "      <td>0</td>\n",
       "      <td>67827</td>\n",
       "      <td>69403</td>\n",
       "      <td>0.977292</td>\n",
       "      <td>39444</td>\n",
       "      <td>332468</td>\n",
       "      <td>0.118640</td>\n",
       "      <td>67825</td>\n",
       "      <td>...</td>\n",
       "      <td>0.977263</td>\n",
       "      <td>11082</td>\n",
       "      <td>332468</td>\n",
       "      <td>0.033333</td>\n",
       "      <td>67822</td>\n",
       "      <td>69403</td>\n",
       "      <td>0.977220</td>\n",
       "      <td>11792</td>\n",
       "      <td>332468</td>\n",
       "      <td>0.035468</td>\n",
       "    </tr>\n",
       "    <tr>\n",
       "      <th>2</th>\n",
       "      <td>loose_cutbased</td>\n",
       "      <td>0</td>\n",
       "      <td>0</td>\n",
       "      <td>68527</td>\n",
       "      <td>69403</td>\n",
       "      <td>0.987378</td>\n",
       "      <td>51208</td>\n",
       "      <td>332468</td>\n",
       "      <td>0.154027</td>\n",
       "      <td>68524</td>\n",
       "      <td>...</td>\n",
       "      <td>0.987335</td>\n",
       "      <td>14637</td>\n",
       "      <td>332468</td>\n",
       "      <td>0.044025</td>\n",
       "      <td>68526</td>\n",
       "      <td>69403</td>\n",
       "      <td>0.987364</td>\n",
       "      <td>15665</td>\n",
       "      <td>332468</td>\n",
       "      <td>0.047117</td>\n",
       "    </tr>\n",
       "    <tr>\n",
       "      <th>3</th>\n",
       "      <td>vloose_cutbased</td>\n",
       "      <td>0</td>\n",
       "      <td>0</td>\n",
       "      <td>68577</td>\n",
       "      <td>69403</td>\n",
       "      <td>0.988098</td>\n",
       "      <td>52681</td>\n",
       "      <td>332468</td>\n",
       "      <td>0.158454</td>\n",
       "      <td>68576</td>\n",
       "      <td>...</td>\n",
       "      <td>0.988084</td>\n",
       "      <td>15188</td>\n",
       "      <td>332468</td>\n",
       "      <td>0.045683</td>\n",
       "      <td>68579</td>\n",
       "      <td>69403</td>\n",
       "      <td>0.988127</td>\n",
       "      <td>16176</td>\n",
       "      <td>332468</td>\n",
       "      <td>0.048654</td>\n",
       "    </tr>\n",
       "    <tr>\n",
       "      <th>4</th>\n",
       "      <td>tight_cutbased</td>\n",
       "      <td>0</td>\n",
       "      <td>1</td>\n",
       "      <td>39704</td>\n",
       "      <td>40524</td>\n",
       "      <td>0.979765</td>\n",
       "      <td>54988</td>\n",
       "      <td>253818</td>\n",
       "      <td>0.216643</td>\n",
       "      <td>39703</td>\n",
       "      <td>...</td>\n",
       "      <td>0.979740</td>\n",
       "      <td>14356</td>\n",
       "      <td>253818</td>\n",
       "      <td>0.056560</td>\n",
       "      <td>39695</td>\n",
       "      <td>40524</td>\n",
       "      <td>0.979543</td>\n",
       "      <td>15714</td>\n",
       "      <td>253818</td>\n",
       "      <td>0.061911</td>\n",
       "    </tr>\n",
       "  </tbody>\n",
       "</table>\n",
       "<p>5 rows × 21 columns</p>\n",
       "</div>"
      ],
      "text/plain": [
       "              name  et_bin  eta_bin  reference_signal_passed  \\\n",
       "0   tight_cutbased       0        0                    67794   \n",
       "1  medium_cutbased       0        0                    67827   \n",
       "2   loose_cutbased       0        0                    68527   \n",
       "3  vloose_cutbased       0        0                    68577   \n",
       "4   tight_cutbased       0        1                    39704   \n",
       "\n",
       "   reference_signal_total  reference_signal_eff  reference_background_passed  \\\n",
       "0                   69403              0.976817                        37743   \n",
       "1                   69403              0.977292                        39444   \n",
       "2                   69403              0.987378                        51208   \n",
       "3                   69403              0.988098                        52681   \n",
       "4                   40524              0.979765                        54988   \n",
       "\n",
       "   reference_background_total  reference_background_eff  signal_passed  ...  \\\n",
       "0                      332468                  0.113524          67792  ...   \n",
       "1                      332468                  0.118640          67825  ...   \n",
       "2                      332468                  0.154027          68524  ...   \n",
       "3                      332468                  0.158454          68576  ...   \n",
       "4                      253818                  0.216643          39703  ...   \n",
       "\n",
       "   signal_eff  background_passed  background_total  background_eff  \\\n",
       "0    0.976788              10980            332468        0.033026   \n",
       "1    0.977263              11082            332468        0.033333   \n",
       "2    0.987335              14637            332468        0.044025   \n",
       "3    0.988084              15188            332468        0.045683   \n",
       "4    0.979740              14356            253818        0.056560   \n",
       "\n",
       "   signal_corrected_passed  signal_corrected_total  signal_corrected_eff  \\\n",
       "0                    67786                   69403              0.976701   \n",
       "1                    67822                   69403              0.977220   \n",
       "2                    68526                   69403              0.987364   \n",
       "3                    68579                   69403              0.988127   \n",
       "4                    39695                   40524              0.979543   \n",
       "\n",
       "   background_corrected_passed  background_corrected_total  \\\n",
       "0                        11645                      332468   \n",
       "1                        11792                      332468   \n",
       "2                        15665                      332468   \n",
       "3                        16176                      332468   \n",
       "4                        15714                      253818   \n",
       "\n",
       "   background_corrected_eff  \n",
       "0                  0.035026  \n",
       "1                  0.035468  \n",
       "2                  0.047117  \n",
       "3                  0.048654  \n",
       "4                  0.061911  \n",
       "\n",
       "[5 rows x 21 columns]"
      ]
     },
     "execution_count": 10,
     "metadata": {},
     "output_type": "execute_result"
    }
   ],
   "source": [
    "ct.table().head()"
   ]
  },
  {
   "cell_type": "markdown",
   "metadata": {},
   "source": [
    "### 2.3) Create beamer report:"
   ]
  },
  {
   "cell_type": "code",
   "execution_count": 11,
   "metadata": {},
   "outputs": [
    {
     "name": "stdout",
     "output_type": "stream",
     "text": [
      "2021-01-01 19:28:47,324 | Py.BeamerTexReportTemplate1             INFO Started creating beamer file correction_v6_data16_13TeV_EGAM1_probes_lhmedium_mc15_13TeV_JF17_Truth_without_tansig.pdf latex code...\n"
     ]
    }
   ],
   "source": [
    "ct.dump_beamer_table(ct.table(), best_models, 'data16_13TeV and mc15_JF17 v6 tuning (with tansig)', \n",
    "                                              'correction_v6_data16_13TeV_EGAM1_probes_lhmedium_mc15_13TeV_JF17_Truth_without_tansig.pdf')"
   ]
  },
  {
   "cell_type": "code",
   "execution_count": null,
   "metadata": {},
   "outputs": [],
   "source": []
  }
 ],
 "metadata": {
  "kernelspec": {
   "display_name": "Python 3",
   "language": "python",
   "name": "python3"
  },
  "language_info": {
   "codemirror_mode": {
    "name": "ipython",
    "version": 3
   },
   "file_extension": ".py",
   "mimetype": "text/x-python",
   "name": "python",
   "nbconvert_exporter": "python",
   "pygments_lexer": "ipython3",
   "version": "3.7.9"
  }
 },
 "nbformat": 4,
 "nbformat_minor": 4
}
