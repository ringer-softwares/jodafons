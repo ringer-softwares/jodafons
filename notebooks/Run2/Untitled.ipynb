{
 "cells": [
  {
   "cell_type": "code",
   "execution_count": 2,
   "id": "673b776a-3ca2-40bb-8ea6-98e33e0b194b",
   "metadata": {},
   "outputs": [],
   "source": [
    "import tensorflow as tf\n",
    "from tensorflow.keras import layers\n",
    "from tensorflow.keras.layers import Dense, Conv1D, Conv2D, Activation, Input"
   ]
  },
  {
   "cell_type": "code",
   "execution_count": null,
   "id": "e6f68da8-f203-4538-8b47-1acc597acf73",
   "metadata": {},
   "outputs": [],
   "source": []
  },
  {
   "cell_type": "code",
   "execution_count": 3,
   "id": "a016b578-e77d-4f4a-96b2-1df3b0f5fb17",
   "metadata": {},
   "outputs": [],
   "source": [
    "\n",
    "def create_model( c1, c2, d1, kernel_size=(3,3) ):\n",
    "    # expect an input with 100 domensions (features)\n",
    "    input = layers.Input(shape=(10,10,1), name = 'Input') # 0\n",
    "    conv = layers.Conv2D(c1, kernel_size = kernel_size, activation='relu', name = 'conv2d_layer_1')(input) # 1\n",
    "    conv = layers.Conv2D(c2, kernel_size = kernel_size, activation='relu', name = 'conv2d_layer_2')(conv) # 2\n",
    "    conv = layers.Flatten(name='flatten')(conv) # 3\n",
    "    dense = layers.Dense(d1, activation='relu', name='dense_layer')(conv) # 4\n",
    "    dense = layers.Dense(1,activation='linear', name='output_for_inference')(dense) # 5\n",
    "    output = layers.Activation('sigmoid', name='output_for_training')(dense) # 6\n",
    "    model = tf.keras.Model(input, output, name = \"model\")\n",
    "    return model\n",
    "\n",
    "model = create_model(4 ,8 ,16, (3,3))"
   ]
  },
  {
   "cell_type": "code",
   "execution_count": 6,
   "id": "e3005a84-4830-4488-b0c2-12a0fc24b281",
   "metadata": {},
   "outputs": [
    {
     "name": "stdout",
     "output_type": "stream",
     "text": [
      "('Failed to import pydot. You must `pip install pydot` and install graphviz (https://graphviz.gitlab.io/download/), ', 'for `pydotprint` to work.')\n"
     ]
    }
   ],
   "source": [
    "\n",
    "\n",
    "tf.keras.utils.plot_model(model, \n",
    "                          to_file='model_v16_plot.pdf', \n",
    "                          show_shapes=True)"
   ]
  },
  {
   "cell_type": "code",
   "execution_count": 7,
   "id": "ead20c97-efa3-4f34-9f37-3d0ab3dc7a9c",
   "metadata": {},
   "outputs": [
    {
     "name": "stdout",
     "output_type": "stream",
     "text": [
      "Defaulting to user installation because normal site-packages is not writeable\n",
      "Requirement already satisfied: graphviz in /home/jodafons/.local/lib/python3.6/site-packages (0.17)\n",
      "\u001b[33mWARNING: You are using pip version 21.3; however, version 21.3.1 is available.\n",
      "You should consider upgrading via the '/usr/bin/python3 -m pip install --upgrade pip' command.\u001b[0m\n"
     ]
    }
   ],
   "source": [
    "!pip install graphviz"
   ]
  },
  {
   "cell_type": "code",
   "execution_count": null,
   "id": "580b1315-3fd2-43c4-a610-240ba9b6fda7",
   "metadata": {},
   "outputs": [],
   "source": []
  }
 ],
 "metadata": {
  "kernelspec": {
   "display_name": "Python 3",
   "language": "python",
   "name": "python3"
  },
  "language_info": {
   "codemirror_mode": {
    "name": "ipython",
    "version": 3
   },
   "file_extension": ".py",
   "mimetype": "text/x-python",
   "name": "python",
   "nbconvert_exporter": "python",
   "pygments_lexer": "ipython3",
   "version": "3.6.9"
  }
 },
 "nbformat": 4,
 "nbformat_minor": 5
}
