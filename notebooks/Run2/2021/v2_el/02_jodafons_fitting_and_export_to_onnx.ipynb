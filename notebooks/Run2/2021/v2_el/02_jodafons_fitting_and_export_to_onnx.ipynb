{
 "cells": [
  {
   "cell_type": "markdown",
   "metadata": {},
   "source": [
    "# Set references for v2_el tuning and export to ONNX\n"
   ]
  },
  {
   "cell_type": "code",
   "execution_count": 1,
   "metadata": {},
   "outputs": [
    {
     "name": "stdout",
     "output_type": "stream",
     "text": [
      "Welcome to JupyROOT 6.16/00\n",
      "Using all sub packages with ROOT dependence\n",
      "\n",
      "Applying ATLAS style settings...\n",
      "\n",
      "Applying ATLAS style settings...\n",
      "INFO: Pandarallel will run on 40 workers.\n",
      "INFO: Pandarallel will use Memory file system to transfer data between the main process and workers.\n",
      "\n",
      "Applying ATLAS style settings...\n"
     ]
    }
   ],
   "source": [
    "from core import crossval_table, fit_table\n",
    "from Gaugi import mkdir_p\n",
    "from sklearn.model_selection import StratifiedKFold, KFold\n",
    "from multiprocessing import Process\n",
    "from time import sleep\n",
    "import saphyra\n",
    "import numpy as np\n",
    "import pandas as pd\n",
    "import collections\n",
    "import os\n",
    "import json\n",
    "import matplotlib\n",
    "import matplotlib.pyplot as plt\n",
    "from tensorflow.keras.models import Model, model_from_json\n",
    "\n",
    "\n",
    "from pprint import pprint\n",
    "from copy import deepcopy, copy\n",
    "os.environ['TF_CPP_MIN_LOG_LEVEL'] = '3'\n",
    "%config InlineBackend.figure_format = 'retina'\n",
    "%load_ext autoreload\n",
    "%autoreload 2"
   ]
  },
  {
   "cell_type": "code",
   "execution_count": 2,
   "metadata": {},
   "outputs": [],
   "source": [
    "output_path = 'output/fitting'\n",
    "mkdir_p(output_path)"
   ]
  },
  {
   "cell_type": "code",
   "execution_count": 13,
   "metadata": {},
   "outputs": [],
   "source": [
    "def create_op_dict(op, decoration='reference'):\n",
    "    \n",
    "    d = collections.OrderedDict( {\n",
    "              # validation\n",
    "              \"max_sp_val\"      : 'summary/max_sp_val',\n",
    "              \"max_sp_pd_val\"   : 'summary/max_sp_pd_val#0',\n",
    "              \"max_sp_fa_val\"   : 'summary/max_sp_fa_val#0',\n",
    "              # Operation\n",
    "              \"max_sp_op\"       : 'summary/max_sp_op',\n",
    "              \"max_sp_pd_op\"    : 'summary/max_sp_pd_op#0',\n",
    "              \"max_sp_fa_op\"    : 'summary/max_sp_fa_op#0',\n",
    "              \n",
    "              # op\n",
    "              'pd_ref'    : decoration+\"/\"+op+\"/pd_ref#0\",\n",
    "              'fa_ref'    : decoration+\"/\"+op+\"/fa_ref#0\",\n",
    "              'sp_ref'    : decoration+\"/\"+op+\"/sp_ref\",\n",
    "              'pd_val'    : decoration+\"/\"+op+\"/pd_val#0\",\n",
    "              'fa_val'    : decoration+\"/\"+op+\"/fa_val#0\",\n",
    "              'sp_val'    : decoration+\"/\"+op+\"/sp_val\",\n",
    "              'pd_op'     : decoration+\"/\"+op+\"/pd_op#0\",\n",
    "              'fa_op'     : decoration+\"/\"+op+\"/fa_op#0\",\n",
    "              'sp_op'     : decoration+\"/\"+op+\"/sp_op\",\n",
    "\n",
    "              # Counts\n",
    "              'pd_ref_passed'    : decoration+\"/\"+op+\"/pd_ref#1\",\n",
    "              'fa_ref_passed'    : decoration+\"/\"+op+\"/fa_ref#1\",\n",
    "              'pd_ref_total'     : decoration+\"/\"+op+\"/pd_ref#2\",\n",
    "              'fa_ref_total'     : decoration+\"/\"+op+\"/fa_ref#2\",\n",
    "              'pd_val_passed'    : decoration+\"/\"+op+\"/pd_val#1\",\n",
    "              'fa_val_passed'    : decoration+\"/\"+op+\"/fa_val#1\",\n",
    "              'pd_val_total'     : decoration+\"/\"+op+\"/pd_val#2\",\n",
    "              'fa_val_total'     : decoration+\"/\"+op+\"/fa_val#2\",\n",
    "              'pd_op_passed'     : decoration+\"/\"+op+\"/pd_op#1\",\n",
    "              'fa_op_passed'     : decoration+\"/\"+op+\"/fa_op#1\",\n",
    "              'pd_op_total'      : decoration+\"/\"+op+\"/pd_op#2\",\n",
    "              'fa_op_total'      : decoration+\"/\"+op+\"/fa_op#2\",\n",
    "    })\n",
    "    return d\n",
    "\n",
    "\n",
    "op_names = ['loosetrk']\n",
    "\n",
    "tuned_info = collections.OrderedDict({})\n",
    "for op in op_names:\n",
    "    tuned_info[op] = create_op_dict(op, \"reference\")"
   ]
  },
  {
   "cell_type": "code",
   "execution_count": 14,
   "metadata": {},
   "outputs": [],
   "source": [
    "etbins = [15, 20, 30, 40, 50, 1000000]\n",
    "etabins = [0.0, 0.8, 1.37, 1.54, 2.37, 2.50]"
   ]
  },
  {
   "cell_type": "markdown",
   "metadata": {},
   "source": [
    "## 1) Reading all tunings:\n"
   ]
  },
  {
   "cell_type": "code",
   "execution_count": 15,
   "metadata": {},
   "outputs": [],
   "source": [
    "cv  = crossval_table( tuned_info, etbins = etbins , etabins = etabins )"
   ]
  },
  {
   "cell_type": "code",
   "execution_count": 16,
   "metadata": {},
   "outputs": [],
   "source": [
    "cv.from_csv('output/crossval/table_v2_el.csv')"
   ]
  },
  {
   "cell_type": "code",
   "execution_count": 17,
   "metadata": {},
   "outputs": [],
   "source": [
    "best_inits = cv.filter_inits(\"max_sp_val\")\n",
    "best_inits = best_inits.loc[(best_inits.model_idx==0)] # 5 neurons for all phase spaces\n",
    "best_sorts = cv.filter_sorts( best_inits , 'max_sp_op')"
   ]
  },
  {
   "cell_type": "code",
   "execution_count": 18,
   "metadata": {},
   "outputs": [],
   "source": [
    "basepath = '/home/jodafons/public/cern_data/new_files/data17_13TeV.AllPeriods.sgn.probes_lhvloose_EGAM1.bkg.vprobes_vlhvloose_EGAM7.GRL_v97.25bins'\n",
    "datapath = basepath+'/data17_13TeV.AllPeriods.sgn.probes_lhvloose_EGAM1.bkg.vprobes_vlhvloose_EGAM7.GRL_v97.25bins_et{ET}_eta{ETA}.h5'\n",
    "paths = [ [datapath.format(ET=et_bin, ETA=eta_bin) for eta_bin in range(5)] for et_bin in range(5)]"
   ]
  },
  {
   "cell_type": "code",
   "execution_count": 19,
   "metadata": {},
   "outputs": [],
   "source": [
    "# calculate all pd/fa from reference file\n",
    "ref_path = '/home/jodafons/public/cern_data/new_files/data17_13TeV.AllPeriods.sgn.probes_lhvloose_EGAM1.bkg.vprobes_vlhvloose_EGAM7.GRL_v97.25bins/'\n",
    "ref_path += 'new_references/data17_13TeV.AllPeriods.sgn.probes_lhmedium_EGAM1.bkg.vprobes_vlhvloose_EGAM7.GRL_v97.25bins_et{ET}_eta{ETA}.ref.npz'\n",
    "ref_paths = [[ ref_path.format(ET=et,ETA=eta) for eta in range(5)] for et in range(5)]\n",
    "ref_values = [[ {} for eta in range(5)] for et in range(5)]\n",
    "\n",
    "from saphyra.core import ReferenceReader\n",
    "for et_bin in range(5):\n",
    "    for eta_bin in range(5):\n",
    "        for op_name in op_names:\n",
    "            refObj = ReferenceReader().load(ref_paths[et_bin][eta_bin])\n",
    "            _pd = refObj.getSgnPassed(op_name)/refObj.getSgnTotal(op_name)\n",
    "            _fa = refObj.getBkgPassed(op_name)/refObj.getBkgTotal(op_name)\n",
    "            ref_values[et_bin][eta_bin][op_name] = {'pd':_pd, 'fa':_fa, 'pd_epsilon':0.0}"
   ]
  },
  {
   "cell_type": "code",
   "execution_count": 20,
   "metadata": {},
   "outputs": [],
   "source": [
    "def getPatterns( path, etbin, etabin ):\n",
    "\n",
    "    pidname = 'el_lhmedium'\n",
    "    from kepler.pandas import load_hdf\n",
    "    import numpy as np\n",
    "    df = load_hdf(path)\n",
    "    df = df.loc[ ((df[pidname]==True) & (df.target==1.0)) | ((df.target==0) & (df['el_lhvloose']==False) ) ]\n",
    "    df = df.loc[ (df['trig_L2_cl_et']/1000  >= etbin[0]) & (df['trig_L2_cl_et']/1000  < etbin[1])]\n",
    "    df = df.loc[ (abs(df['trig_L2_cl_eta'])  >= etabin[0]) & (abs(df['trig_L2_cl_eta'])  < etabin[1])]\n",
    "\n",
    "    df = df.loc[ df['trig_L2_el_hastrack'] == True ] # only rows with track information \n",
    "\n",
    "\n",
    "    # for new training, we selected 1/2 of rings in each layer\n",
    "    #pre-sample - 8 rings\n",
    "    # EM1 - 64 rings\n",
    "    # EM2 - 8 rings\n",
    "    # EM3 - 8 rings\n",
    "    # Had1 - 4 rings\n",
    "    # Had2 - 4 rings\n",
    "    # Had3 - 4 rings\n",
    "    prefix = 'trig_L2_cl_ring_%i'\n",
    "\n",
    "    # rings presmaple \n",
    "    presample = [prefix %iring for iring in range(8//2)]\n",
    "    # EM1 list\n",
    "    sum_rings = 8\n",
    "    em1 = [prefix %iring for iring in range(sum_rings, sum_rings+(64//2))]\n",
    "    # EM2 list\n",
    "    sum_rings = 8+64\n",
    "    em2 = [prefix %iring for iring in range(sum_rings, sum_rings+(8//2))]\n",
    "    # EM3 list\n",
    "    sum_rings = 8+64+8\n",
    "    em3 = [prefix %iring for iring in range(sum_rings, sum_rings+(8//2))]\n",
    "    # HAD1 list\n",
    "    sum_rings = 8+64+8+8\n",
    "    had1 = [prefix %iring for iring in range(sum_rings, sum_rings+(4//2))]\n",
    "    # HAD2 list\n",
    "    sum_rings = 8+64+8+8+4\n",
    "    had2 = [prefix %iring for iring in range(sum_rings, sum_rings+(4//2))]\n",
    "    # HAD3 list\n",
    "    sum_rings = 8+64+8+8+4+4\n",
    "    had3 = [prefix %iring for iring in range(sum_rings, sum_rings+(4//2))]\n",
    "    col_names = presample+em1+em2+em3+had1+had2+had3\n",
    "    rings = df[col_names].values.astype(np.float32)\n",
    "\n",
    "    def norm1( data ):\n",
    "        norms = np.abs( data.sum(axis=1) )\n",
    "        norms[norms==0] = 1\n",
    "        return data/norms[:,None]\n",
    "    \n",
    "    avgmu = df.avgmu.values\n",
    "    target = df['target'].values.astype(np.int16)\n",
    "    data_rings = norm1(rings)\n",
    "    \n",
    "    n = data_rings.shape[0]\n",
    "    data_etOverPt = df['trig_L2_el_etOverPt'].astype(np.float32).to_numpy().reshape((n,1))  / 1\n",
    "    data_deta     = df['trig_L2_el_trkClusDeta'].astype(np.float32).to_numpy().reshape((n,1))  / 1.\n",
    "    data_dphi     = df['trig_L2_el_trkClusDphi'].astype(np.float32).to_numpy().reshape((n,1))  / 1.\n",
    "    \n",
    "\n",
    "    data_trk    = np.concatenate( (data_etOverPt, data_deta, data_dphi), axis=1)\n",
    " \n",
    "    return [data_rings, data_trk], target, avgmu\n",
    "\n"
   ]
  },
  {
   "cell_type": "markdown",
   "metadata": {},
   "source": [
    "## Linear correction:"
   ]
  },
  {
   "cell_type": "code",
   "execution_count": 21,
   "metadata": {},
   "outputs": [],
   "source": [
    "kf = StratifiedKFold(n_splits=10, random_state=512, shuffle=True)"
   ]
  },
  {
   "cell_type": "code",
   "execution_count": 22,
   "metadata": {},
   "outputs": [],
   "source": [
    "cv_fit = fit_table( etbins, etabins, kf )"
   ]
  },
  {
   "cell_type": "markdown",
   "metadata": {},
   "source": [
    "**NOTE**: This step will take something like 5 min to be ready"
   ]
  },
  {
   "cell_type": "code",
   "execution_count": 23,
   "metadata": {},
   "outputs": [
    {
     "name": "stderr",
     "output_type": "stream",
     "text": [
      "Filling... : 100%|████████████████████| 25/25 [07:58<00:00, 19.15s/it]\n"
     ]
    }
   ],
   "source": [
    "best_sorts_refit = cv_fit.fill( best_sorts , getPatterns, paths, ref_values, output_path=output_path ,\n",
    "                                min_avgmu=16, max_avgmu=60)"
   ]
  },
  {
   "cell_type": "code",
   "execution_count": 24,
   "metadata": {},
   "outputs": [],
   "source": [
    "best_sorts_refit.to_csv('output/fitting/best_sorts_v2_el.csv')"
   ]
  },
  {
   "cell_type": "code",
   "execution_count": 25,
   "metadata": {},
   "outputs": [
    {
     "name": "stdout",
     "output_type": "stream",
     "text": [
      "2022-03-28 18:53:05,407 | Py.BeamerTexReportTemplate1             INFO Started creating beamer file fitting_v2_el_loosetrk.pdf latex code...\n"
     ]
    }
   ],
   "source": [
    "for op in op_names:\n",
    "    cv_fit.dump_beamer_table( best_sorts_refit.loc[best_sorts_refit.op_name == op] ,                  \n",
    "                              op+' Fitting (v2-el)', 'fitting_v2_el_'+op)"
   ]
  },
  {
   "cell_type": "code",
   "execution_count": 26,
   "metadata": {},
   "outputs": [],
   "source": [
    "!mv *.pdf output/fitting\n",
    "!mv *.tex output/fitting"
   ]
  },
  {
   "cell_type": "code",
   "execution_count": null,
   "metadata": {},
   "outputs": [],
   "source": []
  },
  {
   "cell_type": "markdown",
   "metadata": {},
   "source": [
    "## Export all tunings:"
   ]
  },
  {
   "cell_type": "code",
   "execution_count": 29,
   "metadata": {},
   "outputs": [
    {
     "name": "stdout",
     "output_type": "stream",
     "text": [
      "2022-03-28 18:59:37,295 | Py.fit_table                            INFO Export all tuning configuration to ElectronRingerLooseTriggerConfig.conf.\n"
     ]
    },
    {
     "name": "stderr",
     "output_type": "stream",
     "text": [
      "tf executing eager_mode: True\n",
      "tf.keras model eager_mode: False\n",
      "The ONNX operator number change on the optimization: 19 -> 12\n",
      "The maximum opset needed by this model is only 11.\n",
      "tf executing eager_mode: True\n",
      "tf.keras model eager_mode: False\n",
      "The ONNX operator number change on the optimization: 19 -> 12\n",
      "The maximum opset needed by this model is only 11.\n",
      "tf executing eager_mode: True\n",
      "tf.keras model eager_mode: False\n",
      "The ONNX operator number change on the optimization: 19 -> 12\n",
      "The maximum opset needed by this model is only 11.\n",
      "tf executing eager_mode: True\n",
      "tf.keras model eager_mode: False\n",
      "The ONNX operator number change on the optimization: 19 -> 12\n",
      "The maximum opset needed by this model is only 11.\n",
      "tf executing eager_mode: True\n",
      "tf.keras model eager_mode: False\n",
      "The ONNX operator number change on the optimization: 19 -> 12\n",
      "The maximum opset needed by this model is only 11.\n",
      "tf executing eager_mode: True\n",
      "tf.keras model eager_mode: False\n",
      "The ONNX operator number change on the optimization: 19 -> 12\n",
      "The maximum opset needed by this model is only 11.\n",
      "tf executing eager_mode: True\n",
      "tf.keras model eager_mode: False\n",
      "The ONNX operator number change on the optimization: 19 -> 12\n",
      "The maximum opset needed by this model is only 11.\n",
      "tf executing eager_mode: True\n",
      "tf.keras model eager_mode: False\n",
      "The ONNX operator number change on the optimization: 19 -> 12\n",
      "The maximum opset needed by this model is only 11.\n",
      "tf executing eager_mode: True\n",
      "tf.keras model eager_mode: False\n",
      "The ONNX operator number change on the optimization: 19 -> 12\n",
      "The maximum opset needed by this model is only 11.\n",
      "tf executing eager_mode: True\n",
      "tf.keras model eager_mode: False\n",
      "The ONNX operator number change on the optimization: 19 -> 12\n",
      "The maximum opset needed by this model is only 11.\n",
      "tf executing eager_mode: True\n",
      "tf.keras model eager_mode: False\n",
      "The ONNX operator number change on the optimization: 19 -> 12\n",
      "The maximum opset needed by this model is only 11.\n",
      "tf executing eager_mode: True\n",
      "tf.keras model eager_mode: False\n",
      "The ONNX operator number change on the optimization: 19 -> 12\n",
      "The maximum opset needed by this model is only 11.\n",
      "tf executing eager_mode: True\n",
      "tf.keras model eager_mode: False\n",
      "The ONNX operator number change on the optimization: 19 -> 12\n",
      "The maximum opset needed by this model is only 11.\n",
      "tf executing eager_mode: True\n",
      "tf.keras model eager_mode: False\n",
      "The ONNX operator number change on the optimization: 19 -> 12\n",
      "The maximum opset needed by this model is only 11.\n",
      "tf executing eager_mode: True\n",
      "tf.keras model eager_mode: False\n",
      "The ONNX operator number change on the optimization: 19 -> 12\n",
      "The maximum opset needed by this model is only 11.\n",
      "tf executing eager_mode: True\n",
      "tf.keras model eager_mode: False\n",
      "The ONNX operator number change on the optimization: 19 -> 12\n",
      "The maximum opset needed by this model is only 11.\n",
      "tf executing eager_mode: True\n",
      "tf.keras model eager_mode: False\n",
      "The ONNX operator number change on the optimization: 19 -> 12\n",
      "The maximum opset needed by this model is only 11.\n",
      "tf executing eager_mode: True\n",
      "tf.keras model eager_mode: False\n",
      "The ONNX operator number change on the optimization: 19 -> 12\n",
      "The maximum opset needed by this model is only 11.\n",
      "tf executing eager_mode: True\n",
      "tf.keras model eager_mode: False\n",
      "The ONNX operator number change on the optimization: 19 -> 12\n",
      "The maximum opset needed by this model is only 11.\n",
      "tf executing eager_mode: True\n",
      "tf.keras model eager_mode: False\n",
      "The ONNX operator number change on the optimization: 19 -> 12\n",
      "The maximum opset needed by this model is only 11.\n",
      "tf executing eager_mode: True\n",
      "tf.keras model eager_mode: False\n",
      "The ONNX operator number change on the optimization: 19 -> 12\n",
      "The maximum opset needed by this model is only 11.\n",
      "tf executing eager_mode: True\n",
      "tf.keras model eager_mode: False\n",
      "The ONNX operator number change on the optimization: 19 -> 12\n",
      "The maximum opset needed by this model is only 11.\n",
      "tf executing eager_mode: True\n",
      "tf.keras model eager_mode: False\n",
      "The ONNX operator number change on the optimization: 19 -> 12\n",
      "The maximum opset needed by this model is only 11.\n",
      "tf executing eager_mode: True\n",
      "tf.keras model eager_mode: False\n",
      "The ONNX operator number change on the optimization: 19 -> 12\n",
      "The maximum opset needed by this model is only 11.\n",
      "tf executing eager_mode: True\n",
      "tf.keras model eager_mode: False\n",
      "The ONNX operator number change on the optimization: 19 -> 12\n",
      "The maximum opset needed by this model is only 11.\n"
     ]
    }
   ],
   "source": [
    "model_name_format = 'data17_13TeV_EGAM1_probes_lhmedium_EGAM7_vetolhvloose.model_v2_el.electron{op}.et%d_eta%d'\n",
    "config_name_format = 'ElectronRinger{op}TriggerConfig.conf'\n",
    "op_capnames = ['Loose']\n",
    "for idx, op in enumerate( ['loosetrk'] ):\n",
    "    cv_fit.export(best_sorts_refit.loc[best_sorts_refit.op_name==op], \n",
    "                  model_name_format.format(op=op_capnames[idx]), \n",
    "                  config_name_format.format(op=op_capnames[idx]), \n",
    "                  op, \n",
    "                  to_onnx     = True,\n",
    "                  remove_last = True,\n",
    "                  min_avgmu   = 16,\n",
    "                  max_avgmu   = 100)"
   ]
  },
  {
   "cell_type": "code",
   "execution_count": 30,
   "metadata": {},
   "outputs": [
    {
     "name": "stdout",
     "output_type": "stream",
     "text": [
      "mv: cannot stat '*.tex': No such file or directory\n",
      "mv: cannot stat '*.pdf': No such file or directory\n"
     ]
    }
   ],
   "source": [
    "!mv models output/fitting\n",
    "!mv *.conf output/fitting\n",
    "!mv *.tex output/fitting\n",
    "!mv *.pdf output/fitting"
   ]
  },
  {
   "cell_type": "code",
   "execution_count": null,
   "metadata": {},
   "outputs": [],
   "source": []
  },
  {
   "cell_type": "code",
   "execution_count": null,
   "metadata": {},
   "outputs": [],
   "source": []
  },
  {
   "cell_type": "code",
   "execution_count": null,
   "metadata": {},
   "outputs": [],
   "source": []
  }
 ],
 "metadata": {
  "kernelspec": {
   "display_name": "Python 3",
   "language": "python",
   "name": "python3"
  },
  "language_info": {
   "codemirror_mode": {
    "name": "ipython",
    "version": 3
   },
   "file_extension": ".py",
   "mimetype": "text/x-python",
   "name": "python",
   "nbconvert_exporter": "python",
   "pygments_lexer": "ipython3",
   "version": "3.6.9"
  }
 },
 "nbformat": 4,
 "nbformat_minor": 4
}
