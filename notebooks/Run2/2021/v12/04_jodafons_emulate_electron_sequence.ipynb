{
 "cells": [
  {
   "cell_type": "markdown",
   "id": "ca2f7274-f3c9-4920-8846-f57206e7ce34",
   "metadata": {},
   "source": [
    "# Kepler Framework, Emulate v12"
   ]
  },
  {
   "cell_type": "code",
   "execution_count": 1,
   "id": "59967f39-befe-42c6-b8aa-c81bcc13734b",
   "metadata": {},
   "outputs": [
    {
     "name": "stdout",
     "output_type": "stream",
     "text": [
      "Welcome to JupyROOT 6.16/00\n",
      "Using all sub packages with ROOT dependence\n",
      "INFO: Pandarallel will run on 40 workers.\n",
      "INFO: Pandarallel will use Memory file system to transfer data between the main process and workers.\n",
      "\n",
      "Applying ATLAS style settings...\n",
      "\n",
      "Applying ATLAS style settings...\n",
      "\n",
      "Applying ATLAS style settings...\n"
     ]
    }
   ],
   "source": [
    "from kepler.pandas.menu       import ElectronSequence as Chain\n",
    "from kepler.pandas.readers    import load, load_in_loop, load_hdf\n",
    "from core import Efficiency\n",
    "from Gaugi import mkdir_p, progressbar\n",
    "import numpy as np\n",
    "import pandas as pd\n",
    "import collections\n",
    "import os\n",
    "from pprint import pprint\n",
    "from copy import deepcopy\n",
    "\n",
    "import gc\n",
    "%config InlineBackend.figure_format = 'retina'\n",
    "%load_ext autoreload\n",
    "%autoreload 2"
   ]
  },
  {
   "cell_type": "code",
   "execution_count": 2,
   "id": "eff9d2e4-7725-401d-8591-23a51b5c3802",
   "metadata": {},
   "outputs": [],
   "source": [
    "output_path = 'output/emulation'\n",
    "mkdir_p(output_path)"
   ]
  },
  {
   "cell_type": "code",
   "execution_count": 10,
   "id": "9906fa52-812f-4db7-9f00-e5c9a8b317ff",
   "metadata": {},
   "outputs": [],
   "source": [
    "dpath_data17 = '../../data/output/data17_13TeV.AllPeriods.sgn.probes_lhvloose_EGAM1.bkg.vprobes_vlhvloose_EGAM7.GRL_v97.dataframe.h5'\n",
    "dpath_data18 = '../../data/output/data18_13TeV.AllPeriods.sgn.probes_lhvloose_EGAM1.bkg.vprobes_vlhvloose_EGAM7.GRL_v97.dataframe.h5'\n",
    "dpath_mc16   = '../../data/output/mc16_13TeV.302236_309995_341330.sgn.boosted_probes.WZ_llqq_plus_radion_ZZ_llqq_plus_ggH3000.merge.dataframe.h5'"
   ]
  },
  {
   "cell_type": "code",
   "execution_count": 11,
   "id": "8c3232c2-56de-4739-9052-93b27508c421",
   "metadata": {},
   "outputs": [],
   "source": [
    "tpath_data17 = 'output/emulation/data17_table_v12.h5'\n",
    "tpath_data18 = 'output/emulation/data18_table_v12.h5'\n",
    "tpath_mc16   = 'output/emulation/mc16_table_v12.h5'"
   ]
  },
  {
   "cell_type": "markdown",
   "id": "5a0b2e3b-e048-486a-b10e-b38c299dafe2",
   "metadata": {},
   "source": [
    "## Setup Chains:"
   ]
  },
  {
   "cell_type": "code",
   "execution_count": 12,
   "id": "6a8a7130-1079-45e8-86f8-80795de2473d",
   "metadata": {},
   "outputs": [
    {
     "name": "stdout",
     "output_type": "stream",
     "text": [
      "OrderedDict([('L1Seed', 'L1_EM15VHI'),\n",
      "             ('L2Calo', (14000.0, 'ringer_v12_vloose')),\n",
      "             ('L2', 'trig_L2_el_cut_pt15to20'),\n",
      "             ('EFCalo', 17000.0),\n",
      "             ('HLT', (17000.0, 'trig_EF_el_lhvloose'))])\n",
      "OrderedDict([('L1Seed', 'L1_EM22VHI'),\n",
      "             ('L2Calo', (25000.0, 'ringer_v12_tight')),\n",
      "             ('L2', 'trig_L2_el_cut_pt20to50'),\n",
      "             ('EFCalo', 28000.0),\n",
      "             ('HLT', (28000.0, 'trig_EF_el_lhtight_ivarloose'))])\n",
      "OrderedDict([('L1Seed', 'L1_EM24VHI'),\n",
      "             ('L2Calo', (57000.0, 'ringer_v12_medium')),\n",
      "             ('L2', 'trig_L2_el_cut_pt50toInf'),\n",
      "             ('EFCalo', 60000.0),\n",
      "             ('HLT', (60000.0, 'trig_EF_el_lhmedium'))])\n",
      "OrderedDict([('L1Seed', 'L1_EM24VHI'),\n",
      "             ('L2Calo', (137000.0, 'ringer_v12_loose')),\n",
      "             ('L2', 'trig_L2_el_cut_pt50toInf'),\n",
      "             ('EFCalo', 140000.0),\n",
      "             ('HLT', (140000.0, 'trig_EF_el_lhloose'))])\n"
     ]
    }
   ],
   "source": [
    "# create my chain\n",
    "chains = [\n",
    "            Chain( \"HLT_e17_lhvloose_nod0_ringer_v12_L1EM15VHI\", L1Seed = 'L1_EM15VHI' , l2calo_column = 'ringer_v12_vloose'),\n",
    "            Chain( \"HLT_e28_lhtight_nod0_ringer_v12_ivarloose\", L1Seed = 'L1_EM22VHI' , l2calo_column = 'ringer_v12_tight' ),\n",
    "            Chain( \"HLT_e60_lhmedium_nod0_ringer_v12_L1EM24VHI\", L1Seed = 'L1_EM24VHI' , l2calo_column = 'ringer_v12_medium'),\n",
    "            Chain( \"HLT_e140_lhloose_nod0_ringer_v12\" , L1Seed = 'L1_EM24VHI', l2calo_column = 'ringer_v12_loose'),\n",
    "]\n",
    "\n",
    "def emulate( df ):\n",
    "    for chain in progressbar(chains, prefix='Emulate...'):\n",
    "        chain.apply(df)"
   ]
  },
  {
   "cell_type": "markdown",
   "id": "d55125f6-ad91-4e6b-9568-b8efcf510c4c",
   "metadata": {},
   "source": [
    "## Emulate 2017:\n",
    "\n",
    "Take something like 1 hour"
   ]
  },
  {
   "cell_type": "code",
   "execution_count": 13,
   "id": "9ef17eb5-de24-47ca-91db-f3c4b058ed93",
   "metadata": {},
   "outputs": [],
   "source": [
    "data17_df = pd.concat( (load_hdf(dpath_data17), load_hdf(tpath_data17)), axis=1)"
   ]
  },
  {
   "cell_type": "code",
   "execution_count": 14,
   "id": "d05247bc-f622-4ac8-ae35-125960666352",
   "metadata": {},
   "outputs": [
    {
     "name": "stderr",
     "output_type": "stream",
     "text": [
      "Emulate...: 100%|██████████| 4/4 [01:21<00:00, 20.47s/it]\n"
     ]
    }
   ],
   "source": [
    "emulate(data17_df)"
   ]
  },
  {
   "cell_type": "code",
   "execution_count": 15,
   "id": "3c1b5e86-9940-48a0-b156-0ab677716b4d",
   "metadata": {},
   "outputs": [
    {
     "data": {
      "text/plain": [
       "(43311283, 111)"
      ]
     },
     "execution_count": 15,
     "metadata": {},
     "output_type": "execute_result"
    }
   ],
   "source": [
    "data17_df.shape"
   ]
  },
  {
   "cell_type": "markdown",
   "id": "9ba387d6-8f54-4032-b0f2-2437814886bd",
   "metadata": {},
   "source": [
    "### Validate:"
   ]
  },
  {
   "cell_type": "code",
   "execution_count": 16,
   "id": "a081015c-c396-43da-838f-6824365b3b22",
   "metadata": {},
   "outputs": [
    {
     "name": "stdout",
     "output_type": "stream",
     "text": [
      "2022-03-22 18:18:45,013 | Py.Efficiency                           INFO Creating the StoreGate service with path: output/emulation/data17_Zee_efficiency_v12.root\n"
     ]
    }
   ],
   "source": [
    "eff_data17_Zee = Efficiency( output_path+'/data17_Zee_efficiency_v12.root')"
   ]
  },
  {
   "cell_type": "code",
   "execution_count": 17,
   "id": "696e7ae6-7a61-467e-bbd3-df68af163e04",
   "metadata": {},
   "outputs": [
    {
     "name": "stderr",
     "output_type": "stream",
     "text": [
      "Filling...: 100%|██████████| 5/5 [01:52<00:00, 22.43s/it]\n"
     ]
    },
    {
     "name": "stdout",
     "output_type": "stream",
     "text": [
      "HLT_e17_lhvloose_nod0_ringer_v12_L1EM15VHI\n",
      "+--------+----------+-------------------+\n",
      "|  Step  | Eff [%%] |    passed/total   |\n",
      "+--------+----------+-------------------+\n",
      "| L1Calo | 94.1069  | 30158981/32047563 |\n",
      "| L2Calo | 93.5262  | 29972876/32047563 |\n",
      "|   L2   | 93.2890  | 29896843/32047563 |\n",
      "| EFCalo | 91.9757  | 29475986/32047563 |\n",
      "|  HLT   | 90.0275  | 28851615/32047563 |\n",
      "+--------+----------+-------------------+\n"
     ]
    },
    {
     "name": "stderr",
     "output_type": "stream",
     "text": [
      "Filling...: 100%|██████████| 5/5 [01:21<00:00, 16.34s/it]\n"
     ]
    },
    {
     "name": "stdout",
     "output_type": "stream",
     "text": [
      "HLT_e28_lhtight_nod0_ringer_v12_ivarloose\n",
      "+--------+----------+-------------------+\n",
      "|  Step  | Eff [%%] |    passed/total   |\n",
      "+--------+----------+-------------------+\n",
      "| L1Calo | 94.6937  | 21557594/22765602 |\n",
      "| L2Calo | 94.2246  | 21450792/22765602 |\n",
      "|   L2   | 94.1117  | 21425102/22765602 |\n",
      "| EFCalo | 93.1869  | 21214562/22765602 |\n",
      "|  HLT   | 87.0220  | 19811072/22765602 |\n",
      "+--------+----------+-------------------+\n"
     ]
    },
    {
     "name": "stderr",
     "output_type": "stream",
     "text": [
      "Filling...: 100%|██████████| 5/5 [00:05<00:00,  1.19s/it]\n"
     ]
    },
    {
     "name": "stdout",
     "output_type": "stream",
     "text": [
      "HLT_e60_lhmedium_nod0_ringer_v12_L1EM24VHI\n",
      "+--------+----------+-----------------+\n",
      "|  Step  | Eff [%%] |   passed/total  |\n",
      "+--------+----------+-----------------+\n",
      "| L1Calo | 99.5079  | 1361055/1367786 |\n",
      "| L2Calo | 97.3531  | 1331582/1367786 |\n",
      "|   L2   | 97.2642  | 1330366/1367786 |\n",
      "| EFCalo | 95.1735  | 1301770/1367786 |\n",
      "|  HLT   | 91.9016  | 1257017/1367786 |\n",
      "+--------+----------+-----------------+\n"
     ]
    },
    {
     "name": "stderr",
     "output_type": "stream",
     "text": [
      "Filling...: 100%|██████████| 5/5 [00:00<00:00, 20.35it/s]"
     ]
    },
    {
     "name": "stdout",
     "output_type": "stream",
     "text": [
      "HLT_e140_lhloose_nod0_ringer_v12\n",
      "+--------+----------+--------------+\n",
      "|  Step  | Eff [%%] | passed/total |\n",
      "+--------+----------+--------------+\n",
      "| L1Calo | 100.0000 | 60541/60541  |\n",
      "| L2Calo | 97.9865  | 59322/60541  |\n",
      "|   L2   | 97.9204  | 59282/60541  |\n",
      "| EFCalo | 96.6007  | 58483/60541  |\n",
      "|  HLT   | 94.6466  | 57300/60541  |\n",
      "+--------+----------+--------------+\n"
     ]
    },
    {
     "name": "stderr",
     "output_type": "stream",
     "text": [
      "\n"
     ]
    }
   ],
   "source": [
    "eff_data17_Zee.fill( data17_df.loc[data17_df['target']==1], 'HLT_e17_lhvloose_nod0_ringer_v12_L1EM15VHI', pidname='el_lhvloose', reset=True)\n",
    "eff_data17_Zee.fill( data17_df.loc[data17_df['target']==1], 'HLT_e28_lhtight_nod0_ringer_v12_ivarloose' , pidname='el_lhtight' , reset=True)\n",
    "eff_data17_Zee.fill( data17_df.loc[data17_df['target']==1], 'HLT_e60_lhmedium_nod0_ringer_v12_L1EM24VHI', pidname='el_lhmedium', reset=True)\n",
    "eff_data17_Zee.fill( data17_df.loc[data17_df['target']==1], 'HLT_e140_lhloose_nod0_ringer_v12'          , pidname='el_lhloose' , reset=True)"
   ]
  },
  {
   "cell_type": "code",
   "execution_count": 18,
   "id": "2d5e76eb-2dce-4b92-92ce-ef691506629a",
   "metadata": {},
   "outputs": [],
   "source": [
    "eff_data17_Zee.save()"
   ]
  },
  {
   "cell_type": "code",
   "execution_count": 19,
   "id": "3e46582b-9a89-45e7-96ac-3a81e18cbe8c",
   "metadata": {},
   "outputs": [
    {
     "name": "stdout",
     "output_type": "stream",
     "text": [
      "2022-03-22 18:22:50,131 | Py.Efficiency                           INFO Creating the StoreGate service with path: output/emulation/data17_JF17_efficiency_v12.root\n"
     ]
    }
   ],
   "source": [
    "eff_data17_JF17 = Efficiency( output_path+'/data17_JF17_efficiency_v12.root')"
   ]
  },
  {
   "cell_type": "code",
   "execution_count": 20,
   "id": "fb059db5-fd95-46cd-9f1a-e6b99b435936",
   "metadata": {},
   "outputs": [
    {
     "name": "stderr",
     "output_type": "stream",
     "text": [
      "Filling...: 100%|██████████| 5/5 [00:21<00:00,  4.37s/it]\n"
     ]
    },
    {
     "name": "stdout",
     "output_type": "stream",
     "text": [
      "HLT_e17_lhvloose_nod0_ringer_v12_L1EM15VHI\n",
      "+--------+----------+------------------+\n",
      "|  Step  | Eff [%%] |   passed/total   |\n",
      "+--------+----------+------------------+\n",
      "| L1Calo | 84.4275  | 8738241/10349992 |\n",
      "| L2Calo |  2.1368  | 221154/10349992  |\n",
      "|   L2   |  2.0697  | 214216/10349992  |\n",
      "| EFCalo |  1.8745  | 194009/10349992  |\n",
      "|  HLT   |  0.1644  |  17018/10349992  |\n",
      "+--------+----------+------------------+\n"
     ]
    },
    {
     "name": "stderr",
     "output_type": "stream",
     "text": [
      "Filling...: 100%|██████████| 5/5 [00:19<00:00,  3.90s/it]\n"
     ]
    },
    {
     "name": "stdout",
     "output_type": "stream",
     "text": [
      "HLT_e28_lhtight_nod0_ringer_v12_ivarloose\n",
      "+--------+----------+-----------------+\n",
      "|  Step  | Eff [%%] |   passed/total  |\n",
      "+--------+----------+-----------------+\n",
      "| L1Calo | 90.6060  | 8384948/9254300 |\n",
      "| L2Calo |  0.8239  |  76244/9254300  |\n",
      "|   L2   |  0.7744  |  71663/9254300  |\n",
      "| EFCalo |  0.6304  |  58338/9254300  |\n",
      "|  HLT   |  0.0017  |   160/9254300   |\n",
      "+--------+----------+-----------------+\n"
     ]
    },
    {
     "name": "stderr",
     "output_type": "stream",
     "text": [
      "Filling...: 100%|██████████| 5/5 [00:16<00:00,  3.32s/it]\n"
     ]
    },
    {
     "name": "stdout",
     "output_type": "stream",
     "text": [
      "HLT_e60_lhmedium_nod0_ringer_v12_L1EM24VHI\n",
      "+--------+----------+-----------------+\n",
      "|  Step  | Eff [%%] |   passed/total  |\n",
      "+--------+----------+-----------------+\n",
      "| L1Calo | 99.9012  | 7844422/7852181 |\n",
      "| L2Calo |  0.8132  |  63857/7852181  |\n",
      "|   L2   |  0.7556  |  59332/7852181  |\n",
      "| EFCalo |  0.5819  |  45689/7852181  |\n",
      "|  HLT   |  0.0024  |   189/7852181   |\n",
      "+--------+----------+-----------------+\n"
     ]
    },
    {
     "name": "stderr",
     "output_type": "stream",
     "text": [
      "Filling...: 100%|██████████| 5/5 [00:12<00:00,  2.47s/it]"
     ]
    },
    {
     "name": "stdout",
     "output_type": "stream",
     "text": [
      "HLT_e140_lhloose_nod0_ringer_v12\n",
      "+--------+----------+-----------------+\n",
      "|  Step  | Eff [%%] |   passed/total  |\n",
      "+--------+----------+-----------------+\n",
      "| L1Calo | 99.9227  | 5629684/5634041 |\n",
      "| L2Calo |  1.9191  |  108121/5634041 |\n",
      "|   L2   |  1.8329  |  103268/5634041 |\n",
      "| EFCalo |  1.5639  |  88112/5634041  |\n",
      "|  HLT   |  0.0466  |   2627/5634041  |\n",
      "+--------+----------+-----------------+\n"
     ]
    },
    {
     "name": "stderr",
     "output_type": "stream",
     "text": [
      "\n"
     ]
    }
   ],
   "source": [
    "eff_data17_JF17.fill( data17_df.loc[data17_df['target']==0], 'HLT_e17_lhvloose_nod0_ringer_v12_L1EM15VHI', reset=True)\n",
    "eff_data17_JF17.fill( data17_df.loc[data17_df['target']==0], 'HLT_e28_lhtight_nod0_ringer_v12_ivarloose' , reset=True)\n",
    "eff_data17_JF17.fill( data17_df.loc[data17_df['target']==0], 'HLT_e60_lhmedium_nod0_ringer_v12_L1EM24VHI', reset=True)\n",
    "eff_data17_JF17.fill( data17_df.loc[data17_df['target']==0], 'HLT_e140_lhloose_nod0_ringer_v12'          , reset=True)"
   ]
  },
  {
   "cell_type": "code",
   "execution_count": 21,
   "id": "e771c09b-09aa-41ab-b49c-190b47ae8d33",
   "metadata": {},
   "outputs": [],
   "source": [
    "eff_data17_JF17.save()"
   ]
  },
  {
   "cell_type": "code",
   "execution_count": 22,
   "id": "c9bed441-ca7a-4e03-af4c-72e2b7545cc5",
   "metadata": {},
   "outputs": [],
   "source": [
    "del data17_df"
   ]
  },
  {
   "cell_type": "markdown",
   "id": "882828ab-b64b-4fc1-a64a-04bcf468a639",
   "metadata": {},
   "source": [
    "## Emulate 2018:"
   ]
  },
  {
   "cell_type": "code",
   "execution_count": 23,
   "id": "74056ec7-1605-47f1-a2a2-74d0556adbf8",
   "metadata": {},
   "outputs": [],
   "source": [
    "data18_df = pd.concat( (load_hdf(dpath_data18), load_hdf(tpath_data18)), axis=1)"
   ]
  },
  {
   "cell_type": "code",
   "execution_count": 24,
   "id": "b1728428-a4d0-49e2-820d-18279498aa90",
   "metadata": {},
   "outputs": [
    {
     "name": "stderr",
     "output_type": "stream",
     "text": [
      "Emulate...: 100%|██████████| 4/4 [01:21<00:00, 20.35s/it]\n"
     ]
    }
   ],
   "source": [
    "emulate(data18_df)"
   ]
  },
  {
   "cell_type": "code",
   "execution_count": 25,
   "id": "bf6d8121-4ee1-4538-b861-c6e317ac7e99",
   "metadata": {},
   "outputs": [
    {
     "data": {
      "text/plain": [
       "(41873973, 111)"
      ]
     },
     "execution_count": 25,
     "metadata": {},
     "output_type": "execute_result"
    }
   ],
   "source": [
    "data18_df.shape"
   ]
  },
  {
   "cell_type": "code",
   "execution_count": 26,
   "id": "a970f45d-b03d-49b7-b3e0-75630a4d172a",
   "metadata": {},
   "outputs": [
    {
     "name": "stdout",
     "output_type": "stream",
     "text": [
      "2022-03-22 18:26:42,527 | Py.Efficiency                           INFO Creating the StoreGate service with path: output/emulation/data18_Zee_efficiency_v12.root\n"
     ]
    }
   ],
   "source": [
    "eff_data18_Zee = Efficiency( output_path+'/data18_Zee_efficiency_v12.root')"
   ]
  },
  {
   "cell_type": "code",
   "execution_count": 27,
   "id": "16d56a44-5005-4fca-957c-ae20705d9847",
   "metadata": {},
   "outputs": [
    {
     "name": "stderr",
     "output_type": "stream",
     "text": [
      "Filling...: 100%|██████████| 5/5 [01:51<00:00, 22.38s/it]\n"
     ]
    },
    {
     "name": "stdout",
     "output_type": "stream",
     "text": [
      "HLT_e17_lhvloose_nod0_ringer_v12_L1EM15VHI\n",
      "+--------+----------+-------------------+\n",
      "|  Step  | Eff [%%] |    passed/total   |\n",
      "+--------+----------+-------------------+\n",
      "| L1Calo | 94.1301  | 30705693/32620495 |\n",
      "| L2Calo | 93.5751  | 30524649/32620495 |\n",
      "|   L2   | 93.3469  | 30450228/32620495 |\n",
      "| EFCalo | 92.0106  | 30014311/32620495 |\n",
      "|  HLT   | 90.5622  | 29541825/32620495 |\n",
      "+--------+----------+-------------------+\n"
     ]
    },
    {
     "name": "stderr",
     "output_type": "stream",
     "text": [
      "Filling...: 100%|██████████| 5/5 [01:21<00:00, 16.36s/it]\n"
     ]
    },
    {
     "name": "stdout",
     "output_type": "stream",
     "text": [
      "HLT_e28_lhtight_nod0_ringer_v12_ivarloose\n",
      "+--------+----------+-------------------+\n",
      "|  Step  | Eff [%%] |    passed/total   |\n",
      "+--------+----------+-------------------+\n",
      "| L1Calo | 94.6555  | 22067825/23313826 |\n",
      "| L2Calo | 94.1980  | 21961165/23313826 |\n",
      "|   L2   | 94.1035  | 21939128/23313826 |\n",
      "| EFCalo | 93.3041  | 21752747/23313826 |\n",
      "|  HLT   | 87.5989  | 20422665/23313826 |\n",
      "+--------+----------+-------------------+\n"
     ]
    },
    {
     "name": "stderr",
     "output_type": "stream",
     "text": [
      "Filling...: 100%|██████████| 5/5 [00:05<00:00,  1.19s/it]\n"
     ]
    },
    {
     "name": "stdout",
     "output_type": "stream",
     "text": [
      "HLT_e60_lhmedium_nod0_ringer_v12_L1EM24VHI\n",
      "+--------+----------+-----------------+\n",
      "|  Step  | Eff [%%] |   passed/total  |\n",
      "+--------+----------+-----------------+\n",
      "| L1Calo | 99.5563  | 1375545/1381675 |\n",
      "| L2Calo | 97.3658  | 1345279/1381675 |\n",
      "|   L2   | 97.2808  | 1344105/1381675 |\n",
      "| EFCalo | 95.1917  | 1315240/1381675 |\n",
      "|  HLT   | 92.2068  | 1273998/1381675 |\n",
      "+--------+----------+-----------------+\n"
     ]
    },
    {
     "name": "stderr",
     "output_type": "stream",
     "text": [
      "Filling...: 100%|██████████| 5/5 [00:00<00:00, 20.36it/s]"
     ]
    },
    {
     "name": "stdout",
     "output_type": "stream",
     "text": [
      "HLT_e140_lhloose_nod0_ringer_v12\n",
      "+--------+----------+--------------+\n",
      "|  Step  | Eff [%%] | passed/total |\n",
      "+--------+----------+--------------+\n",
      "| L1Calo | 99.9934  | 60385/60389  |\n",
      "| L2Calo | 98.0559  | 59215/60389  |\n",
      "|   L2   | 97.9649  | 59160/60389  |\n",
      "| EFCalo | 96.7809  | 58445/60389  |\n",
      "|  HLT   | 94.9395  | 57333/60389  |\n",
      "+--------+----------+--------------+\n"
     ]
    },
    {
     "name": "stderr",
     "output_type": "stream",
     "text": [
      "\n"
     ]
    }
   ],
   "source": [
    "eff_data18_Zee.fill( data18_df.loc[data18_df['target']==1], 'HLT_e17_lhvloose_nod0_ringer_v12_L1EM15VHI', pidname='el_lhvloose', reset=True)\n",
    "eff_data18_Zee.fill( data18_df.loc[data18_df['target']==1], 'HLT_e28_lhtight_nod0_ringer_v12_ivarloose' , pidname='el_lhtight' , reset=True)\n",
    "eff_data18_Zee.fill( data18_df.loc[data18_df['target']==1], 'HLT_e60_lhmedium_nod0_ringer_v12_L1EM24VHI', pidname='el_lhmedium', reset=True)\n",
    "eff_data18_Zee.fill( data18_df.loc[data18_df['target']==1], 'HLT_e140_lhloose_nod0_ringer_v12'          , pidname='el_lhloose' , reset=True)"
   ]
  },
  {
   "cell_type": "code",
   "execution_count": 28,
   "id": "3a6253a7-ff35-4f22-b6c0-c785d1b89cdc",
   "metadata": {},
   "outputs": [],
   "source": [
    "eff_data18_Zee.save()"
   ]
  },
  {
   "cell_type": "code",
   "execution_count": 29,
   "id": "d1d7113b-b5eb-4d4d-81ac-cb5e96bdd6e8",
   "metadata": {},
   "outputs": [
    {
     "name": "stdout",
     "output_type": "stream",
     "text": [
      "2022-03-22 18:30:48,176 | Py.Efficiency                           INFO Creating the StoreGate service with path: output/emulation/data18_JF17_efficiency_v12.root\n"
     ]
    }
   ],
   "source": [
    "eff_data18_JF17 = Efficiency( output_path+'/data18_JF17_efficiency_v12.root')"
   ]
  },
  {
   "cell_type": "code",
   "execution_count": 30,
   "id": "bdab5167-02db-4413-8681-d1f74a06f8f2",
   "metadata": {},
   "outputs": [
    {
     "name": "stderr",
     "output_type": "stream",
     "text": [
      "Filling...: 100%|██████████| 5/5 [00:17<00:00,  3.55s/it]\n"
     ]
    },
    {
     "name": "stdout",
     "output_type": "stream",
     "text": [
      "HLT_e17_lhvloose_nod0_ringer_v12_L1EM15VHI\n",
      "+--------+----------+-----------------+\n",
      "|  Step  | Eff [%%] |   passed/total  |\n",
      "+--------+----------+-----------------+\n",
      "| L1Calo | 85.5183  | 7240922/8467098 |\n",
      "| L2Calo |  2.6081  |  220827/8467098 |\n",
      "|   L2   |  2.5369  |  214800/8467098 |\n",
      "| EFCalo |  2.3475  |  198764/8467098 |\n",
      "|  HLT   |  0.6824  |  57779/8467098  |\n",
      "+--------+----------+-----------------+\n"
     ]
    },
    {
     "name": "stderr",
     "output_type": "stream",
     "text": [
      "Filling...: 100%|██████████| 5/5 [00:15<00:00,  3.19s/it]\n"
     ]
    },
    {
     "name": "stdout",
     "output_type": "stream",
     "text": [
      "HLT_e28_lhtight_nod0_ringer_v12_ivarloose\n",
      "+--------+----------+-----------------+\n",
      "|  Step  | Eff [%%] |   passed/total  |\n",
      "+--------+----------+-----------------+\n",
      "| L1Calo | 91.4008  | 6972786/7628804 |\n",
      "| L2Calo |  1.1768  |  89777/7628804  |\n",
      "|   L2   |  1.1295  |  86170/7628804  |\n",
      "| EFCalo |  0.9912  |  75618/7628804  |\n",
      "|  HLT   |  0.0462  |   3527/7628804  |\n",
      "+--------+----------+-----------------+\n"
     ]
    },
    {
     "name": "stderr",
     "output_type": "stream",
     "text": [
      "Filling...: 100%|██████████| 5/5 [00:13<00:00,  2.73s/it]\n"
     ]
    },
    {
     "name": "stdout",
     "output_type": "stream",
     "text": [
      "HLT_e60_lhmedium_nod0_ringer_v12_L1EM24VHI\n",
      "+--------+----------+-----------------+\n",
      "|  Step  | Eff [%%] |   passed/total  |\n",
      "+--------+----------+-----------------+\n",
      "| L1Calo | 99.8995  | 6555389/6561985 |\n",
      "| L2Calo |  1.1612  |  76195/6561985  |\n",
      "|   L2   |  1.1063  |  72595/6561985  |\n",
      "| EFCalo |  0.9417  |  61794/6561985  |\n",
      "|  HLT   |  0.0568  |   3729/6561985  |\n",
      "+--------+----------+-----------------+\n"
     ]
    },
    {
     "name": "stderr",
     "output_type": "stream",
     "text": [
      "Filling...: 100%|██████████| 5/5 [00:10<00:00,  2.06s/it]"
     ]
    },
    {
     "name": "stdout",
     "output_type": "stream",
     "text": [
      "HLT_e140_lhloose_nod0_ringer_v12\n",
      "+--------+----------+-----------------+\n",
      "|  Step  | Eff [%%] |   passed/total  |\n",
      "+--------+----------+-----------------+\n",
      "| L1Calo | 99.9159  | 4772502/4776518 |\n",
      "| L2Calo |  2.4843  |  118662/4776518 |\n",
      "|   L2   |  2.3928  |  114293/4776518 |\n",
      "| EFCalo |  2.1357  |  102011/4776518 |\n",
      "|  HLT   |  0.3559  |  16998/4776518  |\n",
      "+--------+----------+-----------------+\n"
     ]
    },
    {
     "name": "stderr",
     "output_type": "stream",
     "text": [
      "\n"
     ]
    }
   ],
   "source": [
    "eff_data18_JF17.fill( data18_df.loc[data18_df['target']==0], 'HLT_e17_lhvloose_nod0_ringer_v12_L1EM15VHI', reset=True)\n",
    "eff_data18_JF17.fill( data18_df.loc[data18_df['target']==0], 'HLT_e28_lhtight_nod0_ringer_v12_ivarloose' , reset=True)\n",
    "eff_data18_JF17.fill( data18_df.loc[data18_df['target']==0], 'HLT_e60_lhmedium_nod0_ringer_v12_L1EM24VHI', reset=True)\n",
    "eff_data18_JF17.fill( data18_df.loc[data18_df['target']==0], 'HLT_e140_lhloose_nod0_ringer_v12'          , reset=True)"
   ]
  },
  {
   "cell_type": "code",
   "execution_count": 31,
   "id": "8c000fe9-888f-4e27-a7b1-b85d044ca86b",
   "metadata": {},
   "outputs": [],
   "source": [
    "eff_data18_JF17.save()"
   ]
  },
  {
   "cell_type": "markdown",
   "id": "4d78c204-7dc3-46e6-8f7b-3f7b91038ac3",
   "metadata": {},
   "source": [
    "## Evaluate mc16 boosted:"
   ]
  },
  {
   "cell_type": "code",
   "execution_count": 32,
   "id": "c34ad106-4b52-4d7d-87de-57abc8607f55",
   "metadata": {},
   "outputs": [],
   "source": [
    "mc16_df = pd.concat( (load_hdf(dpath_mc16), load_hdf(tpath_mc16)), axis=1)"
   ]
  },
  {
   "cell_type": "code",
   "execution_count": 33,
   "id": "615827f1-abac-4c15-aa41-446b32f029d2",
   "metadata": {},
   "outputs": [
    {
     "name": "stderr",
     "output_type": "stream",
     "text": [
      "Emulate...: 100%|██████████| 4/4 [00:00<00:00, 37.29it/s]\n"
     ]
    }
   ],
   "source": [
    "emulate(mc16_df)"
   ]
  },
  {
   "cell_type": "code",
   "execution_count": 34,
   "id": "f8336194-2493-4f9e-9ae9-0eb9bbddb6cd",
   "metadata": {},
   "outputs": [
    {
     "name": "stdout",
     "output_type": "stream",
     "text": [
      "2022-03-22 18:32:01,873 | Py.Efficiency                           INFO Creating the StoreGate service with path: output/emulation/mc16_boosted_efficiency_v12.root\n"
     ]
    }
   ],
   "source": [
    "eff_mc16 = Efficiency( output_path+'/mc16_boosted_efficiency_v12.root')"
   ]
  },
  {
   "cell_type": "code",
   "execution_count": 35,
   "id": "0b878a35-1944-478e-820b-58aefbc6d9f4",
   "metadata": {},
   "outputs": [
    {
     "name": "stderr",
     "output_type": "stream",
     "text": [
      "Filling...: 100%|██████████| 5/5 [00:00<00:00, 15.99it/s]\n"
     ]
    },
    {
     "name": "stdout",
     "output_type": "stream",
     "text": [
      "HLT_e17_lhvloose_nod0_ringer_v12_L1EM15VHI\n",
      "+--------+----------+--------------+\n",
      "|  Step  | Eff [%%] | passed/total |\n",
      "+--------+----------+--------------+\n",
      "| L1Calo | 99.7303  | 78407/78619  |\n",
      "| L2Calo | 98.9316  | 77779/78619  |\n",
      "|   L2   | 98.9214  | 77771/78619  |\n",
      "| EFCalo | 77.6950  | 61083/78619  |\n",
      "|  HLT   | 76.6189  | 60237/78619  |\n",
      "+--------+----------+--------------+\n"
     ]
    },
    {
     "name": "stderr",
     "output_type": "stream",
     "text": [
      "Filling...: 100%|██████████| 5/5 [00:00<00:00, 17.27it/s]\n"
     ]
    },
    {
     "name": "stdout",
     "output_type": "stream",
     "text": [
      "HLT_e28_lhtight_nod0_ringer_v12_ivarloose\n",
      "+--------+----------+--------------+\n",
      "|  Step  | Eff [%%] | passed/total |\n",
      "+--------+----------+--------------+\n",
      "| L1Calo | 99.8427  | 72990/73105  |\n",
      "| L2Calo | 94.3506  | 68975/73105  |\n",
      "|   L2   | 94.3451  | 68971/73105  |\n",
      "| EFCalo | 75.1795  | 54960/73105  |\n",
      "|  HLT   | 72.4068  | 52933/73105  |\n",
      "+--------+----------+--------------+\n"
     ]
    },
    {
     "name": "stderr",
     "output_type": "stream",
     "text": [
      "Filling...: 100%|██████████| 5/5 [00:00<00:00, 16.97it/s]\n"
     ]
    },
    {
     "name": "stdout",
     "output_type": "stream",
     "text": [
      "HLT_e60_lhmedium_nod0_ringer_v12_L1EM24VHI\n",
      "+--------+----------+--------------+\n",
      "|  Step  | Eff [%%] | passed/total |\n",
      "+--------+----------+--------------+\n",
      "| L1Calo | 99.9635  | 73911/73938  |\n",
      "| L2Calo | 95.7478  | 70794/73938  |\n",
      "|   L2   | 95.7424  | 70790/73938  |\n",
      "| EFCalo | 75.6228  | 55914/73938  |\n",
      "|  HLT   | 73.8362  | 54593/73938  |\n",
      "+--------+----------+--------------+\n"
     ]
    },
    {
     "name": "stderr",
     "output_type": "stream",
     "text": [
      "Filling...: 100%|██████████| 5/5 [00:00<00:00, 18.04it/s]"
     ]
    },
    {
     "name": "stdout",
     "output_type": "stream",
     "text": [
      "HLT_e140_lhloose_nod0_ringer_v12\n",
      "+--------+----------+--------------+\n",
      "|  Step  | Eff [%%] | passed/total |\n",
      "+--------+----------+--------------+\n",
      "| L1Calo | 99.9882  | 67947/67955  |\n",
      "| L2Calo | 98.9140  | 67217/67955  |\n",
      "|   L2   | 98.9096  | 67214/67955  |\n",
      "| EFCalo | 77.0642  | 52369/67955  |\n",
      "|  HLT   | 75.6089  | 51380/67955  |\n",
      "+--------+----------+--------------+\n"
     ]
    },
    {
     "name": "stderr",
     "output_type": "stream",
     "text": [
      "\n"
     ]
    }
   ],
   "source": [
    "eff_mc16.fill( mc16_df.loc[mc16_df['target']==1], 'HLT_e17_lhvloose_nod0_ringer_v12_L1EM15VHI', pidname='el_lhvloose', reset=True)\n",
    "eff_mc16.fill( mc16_df.loc[mc16_df['target']==1], 'HLT_e28_lhtight_nod0_ringer_v12_ivarloose' , pidname='el_lhtight' , reset=True)\n",
    "eff_mc16.fill( mc16_df.loc[mc16_df['target']==1], 'HLT_e60_lhmedium_nod0_ringer_v12_L1EM24VHI', pidname='el_lhmedium', reset=True)\n",
    "eff_mc16.fill( mc16_df.loc[mc16_df['target']==1], 'HLT_e140_lhloose_nod0_ringer_v12'          , pidname='el_lhloose' , reset=True)"
   ]
  },
  {
   "cell_type": "code",
   "execution_count": 36,
   "id": "5b6b2657-0154-49a5-9143-e5bbb0779fd7",
   "metadata": {},
   "outputs": [],
   "source": [
    "eff_mc16.save()"
   ]
  },
  {
   "cell_type": "code",
   "execution_count": null,
   "id": "14ab1405-b9cd-4c87-89cc-61b0ba1f8e46",
   "metadata": {},
   "outputs": [],
   "source": []
  },
  {
   "cell_type": "code",
   "execution_count": null,
   "id": "60019dd9-4a91-4dad-8454-35e1bda078bf",
   "metadata": {},
   "outputs": [],
   "source": []
  },
  {
   "cell_type": "code",
   "execution_count": null,
   "id": "063a69e8-2020-465c-b630-68dc4bd85d81",
   "metadata": {},
   "outputs": [],
   "source": []
  },
  {
   "cell_type": "markdown",
   "id": "0d4e7f83-c907-4dbd-adc0-0636bbd1bc30",
   "metadata": {},
   "source": [
    "## "
   ]
  },
  {
   "cell_type": "code",
   "execution_count": null,
   "id": "dd6fd5a7-ace4-44b7-bfa7-953d1082be0c",
   "metadata": {},
   "outputs": [],
   "source": []
  },
  {
   "cell_type": "code",
   "execution_count": null,
   "id": "ac3c7c1f-7ab2-4407-a570-9b98cdb8034c",
   "metadata": {},
   "outputs": [],
   "source": []
  }
 ],
 "metadata": {
  "kernelspec": {
   "display_name": "Python 3",
   "language": "python",
   "name": "python3"
  },
  "language_info": {
   "codemirror_mode": {
    "name": "ipython",
    "version": 3
   },
   "file_extension": ".py",
   "mimetype": "text/x-python",
   "name": "python",
   "nbconvert_exporter": "python",
   "pygments_lexer": "ipython3",
   "version": "3.6.9"
  }
 },
 "nbformat": 4,
 "nbformat_minor": 5
}
