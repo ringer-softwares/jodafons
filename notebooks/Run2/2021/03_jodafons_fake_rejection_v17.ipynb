{
 "cells": [
  {
   "cell_type": "markdown",
   "metadata": {},
   "source": [
    "# Fake Rejection:\n",
    "\n",
    "Check efficiency plots w.r.t the reference (noringer)"
   ]
  },
  {
   "cell_type": "code",
   "execution_count": 2,
   "metadata": {},
   "outputs": [
    {
     "name": "stdout",
     "output_type": "stream",
     "text": [
      "The autoreload extension is already loaded. To reload it, use:\n",
      "  %reload_ext autoreload\n"
     ]
    }
   ],
   "source": [
    "from kepler.pandas.menu       import ElectronSequence as Chain\n",
    "from kepler.pandas.readers    import load, load_in_loop, load_hdf\n",
    "from core import Efficiency, restore_efficiencies\n",
    "from Gaugi import mkdir_p, progressbar\n",
    "from prettytable import PrettyTable\n",
    "from tqdm import tqdm\n",
    "\n",
    "import numpy as np\n",
    "import pandas as pd\n",
    "import collections\n",
    "import os\n",
    "import array\n",
    "import root_numpy\n",
    "import rootplotlib as rpl\n",
    "from pprint import pprint\n",
    "from copy import deepcopy\n",
    "import gc\n",
    "from ROOT import kBlack,kBlue,kRed,kAzure,kGreen,kMagenta,kCyan,kOrange,kGray,kYellow,kWhite,TColor,gStyle,TCanvas\n",
    "import ROOT\n",
    "%config InlineBackend.figure_format = 'retina'\n",
    "%load_ext autoreload\n",
    "%autoreload 2\n",
    "GeV = 1000.\n"
   ]
  },
  {
   "cell_type": "markdown",
   "metadata": {},
   "source": [
    "## 1) Read all files:"
   ]
  },
  {
   "cell_type": "code",
   "execution_count": 3,
   "metadata": {},
   "outputs": [],
   "source": [
    "output_path = 'output/efficiencies'\n",
    "mkdir_p(output_path)"
   ]
  },
  {
   "cell_type": "code",
   "execution_count": 8,
   "metadata": {},
   "outputs": [
    {
     "name": "stdout",
     "output_type": "stream",
     "text": [
      "OrderedDict([('L1Seed', 'L1_EM15VHI'),\n",
      "             ('L2Calo', (14000.0, 'trig_L2_cl_vloose_et12to22')),\n",
      "             ('L2', 'trig_L2_el_cut_pt15to20'),\n",
      "             ('EFCalo', 17000.0),\n",
      "             ('HLT', (17000.0, 'trig_EF_el_lhvloose'))])\n",
      "OrderedDict([('L1Seed', 'L1_EM22VHI'),\n",
      "             ('L2Calo', (25000.0, 'trig_L2_cl_tight_et22toInf')),\n",
      "             ('L2', 'trig_L2_el_cut_pt20to50'),\n",
      "             ('EFCalo', 28000.0),\n",
      "             ('HLT', (28000.0, 'trig_EF_el_lhtight_ivarloose'))])\n",
      "OrderedDict([('L1Seed', 'L1_EM24VHI'),\n",
      "             ('L2Calo', (57000.0, 'trig_L2_cl_medium_et22toInf')),\n",
      "             ('L2', 'trig_L2_el_cut_pt50toInf'),\n",
      "             ('EFCalo', 60000.0),\n",
      "             ('HLT', (60000.0, 'trig_EF_el_lhmedium'))])\n",
      "OrderedDict([('L1Seed', 'L1_EM24VHI'),\n",
      "             ('L2Calo', (137000.0, 'trig_L2_cl_loose_et22toInf')),\n",
      "             ('L2', 'trig_L2_el_cut_pt50toInf'),\n",
      "             ('EFCalo', 140000.0),\n",
      "             ('HLT', (140000.0, 'trig_EF_el_lhloose'))])\n",
      "OrderedDict([('L1Seed', 'L1_EM15VHI'),\n",
      "             ('L2Calo', (14000.0, 'ringer_v12_vloose')),\n",
      "             ('L2', 'ringer_v2_el_loose'),\n",
      "             ('EFCalo', 17000.0),\n",
      "             ('HLT', (17000.0, 'trig_EF_el_lhvloose'))])\n",
      "OrderedDict([('L1Seed', 'L1_EM22VHI'),\n",
      "             ('L2Calo', (25000.0, 'ringer_v12_tight')),\n",
      "             ('L2', 'ringer_v2_el_loose'),\n",
      "             ('EFCalo', 28000.0),\n",
      "             ('HLT', (28000.0, 'trig_EF_el_lhtight_ivarloose'))])\n",
      "OrderedDict([('L1Seed', 'L1_EM24VHI'),\n",
      "             ('L2Calo', (57000.0, 'ringer_v12_medium')),\n",
      "             ('L2', 'ringer_v2_el_loose'),\n",
      "             ('EFCalo', 60000.0),\n",
      "             ('HLT', (60000.0, 'trig_EF_el_lhmedium'))])\n",
      "OrderedDict([('L1Seed', 'L1_EM24VHI'),\n",
      "             ('L2Calo', (137000.0, 'ringer_v12_loose')),\n",
      "             ('L2', 'ringer_v2_el_loose'),\n",
      "             ('EFCalo', 140000.0),\n",
      "             ('HLT', (140000.0, 'trig_EF_el_lhloose'))])\n",
      "OrderedDict([('L1Seed', 'L1_EM15VHI'),\n",
      "             ('L2Calo', (14000.0, 'ringer_v8_vloose')),\n",
      "             ('L2', 'trig_L2_el_cut_pt15to20'),\n",
      "             ('EFCalo', 17000.0),\n",
      "             ('HLT', (17000.0, 'trig_EF_el_lhvloose'))])\n",
      "OrderedDict([('L1Seed', 'L1_EM22VHI'),\n",
      "             ('L2Calo', (25000.0, 'ringer_v8_tight')),\n",
      "             ('L2', 'trig_L2_el_cut_pt20to50'),\n",
      "             ('EFCalo', 28000.0),\n",
      "             ('HLT', (28000.0, 'trig_EF_el_lhtight_ivarloose'))])\n",
      "OrderedDict([('L1Seed', 'L1_EM24VHI'),\n",
      "             ('L2Calo', (57000.0, 'ringer_v8_medium')),\n",
      "             ('L2', 'trig_L2_el_cut_pt50toInf'),\n",
      "             ('EFCalo', 60000.0),\n",
      "             ('HLT', (60000.0, 'trig_EF_el_lhmedium'))])\n",
      "OrderedDict([('L1Seed', 'L1_EM24VHI'),\n",
      "             ('L2Calo', (137000.0, 'ringer_v8_loose')),\n",
      "             ('L2', 'trig_L2_el_cut_pt50toInf'),\n",
      "             ('EFCalo', 140000.0),\n",
      "             ('HLT', (140000.0, 'trig_EF_el_lhloose'))])\n",
      "OrderedDict([('L1Seed', 'L1_EM15VHI'),\n",
      "             ('L2Calo', (14000.0, 'ringer_v12_vloose')),\n",
      "             ('L2', 'trig_L2_el_cut_pt15to20'),\n",
      "             ('EFCalo', 17000.0),\n",
      "             ('HLT', (17000.0, 'trig_EF_el_lhvloose'))])\n",
      "OrderedDict([('L1Seed', 'L1_EM22VHI'),\n",
      "             ('L2Calo', (25000.0, 'ringer_v12_tight')),\n",
      "             ('L2', 'trig_L2_el_cut_pt20to50'),\n",
      "             ('EFCalo', 28000.0),\n",
      "             ('HLT', (28000.0, 'trig_EF_el_lhtight_ivarloose'))])\n",
      "OrderedDict([('L1Seed', 'L1_EM24VHI'),\n",
      "             ('L2Calo', (57000.0, 'ringer_v12_medium')),\n",
      "             ('L2', 'trig_L2_el_cut_pt50toInf'),\n",
      "             ('EFCalo', 60000.0),\n",
      "             ('HLT', (60000.0, 'trig_EF_el_lhmedium'))])\n",
      "OrderedDict([('L1Seed', 'L1_EM24VHI'),\n",
      "             ('L2Calo', (137000.0, 'ringer_v12_loose')),\n",
      "             ('L2', 'trig_L2_el_cut_pt50toInf'),\n",
      "             ('EFCalo', 140000.0),\n",
      "             ('HLT', (140000.0, 'trig_EF_el_lhloose'))])\n"
     ]
    }
   ],
   "source": [
    "# create my chain\n",
    "chains = [\n",
    "    Chain( \"HLT_e17_lhvloose_nod0_noringer_L1EM15VHI\", L1Seed = 'L1_EM15VHI' ),\n",
    "    Chain( \"HLT_e28_lhtight_nod0_noringer_ivarloose\", L1Seed = 'L1_EM22VHI' ),\n",
    "    Chain( \"HLT_e60_lhmedium_nod0_noringer_L1EM24VHI\", L1Seed = 'L1_EM24VHI' ),\n",
    "    Chain( \"HLT_e140_lhloose_nod0_noringer\" , L1Seed = 'L1_EM24VHI' ),\n",
    "    \n",
    "    Chain( \"HLT_e17_lhvloose_nod0_ringer_v17_L1EM15VHI\"    , L1Seed = 'L1_EM15VHI' , l2calo_column = 'ringer_v12_vloose',l2_column = 'ringer_v2_el_loose'),\n",
    "    Chain( \"HLT_e28_lhtight_nod0_ringer_v17_ivarloose\"     , L1Seed = 'L1_EM22VHI' , l2calo_column = 'ringer_v12_tight' ,l2_column = 'ringer_v2_el_loose'),\n",
    "    Chain( \"HLT_e60_lhmedium_nod0_ringer_v17_L1EM24VHI\"    , L1Seed = 'L1_EM24VHI' , l2calo_column = 'ringer_v12_medium',l2_column = 'ringer_v2_el_loose'),\n",
    "    Chain( \"HLT_e140_lhloose_nod0_ringer_v17\"              , L1Seed = 'L1_EM24VHI' , l2calo_column = 'ringer_v12_loose' ,l2_column = 'ringer_v2_el_loose'),\n",
    "]\n",
    "\n",
    "versions = ['v8', \n",
    "            #'v9', \n",
    "            #'v10', \n",
    "            #'v11',\n",
    "            'v12',\n",
    "            #'v13',\n",
    "            #'v14',\n",
    "            #'v15', \n",
    "            #'v16',\n",
    "           ]\n",
    "\n",
    "for v in versions:\n",
    "    \n",
    "    chains.extend( [\n",
    "\n",
    "            Chain( \"HLT_e17_lhvloose_nod0_ringer_%s_L1EM15VHI\"%v, L1Seed = 'L1_EM15VHI' , l2calo_column = 'ringer_%s_vloose'%v),\n",
    "            Chain( \"HLT_e28_lhtight_nod0_ringer_%s_ivarloose\"%v, L1Seed = 'L1_EM22VHI' , l2calo_column = 'ringer_%s_tight'%v ),\n",
    "            Chain( \"HLT_e60_lhmedium_nod0_ringer_%s_L1EM24VHI\"%v, L1Seed = 'L1_EM24VHI' , l2calo_column = 'ringer_%s_medium'%v),\n",
    "            Chain( \"HLT_e140_lhloose_nod0_ringer_%s\"%v , L1Seed = 'L1_EM24VHI', l2calo_column = 'ringer_%s_loose'%v),\n",
    "\n",
    "    ])\n",
    "\n",
    "\n",
    "def emulate( df ):\n",
    "    for chain in progressbar(chains, prefix='Emulate...'):\n",
    "        chain.apply(df)"
   ]
  },
  {
   "cell_type": "markdown",
   "metadata": {},
   "source": [
    "# 2017:"
   ]
  },
  {
   "cell_type": "code",
   "execution_count": 9,
   "metadata": {},
   "outputs": [],
   "source": [
    "dpath   = '../data/output/data17_13TeV.AllPeriods.sgn.probes_lhvloose_EGAM1.bkg.vprobes_vlhvloose_EGAM7.GRL_v97.dataframe.h5'"
   ]
  },
  {
   "cell_type": "code",
   "execution_count": 10,
   "metadata": {},
   "outputs": [],
   "source": [
    "data_df = pd.concat( (load_hdf(dpath), \n",
    "                      load_hdf('v8/output/emulation/data17_table_v8.h5'),\n",
    "                      #load_hdf('v9/output/emulation/data17_table_v9.h5'),\n",
    "                      #load_hdf('v10/output/emulation/data17_table_v10.h5'),\n",
    "                      #load_hdf('v11/output/emulation/data17_table_v11.h5'),\n",
    "                      load_hdf('v12/output/emulation/data17_table_v12.h5'),\n",
    "                      #load_hdf('v13/output/emulation/data17_table_v13.h5'),\n",
    "                      #load_hdf('v14/output/emulation/data17_table_v14.h5'),\n",
    "                      #load_hdf('v15/output/emulation/data17_table_v15.h5'),\n",
    "                      #load_hdf('v16/output/emulation/data17_table_v16.h5'),\n",
    "                      load_hdf('v2_el/output/emulation/data17_table_v2_el.h5'),\n",
    "                     ), axis=1)"
   ]
  },
  {
   "cell_type": "code",
   "execution_count": 11,
   "metadata": {},
   "outputs": [
    {
     "name": "stderr",
     "output_type": "stream",
     "text": [
      "Emulate...: 100%|██████████| 16/16 [05:42<00:00, 21.42s/it]\n"
     ]
    }
   ],
   "source": [
    "emulate(data_df)"
   ]
  },
  {
   "cell_type": "code",
   "execution_count": 12,
   "metadata": {},
   "outputs": [
    {
     "data": {
      "text/plain": [
       "(43311283, 182)"
      ]
     },
     "execution_count": 12,
     "metadata": {},
     "output_type": "execute_result"
    }
   ],
   "source": [
    "data_df.shape"
   ]
  },
  {
   "cell_type": "code",
   "execution_count": 13,
   "metadata": {},
   "outputs": [
    {
     "data": {
      "text/plain": [
       "(39861985, 182)"
      ]
     },
     "execution_count": 13,
     "metadata": {},
     "output_type": "execute_result"
    }
   ],
   "source": [
    "data_df = data_df.loc[ ((data_df['el_lhmedium']==True) & \n",
    "                    (data_df.target==1.0)) | ((data_df.target==0) & \n",
    "                    (data_df['el_lhvloose']==False) ) ]\n",
    "\n",
    "data_df.shape"
   ]
  },
  {
   "cell_type": "code",
   "execution_count": 15,
   "metadata": {},
   "outputs": [
    {
     "name": "stdout",
     "output_type": "stream",
     "text": [
      "e17_lhvloose_nod0_X_L1EM15VHI\n"
     ]
    },
    {
     "name": "stderr",
     "output_type": "stream",
     "text": [
      "100%|██████████| 4/4 [03:14<00:00, 48.66s/it]\n"
     ]
    },
    {
     "name": "stdout",
     "output_type": "stream",
     "text": [
      "+------------+-------+-------------+-------------+-------+------------+------------+--------+-------+-------+--------+\n",
      "|  version   | L2CFA | L2CFA(<100) | L2CFA(>100) |  L2FA | L2FA(<100) | L2FA(>100) | HLT_FA | L2CPD |  L2PD | HLT_PD |\n",
      "+------------+-------+-------------+-------------+-------+------------+------------+--------+-------+-------+--------+\n",
      "|  noringer  | 35.83 |    13.46    |    43.98    | 35.77 |   13.44    |   43.90    |  0.29  | 94.48 | 94.34 | 92.17  |\n",
      "| ringer_v8  |  2.24 |     2.58    |     2.12    |  2.16 |    2.56    |    2.02    |  0.17  | 94.66 | 94.51 | 92.34  |\n",
      "| ringer_v12 |  2.14 |     2.55    |     1.98    |  2.07 |    2.53    |    1.90    |  0.16  | 94.65 | 94.51 | 92.34  |\n",
      "| ringer_v17 |  2.14 |     2.55    |     1.98    |  0.59 |    1.29    |    0.34    |  0.09  | 94.65 | 94.43 | 92.28  |\n",
      "+------------+-------+-------------+-------------+-------+------------+------------+--------+-------+-------+--------+\n",
      "e28_lhtight_nod0_X_ivarloose\n"
     ]
    },
    {
     "name": "stderr",
     "output_type": "stream",
     "text": [
      "100%|██████████| 4/4 [02:39<00:00, 39.91s/it]\n"
     ]
    },
    {
     "name": "stdout",
     "output_type": "stream",
     "text": [
      "+------------+-------+-------------+-------------+-------+------------+------------+--------+-------+-------+--------+\n",
      "|  version   | L2CFA | L2CFA(<100) | L2CFA(>100) |  L2FA | L2FA(<100) | L2FA(>100) | HLT_FA | L2CPD |  L2PD | HLT_PD |\n",
      "+------------+-------+-------------+-------------+-------+------------+------------+--------+-------+-------+--------+\n",
      "|  noringer  | 26.47 |     7.80    |    30.57    | 26.41 |    7.79    |   30.50    |  0.00  | 93.98 | 93.87 | 86.84  |\n",
      "| ringer_v8  |  0.84 |     1.08    |     0.78    |  0.79 |    1.07    |    0.73    |  0.00  | 94.22 | 94.11 | 87.01  |\n",
      "| ringer_v12 |  0.82 |     1.12    |     0.76    |  0.78 |    1.11    |    0.70    |  0.00  | 94.22 | 94.11 | 87.01  |\n",
      "| ringer_v17 |  0.82 |     1.12    |     0.76    |  0.35 |    0.72    |    0.27    |  0.00  | 94.22 | 94.08 | 87.00  |\n",
      "+------------+-------+-------------+-------------+-------+------------+------------+--------+-------+-------+--------+\n",
      "e60_lhmedium_nod0_X_L1EM24VHI\n"
     ]
    },
    {
     "name": "stderr",
     "output_type": "stream",
     "text": [
      "100%|██████████| 4/4 [01:03<00:00, 15.79s/it]\n"
     ]
    },
    {
     "name": "stdout",
     "output_type": "stream",
     "text": [
      "+------------+-------+-------------+-------------+-------+------------+------------+--------+-------+-------+--------+\n",
      "|  version   | L2CFA | L2CFA(<100) | L2CFA(>100) |  L2FA | L2FA(<100) | L2FA(>100) | HLT_FA | L2CPD |  L2PD | HLT_PD |\n",
      "+------------+-------+-------------+-------------+-------+------------+------------+--------+-------+-------+--------+\n",
      "|  noringer  | 34.45 |    17.60    |    35.03    | 34.37 |   17.59    |   34.95    |  0.01  | 97.31 | 97.22 | 91.87  |\n",
      "| ringer_v8  |  0.83 |     0.38    |     0.85    |  0.78 |    0.37    |    0.80    |  0.00  | 97.36 | 97.27 | 91.90  |\n",
      "| ringer_v12 |  0.81 |     0.44    |     0.83    |  0.76 |    0.44    |    0.77    |  0.00  | 97.35 | 97.26 | 91.90  |\n",
      "| ringer_v17 |  0.81 |     0.44    |     0.83    |  0.28 |    0.25    |    0.28    |  0.00  | 97.35 | 97.18 | 91.85  |\n",
      "+------------+-------+-------------+-------------+-------+------------+------------+--------+-------+-------+--------+\n",
      "e140_lhloose_nod0_X\n"
     ]
    },
    {
     "name": "stderr",
     "output_type": "stream",
     "text": [
      "100%|██████████| 4/4 [00:46<00:00, 11.74s/it]"
     ]
    },
    {
     "name": "stdout",
     "output_type": "stream",
     "text": [
      "+------------+-------+-------------+-------------+-------+------------+------------+--------+-------+-------+--------+\n",
      "|  version   | L2CFA | L2CFA(<100) | L2CFA(>100) |  L2FA | L2FA(<100) | L2FA(>100) | HLT_FA | L2CPD |  L2PD | HLT_PD |\n",
      "+------------+-------+-------------+-------------+-------+------------+------------+--------+-------+-------+--------+\n",
      "|  noringer  | 94.57 |     0.00    |    94.57    | 69.06 |    0.00    |   69.06    |  0.07  | 98.19 | 98.13 | 95.15  |\n",
      "| ringer_v8  |  2.06 |     0.00    |     2.06    |  1.96 |    0.00    |    1.96    |  0.05  | 98.16 | 98.09 | 95.14  |\n",
      "| ringer_v12 |  1.92 |     0.00    |     1.92    |  1.83 |    0.00    |    1.83    |  0.05  | 98.15 | 98.08 | 95.13  |\n",
      "| ringer_v17 |  1.92 |     0.00    |     1.92    |  0.36 |    0.00    |    0.36    |  0.02  | 98.15 | 97.61 | 94.78  |\n",
      "+------------+-------+-------------+-------------+-------+------------+------------+--------+-------+-------+--------+\n"
     ]
    },
    {
     "name": "stderr",
     "output_type": "stream",
     "text": [
      "\n"
     ]
    }
   ],
   "source": [
    "triggers = [ \n",
    "            'e17_lhvloose_nod0_%s_L1EM15VHI', \n",
    "            'e28_lhtight_nod0_%s_ivarloose',\n",
    "            'e60_lhmedium_nod0_%s_L1EM24VHI',\n",
    "            'e140_lhloose_nod0_%s'\n",
    "]\n",
    "pidnames = [\n",
    "            'el_lhvloose', \n",
    "            'el_lhtight', \n",
    "            'el_lhmedium',\n",
    "            'el_lhloose'\n",
    "]\n",
    "et_cuts  = [17, 28, 60, 140]\n",
    "versions = ['noringer',\n",
    "            'ringer_v8', \n",
    "            #'ringer_v9', \n",
    "            #'ringer_v10', \n",
    "            #'ringer_v11',\n",
    "            'ringer_v12',\n",
    "            #'ringer_v13',\n",
    "            #'ringer_v14',\n",
    "            #'ringer_v15', \n",
    "            #'ringer_v16',\n",
    "            'ringer_v17',\n",
    "           ]\n",
    "\n",
    "for idx, trigger in enumerate(triggers):\n",
    "    \n",
    "    t = PrettyTable( ['version',\n",
    "                      # FA\n",
    "                      'L2CFA',\n",
    "                      'L2CFA(<100)', \n",
    "                      'L2CFA(>100)',\n",
    "                      'L2FA',\n",
    "                      'L2FA(<100)',\n",
    "                      'L2FA(>100)',\n",
    "                      'HLT_FA', \n",
    "                      # PD\n",
    "                      'L2CPD',\n",
    "                      'L2PD' ,\n",
    "                      'HLT_PD'] )\n",
    "    \n",
    "    is_sgn = (data_df.target==1)&(data_df[pidnames[idx]]==True)&(data_df['el_et']>(et_cuts[idx]+1)*GeV)\n",
    "    is_bkg = (data_df.target==0)&(data_df['el_lhvloose']==False)&(data_df['el_et']>(et_cuts[idx]+1)*GeV)\n",
    "    \n",
    "    is_bkg_low = (data_df['el_et']<100*GeV)&is_bkg\n",
    "    is_bkg_high= (data_df['el_et']>=100*GeV)&is_bkg\n",
    "    is_sgn_low = (data_df['el_et']<100*GeV)&is_sgn\n",
    "    is_sgn_high= (data_df['el_et']>=100*GeV)&is_sgn\n",
    "    \n",
    "    total_sgn  = len(data_df.loc[is_sgn])\n",
    "    total_bkg  = len(data_df.loc[is_bkg])\n",
    "\n",
    "\n",
    "    print(trigger%'X')\n",
    "    for version in tqdm( versions ):\n",
    "        \n",
    "            values = [version]\n",
    "            \n",
    "            #\n",
    "            # FA\n",
    "            #\n",
    "            \n",
    "            # L2Calo FA\n",
    "            passed = len(data_df.loc[is_bkg&(data_df['L2Calo_'+trigger%version]==True)])\n",
    "            total  = len(data_df.loc[is_bkg])\n",
    "            fa = passed/total * 100           \n",
    "            values.append( '%1.2f'%(fa) )\n",
    "            \n",
    "            # L2Calo FA < 100\n",
    "            total  = len(data_df.loc[is_bkg_low])\n",
    "            if total > 0:\n",
    "                passed = len(data_df.loc[is_bkg_low&(data_df['L2Calo_'+trigger%version]==True)])\n",
    "                fa = passed/total * 100           \n",
    "                values.append( '%1.2f'%(fa) )\n",
    "            else:\n",
    "                values.append( '%1.2f'%(0) )\n",
    "               \n",
    "            # L2Calo FA > 100\n",
    "            passed = len(data_df.loc[is_bkg_high&(data_df['L2Calo_'+trigger%version]==True)])\n",
    "            total  = len(data_df.loc[is_bkg_high])\n",
    "            fa = passed/total * 100           \n",
    "            values.append( '%1.2f'%(fa) )\n",
    "\n",
    "            # L2 FA\n",
    "            passed = len(data_df.loc[is_bkg&(data_df['L2_'+trigger%version]==True)])\n",
    "            total  = len(data_df.loc[is_bkg])\n",
    "            fa = passed/total * 100           \n",
    "            values.append( '%1.2f'%(fa) )\n",
    "            \n",
    "            # L2 FA < 100\n",
    "            total  = len(data_df.loc[is_bkg_low])\n",
    "            if total > 0:\n",
    "                passed = len(data_df.loc[is_bkg_low&(data_df['L2_'+trigger%version]==True)])\n",
    "                fa = passed/total * 100           \n",
    "                values.append( '%1.2f'%(fa) )\n",
    "            else:\n",
    "                values.append( '%1.2f'%(0) )\n",
    "               \n",
    "            # L2 FA > 100\n",
    "            passed = len(data_df.loc[is_bkg_high&(data_df['L2_'+trigger%version]==True)])\n",
    "            total  = len(data_df.loc[is_bkg_high])\n",
    "            fa = passed/total * 100           \n",
    "            values.append( '%1.2f'%(fa) )\n",
    "\n",
    "            # HLT FA\n",
    "            passed = len(data_df.loc[is_bkg&(data_df['HLT_'+trigger%version]==True)])\n",
    "            fa = passed/total_bkg * 100           \n",
    "            values.append( '%1.2f'%(fa) )\n",
    "            \n",
    "            \n",
    "            #\n",
    "            # PD\n",
    "            #\n",
    "            \n",
    "            # L2Calo PD\n",
    "            passed = len(data_df.loc[ is_sgn & (data_df['L2Calo_'+trigger%version]==True)])\n",
    "            det = passed/total_sgn * 100\n",
    "            values.append( '%1.2f'%(det) )\n",
    "            \n",
    "            \n",
    "            # L2 PD\n",
    "            passed = len(data_df.loc[ is_sgn & (data_df['L2_'+trigger%version]==True)])\n",
    "            det = passed/total_sgn * 100\n",
    "            values.append( '%1.2f'%(det) )\n",
    "            \n",
    "            \n",
    "            # HLT PD\n",
    "            passed = len(data_df.loc[ is_sgn & (data_df['HLT_'+trigger%version]==True)])\n",
    "            det = passed/total_sgn * 100\n",
    "            values.append( '%1.2f'%(det) )\n",
    "            \n",
    "            t.add_row(values)\n",
    "    print(t)\n",
    "\n",
    "            \n",
    "            \n",
    "            \n"
   ]
  },
  {
   "cell_type": "markdown",
   "metadata": {},
   "source": [
    "# 2018:"
   ]
  },
  {
   "cell_type": "code",
   "execution_count": 17,
   "metadata": {},
   "outputs": [],
   "source": [
    "dpath   = '../data/output/data18_13TeV.AllPeriods.sgn.probes_lhvloose_EGAM1.bkg.vprobes_vlhvloose_EGAM7.GRL_v97.dataframe.h5'"
   ]
  },
  {
   "cell_type": "code",
   "execution_count": 18,
   "metadata": {},
   "outputs": [],
   "source": [
    "data_df = pd.concat( (load_hdf(dpath), \n",
    "                      load_hdf('v8/output/emulation/data18_table_v8.h5'),\n",
    "                      #load_hdf('v9/output/emulation/data18_table_v9.h5'),\n",
    "                      #load_hdf('v10/output/emulation/data18_table_v10.h5'),\n",
    "                      #load_hdf('v11/output/emulation/data18_table_v11.h5'),\n",
    "                      load_hdf('v12/output/emulation/data18_table_v12.h5'),\n",
    "                      #load_hdf('v13/output/emulation/data18_table_v13.h5'),\n",
    "                      #load_hdf('v14/output/emulation/data18_table_v14.h5'),\n",
    "                      #load_hdf('v15/output/emulation/data18_table_v15.h5'),\n",
    "                      #load_hdf('v16/output/emulation/data18_table_v16.h5'),\n",
    "                      load_hdf('v2_el/output/emulation/data18_table_v2_el.h5'),\n",
    "                     ), axis=1)"
   ]
  },
  {
   "cell_type": "code",
   "execution_count": 19,
   "metadata": {},
   "outputs": [
    {
     "data": {
      "text/plain": [
       "(38543015, 102)"
      ]
     },
     "execution_count": 19,
     "metadata": {},
     "output_type": "execute_result"
    }
   ],
   "source": [
    "data_df = data_df.loc[ ((data_df['el_lhmedium']==True) & \n",
    "                    (data_df.target==1.0)) | ((data_df.target==0) & \n",
    "                    (data_df['el_lhvloose']==False) ) ]\n",
    "\n",
    "data_df.shape"
   ]
  },
  {
   "cell_type": "code",
   "execution_count": 20,
   "metadata": {},
   "outputs": [
    {
     "name": "stderr",
     "output_type": "stream",
     "text": [
      "Emulate...: 100%|██████████| 16/16 [05:01<00:00, 18.83s/it]\n"
     ]
    }
   ],
   "source": [
    "emulate(data_df)"
   ]
  },
  {
   "cell_type": "code",
   "execution_count": 21,
   "metadata": {},
   "outputs": [
    {
     "name": "stdout",
     "output_type": "stream",
     "text": [
      "e17_lhvloose_nod0_X_L1EM15VHI\n"
     ]
    },
    {
     "name": "stderr",
     "output_type": "stream",
     "text": [
      "100%|██████████| 4/4 [03:13<00:00, 48.43s/it]\n"
     ]
    },
    {
     "name": "stdout",
     "output_type": "stream",
     "text": [
      "+------------+-------+-------------+-------------+-------+------------+------------+--------+-------+-------+--------+\n",
      "|  version   | L2CFA | L2CFA(<100) | L2CFA(>100) |  L2FA | L2FA(<100) | L2FA(>100) | HLT_FA | L2CPD |  L2PD | HLT_PD |\n",
      "+------------+-------+-------------+-------------+-------+------------+------------+--------+-------+-------+--------+\n",
      "|  noringer  | 36.80 |    13.77    |    44.41    | 36.74 |   13.76    |   44.34    |  1.02  | 94.45 | 94.32 | 92.34  |\n",
      "| ringer_v8  |  2.71 |     3.03    |     2.61    |  2.63 |    3.01    |    2.50    |  0.69  | 94.64 | 94.50 | 92.52  |\n",
      "| ringer_v12 |  2.61 |     3.02    |     2.47    |  2.54 |    3.00    |    2.38    |  0.68  | 94.63 | 94.50 | 92.52  |\n",
      "| ringer_v17 |  2.61 |     3.02    |     2.47    |  0.95 |    1.73    |    0.70    |  0.46  | 94.63 | 94.42 | 92.47  |\n",
      "+------------+-------+-------------+-------------+-------+------------+------------+--------+-------+-------+--------+\n",
      "e28_lhtight_nod0_X_ivarloose\n"
     ]
    },
    {
     "name": "stderr",
     "output_type": "stream",
     "text": [
      "100%|██████████| 4/4 [02:30<00:00, 37.66s/it]\n"
     ]
    },
    {
     "name": "stdout",
     "output_type": "stream",
     "text": [
      "+------------+-------+-------------+-------------+-------+------------+------------+--------+-------+-------+--------+\n",
      "|  version   | L2CFA | L2CFA(<100) | L2CFA(>100) |  L2FA | L2FA(<100) | L2FA(>100) | HLT_FA | L2CPD |  L2PD | HLT_PD |\n",
      "+------------+-------+-------------+-------------+-------+------------+------------+--------+-------+-------+--------+\n",
      "|  noringer  | 27.30 |     8.31    |    31.07    | 27.24 |    8.30    |   31.00    |  0.06  | 93.93 | 93.84 | 87.38  |\n",
      "| ringer_v8  |  1.20 |     1.54    |     1.13    |  1.15 |    1.53    |    1.08    |  0.05  | 94.19 | 94.09 | 87.58  |\n",
      "| ringer_v12 |  1.18 |     1.58    |     1.10    |  1.13 |    1.57    |    1.04    |  0.05  | 94.20 | 94.10 | 87.60  |\n",
      "| ringer_v17 |  1.18 |     1.58    |     1.10    |  0.68 |    1.17    |    0.59    |  0.04  | 94.20 | 94.07 | 87.58  |\n",
      "+------------+-------+-------------+-------------+-------+------------+------------+--------+-------+-------+--------+\n",
      "e60_lhmedium_nod0_X_L1EM24VHI\n"
     ]
    },
    {
     "name": "stderr",
     "output_type": "stream",
     "text": [
      "100%|██████████| 4/4 [00:54<00:00, 13.65s/it]\n"
     ]
    },
    {
     "name": "stdout",
     "output_type": "stream",
     "text": [
      "+------------+-------+-------------+-------------+-------+------------+------------+--------+-------+-------+--------+\n",
      "|  version   | L2CFA | L2CFA(<100) | L2CFA(>100) |  L2FA | L2FA(<100) | L2FA(>100) | HLT_FA | L2CPD |  L2PD | HLT_PD |\n",
      "+------------+-------+-------------+-------------+-------+------------+------------+--------+-------+-------+--------+\n",
      "|  noringer  | 34.98 |    17.88    |    35.51    | 34.91 |   17.88    |   35.43    |  0.08  | 97.31 | 97.22 | 92.14  |\n",
      "| ringer_v8  |  1.19 |     0.58    |     1.21    |  1.14 |    0.57    |    1.16    |  0.06  | 97.35 | 97.26 | 92.19  |\n",
      "| ringer_v12 |  1.16 |     0.63    |     1.18    |  1.11 |    0.63    |    1.12    |  0.06  | 97.37 | 97.28 | 92.21  |\n",
      "| ringer_v17 |  1.16 |     0.63    |     1.18    |  0.60 |    0.46    |    0.60    |  0.05  | 97.37 | 97.20 | 92.16  |\n",
      "+------------+-------+-------------+-------------+-------+------------+------------+--------+-------+-------+--------+\n",
      "e140_lhloose_nod0_X\n"
     ]
    },
    {
     "name": "stderr",
     "output_type": "stream",
     "text": [
      "100%|██████████| 4/4 [00:40<00:00, 10.14s/it]"
     ]
    },
    {
     "name": "stdout",
     "output_type": "stream",
     "text": [
      "+------------+-------+-------------+-------------+-------+------------+------------+--------+-------+-------+--------+\n",
      "|  version   | L2CFA | L2CFA(<100) | L2CFA(>100) |  L2FA | L2FA(<100) | L2FA(>100) | HLT_FA | L2CPD |  L2PD | HLT_PD |\n",
      "+------------+-------+-------------+-------------+-------+------------+------------+--------+-------+-------+--------+\n",
      "|  noringer  | 94.64 |     0.00    |    94.64    | 64.74 |    0.00    |   64.74    |  0.43  | 98.20 | 98.13 | 95.45  |\n",
      "| ringer_v8  |  2.62 |     0.00    |     2.62    |  2.52 |    0.00    |    2.52    |  0.36  | 98.23 | 98.16 | 95.49  |\n",
      "| ringer_v12 |  2.48 |     0.00    |     2.48    |  2.39 |    0.00    |    2.39    |  0.36  | 98.21 | 98.14 | 95.47  |\n",
      "| ringer_v17 |  2.48 |     0.00    |     2.48    |  0.77 |    0.00    |    0.77    |  0.28  | 98.21 | 97.72 | 95.17  |\n",
      "+------------+-------+-------------+-------------+-------+------------+------------+--------+-------+-------+--------+\n"
     ]
    },
    {
     "name": "stderr",
     "output_type": "stream",
     "text": [
      "\n"
     ]
    }
   ],
   "source": [
    "triggers = [ \n",
    "            'e17_lhvloose_nod0_%s_L1EM15VHI', \n",
    "            'e28_lhtight_nod0_%s_ivarloose',\n",
    "            'e60_lhmedium_nod0_%s_L1EM24VHI',\n",
    "            'e140_lhloose_nod0_%s'\n",
    "]\n",
    "pidnames = [\n",
    "            'el_lhvloose', \n",
    "            'el_lhtight', \n",
    "            'el_lhmedium',\n",
    "            'el_lhloose'\n",
    "]\n",
    "et_cuts  = [17, 28, 60, 140]\n",
    "versions = ['noringer',\n",
    "            'ringer_v8', \n",
    "            #'ringer_v9', \n",
    "            #'ringer_v10', \n",
    "            #'ringer_v11',\n",
    "            'ringer_v12',\n",
    "            #'ringer_v13',\n",
    "            #'ringer_v14',\n",
    "            #'ringer_v15', \n",
    "            #'ringer_v16',\n",
    "            'ringer_v17']\n",
    "\n",
    "for idx, trigger in enumerate(triggers):\n",
    "    \n",
    "    t = PrettyTable( ['version',\n",
    "                      # FA\n",
    "                      'L2CFA',\n",
    "                      'L2CFA(<100)', \n",
    "                      'L2CFA(>100)',\n",
    "                      'L2FA',\n",
    "                      'L2FA(<100)',\n",
    "                      'L2FA(>100)',\n",
    "                      'HLT_FA', \n",
    "                      # PD\n",
    "                      'L2CPD',\n",
    "                      'L2PD' ,\n",
    "                      'HLT_PD'] )\n",
    "    \n",
    "    is_sgn = (data_df.target==1)&(data_df[pidnames[idx]]==True)&(data_df['el_et']>(et_cuts[idx]+1)*GeV)\n",
    "    is_bkg = (data_df.target==0)&(data_df['el_lhvloose']==False)&(data_df['el_et']>(et_cuts[idx]+1)*GeV)\n",
    "    \n",
    "    is_bkg_low = (data_df['el_et']<100*GeV)&is_bkg\n",
    "    is_bkg_high= (data_df['el_et']>=100*GeV)&is_bkg\n",
    "    is_sgn_low = (data_df['el_et']<100*GeV)&is_sgn\n",
    "    is_sgn_high= (data_df['el_et']>=100*GeV)&is_sgn\n",
    "    \n",
    "    total_sgn  = len(data_df.loc[is_sgn])\n",
    "    total_bkg  = len(data_df.loc[is_bkg])\n",
    "\n",
    "\n",
    "    print(trigger%'X')\n",
    "    for version in tqdm( versions ):\n",
    "        \n",
    "            values = [version]\n",
    "            \n",
    "            #\n",
    "            # FA\n",
    "            #\n",
    "            \n",
    "            # L2Calo FA\n",
    "            passed = len(data_df.loc[is_bkg&(data_df['L2Calo_'+trigger%version]==True)])\n",
    "            total  = len(data_df.loc[is_bkg])\n",
    "            fa = passed/total * 100           \n",
    "            values.append( '%1.2f'%(fa) )\n",
    "            \n",
    "            # L2Calo FA < 100\n",
    "            total  = len(data_df.loc[is_bkg_low])\n",
    "            if total > 0:\n",
    "                passed = len(data_df.loc[is_bkg_low&(data_df['L2Calo_'+trigger%version]==True)])\n",
    "                fa = passed/total * 100           \n",
    "                values.append( '%1.2f'%(fa) )\n",
    "            else:\n",
    "                values.append( '%1.2f'%(0) )\n",
    "               \n",
    "            # L2Calo FA > 100\n",
    "            passed = len(data_df.loc[is_bkg_high&(data_df['L2Calo_'+trigger%version]==True)])\n",
    "            total  = len(data_df.loc[is_bkg_high])\n",
    "            fa = passed/total * 100           \n",
    "            values.append( '%1.2f'%(fa) )\n",
    "\n",
    "            # L2 FA\n",
    "            passed = len(data_df.loc[is_bkg&(data_df['L2_'+trigger%version]==True)])\n",
    "            total  = len(data_df.loc[is_bkg])\n",
    "            fa = passed/total * 100           \n",
    "            values.append( '%1.2f'%(fa) )\n",
    "            \n",
    "            # L2 FA < 100\n",
    "            total  = len(data_df.loc[is_bkg_low])\n",
    "            if total > 0:\n",
    "                passed = len(data_df.loc[is_bkg_low&(data_df['L2_'+trigger%version]==True)])\n",
    "                fa = passed/total * 100           \n",
    "                values.append( '%1.2f'%(fa) )\n",
    "            else:\n",
    "                values.append( '%1.2f'%(0) )\n",
    "               \n",
    "            # L2 FA > 100\n",
    "            passed = len(data_df.loc[is_bkg_high&(data_df['L2_'+trigger%version]==True)])\n",
    "            total  = len(data_df.loc[is_bkg_high])\n",
    "            fa = passed/total * 100           \n",
    "            values.append( '%1.2f'%(fa) )\n",
    "\n",
    "            # HLT FA\n",
    "            passed = len(data_df.loc[is_bkg&(data_df['HLT_'+trigger%version]==True)])\n",
    "            fa = passed/total_bkg * 100           \n",
    "            values.append( '%1.2f'%(fa) )\n",
    "            \n",
    "            \n",
    "            #\n",
    "            # PD\n",
    "            #\n",
    "            \n",
    "            # L2Calo PD\n",
    "            passed = len(data_df.loc[ is_sgn & (data_df['L2Calo_'+trigger%version]==True)])\n",
    "            det = passed/total_sgn * 100\n",
    "            values.append( '%1.2f'%(det) )\n",
    "            \n",
    "            \n",
    "            # L2 PD\n",
    "            passed = len(data_df.loc[ is_sgn & (data_df['L2_'+trigger%version]==True)])\n",
    "            det = passed/total_sgn * 100\n",
    "            values.append( '%1.2f'%(det) )\n",
    "            \n",
    "            \n",
    "            # HLT PD\n",
    "            passed = len(data_df.loc[ is_sgn & (data_df['HLT_'+trigger%version]==True)])\n",
    "            det = passed/total_sgn * 100\n",
    "            values.append( '%1.2f'%(det) )\n",
    "            \n",
    "            t.add_row(values)\n",
    "    print(t)\n",
    "\n",
    "            \n",
    "            "
   ]
  },
  {
   "cell_type": "code",
   "execution_count": null,
   "metadata": {},
   "outputs": [],
   "source": []
  },
  {
   "cell_type": "code",
   "execution_count": null,
   "metadata": {},
   "outputs": [],
   "source": []
  },
  {
   "cell_type": "code",
   "execution_count": null,
   "metadata": {},
   "outputs": [],
   "source": []
  }
 ],
 "metadata": {
  "kernelspec": {
   "display_name": "Python 3",
   "language": "python",
   "name": "python3"
  },
  "language_info": {
   "codemirror_mode": {
    "name": "ipython",
    "version": 3
   },
   "file_extension": ".py",
   "mimetype": "text/x-python",
   "name": "python",
   "nbconvert_exporter": "python",
   "pygments_lexer": "ipython3",
   "version": "3.6.9"
  }
 },
 "nbformat": 4,
 "nbformat_minor": 4
}
