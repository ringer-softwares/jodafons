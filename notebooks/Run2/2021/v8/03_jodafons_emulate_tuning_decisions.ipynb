{
 "cells": [
  {
   "cell_type": "markdown",
   "id": "ca2f7274-f3c9-4920-8846-f57206e7ce34",
   "metadata": {},
   "source": [
    "# Emulate v8"
   ]
  },
  {
   "cell_type": "code",
   "execution_count": 10,
   "id": "59967f39-befe-42c6-b8aa-c81bcc13734b",
   "metadata": {},
   "outputs": [
    {
     "name": "stdout",
     "output_type": "stream",
     "text": [
      "The autoreload extension is already loaded. To reload it, use:\n",
      "  %reload_ext autoreload\n"
     ]
    }
   ],
   "source": [
    "from kepler.pandas.menu       import ElectronSequence as Chain\n",
    "from kepler.pandas.readers    import load_hdf\n",
    "from kepler.pandas.decorators import RingerDecorator\n",
    "from Gaugi import mkdir_p, progressbar\n",
    "import numpy as np\n",
    "import pandas as pd\n",
    "import collections\n",
    "import os\n",
    "from pprint import pprint\n",
    "from copy import deepcopy\n",
    "import gc\n",
    "\n",
    "os.environ['TF_CPP_MIN_LOG_LEVEL'] = '3'\n",
    "%config InlineBackend.figure_format = 'retina'\n",
    "%load_ext autoreload\n",
    "%autoreload 2"
   ]
  },
  {
   "cell_type": "code",
   "execution_count": 2,
   "id": "eff9d2e4-7725-401d-8591-23a51b5c3802",
   "metadata": {},
   "outputs": [],
   "source": [
    "output_path = 'output/emulation'\n",
    "mkdir_p(output_path)"
   ]
  },
  {
   "cell_type": "markdown",
   "id": "96266785-6070-4cd2-ae62-6772b4e41859",
   "metadata": {},
   "source": [
    "## Decorator:"
   ]
  },
  {
   "cell_type": "code",
   "execution_count": 3,
   "id": "64daaa2e-8a15-4732-a7d4-41c82a359e4f",
   "metadata": {},
   "outputs": [],
   "source": [
    "def generator( df ):\n",
    "    columns= ['trig_L2_cl_ring_%d'%i for i in range(100)]\n",
    "    rings = df[columns].values.astype(np.float32)\n",
    "    def norm1( data ):\n",
    "        norms = np.abs( data.sum(axis=1) )\n",
    "        norms[norms==0] = 1\n",
    "        return data/norms[:,None]\n",
    "    rings = norm1(rings)\n",
    "    return [rings]"
   ]
  },
  {
   "cell_type": "code",
   "execution_count": 4,
   "id": "e70bf9fa-ad87-4860-99e6-b638fbf030f9",
   "metadata": {},
   "outputs": [],
   "source": [
    "tpath = 'output/fitting'"
   ]
  },
  {
   "cell_type": "code",
   "execution_count": 5,
   "id": "1979e02f-405b-47be-8f47-41a89f72a98a",
   "metadata": {},
   "outputs": [
    {
     "name": "stdout",
     "output_type": "stream",
     "text": [
      "2022-03-22 22:06:28,895 | Py.RingerDecorator                      INFO Reading... output/fitting/ElectronRingerTightTriggerConfig.conf\n",
      "2022-03-22 22:06:29,386 | Py.RingerDecorator                      INFO Reading... output/fitting/ElectronRingerMediumTriggerConfig.conf\n",
      "2022-03-22 22:06:29,800 | Py.RingerDecorator                      INFO Reading... output/fitting/ElectronRingerLooseTriggerConfig.conf\n",
      "2022-03-22 22:06:30,216 | Py.RingerDecorator                      INFO Reading... output/fitting/ElectronRingerVeryLooseTriggerConfig.conf\n"
     ]
    }
   ],
   "source": [
    "decorators = [\n",
    "    RingerDecorator('ringer_v8_tight' , tpath + '/ElectronRingerTightTriggerConfig.conf'    , generator),\n",
    "    RingerDecorator('ringer_v8_medium', tpath + '/ElectronRingerMediumTriggerConfig.conf'   , generator),\n",
    "    RingerDecorator('ringer_v8_loose' , tpath + '/ElectronRingerLooseTriggerConfig.conf'    , generator),\n",
    "    RingerDecorator('ringer_v8_vloose', tpath + '/ElectronRingerVeryLooseTriggerConfig.conf', generator),\n",
    "]"
   ]
  },
  {
   "cell_type": "code",
   "execution_count": 6,
   "id": "b9db3428-c174-4a4c-a242-e7f9c974a7e2",
   "metadata": {},
   "outputs": [],
   "source": [
    "def load_in_loop( paths, decorators ):\n",
    "\n",
    "    tables = []\n",
    "    for path in progressbar( paths, prefix='Reading files...'):\n",
    "        df = load_hdf( path )\n",
    "        hold_these_columns = []\n",
    "        for decorator in decorators:\n",
    "            decorator.apply(df) \n",
    "            hold_these_columns.append(decorator.column)\n",
    "            hold_these_columns.append(decorator.column + '_output')\n",
    "            \n",
    "        tables.append(df[hold_these_columns])\n",
    "\n",
    "    return pd.concat(tables).reset_index(drop=True)"
   ]
  },
  {
   "cell_type": "markdown",
   "id": "d55125f6-ad91-4e6b-9568-b8efcf510c4c",
   "metadata": {},
   "source": [
    "## Read all 2017 bins:"
   ]
  },
  {
   "cell_type": "code",
   "execution_count": 7,
   "id": "9906fa52-812f-4db7-9f00-e5c9a8b317ff",
   "metadata": {},
   "outputs": [],
   "source": [
    "dpath = '/home/jodafons/public/cern_data/new_files/data17_13TeV.AllPeriods.sgn.probes_lhvloose_EGAM1.bkg.vprobes_vlhvloose_EGAM7.GRL_v97.25bins'\n",
    "dpath+= '/data17_13TeV.AllPeriods.sgn.probes_lhvloose_EGAM1.bkg.vprobes_vlhvloose_EGAM7.GRL_v97.25bins_et{ET}_eta{ETA}.h5'\n",
    "paths = []\n",
    "for et in range(5):\n",
    "    for eta in range(5):\n",
    "        paths.append( dpath.format(ET=et,ETA=eta) )"
   ]
  },
  {
   "cell_type": "code",
   "execution_count": null,
   "id": "9ef17eb5-de24-47ca-91db-f3c4b058ed93",
   "metadata": {},
   "outputs": [
    {
     "name": "stderr",
     "output_type": "stream",
     "text": [
      "Reading files...:  84%|████████▍ | 21/25 [17:07<05:31, 82.79s/it]"
     ]
    }
   ],
   "source": [
    "my_df = load_in_loop( paths, decorators )"
   ]
  },
  {
   "cell_type": "code",
   "execution_count": null,
   "id": "2b860e1b-d4c4-4f6a-be0e-e45e097480d1",
   "metadata": {},
   "outputs": [],
   "source": [
    "my_df.to_hdf(output_path+'/data17_table_v8.h5', key='df', mode='w')"
   ]
  },
  {
   "cell_type": "markdown",
   "id": "09d1a68f-dfd0-4984-afb7-cf2877744614",
   "metadata": {},
   "source": [
    "## Read all 2018 bins:"
   ]
  },
  {
   "cell_type": "code",
   "execution_count": null,
   "id": "15b47e3c-8fd4-43f5-a86b-a370c5c45aae",
   "metadata": {},
   "outputs": [],
   "source": [
    "dpath = '/home/jodafons/public/cern_data/new_files/data18_13TeV.AllPeriods.sgn.probes_lhvloose_EGAM1.bkg.vprobes_vlhvloose_EGAM7.GRL_v97.25bins'\n",
    "dpath+= '/data18_13TeV.AllPeriods.sgn.probes_lhvloose_EGAM1.bkg.vprobes_vlhvloose_EGAM7.GRL_v97.25bins_et{ET}_eta{ETA}.h5'\n",
    "paths = []\n",
    "for et in range(5):\n",
    "    for eta in range(5):\n",
    "        paths.append( dpath.format(ET=et,ETA=eta) )"
   ]
  },
  {
   "cell_type": "code",
   "execution_count": null,
   "id": "165f4860-7e9e-4e5b-a3d2-44f92f62150b",
   "metadata": {},
   "outputs": [],
   "source": [
    "my_df = load_in_loop( paths, decorators )"
   ]
  },
  {
   "cell_type": "code",
   "execution_count": null,
   "id": "d1f2aed5-9afd-47bf-8338-92dd9f8a31fc",
   "metadata": {},
   "outputs": [],
   "source": [
    "my_df.to_hdf(output_path+'/data18_table_v8.h5', key='df', mode='w')"
   ]
  },
  {
   "cell_type": "markdown",
   "id": "9194baf4-a01a-40b5-985e-582b8601365c",
   "metadata": {},
   "source": [
    "## Read all mc16 boosted bins:"
   ]
  },
  {
   "cell_type": "code",
   "execution_count": 11,
   "id": "818e8bdf-6574-4cc0-bc73-bec904d515df",
   "metadata": {},
   "outputs": [],
   "source": [
    "dpath = '/home/jodafons/public/cern_data/new_files/mc16_13TeV.309995.sgn.boosted_probes.GGF_radion_ZZ_llqq.merge.25bins.v2'\n",
    "dpath+= '/mc16_13TeV.309995.sgn.boosted_probes.GGF_radion_ZZ_llqq.merge.25bins.v2_et{ET}_eta{ETA}.h5'\n",
    "paths = []\n",
    "for et in range(5):\n",
    "    for eta in range(5):\n",
    "        paths.append( dpath.format(ET=et,ETA=eta) )"
   ]
  },
  {
   "cell_type": "code",
   "execution_count": 12,
   "id": "b0744d2b-f397-41bb-9973-4eb058cefa52",
   "metadata": {},
   "outputs": [
    {
     "name": "stderr",
     "output_type": "stream",
     "text": [
      "Reading files...: 100%|██████████| 25/25 [00:04<00:00,  5.64it/s]\n"
     ]
    }
   ],
   "source": [
    "my_df = load_in_loop( paths, decorators )"
   ]
  },
  {
   "cell_type": "code",
   "execution_count": 13,
   "id": "a4482b62-f4ea-42af-81ff-e811911a9678",
   "metadata": {},
   "outputs": [
    {
     "name": "stderr",
     "output_type": "stream",
     "text": [
      "/usr/local/lib/python3.6/dist-packages/pandas/core/generic.py:2449: PerformanceWarning: \n",
      "your performance may suffer as PyTables will pickle object types that it cannot\n",
      "map directly to c-types [inferred_type->boolean,key->block1_values] [items->Index(['ringer_v8_tight', 'ringer_v8_medium', 'ringer_v8_loose',\n",
      "       'ringer_v8_vloose'],\n",
      "      dtype='object')]\n",
      "\n",
      "  encoding=encoding,\n"
     ]
    }
   ],
   "source": [
    "my_df.to_hdf(output_path+'/mc16_table_v8.h5', key='df', mode='w')"
   ]
  },
  {
   "cell_type": "code",
   "execution_count": null,
   "id": "c9cde381-f50e-4094-afc5-c7af62557a2b",
   "metadata": {},
   "outputs": [],
   "source": []
  },
  {
   "cell_type": "code",
   "execution_count": null,
   "id": "8ae7cf43-b6a6-4de4-8098-b507205bb338",
   "metadata": {},
   "outputs": [],
   "source": []
  },
  {
   "cell_type": "code",
   "execution_count": null,
   "id": "05e977ad-e175-4edb-98ef-a257ff36a89d",
   "metadata": {},
   "outputs": [],
   "source": []
  },
  {
   "cell_type": "code",
   "execution_count": null,
   "id": "1d52e210-b09e-431c-8141-4aeceab0d39f",
   "metadata": {},
   "outputs": [],
   "source": []
  }
 ],
 "metadata": {
  "kernelspec": {
   "display_name": "Python 3",
   "language": "python",
   "name": "python3"
  },
  "language_info": {
   "codemirror_mode": {
    "name": "ipython",
    "version": 3
   },
   "file_extension": ".py",
   "mimetype": "text/x-python",
   "name": "python",
   "nbconvert_exporter": "python",
   "pygments_lexer": "ipython3",
   "version": "3.6.9"
  }
 },
 "nbformat": 4,
 "nbformat_minor": 5
}
