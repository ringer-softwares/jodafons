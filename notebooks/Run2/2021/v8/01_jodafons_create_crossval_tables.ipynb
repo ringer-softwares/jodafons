{
 "cells": [
  {
   "cell_type": "markdown",
   "metadata": {},
   "source": [
    "# Create crossval tables\n",
    "\n",
    "This notebook is dedicated to create the cv table to all tunings produced during 2020 for tracking purpose.\n"
   ]
  },
  {
   "cell_type": "code",
   "execution_count": 2,
   "metadata": {},
   "outputs": [
    {
     "name": "stdout",
     "output_type": "stream",
     "text": [
      "Welcome to JupyROOT 6.16/00\n",
      "Using all sub packages with ROOT dependence\n",
      "\n",
      "Applying ATLAS style settings...\n",
      "\n",
      "Applying ATLAS style settings...\n",
      "INFO: Pandarallel will run on 40 workers.\n",
      "INFO: Pandarallel will use Memory file system to transfer data between the main process and workers.\n",
      "\n",
      "Applying ATLAS style settings...\n"
     ]
    }
   ],
   "source": [
    "from core import crossval_table, get_color_fader\n",
    "from Gaugi import mkdir_p\n",
    "from copy import copy\n",
    "from pprint import pprint\n",
    "import numpy as np\n",
    "import pandas as pd\n",
    "import collections\n",
    "import os\n",
    "import matplotlib\n",
    "import matplotlib.pyplot as plt\n",
    "%config InlineBackend.figure_format = 'retina'\n",
    "%load_ext autoreload\n",
    "%autoreload 2"
   ]
  },
  {
   "cell_type": "code",
   "execution_count": 3,
   "metadata": {},
   "outputs": [],
   "source": [
    "mkdir_p('output/crossval')\n",
    "mkdir_p('output/training')"
   ]
  },
  {
   "cell_type": "code",
   "execution_count": 4,
   "metadata": {},
   "outputs": [],
   "source": [
    "def create_op_dict(op, decoration='reference'):\n",
    "    \n",
    "    d = collections.OrderedDict( {\n",
    "              # validation\n",
    "              \"max_sp_val\"      : 'summary/max_sp_val',\n",
    "              \"max_sp_pd_val\"   : 'summary/max_sp_pd_val#0',\n",
    "              \"max_sp_fa_val\"   : 'summary/max_sp_fa_val#0',\n",
    "              # Operation\n",
    "              \"max_sp_op\"       : 'summary/max_sp_op',\n",
    "              \"max_sp_pd_op\"    : 'summary/max_sp_pd_op#0',\n",
    "              \"max_sp_fa_op\"    : 'summary/max_sp_fa_op#0',\n",
    "              \n",
    "              # op\n",
    "              'pd_ref'    : decoration+\"/\"+op+\"/pd_ref#0\",\n",
    "              'fa_ref'    : decoration+\"/\"+op+\"/fa_ref#0\",\n",
    "              'sp_ref'    : decoration+\"/\"+op+\"/sp_ref\",\n",
    "              'pd_val'    : decoration+\"/\"+op+\"/pd_val#0\",\n",
    "              'fa_val'    : decoration+\"/\"+op+\"/fa_val#0\",\n",
    "              'sp_val'    : decoration+\"/\"+op+\"/sp_val\",\n",
    "              'pd_op'     : decoration+\"/\"+op+\"/pd_op#0\",\n",
    "              'fa_op'     : decoration+\"/\"+op+\"/fa_op#0\",\n",
    "              'sp_op'     : decoration+\"/\"+op+\"/sp_op\",\n",
    "\n",
    "              # Counts\n",
    "              'pd_ref_passed'    : decoration+\"/\"+op+\"/pd_ref#1\",\n",
    "              'fa_ref_passed'    : decoration+\"/\"+op+\"/fa_ref#1\",\n",
    "              'pd_ref_total'     : decoration+\"/\"+op+\"/pd_ref#2\",\n",
    "              'fa_ref_total'     : decoration+\"/\"+op+\"/fa_ref#2\",\n",
    "              'pd_val_passed'    : decoration+\"/\"+op+\"/pd_val#1\",\n",
    "              'fa_val_passed'    : decoration+\"/\"+op+\"/fa_val#1\",\n",
    "              'pd_val_total'     : decoration+\"/\"+op+\"/pd_val#2\",\n",
    "              'fa_val_total'     : decoration+\"/\"+op+\"/fa_val#2\",\n",
    "              'pd_op_passed'     : decoration+\"/\"+op+\"/pd_op#1\",\n",
    "              'fa_op_passed'     : decoration+\"/\"+op+\"/fa_op#1\",\n",
    "              'pd_op_total'      : decoration+\"/\"+op+\"/pd_op#2\",\n",
    "              'fa_op_total'      : decoration+\"/\"+op+\"/fa_op#2\",\n",
    "    })\n",
    "    return d\n",
    "\n",
    "\n",
    "op_names = ['tight', 'medium', 'loose', 'vloose']\n",
    "\n",
    "tuned_info = collections.OrderedDict({})\n",
    "for op in op_names:\n",
    "    tuned_info[op] = create_op_dict(op, \"reference\")"
   ]
  },
  {
   "cell_type": "code",
   "execution_count": 5,
   "metadata": {},
   "outputs": [],
   "source": [
    "etbins = [15, 20, 30, 40, 50, 1000000]\n",
    "etabins = [0.0, 0.8, 1.37, 1.54, 2.37, 2.50]"
   ]
  },
  {
   "cell_type": "markdown",
   "metadata": {},
   "source": [
    "## 1) Reading all tunings:\n"
   ]
  },
  {
   "cell_type": "code",
   "execution_count": 6,
   "metadata": {},
   "outputs": [],
   "source": [
    "cv_v8  = crossval_table( tuned_info, etbins = etbins , etabins = etabins )"
   ]
  },
  {
   "cell_type": "code",
   "execution_count": 7,
   "metadata": {},
   "outputs": [
    {
     "name": "stderr",
     "output_type": "stream",
     "text": [
      "Reading v8...: 100%|██████████| 4997/4997 [00:52<00:00, 95.44it/s] \n"
     ]
    },
    {
     "name": "stdout",
     "output_type": "stream",
     "text": [
      "2022-03-04 15:46:22,695 | Py.crossval_table                       INFO Reading file for v8 tag from /home/jodafons/public/cern_data/tunings/r1/Zee/v8/*/*/*.npz\n",
      "2022-03-04 15:46:22,696 | Py.crossval_table                       INFO There are 4997 files for this task...\n",
      "2022-03-04 15:46:22,696 | Py.crossval_table                       INFO Filling the table... \n",
      "2022-03-04 15:47:15,182 | Py.crossval_table                       INFO End of fill step, a pandas DataFrame was created...\n"
     ]
    }
   ],
   "source": [
    "# just for comparison\n",
    "cv_v8.fill(  '/home/jodafons/public/cern_data/tunings/r1/Zee/v8/*/*/*.npz' , 'v8' )"
   ]
  },
  {
   "cell_type": "code",
   "execution_count": 8,
   "metadata": {},
   "outputs": [],
   "source": [
    "cv_v8.to_csv('output/crossval/table_v8.csv')"
   ]
  },
  {
   "cell_type": "markdown",
   "metadata": {},
   "source": [
    "**NOTE** Use the cell below to rerun all tables from the csv file."
   ]
  },
  {
   "cell_type": "code",
   "execution_count": 9,
   "metadata": {},
   "outputs": [],
   "source": [
    "cv_v8.from_csv('output/crossval/table_v8.csv')"
   ]
  },
  {
   "cell_type": "markdown",
   "metadata": {},
   "source": [
    "### 1.1) Get best inits and sorts:"
   ]
  },
  {
   "cell_type": "code",
   "execution_count": 10,
   "metadata": {},
   "outputs": [],
   "source": [
    "best_inits_v8 = cv_v8.filter_inits(\"max_sp_val\")\n",
    "best_sorts_v8 = cv_v8.filter_sorts( best_inits_v8 , 'max_sp_op')\n",
    "best_inits_v8 = best_inits_v8.loc[best_inits_v8.model_idx==3]"
   ]
  },
  {
   "cell_type": "code",
   "execution_count": 11,
   "metadata": {},
   "outputs": [],
   "source": [
    "best_inits = pd.concat([\n",
    "                        best_inits_v8,\n",
    "            \n",
    "                       ])\n",
    "best_sorts = pd.concat([\n",
    "                        best_sorts_v8,\n",
    "                       \n",
    "                       ])"
   ]
  },
  {
   "cell_type": "markdown",
   "metadata": {},
   "source": [
    "### 1.2) Make the table:"
   ]
  },
  {
   "cell_type": "code",
   "execution_count": 12,
   "metadata": {},
   "outputs": [
    {
     "name": "stdout",
     "output_type": "stream",
     "text": [
      "2022-03-04 15:47:17,435 | Py.BeamerTexReportTemplate1             INFO Started creating beamer file tuning_v8_tight.pdf latex code...\n",
      "2022-03-04 15:47:18,614 | Py.BeamerTexReportTemplate1             INFO Started creating beamer file tuning_v8_medium.pdf latex code...\n",
      "2022-03-04 15:47:19,642 | Py.BeamerTexReportTemplate1             INFO Started creating beamer file tuning_v8_loose.pdf latex code...\n",
      "2022-03-04 15:47:20,692 | Py.BeamerTexReportTemplate1             INFO Started creating beamer file tuning_v8_vloose.pdf latex code...\n"
     ]
    }
   ],
   "source": [
    "for op in op_names:\n",
    "    cv_v8.dump_beamer_table( best_inits.loc[best_inits.op_name == op] ,  \n",
    "                            'tuning_v8_'+op, \n",
    "                             title = op+' Tunings (v8)', \n",
    "                             tags = ['v8']\n",
    "                           )"
   ]
  },
  {
   "cell_type": "code",
   "execution_count": 13,
   "metadata": {},
   "outputs": [],
   "source": [
    "!mv *.tex output/crossval\n",
    "!mv *.pdf output/crossval"
   ]
  },
  {
   "cell_type": "markdown",
   "metadata": {},
   "source": [
    "### 1.3) Plot training curves:"
   ]
  },
  {
   "cell_type": "code",
   "execution_count": 14,
   "metadata": {},
   "outputs": [],
   "source": [
    "cv_v8.plot_training_curves( best_inits_v8, best_sorts_v8 , 'output/training/v8' )"
   ]
  },
  {
   "cell_type": "code",
   "execution_count": null,
   "metadata": {},
   "outputs": [],
   "source": []
  },
  {
   "cell_type": "code",
   "execution_count": null,
   "metadata": {},
   "outputs": [],
   "source": []
  }
 ],
 "metadata": {
  "kernelspec": {
   "display_name": "Python 3",
   "language": "python",
   "name": "python3"
  },
  "language_info": {
   "codemirror_mode": {
    "name": "ipython",
    "version": 3
   },
   "file_extension": ".py",
   "mimetype": "text/x-python",
   "name": "python",
   "nbconvert_exporter": "python",
   "pygments_lexer": "ipython3",
   "version": "3.6.9"
  }
 },
 "nbformat": 4,
 "nbformat_minor": 4
}
