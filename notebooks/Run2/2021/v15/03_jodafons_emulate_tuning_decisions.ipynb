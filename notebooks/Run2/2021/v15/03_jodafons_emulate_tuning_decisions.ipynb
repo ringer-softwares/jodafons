{
 "cells": [
  {
   "cell_type": "markdown",
   "id": "ca2f7274-f3c9-4920-8846-f57206e7ce34",
   "metadata": {},
   "source": [
    "# Emulate v15"
   ]
  },
  {
   "cell_type": "code",
   "execution_count": 1,
   "id": "59967f39-befe-42c6-b8aa-c81bcc13734b",
   "metadata": {},
   "outputs": [
    {
     "name": "stdout",
     "output_type": "stream",
     "text": [
      "Welcome to JupyROOT 6.16/00\n",
      "Using all sub packages with ROOT dependence\n",
      "INFO: Pandarallel will run on 40 workers.\n",
      "INFO: Pandarallel will use Memory file system to transfer data between the main process and workers.\n"
     ]
    }
   ],
   "source": [
    "from kepler.pandas.menu       import ElectronSequence as Chain\n",
    "from kepler.pandas.readers    import load_hdf\n",
    "from kepler.pandas.decorators import RingerDecorator\n",
    "from Gaugi import mkdir_p, progressbar\n",
    "import numpy as np\n",
    "import pandas as pd\n",
    "import collections\n",
    "import os\n",
    "from pprint import pprint\n",
    "from copy import deepcopy\n",
    "import gc\n",
    "%config InlineBackend.figure_format = 'retina'\n",
    "%load_ext autoreload\n",
    "%autoreload 2"
   ]
  },
  {
   "cell_type": "code",
   "execution_count": 2,
   "id": "eff9d2e4-7725-401d-8591-23a51b5c3802",
   "metadata": {},
   "outputs": [],
   "source": [
    "output_path = 'output/emulation'\n",
    "mkdir_p(output_path)"
   ]
  },
  {
   "cell_type": "markdown",
   "id": "96266785-6070-4cd2-ae62-6772b4e41859",
   "metadata": {},
   "source": [
    "## Decorator:"
   ]
  },
  {
   "cell_type": "code",
   "execution_count": 3,
   "id": "64daaa2e-8a15-4732-a7d4-41c82a359e4f",
   "metadata": {},
   "outputs": [],
   "source": [
    "def generator( df ):\n",
    "\n",
    "    # for new training, we selected 1/2 of rings in each layer\n",
    "    #pre-sample - 8 rings\n",
    "    # EM1 - 64 rings\n",
    "    # EM2 - 8 rings\n",
    "    # EM3 - 8 rings\n",
    "    # Had1 - 4 rings\n",
    "    # Had2 - 4 rings\n",
    "    # Had3 - 4 rings\n",
    "    prefix = 'trig_L2_cl_ring_%i'\n",
    "\n",
    "    # rings presmaple \n",
    "    presample = [prefix %iring for iring in range(8//2)]\n",
    "    # EM1 list\n",
    "    sum_rings = 8\n",
    "    em1 = [prefix %iring for iring in range(sum_rings, sum_rings+(64//2))]\n",
    "    # EM2 list\n",
    "    sum_rings = 8+64\n",
    "    em2 = [prefix %iring for iring in range(sum_rings, sum_rings+(8//2))]\n",
    "    # EM3 list\n",
    "    sum_rings = 8+64+8\n",
    "    em3 = [prefix %iring for iring in range(sum_rings, sum_rings+(8//2))]\n",
    "    # HAD1 list\n",
    "    sum_rings = 8+64+8+8\n",
    "    had1 = [prefix %iring for iring in range(sum_rings, sum_rings+(4//2))]\n",
    "    # HAD2 list\n",
    "    sum_rings = 8+64+8+8+4\n",
    "    had2 = [prefix %iring for iring in range(sum_rings, sum_rings+(4//2))]\n",
    "    # HAD3 list\n",
    "    sum_rings = 8+64+8+8+4+4\n",
    "    had3 = [prefix %iring for iring in range(sum_rings, sum_rings+(4//2))]\n",
    "    col_names = presample+em1+em2+em3+had1+had2+had3\n",
    "    rings = df[col_names].values.astype(np.float32)\n",
    "\n",
    "    def norm1( data ):\n",
    "        norms = np.abs( data.sum(axis=1) )\n",
    "        norms[norms==0] = 1\n",
    "        return data/norms[:,None]\n",
    "    \n",
    "    target = df['target'].values.astype(np.int16)\n",
    "    data_rings = norm1(rings)\n",
    "    n = data_rings.shape[0]\n",
    "    data_reta   = df['trig_L2_cl_reta'].astype(np.float32).to_numpy().reshape((n,1))  / 1.\n",
    "    data_eratio = df['trig_L2_cl_eratio'].astype(np.float32).to_numpy().reshape((n,1))  / 1.\n",
    "    data_f1     = df['trig_L2_cl_f1'].astype(np.float32).to_numpy().reshape((n,1))  / 0.6\n",
    "    data_f3     = df['trig_L2_cl_f3'].astype(np.float32).to_numpy().reshape((n,1))  / 0.04\n",
    "    data_weta2  = df['trig_L2_cl_weta2'].astype(np.float32).to_numpy().reshape((n,1))  / 0.02\n",
    "    data_wstot  = df['trig_L2_cl_wstot'].astype(np.float32).to_numpy().reshape((n,1))  / 1.\n",
    " \n",
    "    # Fix all shower shapes variables\n",
    "    data_eratio[data_eratio>10.0]=0\n",
    "    data_eratio[data_eratio>1.]=1.0\n",
    "    data_wstot[data_wstot<-99]=0\n",
    "\n",
    "    data_shower = np.concatenate( (data_reta,data_eratio,data_f1,data_f3,data_weta2, data_wstot), axis=1)\n",
    "  \n",
    "    return [data_rings, data_shower]"
   ]
  },
  {
   "cell_type": "code",
   "execution_count": 4,
   "id": "e70bf9fa-ad87-4860-99e6-b638fbf030f9",
   "metadata": {},
   "outputs": [],
   "source": [
    "tpath = 'output/fitting'"
   ]
  },
  {
   "cell_type": "code",
   "execution_count": 5,
   "id": "1979e02f-405b-47be-8f47-41a89f72a98a",
   "metadata": {},
   "outputs": [
    {
     "name": "stdout",
     "output_type": "stream",
     "text": [
      "2022-03-05 18:47:14,382 | Py.RingerDecorator                      INFO Reading... output/fitting/ElectronRingerTightTriggerConfig.conf\n",
      "2022-03-05 18:47:16,825 | Py.RingerDecorator                      INFO Reading... output/fitting/ElectronRingerMediumTriggerConfig.conf\n",
      "2022-03-05 18:47:19,337 | Py.RingerDecorator                      INFO Reading... output/fitting/ElectronRingerLooseTriggerConfig.conf\n",
      "2022-03-05 18:47:21,149 | Py.RingerDecorator                      INFO Reading... output/fitting/ElectronRingerVeryLooseTriggerConfig.conf\n"
     ]
    },
    {
     "name": "stderr",
     "output_type": "stream",
     "text": [
      "2022-03-05 18:47:14.618386: I tensorflow/stream_executor/platform/default/dso_loader.cc:48] Successfully opened dynamic library libcuda.so.1\n",
      "2022-03-05 18:47:14.618457: E tensorflow/stream_executor/cuda/cuda_driver.cc:314] failed call to cuInit: UNKNOWN ERROR (-1)\n",
      "2022-03-05 18:47:14.618490: I tensorflow/stream_executor/cuda/cuda_diagnostics.cc:156] kernel driver does not appear to be running on this host (caloba51): /proc/driver/nvidia/version does not exist\n",
      "2022-03-05 18:47:14.619481: I tensorflow/core/platform/cpu_feature_guard.cc:142] This TensorFlow binary is optimized with oneAPI Deep Neural Network Library (oneDNN)to use the following CPU instructions in performance-critical operations:  AVX2 AVX512F FMA\n",
      "To enable them in other operations, rebuild TensorFlow with the appropriate compiler flags.\n",
      "2022-03-05 18:47:14.663527: I tensorflow/core/platform/profile_utils/cpu_utils.cc:104] CPU Frequency: 2400000000 Hz\n",
      "2022-03-05 18:47:14.671611: I tensorflow/compiler/xla/service/service.cc:168] XLA service 0x8fb4720 initialized for platform Host (this does not guarantee that XLA will be used). Devices:\n",
      "2022-03-05 18:47:14.671680: I tensorflow/compiler/xla/service/service.cc:176]   StreamExecutor device (0): Host, Default Version\n"
     ]
    }
   ],
   "source": [
    "decorators = [\n",
    "    RingerDecorator('ringer_v15_tight' , tpath + '/ElectronRingerTightTriggerConfig.conf'    , generator),\n",
    "    RingerDecorator('ringer_v15_medium', tpath + '/ElectronRingerMediumTriggerConfig.conf'   , generator),\n",
    "    RingerDecorator('ringer_v15_loose' , tpath + '/ElectronRingerLooseTriggerConfig.conf'    , generator),\n",
    "    RingerDecorator('ringer_v15_vloose', tpath + '/ElectronRingerVeryLooseTriggerConfig.conf', generator),\n",
    "]"
   ]
  },
  {
   "cell_type": "code",
   "execution_count": 6,
   "id": "b9db3428-c174-4a4c-a242-e7f9c974a7e2",
   "metadata": {},
   "outputs": [],
   "source": [
    "def load_in_loop( paths, decorators ):\n",
    "\n",
    "    tables = []\n",
    "    for path in progressbar( paths, prefix='Reading files...'):\n",
    "        df = load_hdf( path )\n",
    "        hold_these_columns = []\n",
    "        for decorator in decorators:\n",
    "            decorator.apply(df) \n",
    "            hold_these_columns.append(decorator.column)\n",
    "            hold_these_columns.append(decorator.column + '_output')\n",
    "            \n",
    "        tables.append(df[hold_these_columns])\n",
    "\n",
    "    return pd.concat(tables).reset_index(drop=True)"
   ]
  },
  {
   "cell_type": "markdown",
   "id": "d55125f6-ad91-4e6b-9568-b8efcf510c4c",
   "metadata": {},
   "source": [
    "## Read all 2017 bins:"
   ]
  },
  {
   "cell_type": "code",
   "execution_count": 7,
   "id": "9906fa52-812f-4db7-9f00-e5c9a8b317ff",
   "metadata": {},
   "outputs": [],
   "source": [
    "dpath = '/home/jodafons/public/cern_data/new_files/data17_13TeV.AllPeriods.sgn.probes_lhvloose_EGAM1.bkg.vprobes_vlhvloose_EGAM7.GRL_v97.25bins'\n",
    "dpath+= '/data17_13TeV.AllPeriods.sgn.probes_lhvloose_EGAM1.bkg.vprobes_vlhvloose_EGAM7.GRL_v97.25bins_et{ET}_eta{ETA}.h5'\n",
    "paths = []\n",
    "for et in range(5):\n",
    "    for eta in range(5):\n",
    "        paths.append( dpath.format(ET=et,ETA=eta) )"
   ]
  },
  {
   "cell_type": "code",
   "execution_count": 8,
   "id": "9ef17eb5-de24-47ca-91db-f3c4b058ed93",
   "metadata": {},
   "outputs": [
    {
     "name": "stderr",
     "output_type": "stream",
     "text": [
      "Reading files...: 100%|██████████| 25/25 [30:33<00:00, 73.34s/it] \n"
     ]
    }
   ],
   "source": [
    "my_df = load_in_loop( paths, decorators )"
   ]
  },
  {
   "cell_type": "code",
   "execution_count": 9,
   "id": "2b860e1b-d4c4-4f6a-be0e-e45e097480d1",
   "metadata": {},
   "outputs": [],
   "source": [
    "my_df.to_hdf(output_path+'/data17_table_v15.h5', key='df', mode='w')"
   ]
  },
  {
   "cell_type": "markdown",
   "id": "09d1a68f-dfd0-4984-afb7-cf2877744614",
   "metadata": {},
   "source": [
    "## Read all 2018 bins:"
   ]
  },
  {
   "cell_type": "code",
   "execution_count": 10,
   "id": "15b47e3c-8fd4-43f5-a86b-a370c5c45aae",
   "metadata": {},
   "outputs": [],
   "source": [
    "dpath = '/home/jodafons/public/cern_data/new_files/data18_13TeV.AllPeriods.sgn.probes_lhvloose_EGAM1.bkg.vprobes_vlhvloose_EGAM7.GRL_v97.25bins'\n",
    "dpath+= '/data18_13TeV.AllPeriods.sgn.probes_lhvloose_EGAM1.bkg.vprobes_vlhvloose_EGAM7.GRL_v97.25bins_et{ET}_eta{ETA}.h5'\n",
    "paths = []\n",
    "for et in range(5):\n",
    "    for eta in range(5):\n",
    "        paths.append( dpath.format(ET=et,ETA=eta) )"
   ]
  },
  {
   "cell_type": "code",
   "execution_count": 11,
   "id": "165f4860-7e9e-4e5b-a3d2-44f92f62150b",
   "metadata": {},
   "outputs": [
    {
     "name": "stderr",
     "output_type": "stream",
     "text": [
      "Reading files...: 100%|██████████| 25/25 [31:39<00:00, 75.98s/it] \n"
     ]
    }
   ],
   "source": [
    "my_df = load_in_loop( paths, decorators )"
   ]
  },
  {
   "cell_type": "code",
   "execution_count": 12,
   "id": "d1f2aed5-9afd-47bf-8338-92dd9f8a31fc",
   "metadata": {},
   "outputs": [],
   "source": [
    "my_df.to_hdf(output_path+'/data18_table_v15.h5', key='df', mode='w')"
   ]
  },
  {
   "cell_type": "markdown",
   "id": "9194baf4-a01a-40b5-985e-582b8601365c",
   "metadata": {},
   "source": [
    "## Read all mc16 boosted bins:"
   ]
  },
  {
   "cell_type": "code",
   "execution_count": 13,
   "id": "818e8bdf-6574-4cc0-bc73-bec904d515df",
   "metadata": {},
   "outputs": [],
   "source": [
    "dpath = '/home/jodafons/public/cern_data/new_files/mc16_13TeV.302236_309995_341330.sgn.boosted_probes.WZ_llqq_plus_radion_ZZ_llqq_plus_ggH3000.merge.25bins.v2'\n",
    "dpath+= '/mc16_13TeV.302236_309995_341330.sgn.boosted_probes.WZ_llqq_plus_radion_ZZ_llqq_plus_ggH3000.merge.25bins.v2_et{ET}_eta{ETA}.h5'\n",
    "paths = []\n",
    "for et in range(5):\n",
    "    for eta in range(5):\n",
    "        paths.append( dpath.format(ET=et,ETA=eta) )"
   ]
  },
  {
   "cell_type": "code",
   "execution_count": 14,
   "id": "b0744d2b-f397-41bb-9973-4eb058cefa52",
   "metadata": {},
   "outputs": [
    {
     "name": "stderr",
     "output_type": "stream",
     "text": [
      "Reading files...: 100%|██████████| 25/25 [00:11<00:00,  2.17it/s]\n"
     ]
    }
   ],
   "source": [
    "my_df = load_in_loop( paths, decorators )"
   ]
  },
  {
   "cell_type": "code",
   "execution_count": 15,
   "id": "a4482b62-f4ea-42af-81ff-e811911a9678",
   "metadata": {},
   "outputs": [],
   "source": [
    "my_df.to_hdf(output_path+'/mc16_table_v15.h5', key='df', mode='w')"
   ]
  },
  {
   "cell_type": "code",
   "execution_count": null,
   "id": "db222473-4823-4dd7-9f82-2be414cf94c8",
   "metadata": {},
   "outputs": [],
   "source": []
  },
  {
   "cell_type": "code",
   "execution_count": null,
   "id": "76af6d8d-8328-4ca5-a1c4-6470f063d48e",
   "metadata": {},
   "outputs": [],
   "source": []
  },
  {
   "cell_type": "code",
   "execution_count": null,
   "id": "ff5900ac-e9dd-48cb-84d7-ad394ed53125",
   "metadata": {},
   "outputs": [],
   "source": []
  }
 ],
 "metadata": {
  "kernelspec": {
   "display_name": "Python 3",
   "language": "python",
   "name": "python3"
  },
  "language_info": {
   "codemirror_mode": {
    "name": "ipython",
    "version": 3
   },
   "file_extension": ".py",
   "mimetype": "text/x-python",
   "name": "python",
   "nbconvert_exporter": "python",
   "pygments_lexer": "ipython3",
   "version": "3.6.9"
  }
 },
 "nbformat": 4,
 "nbformat_minor": 5
}
