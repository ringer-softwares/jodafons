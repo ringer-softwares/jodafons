{
 "cells": [
  {
   "cell_type": "markdown",
   "metadata": {},
   "source": [
    "# Fake Tables:\n",
    "\n",
    "Check efficiency plots w.r.t the reference (noringer)"
   ]
  },
  {
   "cell_type": "code",
   "execution_count": 1,
   "metadata": {},
   "outputs": [
    {
     "name": "stdout",
     "output_type": "stream",
     "text": [
      "Welcome to JupyROOT 6.16/00\n",
      "Using all sub packages with ROOT dependence\n",
      "INFO: Pandarallel will run on 40 workers.\n",
      "INFO: Pandarallel will use Memory file system to transfer data between the main process and workers.\n",
      "\n",
      "Applying ATLAS style settings...\n",
      "\n",
      "Applying ATLAS style settings...\n",
      "\n",
      "Applying ATLAS style settings...\n"
     ]
    }
   ],
   "source": [
    "from kepler.pandas.menu       import ElectronSequence as Chain\n",
    "from kepler.pandas.readers    import load, load_in_loop, load_hdf\n",
    "from core import Efficiency, restore_efficiencies\n",
    "from Gaugi import mkdir_p, progressbar\n",
    "from prettytable import PrettyTable\n",
    "\n",
    "import numpy as np\n",
    "import pandas as pd\n",
    "import collections\n",
    "import os\n",
    "import array\n",
    "import root_numpy\n",
    "import rootplotlib as rpl\n",
    "from pprint import pprint\n",
    "from copy import deepcopy\n",
    "import gc\n",
    "from ROOT import kBlack,kBlue,kRed,kAzure,kGreen,kMagenta,kCyan,kOrange,kGray,kYellow,kWhite,TColor,gStyle,TCanvas\n",
    "import ROOT\n",
    "%config InlineBackend.figure_format = 'retina'\n",
    "%load_ext autoreload\n",
    "%autoreload 2\n",
    "GeV = 1000.\n"
   ]
  },
  {
   "cell_type": "markdown",
   "metadata": {},
   "source": [
    "## 1) Read all files:"
   ]
  },
  {
   "cell_type": "code",
   "execution_count": 2,
   "metadata": {},
   "outputs": [],
   "source": [
    "output_path = 'output/efficiencies'\n",
    "mkdir_p(output_path)"
   ]
  },
  {
   "cell_type": "code",
   "execution_count": 3,
   "metadata": {},
   "outputs": [
    {
     "name": "stdout",
     "output_type": "stream",
     "text": [
      "OrderedDict([('L1Seed', 'L1_EM15VHI'),\n",
      "             ('L2Calo', (14000.0, 'trig_L2_cl_vloose_et12to22')),\n",
      "             ('L2', 'trig_L2_el_cut_pt15to20'),\n",
      "             ('EFCalo', 17000.0),\n",
      "             ('HLT', (17000.0, 'trig_EF_el_lhvloose'))])\n",
      "OrderedDict([('L1Seed', 'L1_EM22VHI'),\n",
      "             ('L2Calo', (25000.0, 'trig_L2_cl_tight_et22toInf')),\n",
      "             ('L2', 'trig_L2_el_cut_pt20to50'),\n",
      "             ('EFCalo', 28000.0),\n",
      "             ('HLT', (28000.0, 'trig_EF_el_lhtight_ivarloose'))])\n",
      "OrderedDict([('L1Seed', 'L1_EM24VHI'),\n",
      "             ('L2Calo', (57000.0, 'trig_L2_cl_medium_et22toInf')),\n",
      "             ('L2', 'trig_L2_el_cut_pt50toInf'),\n",
      "             ('EFCalo', 60000.0),\n",
      "             ('HLT', (60000.0, 'trig_EF_el_lhmedium'))])\n",
      "OrderedDict([('L1Seed', 'L1_EM24VHI'),\n",
      "             ('L2Calo', (137000.0, 'trig_L2_cl_loose_et22toInf')),\n",
      "             ('L2', 'trig_L2_el_cut_pt50toInf'),\n",
      "             ('EFCalo', 140000.0),\n",
      "             ('HLT', (140000.0, 'trig_EF_el_lhloose'))])\n",
      "OrderedDict([('L1Seed', 'L1_EM15VHI'),\n",
      "             ('L2Calo', (14000.0, 'ringer_v8_vloose')),\n",
      "             ('L2', 'trig_L2_el_cut_pt15to20'),\n",
      "             ('EFCalo', 17000.0),\n",
      "             ('HLT', (17000.0, 'trig_EF_el_lhvloose'))])\n",
      "OrderedDict([('L1Seed', 'L1_EM22VHI'),\n",
      "             ('L2Calo', (25000.0, 'ringer_v8_tight')),\n",
      "             ('L2', 'trig_L2_el_cut_pt20to50'),\n",
      "             ('EFCalo', 28000.0),\n",
      "             ('HLT', (28000.0, 'trig_EF_el_lhtight_ivarloose'))])\n",
      "OrderedDict([('L1Seed', 'L1_EM24VHI'),\n",
      "             ('L2Calo', (57000.0, 'ringer_v8_medium')),\n",
      "             ('L2', 'trig_L2_el_cut_pt50toInf'),\n",
      "             ('EFCalo', 60000.0),\n",
      "             ('HLT', (60000.0, 'trig_EF_el_lhmedium'))])\n",
      "OrderedDict([('L1Seed', 'L1_EM24VHI'),\n",
      "             ('L2Calo', (137000.0, 'ringer_v8_loose')),\n",
      "             ('L2', 'trig_L2_el_cut_pt50toInf'),\n",
      "             ('EFCalo', 140000.0),\n",
      "             ('HLT', (140000.0, 'trig_EF_el_lhloose'))])\n",
      "OrderedDict([('L1Seed', 'L1_EM15VHI'),\n",
      "             ('L2Calo', (14000.0, 'ringer_v12_vloose')),\n",
      "             ('L2', 'trig_L2_el_cut_pt15to20'),\n",
      "             ('EFCalo', 17000.0),\n",
      "             ('HLT', (17000.0, 'trig_EF_el_lhvloose'))])\n",
      "OrderedDict([('L1Seed', 'L1_EM22VHI'),\n",
      "             ('L2Calo', (25000.0, 'ringer_v12_tight')),\n",
      "             ('L2', 'trig_L2_el_cut_pt20to50'),\n",
      "             ('EFCalo', 28000.0),\n",
      "             ('HLT', (28000.0, 'trig_EF_el_lhtight_ivarloose'))])\n",
      "OrderedDict([('L1Seed', 'L1_EM24VHI'),\n",
      "             ('L2Calo', (57000.0, 'ringer_v12_medium')),\n",
      "             ('L2', 'trig_L2_el_cut_pt50toInf'),\n",
      "             ('EFCalo', 60000.0),\n",
      "             ('HLT', (60000.0, 'trig_EF_el_lhmedium'))])\n",
      "OrderedDict([('L1Seed', 'L1_EM24VHI'),\n",
      "             ('L2Calo', (137000.0, 'ringer_v12_loose')),\n",
      "             ('L2', 'trig_L2_el_cut_pt50toInf'),\n",
      "             ('EFCalo', 140000.0),\n",
      "             ('HLT', (140000.0, 'trig_EF_el_lhloose'))])\n"
     ]
    }
   ],
   "source": [
    "# create my chain\n",
    "chains = [\n",
    "            Chain( \"HLT_e17_lhvloose_nod0_noringer_L1EM15VHI\", L1Seed = 'L1_EM15VHI' ),\n",
    "            Chain( \"HLT_e28_lhtight_nod0_noringer_ivarloose\", L1Seed = 'L1_EM22VHI' ),\n",
    "            Chain( \"HLT_e60_lhmedium_nod0_noringer_L1EM24VHI\", L1Seed = 'L1_EM24VHI' ),\n",
    "            Chain( \"HLT_e140_lhloose_nod0_noringer\" , L1Seed = 'L1_EM24VHI' ),\n",
    "]\n",
    "\n",
    "versions = ['v8','v12']\n",
    "\n",
    "for v in versions:\n",
    "    \n",
    "    chains.extend( [\n",
    "\n",
    "            Chain( \"HLT_e17_lhvloose_nod0_ringer_%s_L1EM15VHI\"%v, L1Seed = 'L1_EM15VHI' , l2calo_column = 'ringer_%s_vloose'%v),\n",
    "            Chain( \"HLT_e28_lhtight_nod0_ringer_%s_ivarloose\"%v, L1Seed = 'L1_EM22VHI' , l2calo_column = 'ringer_%s_tight'%v ),\n",
    "            Chain( \"HLT_e60_lhmedium_nod0_ringer_%s_L1EM24VHI\"%v, L1Seed = 'L1_EM24VHI' , l2calo_column = 'ringer_%s_medium'%v),\n",
    "            Chain( \"HLT_e140_lhloose_nod0_ringer_%s\"%v , L1Seed = 'L1_EM24VHI', l2calo_column = 'ringer_%s_loose'%v),\n",
    "\n",
    "    ])\n",
    "\n",
    "\n",
    "def emulate( df ):\n",
    "    for chain in progressbar(chains, prefix='Emulate...'):\n",
    "        chain.apply(df)"
   ]
  },
  {
   "cell_type": "markdown",
   "metadata": {},
   "source": [
    "# 2017:"
   ]
  },
  {
   "cell_type": "code",
   "execution_count": 4,
   "metadata": {},
   "outputs": [],
   "source": [
    "dpath   = '../data/output/data17_13TeV.AllPeriods.sgn.probes_lhvloose_EGAM1.bkg.vprobes_vlhvloose_EGAM7.GRL_v97.dataframe.h5'"
   ]
  },
  {
   "cell_type": "code",
   "execution_count": 5,
   "metadata": {},
   "outputs": [],
   "source": [
    "data_df = pd.concat( (load_hdf(dpath), \n",
    "                      load_hdf('v8/output/emulation/data17_table_v8.h5'),\n",
    "                      #load_hdf('v9/output/emulation/data17_table_v9.h5'),\n",
    "                      #load_hdf('v10/output/emulation/data17_table_v10.h5'),\n",
    "                      #load_hdf('v11/output/emulation/data17_table_v11.h5'),\n",
    "                      load_hdf('v12/output/emulation/data17_table_v12.h5'),\n",
    "                      #load_hdf('v13/output/emulation/data17_table_v13.h5'),\n",
    "                      #load_hdf('v14/output/emulation/data17_table_v14.h5'),\n",
    "                      #load_hdf('v15/output/emulation/data17_table_v15.h5'),\n",
    "\n",
    "                     ), axis=1)"
   ]
  },
  {
   "cell_type": "code",
   "execution_count": 6,
   "metadata": {},
   "outputs": [
    {
     "name": "stderr",
     "output_type": "stream",
     "text": [
      "Emulate...: 100%|██████████| 12/12 [04:21<00:00, 21.78s/it]\n"
     ]
    }
   ],
   "source": [
    "emulate(data_df)"
   ]
  },
  {
   "cell_type": "code",
   "execution_count": 7,
   "metadata": {},
   "outputs": [
    {
     "data": {
      "text/plain": [
       "(43311283, 160)"
      ]
     },
     "execution_count": 7,
     "metadata": {},
     "output_type": "execute_result"
    }
   ],
   "source": [
    "data_df.shape"
   ]
  },
  {
   "cell_type": "code",
   "execution_count": 8,
   "metadata": {},
   "outputs": [
    {
     "data": {
      "text/plain": [
       "(39861985, 160)"
      ]
     },
     "execution_count": 8,
     "metadata": {},
     "output_type": "execute_result"
    }
   ],
   "source": [
    "data_df = data_df.loc[ ((data_df['el_lhmedium']==True) & \n",
    "                    (data_df.target==1.0)) | ((data_df.target==0) & \n",
    "                    (data_df['el_lhvloose']==False) ) ]\n",
    "\n",
    "data_df.shape"
   ]
  },
  {
   "cell_type": "code",
   "execution_count": 9,
   "metadata": {},
   "outputs": [
    {
     "name": "stdout",
     "output_type": "stream",
     "text": [
      "e17_lhvloose_nod0_vX_L1EM15VHI\n",
      "+------------+---------+----------+---------+----------+\n",
      "|  version   | FA (L2) | FA (HLT) | PD (L2) | PD (HLT) |\n",
      "+------------+---------+----------+---------+----------+\n",
      "|  noringer  |  35.83  |   0.29   |  94.48  |  92.17   |\n",
      "| ringer_v8  |   2.24  |   0.17   |  94.66  |  92.34   |\n",
      "| ringer_v12 |   2.14  |   0.16   |  94.65  |  92.34   |\n",
      "+------------+---------+----------+---------+----------+\n",
      "e28_lhtight_nod0_vX_ivarloose\n",
      "+------------+---------+----------+---------+----------+\n",
      "|  version   | FA (L2) | FA (HLT) | PD (L2) | PD (HLT) |\n",
      "+------------+---------+----------+---------+----------+\n",
      "|  noringer  |  26.47  |   0.00   |  93.98  |  86.84   |\n",
      "| ringer_v8  |   0.84  |   0.00   |  94.22  |  87.01   |\n",
      "| ringer_v12 |   0.82  |   0.00   |  94.22  |  87.01   |\n",
      "+------------+---------+----------+---------+----------+\n",
      "e60_lhmedium_nod0_vX_L1EM24VHI\n",
      "+------------+---------+----------+---------+----------+\n",
      "|  version   | FA (L2) | FA (HLT) | PD (L2) | PD (HLT) |\n",
      "+------------+---------+----------+---------+----------+\n",
      "|  noringer  |  34.45  |   0.01   |  97.31  |  91.87   |\n",
      "| ringer_v8  |   0.83  |   0.00   |  97.36  |  91.90   |\n",
      "| ringer_v12 |   0.81  |   0.00   |  97.35  |  91.90   |\n",
      "+------------+---------+----------+---------+----------+\n",
      "e140_lhloose_nod0_vX\n",
      "+------------+---------+----------+---------+----------+\n",
      "|  version   | FA (L2) | FA (HLT) | PD (L2) | PD (HLT) |\n",
      "+------------+---------+----------+---------+----------+\n",
      "|  noringer  |  94.57  |   0.07   |  98.19  |  95.15   |\n",
      "| ringer_v8  |   2.06  |   0.05   |  98.16  |  95.14   |\n",
      "| ringer_v12 |   1.92  |   0.05   |  98.15  |  95.13   |\n",
      "+------------+---------+----------+---------+----------+\n"
     ]
    }
   ],
   "source": [
    "triggers = [ \n",
    "            'e17_lhvloose_nod0_%s_L1EM15VHI', \n",
    "            'e28_lhtight_nod0_%s_ivarloose',\n",
    "            'e60_lhmedium_nod0_%s_L1EM24VHI',\n",
    "            'e140_lhloose_nod0_%s'\n",
    "]\n",
    "pidnames = [\n",
    "            'el_lhvloose', \n",
    "            'el_lhtight', \n",
    "            'el_lhmedium',\n",
    "            'el_lhloose'\n",
    "]\n",
    "et_cuts  = [17, 28, 60, 140]\n",
    "versions = ['noringer','ringer_v8', 'ringer_v12']\n",
    "\n",
    "for idx, trigger in enumerate(triggers):\n",
    "    \n",
    "    t = PrettyTable( ['version', 'FA (L2)', 'FA (HLT)', 'PD (L2)',  'PD (HLT)'] )\n",
    "    \n",
    "    is_sgn = (data_df.target==1)&(data_df[pidnames[idx]]==True)&(data_df['el_et']>(et_cuts[idx]+1)*GeV)\n",
    "    is_bkg = (data_df.target==0)&(data_df['el_lhvloose']==False)&(data_df['el_et']>(et_cuts[idx]+1)*GeV)\n",
    "    \n",
    "    print(trigger%'vX')\n",
    "    for version in versions:\n",
    "        \n",
    "            values = [version]\n",
    "                \n",
    "            passed = len(data_df.loc[is_bkg&(data_df['L2Calo_'+trigger%version]==True)])\n",
    "            total  = len(data_df.loc[is_bkg])\n",
    "            fa = passed/total * 100           \n",
    "            #values.append( '%1.2f (%d/%d)'%(fa,passed,total) )\n",
    "            values.append( '%1.2f'%(fa))  \n",
    "\n",
    "\n",
    "            passed = len(data_df.loc[is_bkg&(data_df['HLT_'+trigger%version]==True)])\n",
    "            total  = len(data_df.loc[is_bkg])\n",
    "            fa = passed/total * 100           \n",
    "            #values.append( '%1.2f (%d/%d)'%(fa,passed,total) )\n",
    "            values.append( '%1.2f'%(fa))  \n",
    "\n",
    "            passed = len(data_df.loc[ is_sgn & (data_df['L2Calo_'+trigger%version]==True)])\n",
    "            total  = len(data_df.loc[is_sgn])\n",
    "            det = passed/total * 100\n",
    "            #values.append( '%1.2f (%d/%d)'%(det,passed,total) )\n",
    "            values.append( '%1.2f'%(det))  \n",
    "\n",
    "\n",
    "            passed = len(data_df.loc[ is_sgn & (data_df['HLT_'+trigger%version]==True)])\n",
    "            total  = len(data_df.loc[is_sgn])\n",
    "            det = passed/total * 100\n",
    "            #values.append( '%1.2f (%d/%d)'%(det,passed,total) )       \n",
    "            values.append( '%1.2f'%(det))  \n",
    "\n",
    "   \n",
    "\n",
    "            t.add_row(values)\n",
    "    print(t)\n"
   ]
  },
  {
   "cell_type": "code",
   "execution_count": null,
   "metadata": {},
   "outputs": [],
   "source": []
  },
  {
   "cell_type": "markdown",
   "metadata": {},
   "source": [
    "# 2018:"
   ]
  },
  {
   "cell_type": "code",
   "execution_count": 10,
   "metadata": {},
   "outputs": [],
   "source": [
    "dpath   = '../data/output/data18_13TeV.AllPeriods.sgn.probes_lhvloose_EGAM1.bkg.vprobes_vlhvloose_EGAM7.GRL_v97.dataframe.h5'"
   ]
  },
  {
   "cell_type": "code",
   "execution_count": 11,
   "metadata": {},
   "outputs": [],
   "source": [
    "data_df = pd.concat( (load_hdf(dpath), \n",
    "                      load_hdf('v8/output/emulation/data18_table_v8.h5'),\n",
    "                      load_hdf('v12/output/emulation/data18_table_v12.h5'),\n",
    "\n",
    "                     ), axis=1)"
   ]
  },
  {
   "cell_type": "code",
   "execution_count": 12,
   "metadata": {},
   "outputs": [
    {
     "name": "stderr",
     "output_type": "stream",
     "text": [
      "Emulate...: 100%|██████████| 12/12 [04:05<00:00, 20.42s/it]\n"
     ]
    }
   ],
   "source": [
    "emulate(data_df)"
   ]
  },
  {
   "cell_type": "code",
   "execution_count": 13,
   "metadata": {},
   "outputs": [
    {
     "data": {
      "text/plain": [
       "(38543015, 160)"
      ]
     },
     "execution_count": 13,
     "metadata": {},
     "output_type": "execute_result"
    }
   ],
   "source": [
    "data_df = data_df.loc[ ((data_df['el_lhmedium']==True) & \n",
    "                    (data_df.target==1.0)) | ((data_df.target==0) & \n",
    "                    (data_df['el_lhvloose']==False) ) ]\n",
    "\n",
    "data_df.shape"
   ]
  },
  {
   "cell_type": "code",
   "execution_count": 14,
   "metadata": {},
   "outputs": [
    {
     "name": "stdout",
     "output_type": "stream",
     "text": [
      "e17_lhvloose_nod0_vX_L1EM15VHI\n",
      "+------------+---------+----------+---------+----------+\n",
      "|  version   | FA (L2) | FA (HLT) | PD (L2) | PD (HLT) |\n",
      "+------------+---------+----------+---------+----------+\n",
      "|  noringer  |  36.80  |   1.02   |  94.45  |  92.34   |\n",
      "| ringer_v8  |   2.71  |   0.69   |  94.64  |  92.52   |\n",
      "| ringer_v12 |   2.61  |   0.68   |  94.63  |  92.52   |\n",
      "+------------+---------+----------+---------+----------+\n",
      "e28_lhtight_nod0_vX_ivarloose\n",
      "+------------+---------+----------+---------+----------+\n",
      "|  version   | FA (L2) | FA (HLT) | PD (L2) | PD (HLT) |\n",
      "+------------+---------+----------+---------+----------+\n",
      "|  noringer  |  27.30  |   0.06   |  93.93  |  87.38   |\n",
      "| ringer_v8  |   1.20  |   0.05   |  94.19  |  87.58   |\n",
      "| ringer_v12 |   1.18  |   0.05   |  94.20  |  87.60   |\n",
      "+------------+---------+----------+---------+----------+\n",
      "e60_lhmedium_nod0_vX_L1EM24VHI\n",
      "+------------+---------+----------+---------+----------+\n",
      "|  version   | FA (L2) | FA (HLT) | PD (L2) | PD (HLT) |\n",
      "+------------+---------+----------+---------+----------+\n",
      "|  noringer  |  34.98  |   0.08   |  97.31  |  92.14   |\n",
      "| ringer_v8  |   1.19  |   0.06   |  97.35  |  92.19   |\n",
      "| ringer_v12 |   1.16  |   0.06   |  97.37  |  92.21   |\n",
      "+------------+---------+----------+---------+----------+\n",
      "e140_lhloose_nod0_vX\n",
      "+------------+---------+----------+---------+----------+\n",
      "|  version   | FA (L2) | FA (HLT) | PD (L2) | PD (HLT) |\n",
      "+------------+---------+----------+---------+----------+\n",
      "|  noringer  |  94.64  |   0.43   |  98.20  |  95.45   |\n",
      "| ringer_v8  |   2.62  |   0.36   |  98.23  |  95.49   |\n",
      "| ringer_v12 |   2.48  |   0.36   |  98.21  |  95.47   |\n",
      "+------------+---------+----------+---------+----------+\n"
     ]
    }
   ],
   "source": [
    "triggers = [ \n",
    "            'e17_lhvloose_nod0_%s_L1EM15VHI', \n",
    "            'e28_lhtight_nod0_%s_ivarloose',\n",
    "            'e60_lhmedium_nod0_%s_L1EM24VHI',\n",
    "            'e140_lhloose_nod0_%s'\n",
    "]\n",
    "pidnames = [\n",
    "            'el_lhvloose', \n",
    "            'el_lhtight', \n",
    "            'el_lhmedium',\n",
    "            'el_lhloose'\n",
    "]\n",
    "et_cuts  = [17, 28, 60, 140]\n",
    "versions = ['noringer','ringer_v8', 'ringer_v12']\n",
    "\n",
    "\n",
    "for idx, trigger in enumerate(triggers):\n",
    "    \n",
    "    t = PrettyTable( ['version', 'FA (L2)', 'FA (HLT)', 'PD (L2)',  'PD (HLT)'] )\n",
    "\n",
    "\n",
    "    is_sgn = (data_df.target==1)&(data_df[pidnames[idx]]==True)&(data_df['el_et']>(et_cuts[idx]+1)*GeV)\n",
    "    is_bkg = (data_df.target==0)&(data_df['el_lhvloose']==False)&(data_df['el_et']>(et_cuts[idx]+1)*GeV)\n",
    "    \n",
    "    print(trigger%'vX')\n",
    "    for version in versions:\n",
    "        \n",
    "            values = [version]\n",
    "            passed = len(data_df.loc[is_bkg&(data_df['L2Calo_'+trigger%version]==True)])\n",
    "            total  = len(data_df.loc[is_bkg])\n",
    "            fa = passed/total * 100           \n",
    "            #values.append( '%1.2f (%d/%d)'%(fa,passed,total) )\n",
    "            values.append( '%1.2f'%(fa))  \n",
    "\n",
    "\n",
    "            passed = len(data_df.loc[is_bkg&(data_df['HLT_'+trigger%version]==True)])\n",
    "            total  = len(data_df.loc[is_bkg])\n",
    "            fa = passed/total * 100           \n",
    "            #values.append( '%1.2f (%d/%d)'%(fa,passed,total) )\n",
    "            values.append( '%1.2f'%(fa))  \n",
    "\n",
    "            passed = len(data_df.loc[ is_sgn & (data_df['L2Calo_'+trigger%version]==True)])\n",
    "            total  = len(data_df.loc[is_sgn])\n",
    "            det = passed/total * 100\n",
    "            #values.append( '%1.2f (%d/%d)'%(det,passed,total) )\n",
    "            values.append( '%1.2f'%(det))  \n",
    "\n",
    "\n",
    "            passed = len(data_df.loc[ is_sgn & (data_df['HLT_'+trigger%version]==True)])\n",
    "            total  = len(data_df.loc[is_sgn])\n",
    "            det = passed/total * 100\n",
    "            #values.append( '%1.2f (%d/%d)'%(det,passed,total) )       \n",
    "            values.append( '%1.2f'%(det))  \n",
    "\n",
    "\n",
    "\n",
    "\n",
    "            t.add_row(values)\n",
    "    print(t)"
   ]
  },
  {
   "cell_type": "code",
   "execution_count": null,
   "metadata": {},
   "outputs": [],
   "source": []
  },
  {
   "cell_type": "code",
   "execution_count": null,
   "metadata": {},
   "outputs": [],
   "source": []
  },
  {
   "cell_type": "code",
   "execution_count": null,
   "metadata": {},
   "outputs": [],
   "source": []
  },
  {
   "cell_type": "code",
   "execution_count": null,
   "metadata": {},
   "outputs": [],
   "source": []
  },
  {
   "cell_type": "code",
   "execution_count": null,
   "metadata": {},
   "outputs": [],
   "source": []
  }
 ],
 "metadata": {
  "kernelspec": {
   "display_name": "Python 3",
   "language": "python",
   "name": "python3"
  },
  "language_info": {
   "codemirror_mode": {
    "name": "ipython",
    "version": 3
   },
   "file_extension": ".py",
   "mimetype": "text/x-python",
   "name": "python",
   "nbconvert_exporter": "python",
   "pygments_lexer": "ipython3",
   "version": "3.6.9"
  }
 },
 "nbformat": 4,
 "nbformat_minor": 4
}
