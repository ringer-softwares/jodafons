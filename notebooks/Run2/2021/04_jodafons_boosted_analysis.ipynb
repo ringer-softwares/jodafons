{
 "cells": [
  {
   "cell_type": "markdown",
   "id": "ca2f7274-f3c9-4920-8846-f57206e7ce34",
   "metadata": {},
   "source": [
    "# Boosted Analysis"
   ]
  },
  {
   "cell_type": "code",
   "execution_count": 1,
   "id": "59967f39-befe-42c6-b8aa-c81bcc13734b",
   "metadata": {},
   "outputs": [
    {
     "name": "stdout",
     "output_type": "stream",
     "text": [
      "Welcome to JupyROOT 6.16/00\n",
      "Using all sub packages with ROOT dependence\n",
      "INFO: Pandarallel will run on 40 workers.\n",
      "INFO: Pandarallel will use Memory file system to transfer data between the main process and workers.\n",
      "\n",
      "Applying ATLAS style settings...\n",
      "\n",
      "Applying ATLAS style settings...\n",
      "\n",
      "Applying ATLAS style settings...\n"
     ]
    }
   ],
   "source": [
    "from kepler.pandas.menu       import ElectronSequence as Chain\n",
    "from kepler.pandas.readers    import load, load_in_loop, load_hdf\n",
    "from kepler.pandas.decorators import RingerDecorator\n",
    "from core import Efficiency, restore_efficiencies\n",
    "from Gaugi import mkdir_p, progressbar\n",
    "import numpy as np\n",
    "import pandas as pd\n",
    "import collections\n",
    "import os\n",
    "import array\n",
    "import root_numpy\n",
    "import rootplotlib as rpl\n",
    "from pprint import pprint\n",
    "from copy import deepcopy\n",
    "import gc\n",
    "from ROOT import kBlack,kBlue,kRed,kAzure,kGreen,kMagenta,kCyan,kOrange,kGray,kYellow,kWhite,TColor,gStyle,TCanvas,kBlackBody\n",
    "import ROOT\n",
    "os.environ['TF_CPP_MIN_LOG_LEVEL'] = '3'\n",
    "\n",
    "\n",
    "%config InlineBackend.figure_format = 'retina'\n",
    "%load_ext autoreload\n",
    "%autoreload 2"
   ]
  },
  {
   "cell_type": "code",
   "execution_count": 2,
   "id": "c502c24a-e695-42d8-b4d8-7dd5738a7919",
   "metadata": {},
   "outputs": [
    {
     "data": {
      "text/plain": [
       "'/home/jodafons/git_repos/ringer/run/jodafons/notebooks/Run2/2021'"
      ]
     },
     "execution_count": 2,
     "metadata": {},
     "output_type": "execute_result"
    }
   ],
   "source": [
    "os.getcwd()"
   ]
  },
  {
   "cell_type": "code",
   "execution_count": 3,
   "id": "fe0d0efd-c2b5-49f8-8800-989d51ffe2ce",
   "metadata": {},
   "outputs": [],
   "source": [
    "output_path = 'output/boosted'\n",
    "mkdir_p(output_path)"
   ]
  },
  {
   "cell_type": "code",
   "execution_count": 4,
   "id": "cb12c332-5f25-457a-a8a0-55bddf7177f8",
   "metadata": {},
   "outputs": [],
   "source": [
    "drop_columns = [\n",
    "                    #'RunNumber', \n",
    "                    #'avgmu',\n",
    "                    #'trig_L2_cl_et',\n",
    "                    #'trig_L2_cl_eta',\n",
    "                    #'trig_L2_cl_phi',\n",
    "                    #'trig_L2_cl_reta',\n",
    "                    #'trig_L2_cl_ehad1', \n",
    "                    #'trig_L2_cl_eratio',\n",
    "                    #'trig_L2_cl_f1', \n",
    "                    #'trig_L2_cl_f3', \n",
    "                    #'trig_L2_cl_weta2', \n",
    "                    #'trig_L2_cl_wstot', \n",
    "                    'trig_L2_cl_e2tsts1',\n",
    "                    'trig_L2_el_hastrack',\n",
    "                    'trig_L2_el_pt',\n",
    "                    'trig_L2_el_eta',\n",
    "                    'trig_L2_el_phi',\n",
    "                    'trig_L2_el_caloEta',\n",
    "                    'trig_L2_el_trkClusDeta',\n",
    "                    'trig_L2_el_trkClusDphi',\n",
    "                    'trig_L2_el_etOverPt',\n",
    "                    'trig_EF_cl_hascluster',\n",
    "                    #'trig_EF_cl_et',\n",
    "                    'trig_EF_cl_eta',\n",
    "                    'trig_EF_cl_etaBE2',\n",
    "                    'trig_EF_cl_phi',     \n",
    "                    'trig_EF_el_hascand',\n",
    "                    #'trig_EF_el_et',\n",
    "                    'trig_EF_el_eta',\n",
    "                    'trig_EF_el_etaBE2',\n",
    "                    'trig_EF_el_phi',\n",
    "                    'trig_EF_el_rhad1',\n",
    "                    'trig_EF_el_rhad',\n",
    "                    'trig_EF_el_f3',\n",
    "                    'trig_EF_el_weta2',\n",
    "                    'trig_EF_el_rphi',\n",
    "                    'trig_EF_el_reta',\n",
    "                    'trig_EF_el_wtots1',\n",
    "                    'trig_EF_el_eratio',\n",
    "                    'trig_EF_el_f1',\n",
    "                    'trig_EF_el_hastrack',\n",
    "                    'trig_EF_el_deltaEta1',\n",
    "                    'trig_EF_el_deltaPhi2',\n",
    "                    'trig_EF_el_deltaPhi2Rescaled',\n",
    "                    #'trig_EF_el_lhtight',\n",
    "                    #'trig_EF_el_lhmedium',\n",
    "                    #'trig_EF_el_lhloose',\n",
    "                    #'trig_EF_el_lhvloose', \n",
    "                    # Offline variables\n",
    "                    #'el_et',\n",
    "                    #'el_eta',\n",
    "                    'el_etaBE2',\n",
    "                    #'el_phi',\n",
    "                    # offline shower shapers\n",
    "                    #'el_rhad1',\n",
    "                    #'el_rhad',\n",
    "                    #'el_f3',\n",
    "                    #'el_weta2',\n",
    "                    #'el_rphi',\n",
    "                    #'el_reta',\n",
    "                    #'el_wtots1',\n",
    "                    #'el_eratio',\n",
    "                    #'el_f1',\n",
    "                    # offline track\n",
    "                    #'el_hastrack',\n",
    "                    'el_numberOfBLayerHits',\n",
    "                    'el_numberOfPixelHits',\n",
    "                    'el_numberOfTRTHits',\n",
    "                    #'el_d0',\n",
    "                    #'el_d0significance',\n",
    "                    #'el_eProbabilityHT',\n",
    "                    'el_trans_TRT_PID',\n",
    "                    #'el_deltaEta1',\n",
    "                    'el_deltaPhi2',\n",
    "                    #'el_deltaPhi2Rescaled',\n",
    "                    #'el_deltaPOverP',\n",
    "                    #'el_lhtight',\n",
    "                    #'el_lhmedium',\n",
    "                    #'el_lhloose',\n",
    "                    #'el_lhvloose',\n",
    "                    'el_TaP_Mass',\n",
    "                    #'el_TaP_deltaR',\n",
    "                ] \n",
    "\n",
    "drop_columns.extend( ['trig_L2_cl_ring_%d'%i for i in range(100)] )"
   ]
  },
  {
   "cell_type": "code",
   "execution_count": 5,
   "id": "c9b573e5-0b9a-4333-9f6b-5db0641addb7",
   "metadata": {},
   "outputs": [],
   "source": [
    "def load_in_loop( paths, drop_columns ):\n",
    "    tables = []\n",
    "    for path in progressbar( paths, prefix='Reading files...'):\n",
    "        df = load_hdf( path )\n",
    "        df.drop( drop_columns, axis=1, inplace=True )    \n",
    "        tables.append(df)\n",
    "    return pd.concat(tables).reset_index(drop=True)"
   ]
  },
  {
   "cell_type": "code",
   "execution_count": 6,
   "id": "366c90a2-2070-4548-a1de-08bb5332a3e3",
   "metadata": {},
   "outputs": [
    {
     "name": "stderr",
     "output_type": "stream",
     "text": [
      "Reading files...: 100%|██████████| 5/5 [00:01<00:00,  3.61it/s]\n"
     ]
    }
   ],
   "source": [
    "dpath = '/home/jodafons/public/cern_data/new_files/mc16_13TeV.309995.sgn.boosted_probes.GGF_radion_ZZ_llqq.merge.25bins.v3'\n",
    "dpath+= '/mc16_13TeV.309995.sgn.boosted_probes.GGF_radion_ZZ_llqq.merge.25bins.v3_et{ET}_eta{ETA}.h5'\n",
    "paths = []\n",
    "for et in [4]:\n",
    "    for eta in range(5):\n",
    "        paths.append( dpath.format(ET=et,ETA=eta) )\n",
    "my_df = load_in_loop(paths, drop_columns)"
   ]
  },
  {
   "cell_type": "markdown",
   "id": "96266785-6070-4cd2-ae62-6772b4e41859",
   "metadata": {},
   "source": [
    "## Decorator:"
   ]
  },
  {
   "cell_type": "code",
   "execution_count": 7,
   "id": "64daaa2e-8a15-4732-a7d4-41c82a359e4f",
   "metadata": {},
   "outputs": [],
   "source": [
    "def generator_v8( df ):\n",
    "    columns= ['trig_L2_cl_ring_%d'%i for i in range(100)]\n",
    "    rings = df[columns].values.astype(np.float32)\n",
    "    def norm1( data ):\n",
    "        norms = np.abs( data.sum(axis=1) )\n",
    "        norms[norms==0] = 1\n",
    "        return data/norms[:,None]\n",
    "    rings = norm1(rings)\n",
    "    return [rings]\n",
    "\n",
    "def generator_v12( df ):\n",
    "\n",
    "    \n",
    "    # for new training, we selected 1/2 of rings in each layer\n",
    "    #pre-sample - 8 rings\n",
    "    # EM1 - 64 rings\n",
    "    # EM2 - 8 rings\n",
    "    # EM3 - 8 rings\n",
    "    # Had1 - 4 rings\n",
    "    # Had2 - 4 rings\n",
    "    # Had3 - 4 rings\n",
    "    prefix = 'trig_L2_cl_ring_%i'\n",
    "\n",
    "    # rings presmaple \n",
    "    presample = [prefix %iring for iring in range(8//2)]\n",
    "    # EM1 list\n",
    "    sum_rings = 8\n",
    "    em1 = [prefix %iring for iring in range(sum_rings, sum_rings+(64//2))]\n",
    "    # EM2 list\n",
    "    sum_rings = 8+64\n",
    "    em2 = [prefix %iring for iring in range(sum_rings, sum_rings+(8//2))]\n",
    "    # EM3 list\n",
    "    sum_rings = 8+64+8\n",
    "    em3 = [prefix %iring for iring in range(sum_rings, sum_rings+(8//2))]\n",
    "    # HAD1 list\n",
    "    sum_rings = 8+64+8+8\n",
    "    had1 = [prefix %iring for iring in range(sum_rings, sum_rings+(4//2))]\n",
    "    # HAD2 list\n",
    "    sum_rings = 8+64+8+8+4\n",
    "    had2 = [prefix %iring for iring in range(sum_rings, sum_rings+(4//2))]\n",
    "    # HAD3 list\n",
    "    sum_rings = 8+64+8+8+4+4\n",
    "    had3 = [prefix %iring for iring in range(sum_rings, sum_rings+(4//2))]\n",
    "    col_names = presample+em1+em2+em3+had1+had2+had3\n",
    "    rings = df[col_names].values.astype(np.float32)\n",
    "\n",
    "    def norm1( data ):\n",
    "        norms = np.abs( data.sum(axis=1) )\n",
    "        norms[norms==0] = 1\n",
    "        return data/norms[:,None]\n",
    "    \n",
    "    target = df['target'].values.astype(np.int16)\n",
    "    data_rings = norm1(rings)\n",
    "    avgmu = df.avgmu.values\n",
    "  \n",
    "    return [data_rings]\n",
    "\n",
    "\n",
    "def generator_v2_el(df):\n",
    "    \n",
    "    # for new training, we selected 1/2 of rings in each layer\n",
    "    #pre-sample - 8 rings\n",
    "    # EM1 - 64 rings\n",
    "    # EM2 - 8 rings\n",
    "    # EM3 - 8 rings\n",
    "    # Had1 - 4 rings\n",
    "    # Had2 - 4 rings\n",
    "    # Had3 - 4 rings\n",
    "    prefix = 'trig_L2_cl_ring_%i'\n",
    "\n",
    "    # rings presmaple \n",
    "    presample = [prefix %iring for iring in range(8//2)]\n",
    "    # EM1 list\n",
    "    sum_rings = 8\n",
    "    em1 = [prefix %iring for iring in range(sum_rings, sum_rings+(64//2))]\n",
    "    # EM2 list\n",
    "    sum_rings = 8+64\n",
    "    em2 = [prefix %iring for iring in range(sum_rings, sum_rings+(8//2))]\n",
    "    # EM3 list\n",
    "    sum_rings = 8+64+8\n",
    "    em3 = [prefix %iring for iring in range(sum_rings, sum_rings+(8//2))]\n",
    "    # HAD1 list\n",
    "    sum_rings = 8+64+8+8\n",
    "    had1 = [prefix %iring for iring in range(sum_rings, sum_rings+(4//2))]\n",
    "    # HAD2 list\n",
    "    sum_rings = 8+64+8+8+4\n",
    "    had2 = [prefix %iring for iring in range(sum_rings, sum_rings+(4//2))]\n",
    "    # HAD3 list\n",
    "    sum_rings = 8+64+8+8+4+4\n",
    "    had3 = [prefix %iring for iring in range(sum_rings, sum_rings+(4//2))]\n",
    "    col_names = presample+em1+em2+em3+had1+had2+had3\n",
    "    rings = df[col_names].values.astype(np.float32)\n",
    "\n",
    "    def norm1( data ):\n",
    "        norms = np.abs( data.sum(axis=1) )\n",
    "        norms[norms==0] = 1\n",
    "        return data/norms[:,None]\n",
    "    \n",
    "    target = df['target'].values.astype(np.int16)\n",
    "    data_rings = norm1(rings)\n",
    "    avgmu = df.avgmu.values\n",
    "\n",
    "    n = data_rings.shape[0]\n",
    "    data_etOverPt = df['trig_L2_el_etOverPt'].astype(np.float32).to_numpy().reshape((n,1))  / 1\n",
    "    data_deta     = df['trig_L2_el_trkClusDeta'].astype(np.float32).to_numpy().reshape((n,1))  / 1.\n",
    "    data_dphi     = df['trig_L2_el_trkClusDphi'].astype(np.float32).to_numpy().reshape((n,1))  / 1.\n",
    "    data_trk    = np.concatenate( (data_etOverPt, data_deta, data_dphi), axis=1)\n",
    " \n",
    "    return [data_rings, data_trk]"
   ]
  },
  {
   "cell_type": "code",
   "execution_count": 8,
   "id": "716b0e51-781f-4fe8-8e23-0dd80be5c819",
   "metadata": {},
   "outputs": [
    {
     "data": {
      "text/plain": [
       "'/home/jodafons/git_repos/ringer/run/jodafons/notebooks/Run2/2021'"
      ]
     },
     "execution_count": 8,
     "metadata": {},
     "output_type": "execute_result"
    }
   ],
   "source": [
    "os.getcwd()"
   ]
  },
  {
   "cell_type": "code",
   "execution_count": 9,
   "id": "1979e02f-405b-47be-8f47-41a89f72a98a",
   "metadata": {},
   "outputs": [
    {
     "name": "stdout",
     "output_type": "stream",
     "text": [
      "2022-03-29 00:05:40,951 | Py.RingerDecorator                      INFO Reading... v8/output/fitting/ElectronRingerTightTriggerConfig.conf\n",
      "2022-03-29 00:05:42,632 | Py.RingerDecorator                      INFO Reading... v8/output/fitting/ElectronRingerMediumTriggerConfig.conf\n",
      "2022-03-29 00:05:43,555 | Py.RingerDecorator                      INFO Reading... v8/output/fitting/ElectronRingerLooseTriggerConfig.conf\n",
      "2022-03-29 00:05:44,417 | Py.RingerDecorator                      INFO Reading... v8/output/fitting/ElectronRingerVeryLooseTriggerConfig.conf\n",
      "2022-03-29 00:05:44,993 | Py.RingerDecorator                      INFO Reading... v12/output/fitting/ElectronRingerTightTriggerConfig.conf\n",
      "2022-03-29 00:05:45,619 | Py.RingerDecorator                      INFO Reading... v12/output/fitting/ElectronRingerMediumTriggerConfig.conf\n",
      "2022-03-29 00:05:46,316 | Py.RingerDecorator                      INFO Reading... v12/output/fitting/ElectronRingerLooseTriggerConfig.conf\n",
      "2022-03-29 00:05:47,098 | Py.RingerDecorator                      INFO Reading... v12/output/fitting/ElectronRingerVeryLooseTriggerConfig.conf\n",
      "2022-03-29 00:05:47,529 | Py.RingerDecorator                      INFO Reading... v2_el/output/fitting/ElectronRingerLooseTriggerConfig.conf\n"
     ]
    }
   ],
   "source": [
    "tpath = 'v8/output/fitting'\n",
    "decorators = [\n",
    "    RingerDecorator('ringer_v8_tight' , tpath + '/ElectronRingerTightTriggerConfig.conf'    , generator_v8),\n",
    "    RingerDecorator('ringer_v8_medium', tpath + '/ElectronRingerMediumTriggerConfig.conf'   , generator_v8),\n",
    "    RingerDecorator('ringer_v8_loose' , tpath + '/ElectronRingerLooseTriggerConfig.conf'    , generator_v8),\n",
    "    RingerDecorator('ringer_v8_vloose', tpath + '/ElectronRingerVeryLooseTriggerConfig.conf', generator_v8),\n",
    "]\n",
    "tpath = 'v12/output/fitting'\n",
    "decorators.extend( [\n",
    "    RingerDecorator('ringer_v12_tight' , tpath + '/ElectronRingerTightTriggerConfig.conf'    , generator_v12),\n",
    "    RingerDecorator('ringer_v12_medium', tpath + '/ElectronRingerMediumTriggerConfig.conf'   , generator_v12),\n",
    "    RingerDecorator('ringer_v12_loose' , tpath + '/ElectronRingerLooseTriggerConfig.conf'    , generator_v12),\n",
    "    RingerDecorator('ringer_v12_vloose', tpath + '/ElectronRingerVeryLooseTriggerConfig.conf', generator_v12),\n",
    "] )\n",
    "\n",
    "tpath = 'v2_el/output/fitting'\n",
    "decorators.extend( [\n",
    "    RingerDecorator('ringer_v2_el_loose' , tpath + '/ElectronRingerLooseTriggerConfig.conf'    , generator_v2_el),\n",
    "] )"
   ]
  },
  {
   "cell_type": "code",
   "execution_count": 10,
   "id": "b9db3428-c174-4a4c-a242-e7f9c974a7e2",
   "metadata": {},
   "outputs": [],
   "source": [
    "def load_in_loop( paths, decorators ):\n",
    "\n",
    "    tables = []\n",
    "    for path in progressbar( paths, prefix='Reading files...'):\n",
    "        df = load_hdf( path )\n",
    "        hold_these_columns = []\n",
    "        for decorator in decorators:\n",
    "            decorator.apply(df) \n",
    "            hold_these_columns.append(decorator.column)\n",
    "            hold_these_columns.append(decorator.column + '_output')\n",
    "            \n",
    "        tables.append(df[hold_these_columns])\n",
    "\n",
    "    return pd.concat(tables).reset_index(drop=True)\n"
   ]
  },
  {
   "cell_type": "code",
   "execution_count": 20,
   "id": "9ef17eb5-de24-47ca-91db-f3c4b058ed93",
   "metadata": {},
   "outputs": [
    {
     "name": "stderr",
     "output_type": "stream",
     "text": [
      "Reading files...: 100%|██████████| 5/5 [00:01<00:00,  2.82it/s]\n"
     ]
    }
   ],
   "source": [
    "os.environ['TF_CPP_MIN_LOG_LEVEL'] = '2'\n",
    "my_dec_df = load_in_loop( paths, decorators )"
   ]
  },
  {
   "cell_type": "code",
   "execution_count": 21,
   "id": "c9cde381-f50e-4094-afc5-c7af62557a2b",
   "metadata": {},
   "outputs": [],
   "source": [
    "my_data = pd.concat( (my_df, my_dec_df), axis=1 )"
   ]
  },
  {
   "cell_type": "code",
   "execution_count": 22,
   "id": "05e977ad-e175-4edb-98ef-a257ff36a89d",
   "metadata": {},
   "outputs": [
    {
     "name": "stdout",
     "output_type": "stream",
     "text": [
      "OrderedDict([('L1Seed', 'L1_EM15VHI'),\n",
      "             ('L2Calo', (14000.0, 'trig_L2_cl_vloose_et12to22')),\n",
      "             ('L2', 'trig_L2_el_cut_pt15to20'),\n",
      "             ('EFCalo', 17000.0),\n",
      "             ('HLT', (17000.0, 'trig_EF_el_lhvloose'))])\n",
      "OrderedDict([('L1Seed', 'L1_EM22VHI'),\n",
      "             ('L2Calo', (25000.0, 'trig_L2_cl_tight_et22toInf')),\n",
      "             ('L2', 'trig_L2_el_cut_pt20to50'),\n",
      "             ('EFCalo', 28000.0),\n",
      "             ('HLT', (28000.0, 'trig_EF_el_lhtight_ivarloose'))])\n",
      "OrderedDict([('L1Seed', 'L1_EM24VHI'),\n",
      "             ('L2Calo', (57000.0, 'trig_L2_cl_medium_et22toInf')),\n",
      "             ('L2', 'trig_L2_el_cut_pt50toInf'),\n",
      "             ('EFCalo', 60000.0),\n",
      "             ('HLT', (60000.0, 'trig_EF_el_lhmedium'))])\n",
      "OrderedDict([('L1Seed', 'L1_EM24VHI'),\n",
      "             ('L2Calo', (137000.0, 'trig_L2_cl_loose_et22toInf')),\n",
      "             ('L2', 'trig_L2_el_cut_pt50toInf'),\n",
      "             ('EFCalo', 140000.0),\n",
      "             ('HLT', (140000.0, 'trig_EF_el_lhloose'))])\n",
      "OrderedDict([('L1Seed', 'L1_EM15VHI'),\n",
      "             ('L2Calo', (14000.0, 'ringer_v12_vloose')),\n",
      "             ('L2', 'ringer_v2_el_loose'),\n",
      "             ('EFCalo', 17000.0),\n",
      "             ('HLT', (17000.0, 'trig_EF_el_lhvloose'))])\n",
      "OrderedDict([('L1Seed', 'L1_EM22VHI'),\n",
      "             ('L2Calo', (25000.0, 'ringer_v12_tight')),\n",
      "             ('L2', 'ringer_v2_el_loose'),\n",
      "             ('EFCalo', 28000.0),\n",
      "             ('HLT', (28000.0, 'trig_EF_el_lhtight_ivarloose'))])\n",
      "OrderedDict([('L1Seed', 'L1_EM24VHI'),\n",
      "             ('L2Calo', (57000.0, 'ringer_v12_medium')),\n",
      "             ('L2', 'ringer_v2_el_loose'),\n",
      "             ('EFCalo', 60000.0),\n",
      "             ('HLT', (60000.0, 'trig_EF_el_lhmedium'))])\n",
      "OrderedDict([('L1Seed', 'L1_EM24VHI'),\n",
      "             ('L2Calo', (137000.0, 'ringer_v12_loose')),\n",
      "             ('L2', 'ringer_v2_el_loose'),\n",
      "             ('EFCalo', 140000.0),\n",
      "             ('HLT', (140000.0, 'trig_EF_el_lhloose'))])\n",
      "OrderedDict([('L1Seed', 'L1_EM15VHI'),\n",
      "             ('L2Calo', (14000.0, 'ringer_v8_vloose')),\n",
      "             ('L2', 'trig_L2_el_cut_pt15to20'),\n",
      "             ('EFCalo', 17000.0),\n",
      "             ('HLT', (17000.0, 'trig_EF_el_lhvloose'))])\n",
      "OrderedDict([('L1Seed', 'L1_EM22VHI'),\n",
      "             ('L2Calo', (25000.0, 'ringer_v8_tight')),\n",
      "             ('L2', 'trig_L2_el_cut_pt20to50'),\n",
      "             ('EFCalo', 28000.0),\n",
      "             ('HLT', (28000.0, 'trig_EF_el_lhtight_ivarloose'))])\n",
      "OrderedDict([('L1Seed', 'L1_EM24VHI'),\n",
      "             ('L2Calo', (57000.0, 'ringer_v8_medium')),\n",
      "             ('L2', 'trig_L2_el_cut_pt50toInf'),\n",
      "             ('EFCalo', 60000.0),\n",
      "             ('HLT', (60000.0, 'trig_EF_el_lhmedium'))])\n",
      "OrderedDict([('L1Seed', 'L1_EM24VHI'),\n",
      "             ('L2Calo', (137000.0, 'ringer_v8_loose')),\n",
      "             ('L2', 'trig_L2_el_cut_pt50toInf'),\n",
      "             ('EFCalo', 140000.0),\n",
      "             ('HLT', (140000.0, 'trig_EF_el_lhloose'))])\n",
      "OrderedDict([('L1Seed', 'L1_EM15VHI'),\n",
      "             ('L2Calo', (14000.0, 'ringer_v12_vloose')),\n",
      "             ('L2', 'trig_L2_el_cut_pt15to20'),\n",
      "             ('EFCalo', 17000.0),\n",
      "             ('HLT', (17000.0, 'trig_EF_el_lhvloose'))])\n",
      "OrderedDict([('L1Seed', 'L1_EM22VHI'),\n",
      "             ('L2Calo', (25000.0, 'ringer_v12_tight')),\n",
      "             ('L2', 'trig_L2_el_cut_pt20to50'),\n",
      "             ('EFCalo', 28000.0),\n",
      "             ('HLT', (28000.0, 'trig_EF_el_lhtight_ivarloose'))])\n",
      "OrderedDict([('L1Seed', 'L1_EM24VHI'),\n",
      "             ('L2Calo', (57000.0, 'ringer_v12_medium')),\n",
      "             ('L2', 'trig_L2_el_cut_pt50toInf'),\n",
      "             ('EFCalo', 60000.0),\n",
      "             ('HLT', (60000.0, 'trig_EF_el_lhmedium'))])\n",
      "OrderedDict([('L1Seed', 'L1_EM24VHI'),\n",
      "             ('L2Calo', (137000.0, 'ringer_v12_loose')),\n",
      "             ('L2', 'trig_L2_el_cut_pt50toInf'),\n",
      "             ('EFCalo', 140000.0),\n",
      "             ('HLT', (140000.0, 'trig_EF_el_lhloose'))])\n"
     ]
    }
   ],
   "source": [
    "# create my chain\n",
    "\n",
    "versions = ['v8', 'v12']\n",
    "\n",
    "chains = [\n",
    "    Chain( \"HLT_e17_lhvloose_nod0_noringer_L1EM15VHI\", L1Seed = 'L1_EM15VHI' ),\n",
    "    Chain( \"HLT_e28_lhtight_nod0_noringer_ivarloose\", L1Seed = 'L1_EM22VHI' ),\n",
    "    Chain( \"HLT_e60_lhmedium_nod0_noringer_L1EM24VHI\", L1Seed = 'L1_EM24VHI' ),\n",
    "    Chain( \"HLT_e140_lhloose_nod0_noringer\" , L1Seed = 'L1_EM24VHI' ), \n",
    "    Chain( \"HLT_e17_lhvloose_nod0_ringer_v17_L1EM15VHI\"    , L1Seed = 'L1_EM15VHI' , l2calo_column = 'ringer_v12_vloose',l2_column = 'ringer_v2_el_loose'),\n",
    "    Chain( \"HLT_e28_lhtight_nod0_ringer_v17_ivarloose\"     , L1Seed = 'L1_EM22VHI' , l2calo_column = 'ringer_v12_tight' ,l2_column = 'ringer_v2_el_loose'),\n",
    "    Chain( \"HLT_e60_lhmedium_nod0_ringer_v17_L1EM24VHI\"    , L1Seed = 'L1_EM24VHI' , l2calo_column = 'ringer_v12_medium',l2_column = 'ringer_v2_el_loose'),\n",
    "    Chain( \"HLT_e140_lhloose_nod0_ringer_v17\"              , L1Seed = 'L1_EM24VHI' , l2calo_column = 'ringer_v12_loose' ,l2_column = 'ringer_v2_el_loose'),\n",
    "]\n",
    "\n",
    "for v in versions:\n",
    "    chains.extend(\n",
    "    [\n",
    "    Chain( \"HLT_e17_lhvloose_nod0_ringer_%s_L1EM15VHI\"%v, L1Seed = 'L1_EM15VHI' , \n",
    "          l2calo_column = 'ringer_%s_vloose'%v),\n",
    "    Chain( \"HLT_e28_lhtight_nod0_ringer_%s_ivarloose\"%v, L1Seed = 'L1_EM22VHI' , \n",
    "          l2calo_column = 'ringer_%s_tight'%v),\n",
    "    Chain( \"HLT_e60_lhmedium_nod0_ringer_%s_L1EM24VHI\"%v, L1Seed = 'L1_EM24VHI' , \n",
    "          l2calo_column = 'ringer_%s_medium'%v),\n",
    "    Chain( \"HLT_e140_lhloose_nod0_ringer_%s\"%v , L1Seed = 'L1_EM24VHI', \n",
    "          l2calo_column = 'ringer_%s_loose'%v),\n",
    "    ]\n",
    "    )\n",
    "\n",
    "\n",
    "\n",
    "def emulate( df ):\n",
    "    for chain in progressbar(chains, prefix='Emulate...'):\n",
    "        chain.apply(df)"
   ]
  },
  {
   "cell_type": "code",
   "execution_count": 23,
   "id": "1d52e210-b09e-431c-8141-4aeceab0d39f",
   "metadata": {},
   "outputs": [
    {
     "name": "stderr",
     "output_type": "stream",
     "text": [
      "Emulate...: 100%|██████████| 16/16 [00:00<00:00, 102.52it/s]\n"
     ]
    }
   ],
   "source": [
    "emulate(my_data)"
   ]
  },
  {
   "cell_type": "markdown",
   "id": "dd794428-2d03-4179-9670-8e7f7de75ba7",
   "metadata": {},
   "source": [
    "## Make Plots:"
   ]
  },
  {
   "cell_type": "code",
   "execution_count": 24,
   "id": "05d2cf19-65af-4c81-9f65-01de212ee306",
   "metadata": {},
   "outputs": [],
   "source": [
    "def hist1d( name, values, bins, density=False ):\n",
    "    H, _ = np.histogram(values, bins=bins, density=density )\n",
    "    hist = ROOT.TH1F( name, '', len(bins)-1, array.array('d',bins))\n",
    "    root_numpy.array2hist(H, hist)\n",
    "    return hist\n",
    "\n",
    "def get_profile( df, trigger, bins, target, etcut, pidname=None ):\n",
    "    if pidname:\n",
    "        num = df.loc[(df[trigger]==True) & (df['el_et']/1000 >= etcut) & (df['target']==target) &\n",
    "                   (df[pidname]==True)]['el_TaP_deltaR'].values\n",
    "        den = df.loc[(df[pidname]==True) & (df['target']==target) & \n",
    "                     (df['el_et']/1000 >= etcut)][ 'el_TaP_deltaR'].values\n",
    "    else:\n",
    "        num = df.loc[(df[trigger]==True) & (df['el_et']/1000 >= etcut) & (df['target']==target)\n",
    "                     ][ 'el_TaP_deltaR'].values\n",
    "        den = df.loc[(df['target']==target) & (df['el_et']/1000 >= etcut)][ 'el_TaP_deltaR'].values  \n",
    "        \n",
    "    h_num = hist1d('et_num', num, bins )\n",
    "    h_den = hist1d('et_den', den, bins )\n",
    "    h_eff = rpl.hist1d.divide(h_num,h_den)  \n",
    "    return h_eff\n",
    "\n",
    "def get_profile_et( df, trigger, bins, target, etcut, pidname=None ):\n",
    "    if pidname:\n",
    "        num = df.loc[(df[trigger]==True) & (df['el_et']/1000 >= etcut) & (df['target']==target) &\n",
    "                   (df[pidname]==True)]['el_et'].values/1000\n",
    "        den = df.loc[(df[pidname]==True) & (df['target']==target) & \n",
    "                     (df['el_et']/1000 >= etcut)][ 'el_et'].values/1000\n",
    "    else:\n",
    "        num = df.loc[(df[trigger]==True) & (df['el_et']/1000 >= etcut) & (df['target']==target)\n",
    "                     ][ 'el_et'].values/1000\n",
    "        den = df.loc[(df['target']==target) & (df['el_et']/1000 >= etcut)][ 'el_et'].values/1000\n",
    "        \n",
    "    h_num = hist1d('et_num', num, bins )\n",
    "    h_den = hist1d('et_den', den, bins )\n",
    "    h_eff = rpl.hist1d.divide(h_num,h_den)  \n",
    "    return h_eff\n",
    "\n",
    "def add_legend(x, y, legends):\n",
    "    rpl.add_legend( legends,x,y,x+0.98,y+0.20,textsize=18, option='p' )"
   ]
  },
  {
   "cell_type": "code",
   "execution_count": 25,
   "id": "026f0d44-4a6e-41a5-aeb7-0edd6a603c98",
   "metadata": {},
   "outputs": [
    {
     "data": {
      "image/png": "[encoded data removed]",
      "text/plain": [
       "<IPython.core.display.Image object>"
      ]
     },
     "metadata": {},
     "output_type": "display_data"
    }
   ],
   "source": [
    "colors = [kRed, kBlack, kBlue, kBlue, kBlue]\n",
    "markers = [20, 20, 25]\n",
    "deltaRbins = [0.0,0.1, 0.12,0.13, 0.14, 0.16, 0.18,\n",
    "              0.2, 0.22, 0.24, 0.26, 0.28, 0.3, 0.6]\n",
    "legends = ['without Ringer',\n",
    "           'with Ringer (v8)',\n",
    "           'with Ringer (v12)',\n",
    "          ]\n",
    "d = my_data.loc[ (my_data.el_TaP_deltaR > 0.12) ]\n",
    "\n",
    "\n",
    "level='L2Calo'\n",
    "hists = [\n",
    "        get_profile(d, level+\"_e60_lhmedium_nod0_noringer_L1EM24VHI\"   , deltaRbins, 1, 55, 'el_lhmedium'),\n",
    "        get_profile(d, level+\"_e60_lhmedium_nod0_ringer_v8_L1EM24VHI\"  , deltaRbins, 1, 55, 'el_lhmedium'),\n",
    "        get_profile(d, level+\"_e60_lhmedium_nod0_ringer_v12_L1EM24VHI\" , deltaRbins, 1, 55, 'el_lhmedium'),\n",
    "        ]\n",
    "\n",
    "fig = rpl.create_canvas('my_canvas')\n",
    "rpl.plot_profiles( hists, 'Offline #DeltaR(e_{tag},e_{probe})', colors, markers, ylabel='Trigger Efficiency (FastCalo)' )\n",
    "rpl.set_atlas_label(0.2,0.88,'Simulation' )\n",
    "rpl.add_text( 0.2, 0.80, 'gg#rightarrow radion(3 TeV)#rightarrow VV #rightarrow eeqq', textsize=0.04)\n",
    "rpl.add_text( 0.2, 0.72, 'e60_lhmedium_nod0_(noringer)_L1EM24VHI', textsize=0.04)\n",
    "add_legend( 0.6,0.35,legends )\n",
    "rpl.fix_yaxis_ranges( ignore_zeros=True, ignore_errors=True , ymaxf=1.4) \n",
    "fig.show()\n",
    "fig.savefig(output_path+'/eff_emu_mc16_e60_ringer_v12_L2Calo_deltaR.pdf')"
   ]
  },
  {
   "cell_type": "code",
   "execution_count": 26,
   "id": "15afdea4-5358-42fa-bace-aa91db02238f",
   "metadata": {},
   "outputs": [
    {
     "data": {
      "image/png": "[encoded data removed]",
      "text/plain": [
       "<IPython.core.display.Image object>"
      ]
     },
     "metadata": {},
     "output_type": "display_data"
    }
   ],
   "source": [
    "colors = [kRed, kBlack, kBlue, kBlue, kBlue]\n",
    "markers = [20, 20, 25]\n",
    "deltaRbins = [0.0,0.1, 0.12,0.13, 0.14, 0.16, 0.18,\n",
    "              0.2, 0.22, 0.24, 0.26, 0.28, 0.3, 0.6]\n",
    "legends = ['without Ringer',\n",
    "           'with Ringer (v8)',\n",
    "           'with Ringer (v12)',\n",
    "          ]\n",
    "d = my_data.loc[ (my_data.el_TaP_deltaR > 0.12) ]\n",
    "\n",
    "\n",
    "level='L2Calo'\n",
    "hists = [\n",
    "        get_profile(d, level+\"_e28_lhtight_nod0_noringer_ivarloose\"   ,deltaRbins, 1, 23, 'el_lhtight'),\n",
    "        get_profile(d, level+\"_e28_lhtight_nod0_ringer_v8_ivarloose\"  ,deltaRbins, 1, 23, 'el_lhtight'),\n",
    "        get_profile(d, level+\"_e28_lhtight_nod0_ringer_v12_ivarloose\" ,deltaRbins, 1, 23, 'el_lhtight'),\n",
    "\n",
    "\n",
    "        ]\n",
    "\n",
    "fig = rpl.create_canvas('my_canvas')\n",
    "rpl.plot_profiles( hists, 'Offline #DeltaR(e_{tag},e_{probe})', colors, markers, ylabel='Trigger Efficiency (FastCalo)' )\n",
    "rpl.set_atlas_label(0.2,0.88,'Simulation' )\n",
    "rpl.add_text( 0.2, 0.80, 'gg#rightarrow radion(3 TeV)#rightarrow VV #rightarrow eeqq', textsize=0.04)\n",
    "rpl.add_text( 0.2, 0.72, 'e28_lhtight_nod0_(noringer)_ivarloose', textsize=0.04)\n",
    "add_legend( 0.6,0.35,legends )\n",
    "rpl.fix_yaxis_ranges( ignore_zeros=True, ignore_errors=True , ymaxf=1.4) \n",
    "fig.show()\n",
    "fig.savefig(output_path+'/eff_emu_mc16_e28_ringer_v12_L2Calo_deltaR.pdf')"
   ]
  },
  {
   "cell_type": "code",
   "execution_count": null,
   "id": "04e0ce8d-a719-4aa1-ae84-b768ae5ac8cc",
   "metadata": {},
   "outputs": [],
   "source": []
  },
  {
   "cell_type": "code",
   "execution_count": 27,
   "id": "2e278e66-99fe-4803-87a2-1ec9756cd323",
   "metadata": {},
   "outputs": [
    {
     "data": {
      "image/png": "[encoded data removed]",
      "text/plain": [
       "<IPython.core.display.Image object>"
      ]
     },
     "metadata": {},
     "output_type": "display_data"
    }
   ],
   "source": [
    "colors = [kRed, kBlack, kBlue, kBlue, kBlue]\n",
    "markers = [20, 20, 25,21]\n",
    "deltaRbins = [0.0,0.1, 0.12,0.13, 0.14, 0.16, 0.18,\n",
    "              0.2, 0.22, 0.24, 0.26, 0.28, 0.3, 0.6]\n",
    "legends = ['without Ringer',\n",
    "           'with Ringer (v8)',\n",
    "           'with Ringer (v12)',\n",
    "           'with Ringer (v17)',\n",
    "\n",
    "\n",
    "          ]\n",
    "d = my_data.loc[ (my_data.el_TaP_deltaR > 0.12) ]\n",
    "\n",
    "\n",
    "level='L2'\n",
    "hists = [\n",
    "        get_profile(d, level+\"_e28_lhtight_nod0_noringer_ivarloose\"   ,deltaRbins, 1, 23, 'el_lhtight'),\n",
    "        get_profile(d, level+\"_e28_lhtight_nod0_ringer_v8_ivarloose\"  ,deltaRbins, 1, 23, 'el_lhtight'),\n",
    "        get_profile(d, level+\"_e28_lhtight_nod0_ringer_v12_ivarloose\" ,deltaRbins, 1, 23, 'el_lhtight'),\n",
    "        get_profile(d, level+\"_e28_lhtight_nod0_ringer_v17_ivarloose\" ,deltaRbins, 1, 23, 'el_lhtight'),\n",
    "\n",
    "\n",
    "\n",
    "        ]\n",
    "\n",
    "fig = rpl.create_canvas('my_canvas')\n",
    "rpl.plot_profiles( hists, 'Offline #DeltaR(e_{tag},e_{probe})', colors, markers, ylabel='Trigger Efficiency (FastCalo)' )\n",
    "rpl.set_atlas_label(0.2,0.88,'Simulation' )\n",
    "rpl.add_text( 0.2, 0.80, 'gg#rightarrow radion(3 TeV)#rightarrow VV #rightarrow eeqq', textsize=0.04)\n",
    "rpl.add_text( 0.2, 0.72, 'e28_lhtight_nod0_(noringer)_ivarloose', textsize=0.04)\n",
    "add_legend( 0.6,0.35,legends )\n",
    "rpl.fix_yaxis_ranges( ignore_zeros=True, ignore_errors=True , ymaxf=1.4) \n",
    "fig.show()\n",
    "fig.savefig(output_path+'/eff_emu_mc16_e28_ringer_v17_L2_deltaR.pdf')"
   ]
  },
  {
   "cell_type": "code",
   "execution_count": 28,
   "id": "0ad65d9c-a2bd-4ac1-b2ab-68430823a27e",
   "metadata": {},
   "outputs": [
    {
     "data": {
      "image/png": "[encoded data removed]",
      "text/plain": [
       "<IPython.core.display.Image object>"
      ]
     },
     "metadata": {},
     "output_type": "display_data"
    }
   ],
   "source": [
    "colors = [kRed, kBlack, kBlue, kBlue, kBlue]\n",
    "markers = [20, 20, 25,21]\n",
    "deltaRbins = [0.0,0.1, 0.12,0.13, 0.14, 0.16, 0.18,\n",
    "              0.2, 0.22, 0.24, 0.26, 0.28, 0.3, 0.6]\n",
    "legends = ['without Ringer',\n",
    "           'with Ringer (v8)',\n",
    "           'with Ringer (v12)',\n",
    "           'with Ringer (v17)',\n",
    "          ]\n",
    "d = my_data.loc[ (my_data.el_TaP_deltaR > 0.12) ]\n",
    "\n",
    "\n",
    "level='L2'\n",
    "hists = [\n",
    "        get_profile(d, level+\"_e60_lhmedium_nod0_noringer_L1EM24VHI\"   , deltaRbins, 1, 55, 'el_lhmedium'),\n",
    "        get_profile(d, level+\"_e60_lhmedium_nod0_ringer_v8_L1EM24VHI\"  , deltaRbins, 1, 55, 'el_lhmedium'),\n",
    "        get_profile(d, level+\"_e60_lhmedium_nod0_ringer_v12_L1EM24VHI\" , deltaRbins, 1, 55, 'el_lhmedium'),\n",
    "        get_profile(d, level+\"_e60_lhmedium_nod0_ringer_v17_L1EM24VHI\" , deltaRbins, 1, 55, 'el_lhmedium'),\n",
    "        ]\n",
    "\n",
    "fig = rpl.create_canvas('my_canvas')\n",
    "rpl.plot_profiles( hists, 'Offline #DeltaR(e_{tag},e_{probe})', colors, markers, ylabel='Trigger Efficiency (FastElectron)' )\n",
    "rpl.set_atlas_label(0.2,0.88,'Simulation' )\n",
    "rpl.add_text( 0.2, 0.80, 'gg#rightarrow radion(3 TeV)#rightarrow VV #rightarrow eeqq', textsize=0.04)\n",
    "rpl.add_text( 0.2, 0.72, 'e60_lhmedium_nod0_(noringer)_L1EM24VHI', textsize=0.04)\n",
    "add_legend( 0.6,0.35,legends )\n",
    "rpl.fix_yaxis_ranges( ignore_zeros=True, ignore_errors=True , ymaxf=1.4) \n",
    "fig.show()\n",
    "fig.savefig(output_path+'/eff_emu_mc16_e60_ringer_v17_L2_deltaR.pdf')"
   ]
  },
  {
   "cell_type": "code",
   "execution_count": null,
   "id": "ea4c2fe0-11f0-4d70-92b5-61f260913eef",
   "metadata": {},
   "outputs": [],
   "source": []
  },
  {
   "cell_type": "code",
   "execution_count": null,
   "id": "ec7f33b6-4986-40f2-a709-4d71ec976fc3",
   "metadata": {},
   "outputs": [],
   "source": []
  },
  {
   "cell_type": "code",
   "execution_count": null,
   "id": "f0deb3ac-9e33-4199-956c-a760e65827f5",
   "metadata": {},
   "outputs": [],
   "source": []
  },
  {
   "cell_type": "code",
   "execution_count": null,
   "id": "ba1f77d8-e35f-4c07-b609-a620ac766886",
   "metadata": {},
   "outputs": [],
   "source": []
  },
  {
   "cell_type": "code",
   "execution_count": null,
   "id": "94b160bc-527f-4ad3-b92e-5cd265d4312e",
   "metadata": {},
   "outputs": [],
   "source": []
  }
 ],
 "metadata": {
  "kernelspec": {
   "display_name": "Python 3",
   "language": "python",
   "name": "python3"
  },
  "language_info": {
   "codemirror_mode": {
    "name": "ipython",
    "version": 3
   },
   "file_extension": ".py",
   "mimetype": "text/x-python",
   "name": "python",
   "nbconvert_exporter": "python",
   "pygments_lexer": "ipython3",
   "version": "3.6.9"
  }
 },
 "nbformat": 4,
 "nbformat_minor": 5
}
