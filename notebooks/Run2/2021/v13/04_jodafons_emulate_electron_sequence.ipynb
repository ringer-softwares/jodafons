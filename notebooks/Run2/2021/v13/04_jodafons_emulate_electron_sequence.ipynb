{
 "cells": [
  {
   "cell_type": "markdown",
   "id": "ca2f7274-f3c9-4920-8846-f57206e7ce34",
   "metadata": {},
   "source": [
    "# Kepler Framework, Emulate v13"
   ]
  },
  {
   "cell_type": "code",
   "execution_count": 1,
   "id": "59967f39-befe-42c6-b8aa-c81bcc13734b",
   "metadata": {},
   "outputs": [
    {
     "name": "stdout",
     "output_type": "stream",
     "text": [
      "Welcome to JupyROOT 6.16/00\n",
      "Using all sub packages with ROOT dependence\n",
      "INFO: Pandarallel will run on 40 workers.\n",
      "INFO: Pandarallel will use Memory file system to transfer data between the main process and workers.\n",
      "\n",
      "Applying ATLAS style settings...\n",
      "\n",
      "Applying ATLAS style settings...\n",
      "\n",
      "Applying ATLAS style settings...\n"
     ]
    }
   ],
   "source": [
    "from kepler.pandas.menu       import ElectronSequence as Chain\n",
    "from kepler.pandas.readers    import load, load_in_loop, load_hdf\n",
    "from core import Efficiency\n",
    "from Gaugi import mkdir_p, progressbar\n",
    "import numpy as np\n",
    "import pandas as pd\n",
    "import collections\n",
    "import os\n",
    "from pprint import pprint\n",
    "from copy import deepcopy\n",
    "\n",
    "import gc\n",
    "%config InlineBackend.figure_format = 'retina'\n",
    "%load_ext autoreload\n",
    "%autoreload 2"
   ]
  },
  {
   "cell_type": "code",
   "execution_count": 2,
   "id": "eff9d2e4-7725-401d-8591-23a51b5c3802",
   "metadata": {},
   "outputs": [],
   "source": [
    "output_path = 'output/emulation'\n",
    "mkdir_p(output_path)"
   ]
  },
  {
   "cell_type": "code",
   "execution_count": 8,
   "id": "9906fa52-812f-4db7-9f00-e5c9a8b317ff",
   "metadata": {},
   "outputs": [],
   "source": [
    "dpath_data17 = '../../data/output/data17_13TeV.AllPeriods.sgn.probes_lhvloose_EGAM1.bkg.vprobes_vlhvloose_EGAM7.GRL_v97.dataframe.h5'\n",
    "dpath_data18 = '../../data/output/data18_13TeV.AllPeriods.sgn.probes_lhvloose_EGAM1.bkg.vprobes_vlhvloose_EGAM7.GRL_v97.dataframe.h5'"
   ]
  },
  {
   "cell_type": "code",
   "execution_count": 9,
   "id": "8c3232c2-56de-4739-9052-93b27508c421",
   "metadata": {},
   "outputs": [],
   "source": [
    "tpath_data17 = 'output/emulation/data17_table_v13.h5'\n",
    "tpath_data18 = 'output/emulation/data18_table_v13.h5'"
   ]
  },
  {
   "cell_type": "markdown",
   "id": "5a0b2e3b-e048-486a-b10e-b38c299dafe2",
   "metadata": {},
   "source": [
    "## Setup Chains:"
   ]
  },
  {
   "cell_type": "code",
   "execution_count": 10,
   "id": "6a8a7130-1079-45e8-86f8-80795de2473d",
   "metadata": {},
   "outputs": [
    {
     "name": "stdout",
     "output_type": "stream",
     "text": [
      "OrderedDict([('L1Seed', 'L1_EM15VHI'),\n",
      "             ('L2Calo', (14000.0, 'ringer_v13_vloose')),\n",
      "             ('L2', 'trig_L2_el_cut_pt15to20'),\n",
      "             ('EFCalo', 17000.0),\n",
      "             ('HLT', (17000.0, 'trig_EF_el_lhvloose'))])\n",
      "OrderedDict([('L1Seed', 'L1_EM22VHI'),\n",
      "             ('L2Calo', (25000.0, 'ringer_v13_tight')),\n",
      "             ('L2', 'trig_L2_el_cut_pt20to50'),\n",
      "             ('EFCalo', 28000.0),\n",
      "             ('HLT', (28000.0, 'trig_EF_el_lhtight_ivarloose'))])\n",
      "OrderedDict([('L1Seed', 'L1_EM24VHI'),\n",
      "             ('L2Calo', (57000.0, 'ringer_v13_medium')),\n",
      "             ('L2', 'trig_L2_el_cut_pt50toInf'),\n",
      "             ('EFCalo', 60000.0),\n",
      "             ('HLT', (60000.0, 'trig_EF_el_lhmedium'))])\n",
      "OrderedDict([('L1Seed', 'L1_EM24VHI'),\n",
      "             ('L2Calo', (137000.0, 'ringer_v13_loose')),\n",
      "             ('L2', 'trig_L2_el_cut_pt50toInf'),\n",
      "             ('EFCalo', 140000.0),\n",
      "             ('HLT', (140000.0, 'trig_EF_el_lhloose'))])\n"
     ]
    }
   ],
   "source": [
    "# create my chain\n",
    "chains = [\n",
    "            Chain( \"HLT_e17_lhvloose_nod0_ringer_v13_L1EM15VHI\", L1Seed = 'L1_EM15VHI' , l2calo_column = 'ringer_v13_vloose'),\n",
    "            Chain( \"HLT_e28_lhtight_nod0_ringer_v13_ivarloose\", L1Seed = 'L1_EM22VHI' , l2calo_column = 'ringer_v13_tight' ),\n",
    "            Chain( \"HLT_e60_lhmedium_nod0_ringer_v13_L1EM24VHI\", L1Seed = 'L1_EM24VHI' , l2calo_column = 'ringer_v13_medium'),\n",
    "            Chain( \"HLT_e140_lhloose_nod0_ringer_v13\" , L1Seed = 'L1_EM24VHI', l2calo_column = 'ringer_v13_loose'),\n",
    "]\n",
    "\n",
    "def emulate( df ):\n",
    "    for chain in progressbar(chains, prefix='Emulate...'):\n",
    "        chain.apply(df)"
   ]
  },
  {
   "cell_type": "markdown",
   "id": "d55125f6-ad91-4e6b-9568-b8efcf510c4c",
   "metadata": {},
   "source": [
    "## Emulate 2017:\n",
    "\n",
    "Take something like 1 hour"
   ]
  },
  {
   "cell_type": "code",
   "execution_count": 11,
   "id": "9ef17eb5-de24-47ca-91db-f3c4b058ed93",
   "metadata": {},
   "outputs": [],
   "source": [
    "data17_df = pd.concat( (load_hdf(dpath_data17), load_hdf(tpath_data17)), axis=1)"
   ]
  },
  {
   "cell_type": "code",
   "execution_count": 12,
   "id": "d05247bc-f622-4ac8-ae35-125960666352",
   "metadata": {},
   "outputs": [
    {
     "name": "stderr",
     "output_type": "stream",
     "text": [
      "Emulate...: 100%|██████████| 4/4 [01:32<00:00, 23.18s/it]\n"
     ]
    }
   ],
   "source": [
    "emulate(data17_df)"
   ]
  },
  {
   "cell_type": "code",
   "execution_count": 13,
   "id": "3c1b5e86-9940-48a0-b156-0ab677716b4d",
   "metadata": {},
   "outputs": [
    {
     "data": {
      "text/plain": [
       "(43311283, 112)"
      ]
     },
     "execution_count": 13,
     "metadata": {},
     "output_type": "execute_result"
    }
   ],
   "source": [
    "data17_df.shape"
   ]
  },
  {
   "cell_type": "markdown",
   "id": "9ba387d6-8f54-4032-b0f2-2437814886bd",
   "metadata": {},
   "source": [
    "### Validate:"
   ]
  },
  {
   "cell_type": "code",
   "execution_count": 14,
   "id": "a081015c-c396-43da-838f-6824365b3b22",
   "metadata": {},
   "outputs": [
    {
     "name": "stdout",
     "output_type": "stream",
     "text": [
      "2022-03-24 09:55:55,532 | Py.Efficiency                           INFO Creating the StoreGate service with path: output/emulation/data17_Zee_efficiency_v13.root\n"
     ]
    }
   ],
   "source": [
    "eff_data17_Zee = Efficiency( output_path+'/data17_Zee_efficiency_v13.root')"
   ]
  },
  {
   "cell_type": "code",
   "execution_count": 15,
   "id": "696e7ae6-7a61-467e-bbd3-df68af163e04",
   "metadata": {},
   "outputs": [
    {
     "name": "stderr",
     "output_type": "stream",
     "text": [
      "Filling...: 100%|██████████| 5/5 [01:53<00:00, 22.73s/it]\n"
     ]
    },
    {
     "name": "stdout",
     "output_type": "stream",
     "text": [
      "HLT_e17_lhvloose_nod0_ringer_v13_L1EM15VHI\n",
      "+--------+----------+-------------------+\n",
      "|  Step  | Eff [%%] |    passed/total   |\n",
      "+--------+----------+-------------------+\n",
      "| L1Calo | 94.1069  | 30158981/32047563 |\n",
      "| L2Calo | 93.4395  | 29945080/32047563 |\n",
      "|   L2   | 93.2021  | 29869012/32047563 |\n",
      "| EFCalo | 91.8918  | 29449076/32047563 |\n",
      "|  HLT   | 89.9880  | 28838954/32047563 |\n",
      "+--------+----------+-------------------+\n"
     ]
    },
    {
     "name": "stderr",
     "output_type": "stream",
     "text": [
      "Filling...: 100%|██████████| 5/5 [01:26<00:00, 17.36s/it]\n"
     ]
    },
    {
     "name": "stdout",
     "output_type": "stream",
     "text": [
      "HLT_e28_lhtight_nod0_ringer_v13_ivarloose\n",
      "+--------+----------+-------------------+\n",
      "|  Step  | Eff [%%] |    passed/total   |\n",
      "+--------+----------+-------------------+\n",
      "| L1Calo | 94.6937  | 21557594/22765602 |\n",
      "| L2Calo | 94.2397  | 21454224/22765602 |\n",
      "|   L2   | 94.1247  | 21428044/22765602 |\n",
      "| EFCalo | 93.2008  | 21217728/22765602 |\n",
      "|  HLT   | 87.0402  | 19815231/22765602 |\n",
      "+--------+----------+-------------------+\n"
     ]
    },
    {
     "name": "stderr",
     "output_type": "stream",
     "text": [
      "Filling...: 100%|██████████| 5/5 [00:05<00:00,  1.19s/it]\n"
     ]
    },
    {
     "name": "stdout",
     "output_type": "stream",
     "text": [
      "HLT_e60_lhmedium_nod0_ringer_v13_L1EM24VHI\n",
      "+--------+----------+-----------------+\n",
      "|  Step  | Eff [%%] |   passed/total  |\n",
      "+--------+----------+-----------------+\n",
      "| L1Calo | 99.5079  | 1361055/1367786 |\n",
      "| L2Calo | 97.2700  | 1330446/1367786 |\n",
      "|   L2   | 97.1803  | 1329218/1367786 |\n",
      "| EFCalo | 95.0879  | 1300599/1367786 |\n",
      "|  HLT   | 91.8108  | 1255775/1367786 |\n",
      "+--------+----------+-----------------+\n"
     ]
    },
    {
     "name": "stderr",
     "output_type": "stream",
     "text": [
      "Filling...: 100%|██████████| 5/5 [00:00<00:00, 20.09it/s]"
     ]
    },
    {
     "name": "stdout",
     "output_type": "stream",
     "text": [
      "HLT_e140_lhloose_nod0_ringer_v13\n",
      "+--------+----------+--------------+\n",
      "|  Step  | Eff [%%] | passed/total |\n",
      "+--------+----------+--------------+\n",
      "| L1Calo | 100.0000 | 60541/60541  |\n",
      "| L2Calo | 97.8956  | 59267/60541  |\n",
      "|   L2   | 97.8296  | 59227/60541  |\n",
      "| EFCalo | 96.5098  | 58428/60541  |\n",
      "|  HLT   | 94.5739  | 57256/60541  |\n",
      "+--------+----------+--------------+\n"
     ]
    },
    {
     "name": "stderr",
     "output_type": "stream",
     "text": [
      "\n"
     ]
    }
   ],
   "source": [
    "eff_data17_Zee.fill( data17_df.loc[data17_df['target']==1], 'HLT_e17_lhvloose_nod0_ringer_v13_L1EM15VHI', pidname='el_lhvloose', reset=True)\n",
    "eff_data17_Zee.fill( data17_df.loc[data17_df['target']==1], 'HLT_e28_lhtight_nod0_ringer_v13_ivarloose' , pidname='el_lhtight' , reset=True)\n",
    "eff_data17_Zee.fill( data17_df.loc[data17_df['target']==1], 'HLT_e60_lhmedium_nod0_ringer_v13_L1EM24VHI', pidname='el_lhmedium', reset=True)\n",
    "eff_data17_Zee.fill( data17_df.loc[data17_df['target']==1], 'HLT_e140_lhloose_nod0_ringer_v13'          , pidname='el_lhloose' , reset=True)"
   ]
  },
  {
   "cell_type": "code",
   "execution_count": 16,
   "id": "2d5e76eb-2dce-4b92-92ce-ef691506629a",
   "metadata": {},
   "outputs": [],
   "source": [
    "eff_data17_Zee.save()"
   ]
  },
  {
   "cell_type": "code",
   "execution_count": 17,
   "id": "3e46582b-9a89-45e7-96ac-3a81e18cbe8c",
   "metadata": {},
   "outputs": [
    {
     "name": "stdout",
     "output_type": "stream",
     "text": [
      "2022-03-24 10:00:21,993 | Py.Efficiency                           INFO Creating the StoreGate service with path: output/emulation/data17_JF17_efficiency_v13.root\n"
     ]
    }
   ],
   "source": [
    "eff_data17_JF17 = Efficiency( output_path+'/data17_JF17_efficiency_v13.root')"
   ]
  },
  {
   "cell_type": "code",
   "execution_count": 18,
   "id": "fb059db5-fd95-46cd-9f1a-e6b99b435936",
   "metadata": {},
   "outputs": [
    {
     "name": "stderr",
     "output_type": "stream",
     "text": [
      "Filling...: 100%|██████████| 5/5 [00:21<00:00,  4.36s/it]\n"
     ]
    },
    {
     "name": "stdout",
     "output_type": "stream",
     "text": [
      "HLT_e17_lhvloose_nod0_ringer_v13_L1EM15VHI\n",
      "+--------+----------+------------------+\n",
      "|  Step  | Eff [%%] |   passed/total   |\n",
      "+--------+----------+------------------+\n",
      "| L1Calo | 84.4275  | 8738241/10349992 |\n",
      "| L2Calo |  1.6083  | 166455/10349992  |\n",
      "|   L2   |  1.5509  | 160522/10349992  |\n",
      "| EFCalo |  1.3762  | 142440/10349992  |\n",
      "|  HLT   |  0.1416  |  14655/10349992  |\n",
      "+--------+----------+------------------+\n"
     ]
    },
    {
     "name": "stderr",
     "output_type": "stream",
     "text": [
      "Filling...: 100%|██████████| 5/5 [00:19<00:00,  3.91s/it]\n"
     ]
    },
    {
     "name": "stdout",
     "output_type": "stream",
     "text": [
      "HLT_e28_lhtight_nod0_ringer_v13_ivarloose\n",
      "+--------+----------+-----------------+\n",
      "|  Step  | Eff [%%] |   passed/total  |\n",
      "+--------+----------+-----------------+\n",
      "| L1Calo | 90.6060  | 8384948/9254300 |\n",
      "| L2Calo |  0.6214  |  57504/9254300  |\n",
      "|   L2   |  0.5835  |  53999/9254300  |\n",
      "| EFCalo |  0.4700  |  43494/9254300  |\n",
      "|  HLT   |  0.0016  |   147/9254300   |\n",
      "+--------+----------+-----------------+\n"
     ]
    },
    {
     "name": "stderr",
     "output_type": "stream",
     "text": [
      "Filling...: 100%|██████████| 5/5 [00:16<00:00,  3.31s/it]\n"
     ]
    },
    {
     "name": "stdout",
     "output_type": "stream",
     "text": [
      "HLT_e60_lhmedium_nod0_ringer_v13_L1EM24VHI\n",
      "+--------+----------+-----------------+\n",
      "|  Step  | Eff [%%] |   passed/total  |\n",
      "+--------+----------+-----------------+\n",
      "| L1Calo | 99.9012  | 7844422/7852181 |\n",
      "| L2Calo |  0.6050  |  47506/7852181  |\n",
      "|   L2   |  0.5601  |  43980/7852181  |\n",
      "| EFCalo |  0.4207  |  33031/7852181  |\n",
      "|  HLT   |  0.0019  |   149/7852181   |\n",
      "+--------+----------+-----------------+\n"
     ]
    },
    {
     "name": "stderr",
     "output_type": "stream",
     "text": [
      "Filling...: 100%|██████████| 5/5 [00:12<00:00,  2.46s/it]"
     ]
    },
    {
     "name": "stdout",
     "output_type": "stream",
     "text": [
      "HLT_e140_lhloose_nod0_ringer_v13\n",
      "+--------+----------+-----------------+\n",
      "|  Step  | Eff [%%] |   passed/total  |\n",
      "+--------+----------+-----------------+\n",
      "| L1Calo | 99.9227  | 5629684/5634041 |\n",
      "| L2Calo |  1.4273  |  80416/5634041  |\n",
      "|   L2   |  1.3505  |  76088/5634041  |\n",
      "| EFCalo |  1.1109  |  62586/5634041  |\n",
      "|  HLT   |  0.0381  |   2149/5634041  |\n",
      "+--------+----------+-----------------+\n"
     ]
    },
    {
     "name": "stderr",
     "output_type": "stream",
     "text": [
      "\n"
     ]
    }
   ],
   "source": [
    "eff_data17_JF17.fill( data17_df.loc[data17_df['target']==0], 'HLT_e17_lhvloose_nod0_ringer_v13_L1EM15VHI', pidname='!el_lhvloose', reset=True)\n",
    "eff_data17_JF17.fill( data17_df.loc[data17_df['target']==0], 'HLT_e28_lhtight_nod0_ringer_v13_ivarloose' , pidname='!el_lhvloose', reset=True)\n",
    "eff_data17_JF17.fill( data17_df.loc[data17_df['target']==0], 'HLT_e60_lhmedium_nod0_ringer_v13_L1EM24VHI', pidname='!el_lhvloose', reset=True)\n",
    "eff_data17_JF17.fill( data17_df.loc[data17_df['target']==0], 'HLT_e140_lhloose_nod0_ringer_v13'          , pidname='!el_lhvloose', reset=True)"
   ]
  },
  {
   "cell_type": "code",
   "execution_count": 19,
   "id": "e771c09b-09aa-41ab-b49c-190b47ae8d33",
   "metadata": {},
   "outputs": [],
   "source": [
    "eff_data17_JF17.save()"
   ]
  },
  {
   "cell_type": "code",
   "execution_count": 20,
   "id": "c9bed441-ca7a-4e03-af4c-72e2b7545cc5",
   "metadata": {},
   "outputs": [],
   "source": [
    "del data17_df"
   ]
  },
  {
   "cell_type": "markdown",
   "id": "882828ab-b64b-4fc1-a64a-04bcf468a639",
   "metadata": {},
   "source": [
    "## Emulate 2018:"
   ]
  },
  {
   "cell_type": "code",
   "execution_count": 21,
   "id": "74056ec7-1605-47f1-a2a2-74d0556adbf8",
   "metadata": {},
   "outputs": [],
   "source": [
    "data18_df = pd.concat( (load_hdf(dpath_data18), load_hdf(tpath_data18)), axis=1)"
   ]
  },
  {
   "cell_type": "code",
   "execution_count": 22,
   "id": "b1728428-a4d0-49e2-820d-18279498aa90",
   "metadata": {},
   "outputs": [
    {
     "name": "stderr",
     "output_type": "stream",
     "text": [
      "Emulate...: 100%|██████████| 4/4 [01:23<00:00, 20.77s/it]\n"
     ]
    }
   ],
   "source": [
    "emulate(data18_df)"
   ]
  },
  {
   "cell_type": "code",
   "execution_count": 23,
   "id": "bf6d8121-4ee1-4538-b861-c6e317ac7e99",
   "metadata": {},
   "outputs": [
    {
     "data": {
      "text/plain": [
       "(41873973, 112)"
      ]
     },
     "execution_count": 23,
     "metadata": {},
     "output_type": "execute_result"
    }
   ],
   "source": [
    "data18_df.shape"
   ]
  },
  {
   "cell_type": "code",
   "execution_count": 24,
   "id": "a970f45d-b03d-49b7-b3e0-75630a4d172a",
   "metadata": {},
   "outputs": [
    {
     "name": "stdout",
     "output_type": "stream",
     "text": [
      "2022-03-24 10:04:19,473 | Py.Efficiency                           INFO Creating the StoreGate service with path: output/emulation/data18_Zee_efficiency_v13.root\n"
     ]
    }
   ],
   "source": [
    "eff_data18_Zee = Efficiency( output_path+'/data18_Zee_efficiency_v13.root')"
   ]
  },
  {
   "cell_type": "code",
   "execution_count": 25,
   "id": "16d56a44-5005-4fca-957c-ae20705d9847",
   "metadata": {},
   "outputs": [
    {
     "name": "stderr",
     "output_type": "stream",
     "text": [
      "Filling...: 100%|██████████| 5/5 [01:54<00:00, 22.83s/it]\n"
     ]
    },
    {
     "name": "stdout",
     "output_type": "stream",
     "text": [
      "HLT_e17_lhvloose_nod0_ringer_v13_L1EM15VHI\n",
      "+--------+----------+-------------------+\n",
      "|  Step  | Eff [%%] |    passed/total   |\n",
      "+--------+----------+-------------------+\n",
      "| L1Calo | 94.1301  | 30705693/32620495 |\n",
      "| L2Calo | 93.4850  | 30495282/32620495 |\n",
      "|   L2   | 93.2561  | 30420616/32620495 |\n",
      "| EFCalo | 91.9232  | 29985788/32620495 |\n",
      "|  HLT   | 90.4972  | 29520633/32620495 |\n",
      "+--------+----------+-------------------+\n"
     ]
    },
    {
     "name": "stderr",
     "output_type": "stream",
     "text": [
      "Filling...: 100%|██████████| 5/5 [01:23<00:00, 16.63s/it]\n"
     ]
    },
    {
     "name": "stdout",
     "output_type": "stream",
     "text": [
      "HLT_e28_lhtight_nod0_ringer_v13_ivarloose\n",
      "+--------+----------+-------------------+\n",
      "|  Step  | Eff [%%] |    passed/total   |\n",
      "+--------+----------+-------------------+\n",
      "| L1Calo | 94.6555  | 22067825/23313826 |\n",
      "| L2Calo | 94.2085  | 21963610/23313826 |\n",
      "|   L2   | 94.1132  | 21941383/23313826 |\n",
      "| EFCalo | 93.3145  | 21755172/23313826 |\n",
      "|  HLT   | 87.6071  | 20424565/23313826 |\n",
      "+--------+----------+-------------------+\n"
     ]
    },
    {
     "name": "stderr",
     "output_type": "stream",
     "text": [
      "Filling...: 100%|██████████| 5/5 [00:05<00:00,  1.20s/it]\n"
     ]
    },
    {
     "name": "stdout",
     "output_type": "stream",
     "text": [
      "HLT_e60_lhmedium_nod0_ringer_v13_L1EM24VHI\n",
      "+--------+----------+-----------------+\n",
      "|  Step  | Eff [%%] |   passed/total  |\n",
      "+--------+----------+-----------------+\n",
      "| L1Calo | 99.5563  | 1375545/1381675 |\n",
      "| L2Calo | 97.2738  | 1344008/1381675 |\n",
      "|   L2   | 97.1878  | 1342819/1381675 |\n",
      "| EFCalo | 95.0981  | 1313947/1381675 |\n",
      "|  HLT   | 92.1110  | 1272675/1381675 |\n",
      "+--------+----------+-----------------+\n"
     ]
    },
    {
     "name": "stderr",
     "output_type": "stream",
     "text": [
      "Filling...: 100%|██████████| 5/5 [00:00<00:00, 20.07it/s]"
     ]
    },
    {
     "name": "stdout",
     "output_type": "stream",
     "text": [
      "HLT_e140_lhloose_nod0_ringer_v13\n",
      "+--------+----------+--------------+\n",
      "|  Step  | Eff [%%] | passed/total |\n",
      "+--------+----------+--------------+\n",
      "| L1Calo | 99.9934  | 60385/60389  |\n",
      "| L2Calo | 97.9549  | 59154/60389  |\n",
      "|   L2   | 97.8589  | 59096/60389  |\n",
      "| EFCalo | 96.6765  | 58382/60389  |\n",
      "|  HLT   | 94.8666  | 57289/60389  |\n",
      "+--------+----------+--------------+\n"
     ]
    },
    {
     "name": "stderr",
     "output_type": "stream",
     "text": [
      "\n"
     ]
    }
   ],
   "source": [
    "eff_data18_Zee.fill( data18_df.loc[data18_df['target']==1], 'HLT_e17_lhvloose_nod0_ringer_v13_L1EM15VHI', pidname='el_lhvloose', reset=True)\n",
    "eff_data18_Zee.fill( data18_df.loc[data18_df['target']==1], 'HLT_e28_lhtight_nod0_ringer_v13_ivarloose' , pidname='el_lhtight' , reset=True)\n",
    "eff_data18_Zee.fill( data18_df.loc[data18_df['target']==1], 'HLT_e60_lhmedium_nod0_ringer_v13_L1EM24VHI', pidname='el_lhmedium', reset=True)\n",
    "eff_data18_Zee.fill( data18_df.loc[data18_df['target']==1], 'HLT_e140_lhloose_nod0_ringer_v13'          , pidname='el_lhloose' , reset=True)"
   ]
  },
  {
   "cell_type": "code",
   "execution_count": 26,
   "id": "3a6253a7-ff35-4f22-b6c0-c785d1b89cdc",
   "metadata": {},
   "outputs": [],
   "source": [
    "eff_data18_Zee.save()"
   ]
  },
  {
   "cell_type": "code",
   "execution_count": 27,
   "id": "d1d7113b-b5eb-4d4d-81ac-cb5e96bdd6e8",
   "metadata": {},
   "outputs": [
    {
     "name": "stdout",
     "output_type": "stream",
     "text": [
      "2022-03-24 10:08:37,277 | Py.Efficiency                           INFO Creating the StoreGate service with path: output/emulation/data18_JF17_efficiency_v13.root\n"
     ]
    }
   ],
   "source": [
    "eff_data18_JF17 = Efficiency( output_path+'/data18_JF17_efficiency_v13.root')"
   ]
  },
  {
   "cell_type": "code",
   "execution_count": 28,
   "id": "bdab5167-02db-4413-8681-d1f74a06f8f2",
   "metadata": {},
   "outputs": [
    {
     "name": "stderr",
     "output_type": "stream",
     "text": [
      "Filling...: 100%|██████████| 5/5 [00:17<00:00,  3.54s/it]\n"
     ]
    },
    {
     "name": "stdout",
     "output_type": "stream",
     "text": [
      "HLT_e17_lhvloose_nod0_ringer_v13_L1EM15VHI\n",
      "+--------+----------+-----------------+\n",
      "|  Step  | Eff [%%] |   passed/total  |\n",
      "+--------+----------+-----------------+\n",
      "| L1Calo | 85.5183  | 7240922/8467098 |\n",
      "| L2Calo |  2.0504  |  173611/8467098 |\n",
      "|   L2   |  1.9913  |  168606/8467098 |\n",
      "| EFCalo |  1.8195  |  154056/8467098 |\n",
      "|  HLT   |  0.6164  |  52190/8467098  |\n",
      "+--------+----------+-----------------+\n"
     ]
    },
    {
     "name": "stderr",
     "output_type": "stream",
     "text": [
      "Filling...: 100%|██████████| 5/5 [00:15<00:00,  3.19s/it]\n"
     ]
    },
    {
     "name": "stdout",
     "output_type": "stream",
     "text": [
      "HLT_e28_lhtight_nod0_ringer_v13_ivarloose\n",
      "+--------+----------+-----------------+\n",
      "|  Step  | Eff [%%] |   passed/total  |\n",
      "+--------+----------+-----------------+\n",
      "| L1Calo | 91.4008  | 6972786/7628804 |\n",
      "| L2Calo |  0.9402  |  71728/7628804  |\n",
      "|   L2   |  0.9052  |  69054/7628804  |\n",
      "| EFCalo |  0.7956  |  60697/7628804  |\n",
      "|  HLT   |  0.0422  |   3220/7628804  |\n",
      "+--------+----------+-----------------+\n"
     ]
    },
    {
     "name": "stderr",
     "output_type": "stream",
     "text": [
      "Filling...: 100%|██████████| 5/5 [00:13<00:00,  2.74s/it]\n"
     ]
    },
    {
     "name": "stdout",
     "output_type": "stream",
     "text": [
      "HLT_e60_lhmedium_nod0_ringer_v13_L1EM24VHI\n",
      "+--------+----------+-----------------+\n",
      "|  Step  | Eff [%%] |   passed/total  |\n",
      "+--------+----------+-----------------+\n",
      "| L1Calo | 99.8995  | 6555389/6561985 |\n",
      "| L2Calo |  0.9105  |  59748/6561985  |\n",
      "|   L2   |  0.8689  |  57019/6561985  |\n",
      "| EFCalo |  0.7367  |  48345/6561985  |\n",
      "|  HLT   |  0.0509  |   3341/6561985  |\n",
      "+--------+----------+-----------------+\n"
     ]
    },
    {
     "name": "stderr",
     "output_type": "stream",
     "text": [
      "Filling...: 100%|██████████| 5/5 [00:10<00:00,  2.07s/it]"
     ]
    },
    {
     "name": "stdout",
     "output_type": "stream",
     "text": [
      "HLT_e140_lhloose_nod0_ringer_v13\n",
      "+--------+----------+-----------------+\n",
      "|  Step  | Eff [%%] |   passed/total  |\n",
      "+--------+----------+-----------------+\n",
      "| L1Calo | 99.9159  | 4772502/4776518 |\n",
      "| L2Calo |  1.9324  |  92303/4776518  |\n",
      "|   L2   |  1.8537  |  88542/4776518  |\n",
      "| EFCalo |  1.6233  |  77538/4776518  |\n",
      "|  HLT   |  0.3303  |  15778/4776518  |\n",
      "+--------+----------+-----------------+\n"
     ]
    },
    {
     "name": "stderr",
     "output_type": "stream",
     "text": [
      "\n"
     ]
    }
   ],
   "source": [
    "eff_data18_JF17.fill( data18_df.loc[data18_df['target']==0], 'HLT_e17_lhvloose_nod0_ringer_v13_L1EM15VHI', pidname='!el_lhvloose', reset=True)\n",
    "eff_data18_JF17.fill( data18_df.loc[data18_df['target']==0], 'HLT_e28_lhtight_nod0_ringer_v13_ivarloose' , pidname='!el_lhvloose', reset=True)\n",
    "eff_data18_JF17.fill( data18_df.loc[data18_df['target']==0], 'HLT_e60_lhmedium_nod0_ringer_v13_L1EM24VHI', pidname='!el_lhvloose', reset=True)\n",
    "eff_data18_JF17.fill( data18_df.loc[data18_df['target']==0], 'HLT_e140_lhloose_nod0_ringer_v13'          , pidname='!el_lhvloose', reset=True)"
   ]
  },
  {
   "cell_type": "code",
   "execution_count": 29,
   "id": "8c000fe9-888f-4e27-a7b1-b85d044ca86b",
   "metadata": {},
   "outputs": [],
   "source": [
    "eff_data18_JF17.save()"
   ]
  },
  {
   "cell_type": "code",
   "execution_count": null,
   "id": "dd6fd5a7-ace4-44b7-bfa7-953d1082be0c",
   "metadata": {},
   "outputs": [],
   "source": []
  },
  {
   "cell_type": "code",
   "execution_count": null,
   "id": "ac3c7c1f-7ab2-4407-a570-9b98cdb8034c",
   "metadata": {},
   "outputs": [],
   "source": []
  },
  {
   "cell_type": "code",
   "execution_count": null,
   "id": "8a8e5aa1-b353-4a5e-94f0-67444f443283",
   "metadata": {},
   "outputs": [],
   "source": []
  },
  {
   "cell_type": "code",
   "execution_count": null,
   "id": "9e1da14f-7500-4cc6-a881-15f20072bcb4",
   "metadata": {},
   "outputs": [],
   "source": []
  },
  {
   "cell_type": "code",
   "execution_count": null,
   "id": "37c67b6d-331f-4736-aaaf-4d0c235bcbd5",
   "metadata": {},
   "outputs": [],
   "source": []
  }
 ],
 "metadata": {
  "kernelspec": {
   "display_name": "Python 3",
   "language": "python",
   "name": "python3"
  },
  "language_info": {
   "codemirror_mode": {
    "name": "ipython",
    "version": 3
   },
   "file_extension": ".py",
   "mimetype": "text/x-python",
   "name": "python",
   "nbconvert_exporter": "python",
   "pygments_lexer": "ipython3",
   "version": "3.6.9"
  }
 },
 "nbformat": 4,
 "nbformat_minor": 5
}
