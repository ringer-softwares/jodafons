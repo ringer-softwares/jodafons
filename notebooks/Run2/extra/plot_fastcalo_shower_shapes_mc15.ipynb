{
 "cells": [
  {
   "cell_type": "markdown",
   "metadata": {},
   "source": [
    "# Plot all FastCalo shower shapes\n",
    "\n",
    "This notebook is dedicated to produce some plots to fastcalo instroduction (cut-based studies)\n",
    "\n",
    "**NOTE**: This notebook presents only mc15 plots."
   ]
  },
  {
   "cell_type": "code",
   "execution_count": 1,
   "metadata": {},
   "outputs": [
    {
     "name": "stdout",
     "output_type": "stream",
     "text": [
      "Welcome to JupyROOT 6.23/01\n",
      "Using all sub packages with ROOT dependence\n",
      "\n",
      "Applying ATLAS style settings...\n"
     ]
    }
   ],
   "source": [
    "from ProfileTools import profiles\n",
    "from Gaugi import load\n",
    "from Gaugi.monet.utils import getColor\n",
    "from Gaugi.monet.PlotFunctions import *\n",
    "from Gaugi.monet.TAxisFunctions import *\n",
    "from Gaugi.monet.AtlasStyle import *\n",
    "from ROOT import TCanvas, TH1F\n",
    "from ROOT import kRed, kBlue, kBlack,TLine,kBird, kOrange,kGray, kYellow, kViolet, kGreen, kAzure\n",
    "from pprint import pprint\n",
    "import array\n",
    "import numpy as np\n",
    "%config InlineBackend.figure_format = 'retina'\n",
    "%load_ext autoreload\n",
    "%autoreload 2\n",
    "SetAtlasStyle()\n",
    "GeV=1000."
   ]
  },
  {
   "cell_type": "code",
   "execution_count": 2,
   "metadata": {},
   "outputs": [],
   "source": [
    "etbins = [15, 20, 30, 40, 50, 1000000]\n",
    "etabins = [0.0, 0.8, 1.37, 1.54, 2.37, 2.50]"
   ]
  },
  {
   "cell_type": "code",
   "execution_count": 3,
   "metadata": {},
   "outputs": [],
   "source": [
    "path = '/Volumes/castor/cern_data/files/Zee/mc15_13TeV.sgn.probes_lhmedium_Zee.bkg.Truth.JF17/'\n",
    "path+= 'mc15_13TeV.sgn.probes_lhmedium_Zee.bkg.Truth.JF17_et{ET}_eta{ETA}.npz'\n",
    "paths = [[ path.format(ET=et,ETA=eta) for eta in range(5)] for et in range(5)]  "
   ]
  },
  {
   "cell_type": "code",
   "execution_count": 4,
   "metadata": {},
   "outputs": [],
   "source": [
    "def merge_data( paths ):\n",
    "    data = None\n",
    "    features = None\n",
    "    target = None\n",
    "    for et in range(5):\n",
    "        for eta in range(5):\n",
    "            raw = load(paths[et][eta])\n",
    "            if data is None:\n",
    "                data = raw['data']\n",
    "                target = raw['target']\n",
    "                features = raw['features']\n",
    "            else:\n",
    "                data = np.concatenate((data, raw['data']),axis=0)\n",
    "                target = np.concatenate((target, raw['target']),axis=0)\n",
    "    return data, target, features\n",
    "\n",
    "data,target,features = merge_data(paths)"
   ]
  },
  {
   "cell_type": "code",
   "execution_count": 5,
   "metadata": {},
   "outputs": [
    {
     "data": {
      "text/plain": [
       "(2259583, 154)"
      ]
     },
     "execution_count": 5,
     "metadata": {},
     "output_type": "execute_result"
    }
   ],
   "source": [
    "data.shape"
   ]
  },
  {
   "cell_type": "code",
   "execution_count": 6,
   "metadata": {},
   "outputs": [],
   "source": [
    "features = features.tolist()"
   ]
  },
  {
   "cell_type": "code",
   "execution_count": 7,
   "metadata": {},
   "outputs": [],
   "source": [
    "et = data[:, features.index('L2Calo_et')]\n",
    "eta = data[:, features.index('L2Calo_eta')]\n",
    "pt = data[:, features.index('L2Electron_pt')]\n",
    "has_track = data[:, features.index('L2Electron_hastrack')]"
   ]
  },
  {
   "cell_type": "markdown",
   "metadata": {},
   "source": [
    "## Get all L2Calo shapes:\n",
    "\n",
    "Get all events higher than 22 GeV inside of the first eta bin (0.0 < |eta| < 0.6)\n",
    "\n",
    "### Eratio:"
   ]
  },
  {
   "cell_type": "code",
   "execution_count": 8,
   "metadata": {},
   "outputs": [],
   "source": [
    "eratio_sgn = data[np.where((target==1) & (et>25*GeV) & (abs(eta) < 0.6)), features.index('L2Calo_eratio')].flatten()"
   ]
  },
  {
   "cell_type": "code",
   "execution_count": 9,
   "metadata": {},
   "outputs": [],
   "source": [
    "eratio_bkg = data[np.where((target!=1) & (et>25*GeV) & (abs(eta) < 0.6)), features.index('L2Calo_eratio')].flatten()"
   ]
  },
  {
   "cell_type": "markdown",
   "metadata": {},
   "source": [
    "### Reta:"
   ]
  },
  {
   "cell_type": "code",
   "execution_count": 10,
   "metadata": {},
   "outputs": [],
   "source": [
    "reta_sgn = data[np.where((target==1) & (et>25*GeV) & (abs(eta) < 0.6)), features.index('L2Calo_reta')].flatten()"
   ]
  },
  {
   "cell_type": "code",
   "execution_count": 11,
   "metadata": {},
   "outputs": [],
   "source": [
    "reta_bkg = data[np.where((target!=1) & (et>25*GeV) & (abs(eta) < 0.6)), features.index('L2Calo_reta')].flatten()"
   ]
  },
  {
   "cell_type": "markdown",
   "metadata": {},
   "source": [
    "### EThad/ETem"
   ]
  },
  {
   "cell_type": "code",
   "execution_count": 12,
   "metadata": {},
   "outputs": [],
   "source": [
    "et_sgn = data[np.where((target==1) & (et>25*GeV) & (abs(eta) < 0.6)), features.index('L2Calo_et')].flatten()\n",
    "eta_sgn = data[np.where((target==1) & (et>25*GeV) & (abs(eta) < 0.6)), features.index('L2Calo_eta')].flatten()\n",
    "ehad1_sgn = data[np.where((target==1) & (et>25*GeV) & (abs(eta) < 0.6)), features.index('L2Calo_ehad1')].flatten()\n",
    "ethad_sgn = ehad1_sgn/np.cosh(np.abs(eta_sgn))\n",
    "rhad_sgn = ethad_sgn/et_sgn"
   ]
  },
  {
   "cell_type": "code",
   "execution_count": 13,
   "metadata": {},
   "outputs": [],
   "source": [
    "et_bkg = data[np.where((target!=1) & (et>25*GeV) & (abs(eta) < 0.6)), features.index('L2Calo_et')].flatten()\n",
    "eta_bkg = data[np.where((target!=1) & (et>25*GeV) & (abs(eta) < 0.6)), features.index('L2Calo_eta')].flatten()\n",
    "ehad1_bkg = data[np.where((target!=1) & (et>25*GeV) & (abs(eta) < 0.6)), features.index('L2Calo_ehad1')].flatten()\n",
    "ethad_bkg = ehad1_bkg/np.cosh(np.abs(eta_bkg))\n",
    "rhad_bkg = ethad_bkg/et_bkg"
   ]
  },
  {
   "cell_type": "markdown",
   "metadata": {},
   "source": [
    "## Get cuts:"
   ]
  },
  {
   "cell_type": "code",
   "execution_count": 14,
   "metadata": {},
   "outputs": [
    {
     "name": "stdout",
     "output_type": "stream",
     "text": [
      "dict_keys(['vloose', 'loose', 'lhvloose', 'lhloose', 'medium', 'lhmedium', 'tight', 'lhtight', 'mergedtight'])\n"
     ]
    }
   ],
   "source": [
    "from TrigEgammaEmulationTool.TrigEgammaL2CaloHypoCuts import L2CaloCutMaps\n",
    "cuts = L2CaloCutMaps(25)\n",
    "print(cuts.MapsCAERATIOthr.keys())"
   ]
  },
  {
   "cell_type": "markdown",
   "metadata": {},
   "source": [
    "## Let's plot some L2Calo showers:"
   ]
  },
  {
   "cell_type": "code",
   "execution_count": 15,
   "metadata": {},
   "outputs": [],
   "source": [
    "def AddLegend(canvas, x, y, legends):\n",
    "    MakeLegend( canvas,x,y,x+0.98,y+0.20,textsize=16, names=legends, option = 'f' )"
   ]
  },
  {
   "cell_type": "code",
   "execution_count": 16,
   "metadata": {},
   "outputs": [],
   "source": [
    "def CreateHist(values, name, bins, xmin, xmax):\n",
    "    h = TH1F(name, \"\", bins, xmin, xmax)\n",
    "    w = array.array( 'd', np.ones_like(values) )\n",
    "    h.FillN( len(values), array.array('d',  values.tolist()),  w)\n",
    "    return h"
   ]
  },
  {
   "cell_type": "code",
   "execution_count": 17,
   "metadata": {},
   "outputs": [],
   "source": [
    "def AddThreshold(canvas, value , ymin, ymax, color=1, width=1, offset=0.1 ):\n",
    "    from ROOT import TLine, TArrow\n",
    "    line = TLine(value,ymin,value,ymax)\n",
    "    line.SetNDC(False)\n",
    "    line.SetLineColor(color)\n",
    "    line.SetLineWidth(width)\n",
    "    line.Draw()\n",
    "    arrow = TArrow(value,ymax,value+offset,ymax,0.01,\"|>\");\n",
    "    arrow.SetNDC(False)\n",
    "    arrow.Draw()\n",
    "    arrow.SetLineWidth(width)\n",
    "    arrow.SetLineColor(color)\n",
    "    canvas.Modified()\n",
    "    canvas.Update()\n",
    "    return line, arrow"
   ]
  },
  {
   "cell_type": "code",
   "execution_count": 18,
   "metadata": {},
   "outputs": [],
   "source": [
    "def PlotHist( values_sgn, values_bkg , xlabel, bins, xmin, xmax , y_axis_maximum=None):\n",
    "    from Gaugi.monet.utils import NormHist\n",
    "    \n",
    "    h_sgn = CreateHist(values_sgn, 'sgn', bins, xmin, xmax)\n",
    "    h_bkg = CreateHist(values_bkg, 'bkg', bins, xmin, xmax)\n",
    "    # Create canvas\n",
    "    canvas = TCanvas('canvas','canvas',700, 500)\n",
    "    h_sgn = NormHist(h_sgn)\n",
    "    h_bkg = NormHist(h_bkg)\n",
    "    h_sgn.SetLineColor(kAzure)\n",
    "    h_sgn.SetFillColor(kAzure-4)\n",
    "    h_bkg.SetLineColor(kRed)\n",
    "    h_bkg.SetFillColor(getColor(kRed, 0.5))\n",
    "    if y_axis_maximum:\n",
    "        h_sgn.SetMaximum(y_axis_maximum)\n",
    "        h_bkg.SetMaximum(y_axis_maximum)\n",
    "    AddHistogram(canvas,h_sgn, 'same')\n",
    "    AddHistogram(canvas,h_bkg, 'same')\n",
    "    FormatCanvasAxes(canvas, XLabelSize=16, YLabelSize=16, XTitleOffset=0.87, ZLabelSize=16,\n",
    "                             ZTitleSize=16, YTitleOffset=1.10, ZTitleOffset=1.1)\n",
    "    SetAxisLabels(canvas,xlabel, 'counts/bin (norm by counts)')\n",
    "    return canvas"
   ]
  },
  {
   "cell_type": "code",
   "execution_count": 19,
   "metadata": {},
   "outputs": [
    {
     "data": {
      "image/png": "[encoded data removed]",
      "text/plain": [
       "<IPython.core.display.Image object>"
      ]
     },
     "metadata": {},
     "output_type": "display_data"
    }
   ],
   "source": [
    "canvas = PlotHist(eratio_sgn, eratio_bkg, 'E_{ratio}', 100, 0.6, 1.005)\n",
    "AddATLASLabel(canvas, 0.2, 0.88, 'Internal, mc15, #sqrt{s}= 13TeV')\n",
    "thr_tight = cuts.MapsCAERATIOthr['tight'][0]\n",
    "AddLegend( canvas,0.2,0.53, ['Z#rightarrowee (Signal)', 'JF17 (background)'])\n",
    "l1 = AddThreshold(canvas, thr_tight, 0, 0.02, width=2, offset=0.05)\n",
    "AddTexLabel(canvas, 0.4, 0.33, 'tight cut', textsize=0.04)\n",
    "AddTexLabel(canvas, 0.2, 0.8, 'E_{T} > 25 GeV and 0.0 < |#eta| < 0.6', textsize=0.04)\n",
    "AddTexLabel(canvas, 0.2, 0.72, 'HLT_e28_lhtight_nod0_ivarloose', textsize=0.04)\n",
    "canvas.Draw()\n",
    "canvas.SaveAs('L2Calo_eratio.pdf')"
   ]
  },
  {
   "cell_type": "code",
   "execution_count": 20,
   "metadata": {},
   "outputs": [
    {
     "data": {
      "image/png": "[encoded data removed]",
      "text/plain": [
       "<IPython.core.display.Image object>"
      ]
     },
     "metadata": {},
     "output_type": "display_data"
    }
   ],
   "source": [
    "canvas = PlotHist(reta_sgn, reta_bkg, 'R_{#eta}', 100, 0.6, 1.005)\n",
    "AddATLASLabel(canvas, 0.2, 0.88, 'Internal, mc15, #sqrt{s}= 13TeV')\n",
    "thr_tight = cuts.MapsCARCOREthr['tight'][0]\n",
    "AddLegend( canvas,0.2,0.53, ['Z#rightarrowee (Signal)', 'JF17 (background)'])\n",
    "l1 = AddThreshold(canvas, thr_tight, 0, 0.02, width=2, offset=0.05)\n",
    "AddTexLabel(canvas, 0.42, 0.3, 'tight cut', textsize=0.04)\n",
    "AddTexLabel(canvas, 0.2, 0.8, 'E_{T} > 25 GeV and 0.0 < |#eta| < 0.6', textsize=0.04)\n",
    "AddTexLabel(canvas, 0.2, 0.72, 'HLT_e28_lhtight_nod0_ivarloose', textsize=0.04)\n",
    "canvas.Draw()\n",
    "canvas.SaveAs('L2Calo_reta.pdf')"
   ]
  },
  {
   "cell_type": "code",
   "execution_count": 21,
   "metadata": {},
   "outputs": [
    {
     "data": {
      "image/png": "[encoded data removed]",
      "text/plain": [
       "<IPython.core.display.Image object>"
      ]
     },
     "metadata": {},
     "output_type": "display_data"
    }
   ],
   "source": [
    "canvas = PlotHist(rhad_sgn, rhad_bkg, 'E_{T,had1}/E_{T,EM}', 80, -0.05, 0.2, 0.4)\n",
    "AddATLASLabel(canvas, 0.2, 0.88, 'Internal, mc15, #sqrt{s}= 13TeV')\n",
    "thr_tight = cuts.MapsHADETthr['tight'][0]\n",
    "AddLegend( canvas,0.55,0.53, ['Z#rightarrowee (Signal)', 'JF17 (background)'])\n",
    "l1 = AddThreshold(canvas, thr_tight, 0, 0.1, width=2, offset=-0.03)\n",
    "AddTexLabel(canvas, 0.42, 0.38, 'tight cut', textsize=0.04)\n",
    "AddTexLabel(canvas, 0.55, 0.8, 'E_{T} > 25 GeV and 0.0 < |#eta| < 0.6', textsize=0.04)\n",
    "AddTexLabel(canvas, 0.55, 0.72, 'HLT_e28_lhtight_nod0_ivarloose', textsize=0.04)\n",
    "canvas.Draw()\n",
    "canvas.SaveAs('L2Calo_rhad.pdf')"
   ]
  }
 ],
 "metadata": {
  "kernelspec": {
   "display_name": "Python 3",
   "language": "python",
   "name": "python3"
  },
  "language_info": {
   "codemirror_mode": {
    "name": "ipython",
    "version": 3
   },
   "file_extension": ".py",
   "mimetype": "text/x-python",
   "name": "python",
   "nbconvert_exporter": "python",
   "pygments_lexer": "ipython3",
   "version": "3.7.9"
  }
 },
 "nbformat": 4,
 "nbformat_minor": 4
}
