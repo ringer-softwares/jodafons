{
 "cells": [
  {
   "cell_type": "markdown",
   "metadata": {},
   "source": [
    "# Fake Rejection:\n",
    "\n",
    "Check efficiency plots w.r.t the reference (noringer)"
   ]
  },
  {
   "cell_type": "code",
   "execution_count": 1,
   "metadata": {},
   "outputs": [
    {
     "name": "stdout",
     "output_type": "stream",
     "text": [
      "Welcome to JupyROOT 6.16/00\n",
      "Using all sub packages with ROOT dependence\n",
      "INFO: Pandarallel will run on 40 workers.\n",
      "INFO: Pandarallel will use Memory file system to transfer data between the main process and workers.\n",
      "\n",
      "Applying ATLAS style settings...\n",
      "\n",
      "Applying ATLAS style settings...\n",
      "\n",
      "Applying ATLAS style settings...\n"
     ]
    }
   ],
   "source": [
    "from kepler.pandas.menu       import ElectronSequence as Chain\n",
    "from kepler.pandas.readers    import load, load_in_loop, load_hdf\n",
    "from core import Efficiency, restore_efficiencies\n",
    "from Gaugi import mkdir_p, progressbar\n",
    "from prettytable import PrettyTable\n",
    "from tqdm import tqdm\n",
    "\n",
    "import numpy as np\n",
    "import pandas as pd\n",
    "import collections\n",
    "import os\n",
    "import array\n",
    "import root_numpy\n",
    "import rootplotlib as rpl\n",
    "from pprint import pprint\n",
    "from copy import deepcopy\n",
    "import gc\n",
    "from ROOT import kBlack,kBlue,kRed,kAzure,kGreen,kMagenta,kCyan,kOrange,kGray,kYellow,kWhite,TColor,gStyle,TCanvas\n",
    "import ROOT\n",
    "%config InlineBackend.figure_format = 'retina'\n",
    "%load_ext autoreload\n",
    "%autoreload 2\n",
    "GeV = 1000.\n"
   ]
  },
  {
   "cell_type": "markdown",
   "metadata": {},
   "source": [
    "## 1) Read all files:"
   ]
  },
  {
   "cell_type": "code",
   "execution_count": 2,
   "metadata": {},
   "outputs": [],
   "source": [
    "output_path = 'output/efficiencies'\n",
    "mkdir_p(output_path)"
   ]
  },
  {
   "cell_type": "code",
   "execution_count": 3,
   "metadata": {},
   "outputs": [
    {
     "name": "stdout",
     "output_type": "stream",
     "text": [
      "OrderedDict([('L1Seed', 'L1_EM15VHI'),\n",
      "             ('L2Calo', (14000.0, 'trig_L2_cl_vloose_et12to22')),\n",
      "             ('L2', 'trig_L2_el_cut_pt15to20'),\n",
      "             ('EFCalo', 17000.0),\n",
      "             ('HLT', (17000.0, 'trig_EF_el_lhvloose'))])\n",
      "OrderedDict([('L1Seed', 'L1_EM22VHI'),\n",
      "             ('L2Calo', (25000.0, 'trig_L2_cl_tight_et22toInf')),\n",
      "             ('L2', 'trig_L2_el_cut_pt20to50'),\n",
      "             ('EFCalo', 28000.0),\n",
      "             ('HLT', (28000.0, 'trig_EF_el_lhtight_ivarloose'))])\n",
      "OrderedDict([('L1Seed', 'L1_EM24VHI'),\n",
      "             ('L2Calo', (57000.0, 'trig_L2_cl_medium_et22toInf')),\n",
      "             ('L2', 'trig_L2_el_cut_pt50toInf'),\n",
      "             ('EFCalo', 60000.0),\n",
      "             ('HLT', (60000.0, 'trig_EF_el_lhmedium'))])\n",
      "OrderedDict([('L1Seed', 'L1_EM24VHI'),\n",
      "             ('L2Calo', (137000.0, 'trig_L2_cl_loose_et22toInf')),\n",
      "             ('L2', 'trig_L2_el_cut_pt50toInf'),\n",
      "             ('EFCalo', 140000.0),\n",
      "             ('HLT', (140000.0, 'trig_EF_el_lhloose'))])\n",
      "OrderedDict([('L1Seed', 'L1_EM15VHI'),\n",
      "             ('L2Calo', (14000.0, 'ringer_v13_vloose')),\n",
      "             ('L2', 'ringer_v3_el_loose'),\n",
      "             ('EFCalo', 17000.0),\n",
      "             ('HLT', (17000.0, 'trig_EF_el_lhvloose'))])\n",
      "OrderedDict([('L1Seed', 'L1_EM22VHI'),\n",
      "             ('L2Calo', (25000.0, 'ringer_v13_tight')),\n",
      "             ('L2', 'ringer_v3_el_loose'),\n",
      "             ('EFCalo', 28000.0),\n",
      "             ('HLT', (28000.0, 'trig_EF_el_lhtight_ivarloose'))])\n",
      "OrderedDict([('L1Seed', 'L1_EM24VHI'),\n",
      "             ('L2Calo', (57000.0, 'ringer_v13_medium')),\n",
      "             ('L2', 'ringer_v3_el_loose'),\n",
      "             ('EFCalo', 60000.0),\n",
      "             ('HLT', (60000.0, 'trig_EF_el_lhmedium'))])\n",
      "OrderedDict([('L1Seed', 'L1_EM24VHI'),\n",
      "             ('L2Calo', (137000.0, 'ringer_v13_loose')),\n",
      "             ('L2', 'ringer_v3_el_loose'),\n",
      "             ('EFCalo', 140000.0),\n",
      "             ('HLT', (140000.0, 'trig_EF_el_lhloose'))])\n",
      "OrderedDict([('L1Seed', 'L1_EM15VHI'),\n",
      "             ('L2Calo', (14000.0, 'ringer_v8_vloose')),\n",
      "             ('L2', 'trig_L2_el_cut_pt15to20'),\n",
      "             ('EFCalo', 17000.0),\n",
      "             ('HLT', (17000.0, 'trig_EF_el_lhvloose'))])\n",
      "OrderedDict([('L1Seed', 'L1_EM22VHI'),\n",
      "             ('L2Calo', (25000.0, 'ringer_v8_tight')),\n",
      "             ('L2', 'trig_L2_el_cut_pt20to50'),\n",
      "             ('EFCalo', 28000.0),\n",
      "             ('HLT', (28000.0, 'trig_EF_el_lhtight_ivarloose'))])\n",
      "OrderedDict([('L1Seed', 'L1_EM24VHI'),\n",
      "             ('L2Calo', (57000.0, 'ringer_v8_medium')),\n",
      "             ('L2', 'trig_L2_el_cut_pt50toInf'),\n",
      "             ('EFCalo', 60000.0),\n",
      "             ('HLT', (60000.0, 'trig_EF_el_lhmedium'))])\n",
      "OrderedDict([('L1Seed', 'L1_EM24VHI'),\n",
      "             ('L2Calo', (137000.0, 'ringer_v8_loose')),\n",
      "             ('L2', 'trig_L2_el_cut_pt50toInf'),\n",
      "             ('EFCalo', 140000.0),\n",
      "             ('HLT', (140000.0, 'trig_EF_el_lhloose'))])\n",
      "OrderedDict([('L1Seed', 'L1_EM15VHI'),\n",
      "             ('L2Calo', (14000.0, 'ringer_v9_vloose')),\n",
      "             ('L2', 'trig_L2_el_cut_pt15to20'),\n",
      "             ('EFCalo', 17000.0),\n",
      "             ('HLT', (17000.0, 'trig_EF_el_lhvloose'))])\n",
      "OrderedDict([('L1Seed', 'L1_EM22VHI'),\n",
      "             ('L2Calo', (25000.0, 'ringer_v9_tight')),\n",
      "             ('L2', 'trig_L2_el_cut_pt20to50'),\n",
      "             ('EFCalo', 28000.0),\n",
      "             ('HLT', (28000.0, 'trig_EF_el_lhtight_ivarloose'))])\n",
      "OrderedDict([('L1Seed', 'L1_EM24VHI'),\n",
      "             ('L2Calo', (57000.0, 'ringer_v9_medium')),\n",
      "             ('L2', 'trig_L2_el_cut_pt50toInf'),\n",
      "             ('EFCalo', 60000.0),\n",
      "             ('HLT', (60000.0, 'trig_EF_el_lhmedium'))])\n",
      "OrderedDict([('L1Seed', 'L1_EM24VHI'),\n",
      "             ('L2Calo', (137000.0, 'ringer_v9_loose')),\n",
      "             ('L2', 'trig_L2_el_cut_pt50toInf'),\n",
      "             ('EFCalo', 140000.0),\n",
      "             ('HLT', (140000.0, 'trig_EF_el_lhloose'))])\n",
      "OrderedDict([('L1Seed', 'L1_EM15VHI'),\n",
      "             ('L2Calo', (14000.0, 'ringer_v10_vloose')),\n",
      "             ('L2', 'trig_L2_el_cut_pt15to20'),\n",
      "             ('EFCalo', 17000.0),\n",
      "             ('HLT', (17000.0, 'trig_EF_el_lhvloose'))])\n",
      "OrderedDict([('L1Seed', 'L1_EM22VHI'),\n",
      "             ('L2Calo', (25000.0, 'ringer_v10_tight')),\n",
      "             ('L2', 'trig_L2_el_cut_pt20to50'),\n",
      "             ('EFCalo', 28000.0),\n",
      "             ('HLT', (28000.0, 'trig_EF_el_lhtight_ivarloose'))])\n",
      "OrderedDict([('L1Seed', 'L1_EM24VHI'),\n",
      "             ('L2Calo', (57000.0, 'ringer_v10_medium')),\n",
      "             ('L2', 'trig_L2_el_cut_pt50toInf'),\n",
      "             ('EFCalo', 60000.0),\n",
      "             ('HLT', (60000.0, 'trig_EF_el_lhmedium'))])\n",
      "OrderedDict([('L1Seed', 'L1_EM24VHI'),\n",
      "             ('L2Calo', (137000.0, 'ringer_v10_loose')),\n",
      "             ('L2', 'trig_L2_el_cut_pt50toInf'),\n",
      "             ('EFCalo', 140000.0),\n",
      "             ('HLT', (140000.0, 'trig_EF_el_lhloose'))])\n",
      "OrderedDict([('L1Seed', 'L1_EM15VHI'),\n",
      "             ('L2Calo', (14000.0, 'ringer_v11_vloose')),\n",
      "             ('L2', 'trig_L2_el_cut_pt15to20'),\n",
      "             ('EFCalo', 17000.0),\n",
      "             ('HLT', (17000.0, 'trig_EF_el_lhvloose'))])\n",
      "OrderedDict([('L1Seed', 'L1_EM22VHI'),\n",
      "             ('L2Calo', (25000.0, 'ringer_v11_tight')),\n",
      "             ('L2', 'trig_L2_el_cut_pt20to50'),\n",
      "             ('EFCalo', 28000.0),\n",
      "             ('HLT', (28000.0, 'trig_EF_el_lhtight_ivarloose'))])\n",
      "OrderedDict([('L1Seed', 'L1_EM24VHI'),\n",
      "             ('L2Calo', (57000.0, 'ringer_v11_medium')),\n",
      "             ('L2', 'trig_L2_el_cut_pt50toInf'),\n",
      "             ('EFCalo', 60000.0),\n",
      "             ('HLT', (60000.0, 'trig_EF_el_lhmedium'))])\n",
      "OrderedDict([('L1Seed', 'L1_EM24VHI'),\n",
      "             ('L2Calo', (137000.0, 'ringer_v11_loose')),\n",
      "             ('L2', 'trig_L2_el_cut_pt50toInf'),\n",
      "             ('EFCalo', 140000.0),\n",
      "             ('HLT', (140000.0, 'trig_EF_el_lhloose'))])\n",
      "OrderedDict([('L1Seed', 'L1_EM15VHI'),\n",
      "             ('L2Calo', (14000.0, 'ringer_v12_vloose')),\n",
      "             ('L2', 'trig_L2_el_cut_pt15to20'),\n",
      "             ('EFCalo', 17000.0),\n",
      "             ('HLT', (17000.0, 'trig_EF_el_lhvloose'))])\n",
      "OrderedDict([('L1Seed', 'L1_EM22VHI'),\n",
      "             ('L2Calo', (25000.0, 'ringer_v12_tight')),\n",
      "             ('L2', 'trig_L2_el_cut_pt20to50'),\n",
      "             ('EFCalo', 28000.0),\n",
      "             ('HLT', (28000.0, 'trig_EF_el_lhtight_ivarloose'))])\n",
      "OrderedDict([('L1Seed', 'L1_EM24VHI'),\n",
      "             ('L2Calo', (57000.0, 'ringer_v12_medium')),\n",
      "             ('L2', 'trig_L2_el_cut_pt50toInf'),\n",
      "             ('EFCalo', 60000.0),\n",
      "             ('HLT', (60000.0, 'trig_EF_el_lhmedium'))])\n",
      "OrderedDict([('L1Seed', 'L1_EM24VHI'),\n",
      "             ('L2Calo', (137000.0, 'ringer_v12_loose')),\n",
      "             ('L2', 'trig_L2_el_cut_pt50toInf'),\n",
      "             ('EFCalo', 140000.0),\n",
      "             ('HLT', (140000.0, 'trig_EF_el_lhloose'))])\n",
      "OrderedDict([('L1Seed', 'L1_EM15VHI'),\n",
      "             ('L2Calo', (14000.0, 'ringer_v13_vloose')),\n",
      "             ('L2', 'trig_L2_el_cut_pt15to20'),\n",
      "             ('EFCalo', 17000.0),\n",
      "             ('HLT', (17000.0, 'trig_EF_el_lhvloose'))])\n",
      "OrderedDict([('L1Seed', 'L1_EM22VHI'),\n",
      "             ('L2Calo', (25000.0, 'ringer_v13_tight')),\n",
      "             ('L2', 'trig_L2_el_cut_pt20to50'),\n",
      "             ('EFCalo', 28000.0),\n",
      "             ('HLT', (28000.0, 'trig_EF_el_lhtight_ivarloose'))])\n",
      "OrderedDict([('L1Seed', 'L1_EM24VHI'),\n",
      "             ('L2Calo', (57000.0, 'ringer_v13_medium')),\n",
      "             ('L2', 'trig_L2_el_cut_pt50toInf'),\n",
      "             ('EFCalo', 60000.0),\n",
      "             ('HLT', (60000.0, 'trig_EF_el_lhmedium'))])\n",
      "OrderedDict([('L1Seed', 'L1_EM24VHI'),\n",
      "             ('L2Calo', (137000.0, 'ringer_v13_loose')),\n",
      "             ('L2', 'trig_L2_el_cut_pt50toInf'),\n",
      "             ('EFCalo', 140000.0),\n",
      "             ('HLT', (140000.0, 'trig_EF_el_lhloose'))])\n",
      "OrderedDict([('L1Seed', 'L1_EM15VHI'),\n",
      "             ('L2Calo', (14000.0, 'ringer_v14_vloose')),\n",
      "             ('L2', 'trig_L2_el_cut_pt15to20'),\n",
      "             ('EFCalo', 17000.0),\n",
      "             ('HLT', (17000.0, 'trig_EF_el_lhvloose'))])\n",
      "OrderedDict([('L1Seed', 'L1_EM22VHI'),\n",
      "             ('L2Calo', (25000.0, 'ringer_v14_tight')),\n",
      "             ('L2', 'trig_L2_el_cut_pt20to50'),\n",
      "             ('EFCalo', 28000.0),\n",
      "             ('HLT', (28000.0, 'trig_EF_el_lhtight_ivarloose'))])\n",
      "OrderedDict([('L1Seed', 'L1_EM24VHI'),\n",
      "             ('L2Calo', (57000.0, 'ringer_v14_medium')),\n",
      "             ('L2', 'trig_L2_el_cut_pt50toInf'),\n",
      "             ('EFCalo', 60000.0),\n",
      "             ('HLT', (60000.0, 'trig_EF_el_lhmedium'))])\n",
      "OrderedDict([('L1Seed', 'L1_EM24VHI'),\n",
      "             ('L2Calo', (137000.0, 'ringer_v14_loose')),\n",
      "             ('L2', 'trig_L2_el_cut_pt50toInf'),\n",
      "             ('EFCalo', 140000.0),\n",
      "             ('HLT', (140000.0, 'trig_EF_el_lhloose'))])\n",
      "OrderedDict([('L1Seed', 'L1_EM15VHI'),\n",
      "             ('L2Calo', (14000.0, 'ringer_v15_vloose')),\n",
      "             ('L2', 'trig_L2_el_cut_pt15to20'),\n",
      "             ('EFCalo', 17000.0),\n",
      "             ('HLT', (17000.0, 'trig_EF_el_lhvloose'))])\n",
      "OrderedDict([('L1Seed', 'L1_EM22VHI'),\n",
      "             ('L2Calo', (25000.0, 'ringer_v15_tight')),\n",
      "             ('L2', 'trig_L2_el_cut_pt20to50'),\n",
      "             ('EFCalo', 28000.0),\n",
      "             ('HLT', (28000.0, 'trig_EF_el_lhtight_ivarloose'))])\n",
      "OrderedDict([('L1Seed', 'L1_EM24VHI'),\n",
      "             ('L2Calo', (57000.0, 'ringer_v15_medium')),\n",
      "             ('L2', 'trig_L2_el_cut_pt50toInf'),\n",
      "             ('EFCalo', 60000.0),\n",
      "             ('HLT', (60000.0, 'trig_EF_el_lhmedium'))])\n",
      "OrderedDict([('L1Seed', 'L1_EM24VHI'),\n",
      "             ('L2Calo', (137000.0, 'ringer_v15_loose')),\n",
      "             ('L2', 'trig_L2_el_cut_pt50toInf'),\n",
      "             ('EFCalo', 140000.0),\n",
      "             ('HLT', (140000.0, 'trig_EF_el_lhloose'))])\n",
      "OrderedDict([('L1Seed', 'L1_EM15VHI'),\n",
      "             ('L2Calo', (14000.0, 'ringer_v16_vloose')),\n",
      "             ('L2', 'trig_L2_el_cut_pt15to20'),\n",
      "             ('EFCalo', 17000.0),\n",
      "             ('HLT', (17000.0, 'trig_EF_el_lhvloose'))])\n",
      "OrderedDict([('L1Seed', 'L1_EM22VHI'),\n",
      "             ('L2Calo', (25000.0, 'ringer_v16_tight')),\n",
      "             ('L2', 'trig_L2_el_cut_pt20to50'),\n",
      "             ('EFCalo', 28000.0),\n",
      "             ('HLT', (28000.0, 'trig_EF_el_lhtight_ivarloose'))])\n",
      "OrderedDict([('L1Seed', 'L1_EM24VHI'),\n",
      "             ('L2Calo', (57000.0, 'ringer_v16_medium')),\n",
      "             ('L2', 'trig_L2_el_cut_pt50toInf'),\n",
      "             ('EFCalo', 60000.0),\n",
      "             ('HLT', (60000.0, 'trig_EF_el_lhmedium'))])\n",
      "OrderedDict([('L1Seed', 'L1_EM24VHI'),\n",
      "             ('L2Calo', (137000.0, 'ringer_v16_loose')),\n",
      "             ('L2', 'trig_L2_el_cut_pt50toInf'),\n",
      "             ('EFCalo', 140000.0),\n",
      "             ('HLT', (140000.0, 'trig_EF_el_lhloose'))])\n"
     ]
    }
   ],
   "source": [
    "# create my chain\n",
    "chains = [\n",
    "    Chain( \"HLT_e17_lhvloose_nod0_noringer_L1EM15VHI\", L1Seed = 'L1_EM15VHI' ),\n",
    "    Chain( \"HLT_e28_lhtight_nod0_noringer_ivarloose\", L1Seed = 'L1_EM22VHI' ),\n",
    "    Chain( \"HLT_e60_lhmedium_nod0_noringer_L1EM24VHI\", L1Seed = 'L1_EM24VHI' ),\n",
    "    Chain( \"HLT_e140_lhloose_nod0_noringer\" , L1Seed = 'L1_EM24VHI' ),\n",
    "    \n",
    "    Chain( \"HLT_e17_lhvloose_nod0_ringer_v17_L1EM15VHI\"    , L1Seed = 'L1_EM15VHI' , l2calo_column = 'ringer_v13_vloose',l2_column = 'ringer_v3_el_loose'),\n",
    "    Chain( \"HLT_e28_lhtight_nod0_ringer_v17_ivarloose\"     , L1Seed = 'L1_EM22VHI' , l2calo_column = 'ringer_v13_tight' ,l2_column = 'ringer_v3_el_loose'),\n",
    "    Chain( \"HLT_e60_lhmedium_nod0_ringer_v17_L1EM24VHI\"    , L1Seed = 'L1_EM24VHI' , l2calo_column = 'ringer_v13_medium',l2_column = 'ringer_v3_el_loose'),\n",
    "    Chain( \"HLT_e140_lhloose_nod0_ringer_v17\"              , L1Seed = 'L1_EM24VHI' , l2calo_column = 'ringer_v13_loose' ,l2_column = 'ringer_v3_el_loose'),\n",
    "]\n",
    "\n",
    "versions = ['v8', 'v9', 'v10', 'v11','v12','v13','v14','v15', 'v16']\n",
    "\n",
    "for v in versions:\n",
    "    \n",
    "    chains.extend( [\n",
    "\n",
    "            Chain( \"HLT_e17_lhvloose_nod0_ringer_%s_L1EM15VHI\"%v, L1Seed = 'L1_EM15VHI' , l2calo_column = 'ringer_%s_vloose'%v),\n",
    "            Chain( \"HLT_e28_lhtight_nod0_ringer_%s_ivarloose\"%v, L1Seed = 'L1_EM22VHI' , l2calo_column = 'ringer_%s_tight'%v ),\n",
    "            Chain( \"HLT_e60_lhmedium_nod0_ringer_%s_L1EM24VHI\"%v, L1Seed = 'L1_EM24VHI' , l2calo_column = 'ringer_%s_medium'%v),\n",
    "            Chain( \"HLT_e140_lhloose_nod0_ringer_%s\"%v , L1Seed = 'L1_EM24VHI', l2calo_column = 'ringer_%s_loose'%v),\n",
    "\n",
    "    ])\n",
    "\n",
    "\n",
    "def emulate( df ):\n",
    "    for chain in progressbar(chains, prefix='Emulate...'):\n",
    "        chain.apply(df)"
   ]
  },
  {
   "cell_type": "markdown",
   "metadata": {},
   "source": [
    "# 2017:"
   ]
  },
  {
   "cell_type": "code",
   "execution_count": 4,
   "metadata": {},
   "outputs": [],
   "source": [
    "dpath   = '../data/output/data17_13TeV.AllPeriods.sgn.probes_lhvloose_EGAM1.bkg.vprobes_vlhvloose_EGAM7.GRL_v97.dataframe.h5'"
   ]
  },
  {
   "cell_type": "code",
   "execution_count": 5,
   "metadata": {},
   "outputs": [],
   "source": [
    "data_df = pd.concat( (load_hdf(dpath), \n",
    "                      load_hdf('../2021/v8/output/emulation/data17_table_v8.h5'),\n",
    "                      load_hdf('v9/output/emulation/data17_table_v9.h5'),\n",
    "                      load_hdf('v10/output/emulation/data17_table_v10.h5'),\n",
    "                      load_hdf('v11/output/emulation/data17_table_v11.h5'),\n",
    "                      load_hdf('../2021/v12/output/emulation/data17_table_v12.h5'),\n",
    "                      load_hdf('v13/output/emulation/data17_table_v13.h5'),\n",
    "                      load_hdf('v14/output/emulation/data17_table_v14.h5'),\n",
    "                      load_hdf('v15/output/emulation/data17_table_v15.h5'),\n",
    "                      load_hdf('v16/output/emulation/data17_table_v16.h5'),\n",
    "                      load_hdf('v3_el/output/emulation/data17_table_v3_el.h5'),\n",
    "                     ), axis=1)"
   ]
  },
  {
   "cell_type": "code",
   "execution_count": 6,
   "metadata": {},
   "outputs": [
    {
     "name": "stderr",
     "output_type": "stream",
     "text": [
      "Emulate...: 100%|██████████| 44/44 [18:46<00:00, 25.61s/it] \n"
     ]
    }
   ],
   "source": [
    "emulate(data_df)"
   ]
  },
  {
   "cell_type": "code",
   "execution_count": 7,
   "metadata": {},
   "outputs": [
    {
     "data": {
      "text/plain": [
       "(43311283, 378)"
      ]
     },
     "execution_count": 7,
     "metadata": {},
     "output_type": "execute_result"
    }
   ],
   "source": [
    "data_df.shape"
   ]
  },
  {
   "cell_type": "code",
   "execution_count": 8,
   "metadata": {},
   "outputs": [
    {
     "data": {
      "text/plain": [
       "(39861985, 378)"
      ]
     },
     "execution_count": 8,
     "metadata": {},
     "output_type": "execute_result"
    }
   ],
   "source": [
    "data_df = data_df.loc[ ((data_df['el_lhmedium']==True) & \n",
    "                    (data_df.target==1.0)) | ((data_df.target==0) & \n",
    "                    (data_df['el_lhvloose']==False) ) ]\n",
    "\n",
    "data_df.shape"
   ]
  },
  {
   "cell_type": "code",
   "execution_count": 9,
   "metadata": {},
   "outputs": [
    {
     "name": "stdout",
     "output_type": "stream",
     "text": [
      "e17_lhvloose_nod0_X_L1EM15VHI\n"
     ]
    },
    {
     "name": "stderr",
     "output_type": "stream",
     "text": [
      "100%|██████████| 11/11 [23:53<00:00, 130.32s/it]\n"
     ]
    },
    {
     "name": "stdout",
     "output_type": "stream",
     "text": [
      "+------------+-------+-------------+-------------+-------+------------+------------+--------+-------+-------+--------+\n",
      "|  version   | L2CFA | L2CFA(<100) | L2CFA(>100) |  L2FA | L2FA(<100) | L2FA(>100) | HLT_FA | L2CPD |  L2PD | HLT_PD |\n",
      "+------------+-------+-------------+-------------+-------+------------+------------+--------+-------+-------+--------+\n",
      "|  noringer  | 35.83 |    13.46    |    43.98    | 35.77 |   13.44    |   43.90    |  0.29  | 94.48 | 94.34 | 92.17  |\n",
      "| ringer_v8  |  2.24 |     2.58    |     2.12    |  2.16 |    2.56    |    2.02    |  0.17  | 94.66 | 94.51 | 92.34  |\n",
      "| ringer_v9  |  1.92 |     1.90    |     1.92    |  1.84 |    1.88    |    1.82    |  0.14  | 94.67 | 94.52 | 92.36  |\n",
      "| ringer_v10 |  5.25 |     2.19    |     6.36    |  4.65 |    2.17    |    5.55    |  0.15  | 94.66 | 94.51 | 92.34  |\n",
      "| ringer_v11 |  3.11 |     1.69    |     3.62    |  2.73 |    1.67    |    3.11    |  0.13  | 94.65 | 94.51 | 92.34  |\n",
      "| ringer_v12 |  2.14 |     2.55    |     1.98    |  2.07 |    2.53    |    1.90    |  0.16  | 94.65 | 94.51 | 92.34  |\n",
      "| ringer_v13 |  1.70 |     1.96    |     1.61    |  1.64 |    1.94    |    1.53    |  0.13  | 94.65 | 94.51 | 92.34  |\n",
      "| ringer_v14 |  1.37 |     2.06    |     1.12    |  1.32 |    2.04    |    1.05    |  0.10  | 94.65 | 94.50 | 92.33  |\n",
      "| ringer_v15 |  3.85 |     1.86    |     4.58    |  3.49 |    1.84    |    4.09    |  0.12  | 94.64 | 94.49 | 92.33  |\n",
      "| ringer_v16 |  1.33 |     2.05    |     1.06    |  1.27 |    2.03    |    0.99    |  0.10  | 94.66 | 94.51 | 92.34  |\n",
      "| ringer_v17 |  1.70 |     1.96    |     1.61    |  0.78 |    1.00    |    0.70    |  0.10  | 94.65 | 94.42 | 92.29  |\n",
      "+------------+-------+-------------+-------------+-------+------------+------------+--------+-------+-------+--------+\n",
      "e28_lhtight_nod0_X_ivarloose\n"
     ]
    },
    {
     "name": "stderr",
     "output_type": "stream",
     "text": [
      "100%|██████████| 11/11 [19:33<00:00, 106.72s/it]\n"
     ]
    },
    {
     "name": "stdout",
     "output_type": "stream",
     "text": [
      "+------------+-------+-------------+-------------+-------+------------+------------+--------+-------+-------+--------+\n",
      "|  version   | L2CFA | L2CFA(<100) | L2CFA(>100) |  L2FA | L2FA(<100) | L2FA(>100) | HLT_FA | L2CPD |  L2PD | HLT_PD |\n",
      "+------------+-------+-------------+-------------+-------+------------+------------+--------+-------+-------+--------+\n",
      "|  noringer  | 26.47 |     7.80    |    30.57    | 26.41 |    7.79    |   30.50    |  0.00  | 93.98 | 93.87 | 86.84  |\n",
      "| ringer_v8  |  0.84 |     1.08    |     0.78    |  0.79 |    1.07    |    0.73    |  0.00  | 94.22 | 94.11 | 87.01  |\n",
      "| ringer_v9  |  1.17 |     0.86    |     1.24    |  1.12 |    0.85    |    1.17    |  0.00  | 94.25 | 94.14 | 87.04  |\n",
      "| ringer_v10 |  0.60 |     0.84    |     0.55    |  0.56 |    0.83    |    0.50    |  0.00  | 94.24 | 94.12 | 87.01  |\n",
      "| ringer_v11 |  0.51 |     0.69    |     0.47    |  0.47 |    0.68    |    0.42    |  0.00  | 94.25 | 94.13 | 87.03  |\n",
      "| ringer_v12 |  0.82 |     1.12    |     0.76    |  0.78 |    1.11    |    0.70    |  0.00  | 94.22 | 94.11 | 87.01  |\n",
      "| ringer_v13 |  1.00 |     0.90    |     1.03    |  0.95 |    0.89    |    0.97    |  0.00  | 94.24 | 94.12 | 87.04  |\n",
      "| ringer_v14 |  0.78 |     0.95    |     0.75    |  0.73 |    0.94    |    0.69    |  0.00  | 94.23 | 94.11 | 87.01  |\n",
      "| ringer_v15 |  0.68 |     0.78    |     0.65    |  0.63 |    0.77    |    0.60    |  0.00  | 94.24 | 94.12 | 87.02  |\n",
      "| ringer_v16 |  0.65 |     0.90    |     0.60    |  0.61 |    0.89    |    0.54    |  0.00  | 94.24 | 94.13 | 87.01  |\n",
      "| ringer_v17 |  1.00 |     0.90    |     1.03    |  0.57 |    0.58    |    0.57    |  0.00  | 94.24 | 94.09 | 87.03  |\n",
      "+------------+-------+-------------+-------------+-------+------------+------------+--------+-------+-------+--------+\n",
      "e60_lhmedium_nod0_X_L1EM24VHI\n"
     ]
    },
    {
     "name": "stderr",
     "output_type": "stream",
     "text": [
      "100%|██████████| 11/11 [07:19<00:00, 39.93s/it]\n"
     ]
    },
    {
     "name": "stdout",
     "output_type": "stream",
     "text": [
      "+------------+-------+-------------+-------------+-------+------------+------------+--------+-------+-------+--------+\n",
      "|  version   | L2CFA | L2CFA(<100) | L2CFA(>100) |  L2FA | L2FA(<100) | L2FA(>100) | HLT_FA | L2CPD |  L2PD | HLT_PD |\n",
      "+------------+-------+-------------+-------------+-------+------------+------------+--------+-------+-------+--------+\n",
      "|  noringer  | 34.45 |    17.60    |    35.03    | 34.37 |   17.59    |   34.95    |  0.01  | 97.31 | 97.22 | 91.87  |\n",
      "| ringer_v8  |  0.83 |     0.38    |     0.85    |  0.78 |    0.37    |    0.80    |  0.00  | 97.36 | 97.27 | 91.90  |\n",
      "| ringer_v9  |  1.57 |     0.50    |     1.61    |  1.49 |    0.50    |    1.53    |  0.00  | 97.37 | 97.28 | 91.90  |\n",
      "| ringer_v10 |  0.67 |     0.42    |     0.68    |  0.61 |    0.42    |    0.62    |  0.00  | 97.21 | 97.12 | 91.76  |\n",
      "| ringer_v11 |  0.55 |     0.33    |     0.55    |  0.49 |    0.33    |    0.50    |  0.00  | 97.15 | 97.06 | 91.71  |\n",
      "| ringer_v12 |  0.81 |     0.44    |     0.83    |  0.76 |    0.44    |    0.77    |  0.00  | 97.35 | 97.26 | 91.90  |\n",
      "| ringer_v13 |  1.14 |     0.47    |     1.16    |  1.08 |    0.47    |    1.10    |  0.00  | 97.35 | 97.26 | 91.88  |\n",
      "| ringer_v14 |  0.85 |     0.50    |     0.86    |  0.79 |    0.50    |    0.80    |  0.00  | 97.23 | 97.14 | 91.78  |\n",
      "| ringer_v15 |  0.77 |     0.45    |     0.78    |  0.71 |    0.44    |    0.72    |  0.00  | 97.18 | 97.09 | 91.73  |\n",
      "| ringer_v16 |  0.67 |     0.44    |     0.68    |  0.62 |    0.44    |    0.62    |  0.00  | 97.19 | 97.10 | 91.73  |\n",
      "| ringer_v17 |  1.14 |     0.47    |     1.16    |  0.58 |    0.28    |    0.59    |  0.00  | 97.35 | 97.19 | 91.85  |\n",
      "+------------+-------+-------------+-------------+-------+------------+------------+--------+-------+-------+--------+\n",
      "e140_lhloose_nod0_X\n"
     ]
    },
    {
     "name": "stderr",
     "output_type": "stream",
     "text": [
      "100%|██████████| 11/11 [05:04<00:00, 27.69s/it]"
     ]
    },
    {
     "name": "stdout",
     "output_type": "stream",
     "text": [
      "+------------+-------+-------------+-------------+-------+------------+------------+--------+-------+-------+--------+\n",
      "|  version   | L2CFA | L2CFA(<100) | L2CFA(>100) |  L2FA | L2FA(<100) | L2FA(>100) | HLT_FA | L2CPD |  L2PD | HLT_PD |\n",
      "+------------+-------+-------------+-------------+-------+------------+------------+--------+-------+-------+--------+\n",
      "|  noringer  | 94.57 |     0.00    |    94.57    | 69.06 |    0.00    |   69.06    |  0.07  | 98.19 | 98.13 | 95.15  |\n",
      "| ringer_v8  |  2.06 |     0.00    |     2.06    |  1.96 |    0.00    |    1.96    |  0.05  | 98.16 | 98.09 | 95.14  |\n",
      "| ringer_v9  |  2.14 |     0.00    |     2.14    |  2.02 |    0.00    |    2.02    |  0.04  | 98.20 | 98.14 | 95.19  |\n",
      "| ringer_v10 |  4.28 |     0.00    |     4.28    |  3.83 |    0.00    |    3.83    |  0.05  | 98.14 | 98.08 | 95.12  |\n",
      "| ringer_v11 |  2.56 |     0.00    |     2.56    |  2.26 |    0.00    |    2.26    |  0.04  | 98.09 | 98.02 | 95.07  |\n",
      "| ringer_v12 |  1.92 |     0.00    |     1.92    |  1.83 |    0.00    |    1.83    |  0.05  | 98.15 | 98.08 | 95.13  |\n",
      "| ringer_v13 |  1.76 |     0.00    |     1.76    |  1.68 |    0.00    |    1.68    |  0.03  | 98.16 | 98.10 | 95.14  |\n",
      "| ringer_v14 |  1.13 |     0.00    |     1.13    |  1.06 |    0.00    |    1.06    |  0.02  | 98.14 | 98.07 | 95.13  |\n",
      "| ringer_v15 |  2.16 |     0.00    |     2.16    |  1.99 |    0.00    |    1.99    |  0.02  | 98.16 | 98.10 | 95.14  |\n",
      "| ringer_v16 |  1.04 |     0.00    |     1.04    |  0.96 |    0.00    |    0.96    |  0.02  | 98.11 | 98.05 | 95.10  |\n",
      "| ringer_v17 |  1.76 |     0.00    |     1.76    |  0.74 |    0.00    |    0.74    |  0.03  | 98.16 | 98.03 | 95.10  |\n",
      "+------------+-------+-------------+-------------+-------+------------+------------+--------+-------+-------+--------+\n"
     ]
    },
    {
     "name": "stderr",
     "output_type": "stream",
     "text": [
      "\n"
     ]
    }
   ],
   "source": [
    "triggers = [ \n",
    "            'e17_lhvloose_nod0_%s_L1EM15VHI', \n",
    "            'e28_lhtight_nod0_%s_ivarloose',\n",
    "            'e60_lhmedium_nod0_%s_L1EM24VHI',\n",
    "            'e140_lhloose_nod0_%s'\n",
    "]\n",
    "pidnames = [\n",
    "            'el_lhvloose', \n",
    "            'el_lhtight', \n",
    "            'el_lhmedium',\n",
    "            'el_lhloose'\n",
    "]\n",
    "et_cuts  = [17, 28, 60, 140]\n",
    "versions = ['noringer',\n",
    "            'ringer_v8', \n",
    "            'ringer_v9', \n",
    "            'ringer_v10', \n",
    "            'ringer_v11',\n",
    "            'ringer_v12',\n",
    "            'ringer_v13',\n",
    "            'ringer_v14',\n",
    "            'ringer_v15', \n",
    "            'ringer_v16',\n",
    "            'ringer_v17']\n",
    "\n",
    "for idx, trigger in enumerate(triggers):\n",
    "    \n",
    "    t = PrettyTable( ['version',\n",
    "                      # FA\n",
    "                      'L2CFA',\n",
    "                      'L2CFA(<100)', \n",
    "                      'L2CFA(>100)',\n",
    "                      'L2FA',\n",
    "                      'L2FA(<100)',\n",
    "                      'L2FA(>100)',\n",
    "                      'HLT_FA', \n",
    "                      # PD\n",
    "                      'L2CPD',\n",
    "                      'L2PD' ,\n",
    "                      'HLT_PD'] )\n",
    "    \n",
    "    is_sgn = (data_df.target==1)&(data_df[pidnames[idx]]==True)&(data_df['el_et']>(et_cuts[idx]+1)*GeV)\n",
    "    is_bkg = (data_df.target==0)&(data_df['el_lhvloose']==False)&(data_df['el_et']>(et_cuts[idx]+1)*GeV)\n",
    "    \n",
    "    is_bkg_low = (data_df['el_et']<100*GeV)&is_bkg\n",
    "    is_bkg_high= (data_df['el_et']>=100*GeV)&is_bkg\n",
    "    is_sgn_low = (data_df['el_et']<100*GeV)&is_sgn\n",
    "    is_sgn_high= (data_df['el_et']>=100*GeV)&is_sgn\n",
    "    \n",
    "    total_sgn  = len(data_df.loc[is_sgn])\n",
    "    total_bkg  = len(data_df.loc[is_bkg])\n",
    "\n",
    "\n",
    "    print(trigger%'X')\n",
    "    for version in tqdm( versions ):\n",
    "        \n",
    "            values = [version]\n",
    "            \n",
    "            #\n",
    "            # FA\n",
    "            #\n",
    "            \n",
    "            # L2Calo FA\n",
    "            passed = len(data_df.loc[is_bkg&(data_df['L2Calo_'+trigger%version]==True)])\n",
    "            total  = len(data_df.loc[is_bkg])\n",
    "            fa = passed/total * 100           \n",
    "            values.append( '%1.2f'%(fa) )\n",
    "            \n",
    "            # L2Calo FA < 100\n",
    "            total  = len(data_df.loc[is_bkg_low])\n",
    "            if total > 0:\n",
    "                passed = len(data_df.loc[is_bkg_low&(data_df['L2Calo_'+trigger%version]==True)])\n",
    "                fa = passed/total * 100           \n",
    "                values.append( '%1.2f'%(fa) )\n",
    "            else:\n",
    "                values.append( '%1.2f'%(0) )\n",
    "               \n",
    "            # L2Calo FA > 100\n",
    "            passed = len(data_df.loc[is_bkg_high&(data_df['L2Calo_'+trigger%version]==True)])\n",
    "            total  = len(data_df.loc[is_bkg_high])\n",
    "            fa = passed/total * 100           \n",
    "            values.append( '%1.2f'%(fa) )\n",
    "\n",
    "            # L2 FA\n",
    "            passed = len(data_df.loc[is_bkg&(data_df['L2_'+trigger%version]==True)])\n",
    "            total  = len(data_df.loc[is_bkg])\n",
    "            fa = passed/total * 100           \n",
    "            values.append( '%1.2f'%(fa) )\n",
    "            \n",
    "            # L2 FA < 100\n",
    "            total  = len(data_df.loc[is_bkg_low])\n",
    "            if total > 0:\n",
    "                passed = len(data_df.loc[is_bkg_low&(data_df['L2_'+trigger%version]==True)])\n",
    "                fa = passed/total * 100           \n",
    "                values.append( '%1.2f'%(fa) )\n",
    "            else:\n",
    "                values.append( '%1.2f'%(0) )\n",
    "               \n",
    "            # L2 FA > 100\n",
    "            passed = len(data_df.loc[is_bkg_high&(data_df['L2_'+trigger%version]==True)])\n",
    "            total  = len(data_df.loc[is_bkg_high])\n",
    "            fa = passed/total * 100           \n",
    "            values.append( '%1.2f'%(fa) )\n",
    "\n",
    "            # HLT FA\n",
    "            passed = len(data_df.loc[is_bkg&(data_df['HLT_'+trigger%version]==True)])\n",
    "            fa = passed/total_bkg * 100           \n",
    "            values.append( '%1.2f'%(fa) )\n",
    "            \n",
    "            \n",
    "            #\n",
    "            # PD\n",
    "            #\n",
    "            \n",
    "            # L2Calo PD\n",
    "            passed = len(data_df.loc[ is_sgn & (data_df['L2Calo_'+trigger%version]==True)])\n",
    "            det = passed/total_sgn * 100\n",
    "            values.append( '%1.2f'%(det) )\n",
    "            \n",
    "            \n",
    "            # L2 PD\n",
    "            passed = len(data_df.loc[ is_sgn & (data_df['L2_'+trigger%version]==True)])\n",
    "            det = passed/total_sgn * 100\n",
    "            values.append( '%1.2f'%(det) )\n",
    "            \n",
    "            \n",
    "            # HLT PD\n",
    "            passed = len(data_df.loc[ is_sgn & (data_df['HLT_'+trigger%version]==True)])\n",
    "            det = passed/total_sgn * 100\n",
    "            values.append( '%1.2f'%(det) )\n",
    "            \n",
    "            t.add_row(values)\n",
    "    print(t)\n",
    "\n",
    "            \n",
    "            \n",
    "            \n"
   ]
  },
  {
   "cell_type": "markdown",
   "metadata": {},
   "source": [
    "# 2018:"
   ]
  },
  {
   "cell_type": "code",
   "execution_count": 10,
   "metadata": {},
   "outputs": [],
   "source": [
    "dpath   = '../data/output/data18_13TeV.AllPeriods.sgn.probes_lhvloose_EGAM1.bkg.vprobes_vlhvloose_EGAM7.GRL_v97.dataframe.h5'"
   ]
  },
  {
   "cell_type": "code",
   "execution_count": 11,
   "metadata": {},
   "outputs": [],
   "source": [
    "data_df = pd.concat( (load_hdf(dpath), \n",
    "                      load_hdf('../2021/v8/output/emulation/data18_table_v8.h5'),\n",
    "                      load_hdf('v9/output/emulation/data18_table_v9.h5'),\n",
    "                      load_hdf('v10/output/emulation/data18_table_v10.h5'),\n",
    "                      load_hdf('v11/output/emulation/data18_table_v11.h5'),\n",
    "                      load_hdf('v12/output/emulation/data18_table_v12.h5'),\n",
    "                      load_hdf('v13/output/emulation/data18_table_v13.h5'),\n",
    "                      load_hdf('v14/output/emulation/data18_table_v14.h5'),\n",
    "                      load_hdf('v15/output/emulation/data18_table_v15.h5'),\n",
    "                      load_hdf('v16/output/emulation/data18_table_v16.h5'),\n",
    "                      load_hdf('v3_el/output/emulation/data18_table_v3_el.h5'),\n",
    "                     ), axis=1)"
   ]
  },
  {
   "cell_type": "code",
   "execution_count": 12,
   "metadata": {},
   "outputs": [
    {
     "data": {
      "text/plain": [
       "(38543015, 158)"
      ]
     },
     "execution_count": 12,
     "metadata": {},
     "output_type": "execute_result"
    }
   ],
   "source": [
    "data_df = data_df.loc[ ((data_df['el_lhmedium']==True) & \n",
    "                    (data_df.target==1.0)) | ((data_df.target==0) & \n",
    "                    (data_df['el_lhvloose']==False) ) ]\n",
    "\n",
    "data_df.shape"
   ]
  },
  {
   "cell_type": "code",
   "execution_count": 13,
   "metadata": {},
   "outputs": [
    {
     "name": "stderr",
     "output_type": "stream",
     "text": [
      "Emulate...: 100%|██████████| 44/44 [16:39<00:00, 22.72s/it]\n"
     ]
    }
   ],
   "source": [
    "emulate(data_df)"
   ]
  },
  {
   "cell_type": "code",
   "execution_count": 14,
   "metadata": {},
   "outputs": [
    {
     "name": "stdout",
     "output_type": "stream",
     "text": [
      "e17_lhvloose_nod0_X_L1EM15VHI\n"
     ]
    },
    {
     "name": "stderr",
     "output_type": "stream",
     "text": [
      "100%|██████████| 11/11 [24:29<00:00, 133.60s/it]\n"
     ]
    },
    {
     "name": "stdout",
     "output_type": "stream",
     "text": [
      "+------------+-------+-------------+-------------+-------+------------+------------+--------+-------+-------+--------+\n",
      "|  version   | L2CFA | L2CFA(<100) | L2CFA(>100) |  L2FA | L2FA(<100) | L2FA(>100) | HLT_FA | L2CPD |  L2PD | HLT_PD |\n",
      "+------------+-------+-------------+-------------+-------+------------+------------+--------+-------+-------+--------+\n",
      "|  noringer  | 36.80 |    13.77    |    44.41    | 36.74 |   13.76    |   44.34    |  1.02  | 94.45 | 94.32 | 92.34  |\n",
      "| ringer_v8  |  2.71 |     3.03    |     2.61    |  2.63 |    3.01    |    2.50    |  0.69  | 94.64 | 94.50 | 92.52  |\n",
      "| ringer_v9  |  2.29 |     2.37    |     2.27    |  2.22 |    2.36    |    2.17    |  0.63  | 94.64 | 94.51 | 92.53  |\n",
      "| ringer_v10 |  5.71 |     2.72    |     6.70    |  5.01 |    2.70    |    5.78    |  0.63  | 94.63 | 94.50 | 92.52  |\n",
      "| ringer_v11 |  3.59 |     2.22    |     4.04    |  3.14 |    2.21    |    3.45    |  0.58  | 94.62 | 94.49 | 92.51  |\n",
      "| ringer_v12 |  2.72 |     2.92    |     2.65    |  2.63 |    2.90    |    2.54    |  0.67  | 94.64 | 94.50 | 92.52  |\n",
      "| ringer_v13 |  2.12 |     2.42    |     2.02    |  2.05 |    2.41    |    1.94    |  0.59  | 94.63 | 94.50 | 92.52  |\n",
      "| ringer_v14 |  1.75 |     2.55    |     1.48    |  1.69 |    2.54    |    1.41    |  0.51  | 94.63 | 94.49 | 92.51  |\n",
      "| ringer_v15 |  4.26 |     2.36    |     4.88    |  3.84 |    2.34    |    4.33    |  0.56  | 94.61 | 94.48 | 92.50  |\n",
      "| ringer_v16 |  1.69 |     2.56    |     1.41    |  1.63 |    2.54    |    1.33    |  0.49  | 94.64 | 94.50 | 92.52  |\n",
      "| ringer_v17 |  2.12 |     2.42    |     2.02    |  1.17 |    1.44    |    1.08    |  0.51  | 94.63 | 94.41 | 92.46  |\n",
      "+------------+-------+-------------+-------------+-------+------------+------------+--------+-------+-------+--------+\n",
      "e28_lhtight_nod0_X_ivarloose\n"
     ]
    },
    {
     "name": "stderr",
     "output_type": "stream",
     "text": [
      "100%|██████████| 11/11 [18:59<00:00, 103.59s/it]\n"
     ]
    },
    {
     "name": "stdout",
     "output_type": "stream",
     "text": [
      "+------------+-------+-------------+-------------+-------+------------+------------+--------+-------+-------+--------+\n",
      "|  version   | L2CFA | L2CFA(<100) | L2CFA(>100) |  L2FA | L2FA(<100) | L2FA(>100) | HLT_FA | L2CPD |  L2PD | HLT_PD |\n",
      "+------------+-------+-------------+-------------+-------+------------+------------+--------+-------+-------+--------+\n",
      "|  noringer  | 27.30 |     8.31    |    31.07    | 27.24 |    8.30    |   31.00    |  0.06  | 93.93 | 93.84 | 87.38  |\n",
      "| ringer_v8  |  1.20 |     1.54    |     1.13    |  1.15 |    1.53    |    1.08    |  0.05  | 94.19 | 94.09 | 87.58  |\n",
      "| ringer_v9  |  1.53 |     1.33    |     1.57    |  1.48 |    1.33    |    1.51    |  0.05  | 94.22 | 94.12 | 87.61  |\n",
      "| ringer_v10 |  0.92 |     1.38    |     0.82    |  0.87 |    1.38    |    0.77    |  0.04  | 94.21 | 94.11 | 87.59  |\n",
      "| ringer_v11 |  0.82 |     1.25    |     0.74    |  0.78 |    1.24    |    0.69    |  0.04  | 94.21 | 94.11 | 87.59  |\n",
      "| ringer_v12 |  1.82 |     1.53    |     1.88    |  1.76 |    1.53    |    1.81    |  0.05  | 94.20 | 94.11 | 87.60  |\n",
      "| ringer_v13 |  1.39 |     1.36    |     1.40    |  1.34 |    1.36    |    1.34    |  0.05  | 94.21 | 94.11 | 87.61  |\n",
      "| ringer_v14 |  1.11 |     1.43    |     1.05    |  1.07 |    1.42    |    1.00    |  0.04  | 94.20 | 94.10 | 87.59  |\n",
      "| ringer_v15 |  1.01 |     1.29    |     0.96    |  0.97 |    1.28    |    0.91    |  0.04  | 94.20 | 94.10 | 87.59  |\n",
      "| ringer_v16 |  0.96 |     1.42    |     0.87    |  0.92 |    1.41    |    0.82    |  0.04  | 94.21 | 94.12 | 87.59  |\n",
      "| ringer_v17 |  1.39 |     1.36    |     1.40    |  0.95 |    1.02    |    0.93    |  0.05  | 94.21 | 94.09 | 87.60  |\n",
      "+------------+-------+-------------+-------------+-------+------------+------------+--------+-------+-------+--------+\n",
      "e60_lhmedium_nod0_X_L1EM24VHI\n"
     ]
    },
    {
     "name": "stderr",
     "output_type": "stream",
     "text": [
      "100%|██████████| 11/11 [06:20<00:00, 34.58s/it]\n"
     ]
    },
    {
     "name": "stdout",
     "output_type": "stream",
     "text": [
      "+------------+-------+-------------+-------------+-------+------------+------------+--------+-------+-------+--------+\n",
      "|  version   | L2CFA | L2CFA(<100) | L2CFA(>100) |  L2FA | L2FA(<100) | L2FA(>100) | HLT_FA | L2CPD |  L2PD | HLT_PD |\n",
      "+------------+-------+-------------+-------------+-------+------------+------------+--------+-------+-------+--------+\n",
      "|  noringer  | 34.98 |    17.88    |    35.51    | 34.91 |   17.88    |   35.43    |  0.08  | 97.31 | 97.22 | 92.14  |\n",
      "| ringer_v8  |  1.19 |     0.58    |     1.21    |  1.14 |    0.57    |    1.16    |  0.06  | 97.35 | 97.26 | 92.19  |\n",
      "| ringer_v9  |  1.95 |     0.69    |     1.99    |  1.88 |    0.69    |    1.91    |  0.07  | 97.35 | 97.26 | 92.19  |\n",
      "| ringer_v10 |  0.96 |     0.62    |     0.98    |  0.91 |    0.62    |    0.92    |  0.05  | 97.23 | 97.14 | 92.08  |\n",
      "| ringer_v11 |  0.83 |     0.54    |     0.84    |  0.78 |    0.54    |    0.78    |  0.05  | 97.16 | 97.07 | 92.02  |\n",
      "| ringer_v12 |  2.01 |     0.74    |     2.05    |  1.95 |    0.74    |    1.98    |  0.07  | 97.43 | 97.34 | 92.26  |\n",
      "| ringer_v13 |  1.53 |     0.65    |     1.56    |  1.47 |    0.64    |    1.50    |  0.06  | 97.35 | 97.26 | 92.19  |\n",
      "| ringer_v14 |  1.18 |     0.68    |     1.19    |  1.12 |    0.68    |    1.13    |  0.05  | 97.26 | 97.18 | 92.10  |\n",
      "| ringer_v15 |  1.10 |     0.66    |     1.11    |  1.04 |    0.66    |    1.05    |  0.05  | 97.20 | 97.11 | 92.05  |\n",
      "| ringer_v16 |  0.96 |     0.65    |     0.97    |  0.91 |    0.65    |    0.91    |  0.05  | 97.22 | 97.13 | 92.06  |\n",
      "| ringer_v17 |  1.53 |     0.65    |     1.56    |  0.95 |    0.46    |    0.96    |  0.06  | 97.35 | 97.20 | 92.15  |\n",
      "+------------+-------+-------------+-------------+-------+------------+------------+--------+-------+-------+--------+\n",
      "e140_lhloose_nod0_X\n"
     ]
    },
    {
     "name": "stderr",
     "output_type": "stream",
     "text": [
      "100%|██████████| 11/11 [04:22<00:00, 23.85s/it]"
     ]
    },
    {
     "name": "stdout",
     "output_type": "stream",
     "text": [
      "+------------+-------+-------------+-------------+-------+------------+------------+--------+-------+-------+--------+\n",
      "|  version   | L2CFA | L2CFA(<100) | L2CFA(>100) |  L2FA | L2FA(<100) | L2FA(>100) | HLT_FA | L2CPD |  L2PD | HLT_PD |\n",
      "+------------+-------+-------------+-------------+-------+------------+------------+--------+-------+-------+--------+\n",
      "|  noringer  | 94.64 |     0.00    |    94.64    | 64.74 |    0.00    |   64.74    |  0.43  | 98.20 | 98.13 | 95.45  |\n",
      "| ringer_v8  |  2.62 |     0.00    |     2.62    |  2.52 |    0.00    |    2.52    |  0.36  | 98.23 | 98.16 | 95.49  |\n",
      "| ringer_v9  |  2.55 |     0.00    |     2.55    |  2.44 |    0.00    |    2.44    |  0.35  | 98.27 | 98.20 | 95.53  |\n",
      "| ringer_v10 |  4.75 |     0.00    |     4.75    |  4.24 |    0.00    |    4.24    |  0.32  | 98.13 | 98.06 | 95.40  |\n",
      "| ringer_v11 |  3.04 |     0.00    |     3.04    |  2.70 |    0.00    |    2.70    |  0.31  | 98.04 | 97.97 | 95.33  |\n",
      "| ringer_v12 |  2.97 |     0.00    |     2.97    |  2.85 |    0.00    |    2.85    |  0.36  | 98.24 | 98.17 | 95.50  |\n",
      "| ringer_v13 |  2.25 |     0.00    |     2.25    |  2.16 |    0.00    |    2.16    |  0.34  | 98.21 | 98.14 | 95.48  |\n",
      "| ringer_v14 |  1.54 |     0.00    |     1.54    |  1.47 |    0.00    |    1.47    |  0.29  | 98.15 | 98.09 | 95.42  |\n",
      "| ringer_v15 |  2.57 |     0.00    |     2.57    |  2.39 |    0.00    |    2.39    |  0.29  | 98.18 | 98.11 | 95.46  |\n",
      "| ringer_v16 |  1.44 |     0.00    |     1.44    |  1.36 |    0.00    |    1.36    |  0.28  | 98.11 | 98.04 | 95.39  |\n",
      "| ringer_v17 |  2.25 |     0.00    |     2.25    |  1.20 |    0.00    |    1.20    |  0.31  | 98.21 | 98.07 | 95.43  |\n",
      "+------------+-------+-------------+-------------+-------+------------+------------+--------+-------+-------+--------+\n"
     ]
    },
    {
     "name": "stderr",
     "output_type": "stream",
     "text": [
      "\n"
     ]
    }
   ],
   "source": [
    "triggers = [ \n",
    "            'e17_lhvloose_nod0_%s_L1EM15VHI', \n",
    "            'e28_lhtight_nod0_%s_ivarloose',\n",
    "            'e60_lhmedium_nod0_%s_L1EM24VHI',\n",
    "            'e140_lhloose_nod0_%s'\n",
    "]\n",
    "pidnames = [\n",
    "            'el_lhvloose', \n",
    "            'el_lhtight', \n",
    "            'el_lhmedium',\n",
    "            'el_lhloose'\n",
    "]\n",
    "et_cuts  = [17, 28, 60, 140]\n",
    "versions = ['noringer',\n",
    "            'ringer_v8', \n",
    "            'ringer_v9', \n",
    "            'ringer_v10', \n",
    "            'ringer_v11',\n",
    "            'ringer_v12',\n",
    "            'ringer_v13',\n",
    "            'ringer_v14',\n",
    "            'ringer_v15', \n",
    "            'ringer_v16',\n",
    "            'ringer_v17']\n",
    "\n",
    "for idx, trigger in enumerate(triggers):\n",
    "    \n",
    "    t = PrettyTable( ['version',\n",
    "                      # FA\n",
    "                      'L2CFA',\n",
    "                      'L2CFA(<100)', \n",
    "                      'L2CFA(>100)',\n",
    "                      'L2FA',\n",
    "                      'L2FA(<100)',\n",
    "                      'L2FA(>100)',\n",
    "                      'HLT_FA', \n",
    "                      # PD\n",
    "                      'L2CPD',\n",
    "                      'L2PD' ,\n",
    "                      'HLT_PD'] )\n",
    "    \n",
    "    is_sgn = (data_df.target==1)&(data_df[pidnames[idx]]==True)&(data_df['el_et']>(et_cuts[idx]+1)*GeV)\n",
    "    is_bkg = (data_df.target==0)&(data_df['el_lhvloose']==False)&(data_df['el_et']>(et_cuts[idx]+1)*GeV)\n",
    "    \n",
    "    is_bkg_low = (data_df['el_et']<100*GeV)&is_bkg\n",
    "    is_bkg_high= (data_df['el_et']>=100*GeV)&is_bkg\n",
    "    is_sgn_low = (data_df['el_et']<100*GeV)&is_sgn\n",
    "    is_sgn_high= (data_df['el_et']>=100*GeV)&is_sgn\n",
    "    \n",
    "    total_sgn  = len(data_df.loc[is_sgn])\n",
    "    total_bkg  = len(data_df.loc[is_bkg])\n",
    "\n",
    "\n",
    "    print(trigger%'X')\n",
    "    for version in tqdm( versions ):\n",
    "        \n",
    "            values = [version]\n",
    "            \n",
    "            #\n",
    "            # FA\n",
    "            #\n",
    "            \n",
    "            # L2Calo FA\n",
    "            passed = len(data_df.loc[is_bkg&(data_df['L2Calo_'+trigger%version]==True)])\n",
    "            total  = len(data_df.loc[is_bkg])\n",
    "            fa = passed/total * 100           \n",
    "            values.append( '%1.2f'%(fa) )\n",
    "            \n",
    "            # L2Calo FA < 100\n",
    "            total  = len(data_df.loc[is_bkg_low])\n",
    "            if total > 0:\n",
    "                passed = len(data_df.loc[is_bkg_low&(data_df['L2Calo_'+trigger%version]==True)])\n",
    "                fa = passed/total * 100           \n",
    "                values.append( '%1.2f'%(fa) )\n",
    "            else:\n",
    "                values.append( '%1.2f'%(0) )\n",
    "               \n",
    "            # L2Calo FA > 100\n",
    "            passed = len(data_df.loc[is_bkg_high&(data_df['L2Calo_'+trigger%version]==True)])\n",
    "            total  = len(data_df.loc[is_bkg_high])\n",
    "            fa = passed/total * 100           \n",
    "            values.append( '%1.2f'%(fa) )\n",
    "\n",
    "            # L2 FA\n",
    "            passed = len(data_df.loc[is_bkg&(data_df['L2_'+trigger%version]==True)])\n",
    "            total  = len(data_df.loc[is_bkg])\n",
    "            fa = passed/total * 100           \n",
    "            values.append( '%1.2f'%(fa) )\n",
    "            \n",
    "            # L2 FA < 100\n",
    "            total  = len(data_df.loc[is_bkg_low])\n",
    "            if total > 0:\n",
    "                passed = len(data_df.loc[is_bkg_low&(data_df['L2_'+trigger%version]==True)])\n",
    "                fa = passed/total * 100           \n",
    "                values.append( '%1.2f'%(fa) )\n",
    "            else:\n",
    "                values.append( '%1.2f'%(0) )\n",
    "               \n",
    "            # L2 FA > 100\n",
    "            passed = len(data_df.loc[is_bkg_high&(data_df['L2_'+trigger%version]==True)])\n",
    "            total  = len(data_df.loc[is_bkg_high])\n",
    "            fa = passed/total * 100           \n",
    "            values.append( '%1.2f'%(fa) )\n",
    "\n",
    "            # HLT FA\n",
    "            passed = len(data_df.loc[is_bkg&(data_df['HLT_'+trigger%version]==True)])\n",
    "            fa = passed/total_bkg * 100           \n",
    "            values.append( '%1.2f'%(fa) )\n",
    "            \n",
    "            \n",
    "            #\n",
    "            # PD\n",
    "            #\n",
    "            \n",
    "            # L2Calo PD\n",
    "            passed = len(data_df.loc[ is_sgn & (data_df['L2Calo_'+trigger%version]==True)])\n",
    "            det = passed/total_sgn * 100\n",
    "            values.append( '%1.2f'%(det) )\n",
    "            \n",
    "            \n",
    "            # L2 PD\n",
    "            passed = len(data_df.loc[ is_sgn & (data_df['L2_'+trigger%version]==True)])\n",
    "            det = passed/total_sgn * 100\n",
    "            values.append( '%1.2f'%(det) )\n",
    "            \n",
    "            \n",
    "            # HLT PD\n",
    "            passed = len(data_df.loc[ is_sgn & (data_df['HLT_'+trigger%version]==True)])\n",
    "            det = passed/total_sgn * 100\n",
    "            values.append( '%1.2f'%(det) )\n",
    "            \n",
    "            t.add_row(values)\n",
    "    print(t)\n",
    "\n",
    "            \n",
    "            "
   ]
  },
  {
   "cell_type": "code",
   "execution_count": null,
   "metadata": {},
   "outputs": [],
   "source": []
  },
  {
   "cell_type": "code",
   "execution_count": null,
   "metadata": {},
   "outputs": [],
   "source": []
  },
  {
   "cell_type": "code",
   "execution_count": null,
   "metadata": {},
   "outputs": [],
   "source": []
  }
 ],
 "metadata": {
  "kernelspec": {
   "display_name": "Python 3",
   "language": "python",
   "name": "python3"
  },
  "language_info": {
   "codemirror_mode": {
    "name": "ipython",
    "version": 3
   },
   "file_extension": ".py",
   "mimetype": "text/x-python",
   "name": "python",
   "nbconvert_exporter": "python",
   "pygments_lexer": "ipython3",
   "version": "3.6.9"
  }
 },
 "nbformat": 4,
 "nbformat_minor": 4
}
