{
 "cells": [
  {
   "cell_type": "markdown",
   "metadata": {},
   "source": [
    "# Create crossval tables\n",
    "\n",
    "This notebook is dedicated to create the cv table to all tunings produced during 2020 for tracking purpose.\n"
   ]
  },
  {
   "cell_type": "code",
   "execution_count": 2,
   "metadata": {},
   "outputs": [
    {
     "name": "stdout",
     "output_type": "stream",
     "text": [
      "The autoreload extension is already loaded. To reload it, use:\n",
      "  %reload_ext autoreload\n"
     ]
    }
   ],
   "source": [
    "from core import crossval_table, get_color_fader\n",
    "from Gaugi import mkdir_p\n",
    "from copy import copy\n",
    "from pprint import pprint\n",
    "import numpy as np\n",
    "import pandas as pd\n",
    "import collections\n",
    "import os\n",
    "import matplotlib\n",
    "import matplotlib.pyplot as plt\n",
    "\n",
    "import atlas_mpl_style as ampl\n",
    "ampl.use_atlas_style()\n",
    "\n",
    "%config InlineBackend.figure_format = 'retina'\n",
    "%load_ext autoreload\n",
    "%autoreload 2"
   ]
  },
  {
   "cell_type": "code",
   "execution_count": 3,
   "metadata": {},
   "outputs": [],
   "source": [
    "mkdir_p('output/crossval')\n",
    "mkdir_p('output/training')"
   ]
  },
  {
   "cell_type": "code",
   "execution_count": 4,
   "metadata": {},
   "outputs": [],
   "source": [
    "def create_op_dict(op, decoration='reference'):\n",
    "    \n",
    "    d = collections.OrderedDict( {\n",
    "              # validation\n",
    "              \"max_sp_val\"      : 'summary/max_sp_val',\n",
    "              \"max_sp_pd_val\"   : 'summary/max_sp_pd_val#0',\n",
    "              \"max_sp_fa_val\"   : 'summary/max_sp_fa_val#0',\n",
    "              # Operation\n",
    "              \"max_sp_op\"       : 'summary/max_sp_op',\n",
    "              \"max_sp_pd_op\"    : 'summary/max_sp_pd_op#0',\n",
    "              \"max_sp_fa_op\"    : 'summary/max_sp_fa_op#0',\n",
    "              \n",
    "              # op\n",
    "              'pd_ref'    : decoration+\"/\"+op+\"/pd_ref#0\",\n",
    "              'fa_ref'    : decoration+\"/\"+op+\"/fa_ref#0\",\n",
    "              'sp_ref'    : decoration+\"/\"+op+\"/sp_ref\",\n",
    "              'pd_val'    : decoration+\"/\"+op+\"/pd_val#0\",\n",
    "              'fa_val'    : decoration+\"/\"+op+\"/fa_val#0\",\n",
    "              'sp_val'    : decoration+\"/\"+op+\"/sp_val\",\n",
    "              'pd_op'     : decoration+\"/\"+op+\"/pd_op#0\",\n",
    "              'fa_op'     : decoration+\"/\"+op+\"/fa_op#0\",\n",
    "              'sp_op'     : decoration+\"/\"+op+\"/sp_op\",\n",
    "\n",
    "              # Counts\n",
    "              'pd_ref_passed'    : decoration+\"/\"+op+\"/pd_ref#1\",\n",
    "              'fa_ref_passed'    : decoration+\"/\"+op+\"/fa_ref#1\",\n",
    "              'pd_ref_total'     : decoration+\"/\"+op+\"/pd_ref#2\",\n",
    "              'fa_ref_total'     : decoration+\"/\"+op+\"/fa_ref#2\",\n",
    "              'pd_val_passed'    : decoration+\"/\"+op+\"/pd_val#1\",\n",
    "              'fa_val_passed'    : decoration+\"/\"+op+\"/fa_val#1\",\n",
    "              'pd_val_total'     : decoration+\"/\"+op+\"/pd_val#2\",\n",
    "              'fa_val_total'     : decoration+\"/\"+op+\"/fa_val#2\",\n",
    "              'pd_op_passed'     : decoration+\"/\"+op+\"/pd_op#1\",\n",
    "              'fa_op_passed'     : decoration+\"/\"+op+\"/fa_op#1\",\n",
    "              'pd_op_total'      : decoration+\"/\"+op+\"/pd_op#2\",\n",
    "              'fa_op_total'      : decoration+\"/\"+op+\"/fa_op#2\",\n",
    "    })\n",
    "    return d\n",
    "\n",
    "\n",
    "op_names = ['tight', 'medium', 'loose', 'vloose']\n",
    "\n",
    "tuned_info = collections.OrderedDict({})\n",
    "for op in op_names:\n",
    "    tuned_info[op] = create_op_dict(op, \"reference\")"
   ]
  },
  {
   "cell_type": "code",
   "execution_count": 5,
   "metadata": {},
   "outputs": [],
   "source": [
    "etbins = [15, 20, 30, 40, 50, 1000000]\n",
    "etabins = [0.0, 0.8, 1.37, 1.54, 2.37, 2.50]"
   ]
  },
  {
   "cell_type": "markdown",
   "metadata": {},
   "source": [
    "## 1) Reading all tunings:\n"
   ]
  },
  {
   "cell_type": "code",
   "execution_count": 6,
   "metadata": {},
   "outputs": [],
   "source": [
    "cv_v8  = crossval_table( tuned_info, etbins = etbins , etabins = etabins )\n",
    "cv_v9  = crossval_table( tuned_info, etbins = etbins , etabins = etabins )\n",
    "cv_v10  = crossval_table( tuned_info, etbins = etbins , etabins = etabins )\n",
    "cv_v11  = crossval_table( tuned_info, etbins = etbins , etabins = etabins )\n",
    "cv_v12  = crossval_table( tuned_info, etbins = etbins , etabins = etabins )\n",
    "cv_v13  = crossval_table( tuned_info, etbins = etbins , etabins = etabins )\n",
    "cv_v14  = crossval_table( tuned_info, etbins = etbins , etabins = etabins )\n",
    "cv_v15  = crossval_table( tuned_info, etbins = etbins , etabins = etabins )\n",
    "cv_v16  = crossval_table( tuned_info, etbins = etbins , etabins = etabins )"
   ]
  },
  {
   "cell_type": "code",
   "execution_count": 7,
   "metadata": {},
   "outputs": [
    {
     "name": "stderr",
     "output_type": "stream",
     "text": [
      "Reading v16...: 100%|██████████| 1250/1250 [02:39<00:00,  7.82it/s]"
     ]
    },
    {
     "name": "stdout",
     "output_type": "stream",
     "text": [
      "2022-03-24 18:22:56,139 | Py.crossval_table                       INFO Reading file for v16 tag from /home/jodafons/public/cern_data/tunings/r1/Zee/v16/*/*/*.npz\n",
      "2022-03-24 18:22:56,139 | Py.crossval_table                       INFO There are 1250 files for this task...\n",
      "2022-03-24 18:22:56,139 | Py.crossval_table                       INFO Filling the table... \n",
      "2022-03-24 18:25:36,007 | Py.crossval_table                       INFO End of fill step, a pandas DataFrame was created...\n"
     ]
    },
    {
     "name": "stderr",
     "output_type": "stream",
     "text": [
      "\n"
     ]
    }
   ],
   "source": [
    "cv_v8.from_csv('../v8/output/crossval/table_v8.csv')\n",
    "cv_v9.from_csv('../v9/output/crossval/table_v9.csv')\n",
    "cv_v10.from_csv('../v10/output/crossval/table_v10.csv')\n",
    "cv_v11.from_csv('../v11/output/crossval/table_v11.csv')\n",
    "cv_v12.from_csv('../v12/output/crossval/table_v12.csv')\n",
    "cv_v13.from_csv('../v13/output/crossval/table_v13.csv')\n",
    "cv_v14.from_csv('../v14/output/crossval/table_v14.csv')\n",
    "cv_v15.from_csv('../v15/output/crossval/table_v15.csv')\n",
    "cv_v16.fill(  '/home/jodafons/public/cern_data/tunings/r1/Zee/v16/*/*/*.npz' , 'v16' )"
   ]
  },
  {
   "cell_type": "code",
   "execution_count": 8,
   "metadata": {},
   "outputs": [],
   "source": [
    "cv_v16.to_csv('output/crossval/table_v16.csv')"
   ]
  },
  {
   "cell_type": "markdown",
   "metadata": {},
   "source": [
    "### 1.1) Get best inits and sorts:"
   ]
  },
  {
   "cell_type": "code",
   "execution_count": 9,
   "metadata": {},
   "outputs": [],
   "source": [
    "best_inits_v8 = cv_v8.filter_inits(\"max_sp_val\")\n",
    "best_inits_v8 = best_inits_v8.loc[best_inits_v8.model_idx==3]\n",
    "best_sorts_v8 = cv_v8.filter_sorts( best_inits_v8 , 'max_sp_op')\n"
   ]
  },
  {
   "cell_type": "code",
   "execution_count": 10,
   "metadata": {},
   "outputs": [],
   "source": [
    "best_inits_v9 = cv_v9.filter_inits(\"max_sp_val\")\n",
    "best_inits_v9 = best_inits_v9.loc[best_inits_v9.model_idx==0]\n",
    "best_sorts_v9 = cv_v9.filter_sorts( best_inits_v9, 'max_sp_op')\n"
   ]
  },
  {
   "cell_type": "code",
   "execution_count": 11,
   "metadata": {},
   "outputs": [],
   "source": [
    "best_inits_v10 = cv_v10.filter_inits(\"max_sp_val\")\n",
    "best_inits_v10 = best_inits_v10.loc[best_inits_v10.model_idx==0]\n",
    "best_sorts_v10 = cv_v10.filter_sorts( best_inits_v10, 'max_sp_op')\n"
   ]
  },
  {
   "cell_type": "code",
   "execution_count": 12,
   "metadata": {},
   "outputs": [],
   "source": [
    "best_inits_v11 = cv_v11.filter_inits(\"max_sp_val\")\n",
    "best_inits_v11 = best_inits_v11.loc[best_inits_v11.model_idx==0]\n",
    "best_sorts_v11 = cv_v11.filter_sorts( best_inits_v11, 'max_sp_op')\n"
   ]
  },
  {
   "cell_type": "code",
   "execution_count": 13,
   "metadata": {},
   "outputs": [],
   "source": [
    "best_inits_v12 = cv_v12.filter_inits(\"max_sp_val\")\n",
    "best_inits_v12 = best_inits_v12.loc[best_inits_v12.model_idx==3] # 5 neurons\n",
    "best_sorts_v12 = cv_v12.filter_sorts( best_inits_v12, 'max_sp_op')\n"
   ]
  },
  {
   "cell_type": "code",
   "execution_count": 14,
   "metadata": {},
   "outputs": [],
   "source": [
    "best_inits_v13 = cv_v13.filter_inits(\"max_sp_val\")\n",
    "best_inits_v13 = best_inits_v13.loc[best_inits_v13.model_idx==0] # 5 neurons\n",
    "best_sorts_v13 = cv_v13.filter_sorts( best_inits_v13, 'max_sp_op')\n"
   ]
  },
  {
   "cell_type": "code",
   "execution_count": 15,
   "metadata": {},
   "outputs": [],
   "source": [
    "best_inits_v14 = cv_v14.filter_inits(\"max_sp_val\")\n",
    "best_sorts_v14 = cv_v14.filter_sorts( best_inits_v14, 'max_sp_op')\n",
    "best_inits_v14 = best_inits_v14.loc[best_inits_v14.model_idx==0]"
   ]
  },
  {
   "cell_type": "code",
   "execution_count": 16,
   "metadata": {},
   "outputs": [],
   "source": [
    "best_inits_v15 = cv_v15.filter_inits(\"max_sp_val\")\n",
    "best_inits_v15 = best_inits_v15.loc[best_inits_v15.model_idx==0]\n",
    "best_sorts_v15 = cv_v15.filter_sorts( best_inits_v15, 'max_sp_op')\n"
   ]
  },
  {
   "cell_type": "code",
   "execution_count": 17,
   "metadata": {},
   "outputs": [],
   "source": [
    "best_inits_v16 = cv_v16.filter_inits(\"max_sp_val\")\n",
    "best_inits_v16 = best_inits_v16.loc[best_inits_v16.model_idx==0]\n",
    "best_sorts_v16 = cv_v16.filter_sorts( best_inits_v16, 'max_sp_op')\n"
   ]
  },
  {
   "cell_type": "code",
   "execution_count": 18,
   "metadata": {},
   "outputs": [],
   "source": [
    "best_inits = pd.concat([\n",
    "                        best_inits_v8,\n",
    "                        best_inits_v9,\n",
    "                        best_inits_v10,\n",
    "                        best_inits_v11,\n",
    "                        best_inits_v12,\n",
    "                        best_inits_v13,\n",
    "                        best_inits_v14,\n",
    "                        best_inits_v15,\n",
    "                        best_inits_v16,\n",
    "                       ])\n",
    "best_sorts = pd.concat([\n",
    "                        best_sorts_v8,\n",
    "                        best_sorts_v9,\n",
    "                        best_sorts_v10,\n",
    "                        best_sorts_v11,\n",
    "                        best_sorts_v12,\n",
    "                        best_sorts_v13,\n",
    "                        best_sorts_v14,\n",
    "                        best_sorts_v15,\n",
    "                        best_sorts_v16,\n",
    "                       ])"
   ]
  },
  {
   "cell_type": "markdown",
   "metadata": {},
   "source": [
    "### 1.2) Make the table:"
   ]
  },
  {
   "cell_type": "code",
   "execution_count": 19,
   "metadata": {},
   "outputs": [
    {
     "name": "stdout",
     "output_type": "stream",
     "text": [
      "2022-03-24 18:25:39,763 | Py.BeamerTexReportTemplate1             INFO Started creating beamer file tuning_v16_tight.pdf latex code...\n",
      "2022-03-24 18:25:42,574 | Py.BeamerTexReportTemplate1             INFO Started creating beamer file tuning_v16_medium.pdf latex code...\n",
      "2022-03-24 18:25:44,992 | Py.BeamerTexReportTemplate1             INFO Started creating beamer file tuning_v16_loose.pdf latex code...\n",
      "2022-03-24 18:25:47,422 | Py.BeamerTexReportTemplate1             INFO Started creating beamer file tuning_v16_vloose.pdf latex code...\n"
     ]
    }
   ],
   "source": [
    "for op in op_names:\n",
    "    cv_v8.dump_beamer_table( best_inits.loc[best_inits.op_name == op] ,  \n",
    "                            'tuning_v16_'+op, \n",
    "                             title = op+' Tunings (v16)', \n",
    "                             tags = ['v8','v9','v10','v11','v12','v13','v14','v15','v16']\n",
    "                           )"
   ]
  },
  {
   "cell_type": "code",
   "execution_count": 20,
   "metadata": {},
   "outputs": [],
   "source": [
    "!mv *.tex output/crossval\n",
    "!mv *.pdf output/crossval"
   ]
  },
  {
   "cell_type": "code",
   "execution_count": null,
   "metadata": {},
   "outputs": [],
   "source": []
  },
  {
   "cell_type": "code",
   "execution_count": null,
   "metadata": {},
   "outputs": [],
   "source": []
  },
  {
   "cell_type": "code",
   "execution_count": null,
   "metadata": {},
   "outputs": [],
   "source": []
  },
  {
   "cell_type": "code",
   "execution_count": null,
   "metadata": {},
   "outputs": [],
   "source": []
  },
  {
   "cell_type": "code",
   "execution_count": null,
   "metadata": {},
   "outputs": [],
   "source": []
  },
  {
   "cell_type": "code",
   "execution_count": null,
   "metadata": {},
   "outputs": [],
   "source": []
  },
  {
   "cell_type": "code",
   "execution_count": null,
   "metadata": {},
   "outputs": [],
   "source": []
  },
  {
   "cell_type": "code",
   "execution_count": null,
   "metadata": {},
   "outputs": [],
   "source": []
  }
 ],
 "metadata": {
  "kernelspec": {
   "display_name": "Python 3",
   "language": "python",
   "name": "python3"
  },
  "language_info": {
   "codemirror_mode": {
    "name": "ipython",
    "version": 3
   },
   "file_extension": ".py",
   "mimetype": "text/x-python",
   "name": "python",
   "nbconvert_exporter": "python",
   "pygments_lexer": "ipython3",
   "version": "3.6.9"
  }
 },
 "nbformat": 4,
 "nbformat_minor": 4
}
