{
 "cells": [
  {
   "cell_type": "markdown",
   "id": "ca2f7274-f3c9-4920-8846-f57206e7ce34",
   "metadata": {},
   "source": [
    "# Emulate v16"
   ]
  },
  {
   "cell_type": "code",
   "execution_count": 1,
   "id": "59967f39-befe-42c6-b8aa-c81bcc13734b",
   "metadata": {},
   "outputs": [
    {
     "name": "stdout",
     "output_type": "stream",
     "text": [
      "Welcome to JupyROOT 6.16/00\n",
      "Using all sub packages with ROOT dependence\n",
      "INFO: Pandarallel will run on 40 workers.\n",
      "INFO: Pandarallel will use Memory file system to transfer data between the main process and workers.\n"
     ]
    }
   ],
   "source": [
    "from kepler.pandas.menu       import ElectronSequence as Chain\n",
    "from kepler.pandas.readers    import load_hdf\n",
    "from kepler.pandas.decorators import RingerDecorator\n",
    "from Gaugi import mkdir_p, progressbar\n",
    "import numpy as np\n",
    "import pandas as pd\n",
    "import collections\n",
    "import os\n",
    "from pprint import pprint\n",
    "from copy import deepcopy\n",
    "import gc\n",
    "%config InlineBackend.figure_format = 'retina'\n",
    "%load_ext autoreload\n",
    "%autoreload 2"
   ]
  },
  {
   "cell_type": "code",
   "execution_count": 2,
   "id": "eff9d2e4-7725-401d-8591-23a51b5c3802",
   "metadata": {},
   "outputs": [],
   "source": [
    "output_path = 'output/emulation'\n",
    "mkdir_p(output_path)"
   ]
  },
  {
   "cell_type": "markdown",
   "id": "96266785-6070-4cd2-ae62-6772b4e41859",
   "metadata": {},
   "source": [
    "## Decorator:"
   ]
  },
  {
   "cell_type": "code",
   "execution_count": 3,
   "id": "64daaa2e-8a15-4732-a7d4-41c82a359e4f",
   "metadata": {},
   "outputs": [],
   "source": [
    "def generator( df ):\n",
    "\n",
    "\n",
    "    def reshape_to_vortex( input_data):\n",
    "    \n",
    "        # NOTE: Do not change this if you dont know what are you doing\n",
    "        frame =     [ [72,73,74,75,76,77,78,79,80,81],\n",
    "                      [71,42,43,44,45,46,47,48,49,82],\n",
    "                      [70,41,20,21,22,23,24,25,50,83],\n",
    "                      [69,40,19,6 ,7 ,8 ,9 ,26,51,84],\n",
    "                      [68,39,18,5 ,0 ,1 ,10,27,52,85],\n",
    "                      [67,38,17,4 ,3 ,2 ,11,28,53,86],\n",
    "                      [66,37,16,15,14,13,12,29,54,87],\n",
    "                      [65,36,35,34,33,32,31,30,55,88],\n",
    "                      [64,63,62,61,60,59,58,57,56,89],\n",
    "                      [99,98,97,96,95,94,93,92,91,90],\n",
    "                    ]\n",
    "        from copy import deepcopy\n",
    "        zeros_to_complete = np.zeros((input_data.shape[0],100-input_data.shape[1]))\n",
    "        data = deepcopy(np.hstack([input_data, zeros_to_complete]))\n",
    "        d = deepcopy(data.reshape( 1,10,10,data.shape[0] ))\n",
    "        data=data.T\n",
    "        for i in range(10):\n",
    "            for j in range(10):\n",
    "                d[0][i][j][::] = data[ frame[i][j] ][::]\n",
    "        d=d.T\n",
    "        return d\n",
    "   \n",
    "    def norm1( data ):\n",
    "        norms = np.abs( data.sum(axis=1) )\n",
    "        norms[norms==0] = 1\n",
    "        return data/norms[:,None]\n",
    "    \n",
    "    col_names= ['trig_L2_cl_ring_%d'%i for i in range(100)]\n",
    "    rings = df[col_names].values.astype(np.float32)\n",
    "    data_rings = norm1(rings)\n",
    "    data_rings = reshape_to_vortex(data_rings)\n",
    "    return [data_rings]"
   ]
  },
  {
   "cell_type": "code",
   "execution_count": 4,
   "id": "e70bf9fa-ad87-4860-99e6-b638fbf030f9",
   "metadata": {},
   "outputs": [],
   "source": [
    "tpath = 'output/fitting'"
   ]
  },
  {
   "cell_type": "code",
   "execution_count": 5,
   "id": "1979e02f-405b-47be-8f47-41a89f72a98a",
   "metadata": {},
   "outputs": [
    {
     "name": "stdout",
     "output_type": "stream",
     "text": [
      "2022-03-24 19:50:25,448 | Py.RingerDecorator                      INFO Reading... output/fitting/ElectronRingerTightTriggerConfig.conf\n",
      "2022-03-24 19:50:26,445 | Py.RingerDecorator                      INFO Reading... output/fitting/ElectronRingerMediumTriggerConfig.conf\n",
      "2022-03-24 19:50:27,332 | Py.RingerDecorator                      INFO Reading... output/fitting/ElectronRingerLooseTriggerConfig.conf\n",
      "2022-03-24 19:50:28,320 | Py.RingerDecorator                      INFO Reading... output/fitting/ElectronRingerVeryLooseTriggerConfig.conf\n"
     ]
    }
   ],
   "source": [
    "decorators = [\n",
    "    RingerDecorator('ringer_v16_tight' , tpath + '/ElectronRingerTightTriggerConfig.conf'    , generator),\n",
    "    RingerDecorator('ringer_v16_medium', tpath + '/ElectronRingerMediumTriggerConfig.conf'   , generator),\n",
    "    RingerDecorator('ringer_v16_loose' , tpath + '/ElectronRingerLooseTriggerConfig.conf'    , generator),\n",
    "    RingerDecorator('ringer_v16_vloose', tpath + '/ElectronRingerVeryLooseTriggerConfig.conf', generator),\n",
    "]"
   ]
  },
  {
   "cell_type": "code",
   "execution_count": 6,
   "id": "b9db3428-c174-4a4c-a242-e7f9c974a7e2",
   "metadata": {},
   "outputs": [],
   "source": [
    "def load_in_loop( paths, decorators ):\n",
    "\n",
    "    tables = []\n",
    "    for path in progressbar( paths, prefix='Reading files...'):\n",
    "        df = load_hdf( path )\n",
    "        hold_these_columns = []\n",
    "        for decorator in decorators:\n",
    "            decorator.apply(df) \n",
    "            hold_these_columns.append(decorator.column)\n",
    "            hold_these_columns.append(decorator.column + '_output')\n",
    "            \n",
    "        tables.append(df[hold_these_columns])\n",
    "\n",
    "    return pd.concat(tables).reset_index(drop=True)"
   ]
  },
  {
   "cell_type": "markdown",
   "id": "d55125f6-ad91-4e6b-9568-b8efcf510c4c",
   "metadata": {},
   "source": [
    "## Read all 2017 bins:"
   ]
  },
  {
   "cell_type": "code",
   "execution_count": 7,
   "id": "9906fa52-812f-4db7-9f00-e5c9a8b317ff",
   "metadata": {},
   "outputs": [],
   "source": [
    "dpath = '/home/jodafons/public/cern_data/new_files/data17_13TeV.AllPeriods.sgn.probes_lhvloose_EGAM1.bkg.vprobes_vlhvloose_EGAM7.GRL_v97.25bins'\n",
    "dpath+= '/data17_13TeV.AllPeriods.sgn.probes_lhvloose_EGAM1.bkg.vprobes_vlhvloose_EGAM7.GRL_v97.25bins_et{ET}_eta{ETA}.h5'\n",
    "paths = []\n",
    "for et in range(5):\n",
    "    for eta in range(5):\n",
    "        paths.append( dpath.format(ET=et,ETA=eta) )"
   ]
  },
  {
   "cell_type": "code",
   "execution_count": 8,
   "id": "9ef17eb5-de24-47ca-91db-f3c4b058ed93",
   "metadata": {},
   "outputs": [
    {
     "name": "stderr",
     "output_type": "stream",
     "text": [
      "Reading files...: 100%|██████████| 25/25 [34:54<00:00, 83.77s/it] \n"
     ]
    }
   ],
   "source": [
    "my_df = load_in_loop( paths, decorators )"
   ]
  },
  {
   "cell_type": "code",
   "execution_count": 9,
   "id": "2b860e1b-d4c4-4f6a-be0e-e45e097480d1",
   "metadata": {},
   "outputs": [
    {
     "name": "stderr",
     "output_type": "stream",
     "text": [
      "/usr/local/lib/python3.6/dist-packages/pandas/core/generic.py:2449: PerformanceWarning: \n",
      "your performance may suffer as PyTables will pickle object types that it cannot\n",
      "map directly to c-types [inferred_type->boolean,key->block1_values] [items->Index(['ringer_v16_tight', 'ringer_v16_medium', 'ringer_v16_loose',\n",
      "       'ringer_v16_vloose'],\n",
      "      dtype='object')]\n",
      "\n",
      "  encoding=encoding,\n"
     ]
    }
   ],
   "source": [
    "my_df.to_hdf(output_path+'/data17_table_v16.h5', key='df', mode='w')"
   ]
  },
  {
   "cell_type": "markdown",
   "id": "09d1a68f-dfd0-4984-afb7-cf2877744614",
   "metadata": {},
   "source": [
    "## Read all 2018 bins:"
   ]
  },
  {
   "cell_type": "code",
   "execution_count": 10,
   "id": "15b47e3c-8fd4-43f5-a86b-a370c5c45aae",
   "metadata": {},
   "outputs": [],
   "source": [
    "dpath = '/home/jodafons/public/cern_data/new_files/data18_13TeV.AllPeriods.sgn.probes_lhvloose_EGAM1.bkg.vprobes_vlhvloose_EGAM7.GRL_v97.25bins'\n",
    "dpath+= '/data18_13TeV.AllPeriods.sgn.probes_lhvloose_EGAM1.bkg.vprobes_vlhvloose_EGAM7.GRL_v97.25bins_et{ET}_eta{ETA}.h5'\n",
    "paths = []\n",
    "for et in range(5):\n",
    "    for eta in range(5):\n",
    "        paths.append( dpath.format(ET=et,ETA=eta) )"
   ]
  },
  {
   "cell_type": "code",
   "execution_count": 11,
   "id": "165f4860-7e9e-4e5b-a3d2-44f92f62150b",
   "metadata": {},
   "outputs": [
    {
     "name": "stderr",
     "output_type": "stream",
     "text": [
      "Reading files...: 100%|██████████| 25/25 [37:28<00:00, 89.96s/it] \n"
     ]
    }
   ],
   "source": [
    "my_df = load_in_loop( paths, decorators )"
   ]
  },
  {
   "cell_type": "code",
   "execution_count": 12,
   "id": "d1f2aed5-9afd-47bf-8338-92dd9f8a31fc",
   "metadata": {},
   "outputs": [
    {
     "name": "stderr",
     "output_type": "stream",
     "text": [
      "/usr/local/lib/python3.6/dist-packages/pandas/core/generic.py:2449: PerformanceWarning: \n",
      "your performance may suffer as PyTables will pickle object types that it cannot\n",
      "map directly to c-types [inferred_type->boolean,key->block1_values] [items->Index(['ringer_v16_tight', 'ringer_v16_medium', 'ringer_v16_loose',\n",
      "       'ringer_v16_vloose'],\n",
      "      dtype='object')]\n",
      "\n",
      "  encoding=encoding,\n"
     ]
    }
   ],
   "source": [
    "my_df.to_hdf(output_path+'/data18_table_v16.h5', key='df', mode='w')"
   ]
  },
  {
   "cell_type": "markdown",
   "id": "9194baf4-a01a-40b5-985e-582b8601365c",
   "metadata": {},
   "source": [
    "## Read all mc16 boosted bins:"
   ]
  },
  {
   "cell_type": "code",
   "execution_count": 13,
   "id": "818e8bdf-6574-4cc0-bc73-bec904d515df",
   "metadata": {},
   "outputs": [],
   "source": [
    "dpath = '/home/jodafons/public/cern_data/new_files/mc16_13TeV.302236_309995_341330.sgn.boosted_probes.WZ_llqq_plus_radion_ZZ_llqq_plus_ggH3000.merge.25bins.v2'\n",
    "dpath+= '/mc16_13TeV.302236_309995_341330.sgn.boosted_probes.WZ_llqq_plus_radion_ZZ_llqq_plus_ggH3000.merge.25bins.v2_et{ET}_eta{ETA}.h5'\n",
    "paths = []\n",
    "for et in range(5):\n",
    "    for eta in range(5):\n",
    "        paths.append( dpath.format(ET=et,ETA=eta) )"
   ]
  },
  {
   "cell_type": "code",
   "execution_count": 14,
   "id": "b0744d2b-f397-41bb-9973-4eb058cefa52",
   "metadata": {},
   "outputs": [
    {
     "name": "stderr",
     "output_type": "stream",
     "text": [
      "Reading files...: 100%|██████████| 25/25 [00:10<00:00,  2.47it/s]\n"
     ]
    }
   ],
   "source": [
    "my_df = load_in_loop( paths, decorators )"
   ]
  },
  {
   "cell_type": "code",
   "execution_count": 15,
   "id": "a4482b62-f4ea-42af-81ff-e811911a9678",
   "metadata": {},
   "outputs": [
    {
     "name": "stderr",
     "output_type": "stream",
     "text": [
      "/usr/local/lib/python3.6/dist-packages/pandas/core/generic.py:2449: PerformanceWarning: \n",
      "your performance may suffer as PyTables will pickle object types that it cannot\n",
      "map directly to c-types [inferred_type->boolean,key->block1_values] [items->Index(['ringer_v16_tight', 'ringer_v16_medium', 'ringer_v16_loose',\n",
      "       'ringer_v16_vloose'],\n",
      "      dtype='object')]\n",
      "\n",
      "  encoding=encoding,\n"
     ]
    }
   ],
   "source": [
    "my_df.to_hdf(output_path+'/mc16_table_v16.h5', key='df', mode='w')"
   ]
  },
  {
   "cell_type": "code",
   "execution_count": null,
   "id": "db222473-4823-4dd7-9f82-2be414cf94c8",
   "metadata": {},
   "outputs": [],
   "source": []
  },
  {
   "cell_type": "code",
   "execution_count": null,
   "id": "2485cf12-d681-48da-89ea-dd8cdc367a37",
   "metadata": {},
   "outputs": [],
   "source": []
  },
  {
   "cell_type": "code",
   "execution_count": null,
   "id": "a4b55998-a978-4a00-9025-aa6bfd8ef659",
   "metadata": {},
   "outputs": [],
   "source": []
  },
  {
   "cell_type": "code",
   "execution_count": null,
   "id": "afd559d2-ba4d-4753-aa65-bfa61ea13595",
   "metadata": {},
   "outputs": [],
   "source": []
  },
  {
   "cell_type": "code",
   "execution_count": null,
   "id": "1032b214-d52a-4de2-9fd5-175afbdd79be",
   "metadata": {},
   "outputs": [],
   "source": []
  }
 ],
 "metadata": {
  "kernelspec": {
   "display_name": "Python 3",
   "language": "python",
   "name": "python3"
  },
  "language_info": {
   "codemirror_mode": {
    "name": "ipython",
    "version": 3
   },
   "file_extension": ".py",
   "mimetype": "text/x-python",
   "name": "python",
   "nbconvert_exporter": "python",
   "pygments_lexer": "ipython3",
   "version": "3.6.9"
  }
 },
 "nbformat": 4,
 "nbformat_minor": 5
}
