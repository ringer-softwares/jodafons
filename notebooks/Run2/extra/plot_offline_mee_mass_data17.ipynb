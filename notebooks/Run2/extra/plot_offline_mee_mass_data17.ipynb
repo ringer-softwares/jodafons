{
 "cells": [
  {
   "cell_type": "markdown",
   "metadata": {},
   "source": [
    "# Plot Mee Mass:"
   ]
  },
  {
   "cell_type": "code",
   "execution_count": 3,
   "metadata": {},
   "outputs": [
    {
     "name": "stdout",
     "output_type": "stream",
     "text": [
      "The autoreload extension is already loaded. To reload it, use:\n",
      "  %reload_ext autoreload\n",
      "\n",
      "Applying ATLAS style settings...\n"
     ]
    }
   ],
   "source": [
    "from Gaugi import load\n",
    "from Gaugi.monet.utils import getColor,getColors\n",
    "from Gaugi.monet.PlotFunctions import *\n",
    "from Gaugi.monet.TAxisFunctions import *\n",
    "from Gaugi.monet.AtlasStyle import *\n",
    "from ROOT import TCanvas, TH1F, TH1I, TFile\n",
    "from ROOT import kRed, kBlue, kBlack,TLine,kBird, kOrange,kGray, kYellow, kViolet, kGreen, kAzure\n",
    "from pprint import pprint\n",
    "import array\n",
    "import numpy as np\n",
    "%config InlineBackend.figure_format = 'retina'\n",
    "%load_ext autoreload\n",
    "%autoreload 2\n",
    "SetAtlasStyle()\n",
    "GeV=1000."
   ]
  },
  {
   "cell_type": "code",
   "execution_count": 5,
   "metadata": {},
   "outputs": [],
   "source": [
    "path = '/Volumes/castor/cern_data/data17_13TeV/Mon/Egam1/after_ts1/'\n",
    "path+= 'user.jodafons.data17_13TeV.00331129.physics_Main.deriv.DAOD_EGAM1.f848_m1844_p3336.r0002_GLOBAL/'\n",
    "path+= 'user.jodafons.16343872.GLOBAL._000006.root'\n",
    "file = TFile(path, 'read')"
   ]
  },
  {
   "cell_type": "code",
   "execution_count": 13,
   "metadata": {},
   "outputs": [],
   "source": [
    "runname = file.GetListOfKeys()[0].GetName()\n",
    "mee = file.Get('/'+runname+'/HLT/Egamma/Expert/Event/Zee_Mee')"
   ]
  },
  {
   "cell_type": "code",
   "execution_count": 20,
   "metadata": {},
   "outputs": [],
   "source": [
    "def NormHist(hist, norm=None, removeZeros=0):\n",
    "    from ROOT import TH1F\n",
    "    if not norm:  norm = 1./sum(hist)\n",
    "    h = TH1F(hist.GetName()+\"_normalized\", hist.GetTitle(), hist.GetNbinsX(), hist.GetBinLowEdge(1),\n",
    "           hist.GetBinLowEdge( hist.GetNbinsX() + 1 ) )\n",
    "    for bin in range(0,h.GetNbinsX()+1):\n",
    "        content = hist.GetBinContent(bin)\n",
    "        if not content and removeZeros:  content=removeZeros\n",
    "        value = content*norm if norm else content\n",
    "        h.SetBinContent(bin , value )\n",
    "    return h"
   ]
  },
  {
   "cell_type": "code",
   "execution_count": 21,
   "metadata": {},
   "outputs": [],
   "source": [
    "def AddLegend(canvas, x, y, legends):\n",
    "    MakeLegend( canvas,x,y,x+0.98,y+0.35,textsize=16, names=legends, option = 'p' )"
   ]
  },
  {
   "cell_type": "code",
   "execution_count": 33,
   "metadata": {},
   "outputs": [
    {
     "name": "stderr",
     "output_type": "stream",
     "text": [
      "Warning in <TCanvas::Constructor>: Deleting canvas with same name: canvas\n",
      "Info in <TCanvas::Print>: pdf file data17_Zee_mass.pdf has been created\n"
     ]
    },
    {
     "data": {
      "image/png": "[encoded data removed]",
      "text/plain": [
       "<IPython.core.display.Image object>"
      ]
     },
     "metadata": {},
     "output_type": "display_data"
    }
   ],
   "source": [
    "def PlotHist( h, xlabel, normalize=False,y_axis_maximum=None ):\n",
    "    \n",
    "    canvas = TCanvas('canvas','canvas',700, 500)\n",
    "    if normalize:\n",
    "        h = NormHist(h)\n",
    "    h.SetLineColor(kBlack)\n",
    "    h.SetFillColor(kYellow-4)\n",
    "    if y_axis_maximum:\n",
    "        h.SetMaximum(y_axis_maximum)  \n",
    "    AddHistogram(canvas,h, 'same')\n",
    "    FormatCanvasAxes(canvas, XLabelSize=16, YLabelSize=16, XTitleOffset=0.87, ZLabelSize=16,\n",
    "                             ZTitleSize=16, YTitleOffset=1.10, ZTitleOffset=1.1)\n",
    "    SetAxisLabels(canvas,xlabel, 'counts/bin (norm by counts)')\n",
    "    return canvas\n",
    "\n",
    "canvas = PlotHist(mee,'M_{ee}', normalize=True,y_axis_maximum=0.055)\n",
    "AddATLASLabel(canvas, 0.2, 0.88, 'Internal, data17, #sqrt{s}= 13TeV, Z#rightarrowee T&P')\n",
    "#AddLegend( canvas,0.6,0.55, ['Mee'])\n",
    "canvas.Draw()\n",
    "canvas.SaveAs('data17_Zee_mass.pdf')"
   ]
  },
  {
   "cell_type": "code",
   "execution_count": null,
   "metadata": {},
   "outputs": [],
   "source": []
  },
  {
   "cell_type": "code",
   "execution_count": null,
   "metadata": {},
   "outputs": [],
   "source": []
  }
 ],
 "metadata": {
  "kernelspec": {
   "display_name": "Python 3",
   "language": "python",
   "name": "python3"
  },
  "language_info": {
   "codemirror_mode": {
    "name": "ipython",
    "version": 3
   },
   "file_extension": ".py",
   "mimetype": "text/x-python",
   "name": "python",
   "nbconvert_exporter": "python",
   "pygments_lexer": "ipython3",
   "version": "3.7.9"
  }
 },
 "nbformat": 4,
 "nbformat_minor": 4
}
