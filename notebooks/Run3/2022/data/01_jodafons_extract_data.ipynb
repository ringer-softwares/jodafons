{
 "cells": [
  {
   "cell_type": "markdown",
   "id": "ca2f7274-f3c9-4920-8846-f57206e7ce34",
   "metadata": {},
   "source": [
    "# Dump all data:"
   ]
  },
  {
   "cell_type": "code",
   "execution_count": 1,
   "id": "59967f39-befe-42c6-b8aa-c81bcc13734b",
   "metadata": {},
   "outputs": [
    {
     "name": "stdout",
     "output_type": "stream",
     "text": [
      "Welcome to JupyROOT 6.16/00\n",
      "Using all sub packages with ROOT dependence\n",
      "INFO: Pandarallel will run on 40 workers.\n",
      "INFO: Pandarallel will use Memory file system to transfer data between the main process and workers.\n"
     ]
    }
   ],
   "source": [
    "from Gaugi import mkdir_p, progressbar\n",
    "from kepler import load_hdf\n",
    "import numpy as np\n",
    "import pandas as pd\n",
    "import collections\n",
    "import os\n",
    "from pprint import pprint\n",
    "from copy import deepcopy\n",
    "import gc\n",
    "%config InlineBackend.figure_format = 'retina'\n",
    "%load_ext autoreload\n",
    "%autoreload 2"
   ]
  },
  {
   "cell_type": "code",
   "execution_count": 2,
   "id": "eff9d2e4-7725-401d-8591-23a51b5c3802",
   "metadata": {},
   "outputs": [],
   "source": [
    "output_path = 'output'\n",
    "mkdir_p(output_path)"
   ]
  },
  {
   "cell_type": "code",
   "execution_count": 3,
   "id": "9906fa52-812f-4db7-9f00-e5c9a8b317ff",
   "metadata": {},
   "outputs": [],
   "source": [
    "dpath = '/home/jodafons/public/cern_data/new_files/data17_13TeV.AllPeriods.sgn.probes_lhvloose_EGAM1.bkg.vprobes_vlhvloose_EGAM7.GRL_v97.25bins'\n",
    "dpath+= '/data17_13TeV.AllPeriods.sgn.probes_lhvloose_EGAM1.bkg.vprobes_vlhvloose_EGAM7.GRL_v97.25bins_et{ET}_eta{ETA}.h5'\n",
    "paths = []\n",
    "for et in range(5):\n",
    "    for eta in range(5):\n",
    "        paths.append( dpath.format(ET=et,ETA=eta) )"
   ]
  },
  {
   "cell_type": "code",
   "execution_count": 4,
   "id": "1d004cc7-9b57-4835-8be4-7f21cce876c8",
   "metadata": {},
   "outputs": [],
   "source": [
    "drop_columns = [\n",
    "                    #'RunNumber', \n",
    "                    #'avgmu',\n",
    "                    #'trig_L2_cl_et',\n",
    "                    #'trig_L2_cl_eta',\n",
    "                    #'trig_L2_cl_phi',\n",
    "                    #'trig_L2_cl_reta',\n",
    "                    #'trig_L2_cl_ehad1', \n",
    "                    #'trig_L2_cl_eratio',\n",
    "                    #'trig_L2_cl_f1', \n",
    "                    #'trig_L2_cl_f3', \n",
    "                    #'trig_L2_cl_weta2', \n",
    "                    #'trig_L2_cl_wstot', \n",
    "                    'trig_L2_cl_e2tsts1',\n",
    "                    'trig_L2_el_hastrack',\n",
    "                    'trig_L2_el_pt',\n",
    "                    'trig_L2_el_eta',\n",
    "                    'trig_L2_el_phi',\n",
    "                    'trig_L2_el_caloEta',\n",
    "                    'trig_L2_el_trkClusDeta',\n",
    "                    'trig_L2_el_trkClusDphi',\n",
    "                    'trig_L2_el_etOverPt',\n",
    "                    'trig_EF_cl_hascluster',\n",
    "                    #'trig_EF_cl_et',\n",
    "                    'trig_EF_cl_eta',\n",
    "                    'trig_EF_cl_etaBE2',\n",
    "                    'trig_EF_cl_phi',     \n",
    "                    'trig_EF_el_hascand',\n",
    "                    #'trig_EF_el_et',\n",
    "                    'trig_EF_el_eta',\n",
    "                    'trig_EF_el_etaBE2',\n",
    "                    'trig_EF_el_phi',\n",
    "                    'trig_EF_el_rhad1',\n",
    "                    'trig_EF_el_rhad',\n",
    "                    'trig_EF_el_f3',\n",
    "                    'trig_EF_el_weta2',\n",
    "                    'trig_EF_el_rphi',\n",
    "                    'trig_EF_el_reta',\n",
    "                    'trig_EF_el_wtots1',\n",
    "                    'trig_EF_el_eratio',\n",
    "                    'trig_EF_el_f1',\n",
    "                    'trig_EF_el_hastrack',\n",
    "                    'trig_EF_el_deltaEta1',\n",
    "                    'trig_EF_el_deltaPhi2',\n",
    "                    'trig_EF_el_deltaPhi2Rescaled',\n",
    "                    #'trig_EF_el_lhtight',\n",
    "                    #'trig_EF_el_lhmedium',\n",
    "                    #'trig_EF_el_lhloose',\n",
    "                    #'trig_EF_el_lhvloose', \n",
    "                    # Offline variables\n",
    "                    #'el_et',\n",
    "                    #'el_eta',\n",
    "                    'el_etaBE2',\n",
    "                    #'el_phi',\n",
    "                    # offline shower shapers\n",
    "                    #'el_rhad1',\n",
    "                    #'el_rhad',\n",
    "                    #'el_f3',\n",
    "                    #'el_weta2',\n",
    "                    #'el_rphi',\n",
    "                    #'el_reta',\n",
    "                    #'el_wtots1',\n",
    "                    #'el_eratio',\n",
    "                    #'el_f1',\n",
    "                    # offline track\n",
    "                    #'el_hastrack',\n",
    "                    'el_numberOfBLayerHits',\n",
    "                    'el_numberOfPixelHits',\n",
    "                    'el_numberOfTRTHits',\n",
    "                    #'el_d0',\n",
    "                    #'el_d0significance',\n",
    "                    #'el_eProbabilityHT',\n",
    "                    'el_trans_TRT_PID',\n",
    "                    #'el_deltaEta1',\n",
    "                    'el_deltaPhi2',\n",
    "                    #'el_deltaPhi2Rescaled',\n",
    "                    #'el_deltaPOverP',\n",
    "                    #'el_lhtight',\n",
    "                    #'el_lhmedium',\n",
    "                    #'el_lhloose',\n",
    "                    #'el_lhvloose',\n",
    "                    'el_TaP_Mass',\n",
    "                    #'el_TaP_deltaR',\n",
    "                ] \n",
    "\n",
    "drop_columns.extend( ['trig_L2_cl_ring_%d'%i for i in range(100)] )\n",
    "\n"
   ]
  },
  {
   "cell_type": "markdown",
   "id": "d55125f6-ad91-4e6b-9568-b8efcf510c4c",
   "metadata": {},
   "source": [
    "## Read all bins:\n",
    "\n",
    "Take something like 1 hour"
   ]
  },
  {
   "cell_type": "code",
   "execution_count": 5,
   "id": "9ef17eb5-de24-47ca-91db-f3c4b058ed93",
   "metadata": {},
   "outputs": [],
   "source": [
    "def load_in_loop( paths, drop_columns ):\n",
    "    tables = []\n",
    "    for path in progressbar( paths, prefix='Reading files...'):\n",
    "        df = load_hdf( path )\n",
    "        df.drop( drop_columns, axis=1, inplace=True )    \n",
    "        tables.append(df)\n",
    "    return pd.concat(tables).reset_index(drop=True)"
   ]
  },
  {
   "cell_type": "code",
   "execution_count": 6,
   "id": "ff0781c7-5820-4de0-bd01-844a902eb84e",
   "metadata": {},
   "outputs": [
    {
     "name": "stderr",
     "output_type": "stream",
     "text": [
      "Reading files...: 100%|██████████| 25/25 [03:58<00:00,  9.53s/it]\n"
     ]
    }
   ],
   "source": [
    "my_df = load_in_loop(paths, drop_columns)"
   ]
  },
  {
   "cell_type": "code",
   "execution_count": 7,
   "id": "1dd7a645-f8f1-4baa-adf3-81a08972c1bc",
   "metadata": {},
   "outputs": [],
   "source": [
    "outname = 'data17_13TeV.AllPeriods.sgn.probes_lhvloose_EGAM1.bkg.vprobes_vlhvloose_EGAM7.GRL_v97.dataframe.h5'"
   ]
  },
  {
   "cell_type": "code",
   "execution_count": 8,
   "id": "2b860e1b-d4c4-4f6a-be0e-e45e097480d1",
   "metadata": {},
   "outputs": [],
   "source": [
    "my_df.to_hdf(output_path+'/'+outname, key='df', mode='w')"
   ]
  },
  {
   "cell_type": "code",
   "execution_count": 9,
   "id": "bdf53dba-6826-4a5b-928a-9ee9191ff078",
   "metadata": {},
   "outputs": [
    {
     "data": {
      "text/plain": [
       "(43311283, 84)"
      ]
     },
     "execution_count": 9,
     "metadata": {},
     "output_type": "execute_result"
    }
   ],
   "source": [
    "my_df.shape"
   ]
  },
  {
   "cell_type": "code",
   "execution_count": null,
   "id": "b0637dbc-f9a2-47aa-9dd6-9a126d56b9f3",
   "metadata": {},
   "outputs": [],
   "source": []
  },
  {
   "cell_type": "code",
   "execution_count": 10,
   "id": "01042c72-d399-4aa8-a83b-b99840bf5200",
   "metadata": {},
   "outputs": [],
   "source": [
    "dpath = '/home/jodafons/public/cern_data/new_files/data18_13TeV.AllPeriods.sgn.probes_lhvloose_EGAM1.bkg.vprobes_vlhvloose_EGAM7.GRL_v97.25bins'\n",
    "dpath+= '/data18_13TeV.AllPeriods.sgn.probes_lhvloose_EGAM1.bkg.vprobes_vlhvloose_EGAM7.GRL_v97.25bins_et{ET}_eta{ETA}.h5'\n",
    "paths = []\n",
    "for et in range(5):\n",
    "    for eta in range(5):\n",
    "        paths.append( dpath.format(ET=et,ETA=eta) )"
   ]
  },
  {
   "cell_type": "code",
   "execution_count": 11,
   "id": "5e81e140-62a4-4d98-870d-f315f73b072e",
   "metadata": {},
   "outputs": [
    {
     "name": "stderr",
     "output_type": "stream",
     "text": [
      "Reading files...: 100%|██████████| 25/25 [05:52<00:00, 14.09s/it]\n"
     ]
    }
   ],
   "source": [
    "my_df = load_in_loop(paths, drop_columns)"
   ]
  },
  {
   "cell_type": "code",
   "execution_count": 12,
   "id": "160c5fae-2112-4462-b893-8a01eea67e4a",
   "metadata": {},
   "outputs": [],
   "source": [
    "outname = 'data18_13TeV.AllPeriods.sgn.probes_lhvloose_EGAM1.bkg.vprobes_vlhvloose_EGAM7.GRL_v97.dataframe.h5'"
   ]
  },
  {
   "cell_type": "code",
   "execution_count": 13,
   "id": "e27da5e0-7514-405e-adea-a194f45d7ac9",
   "metadata": {},
   "outputs": [],
   "source": [
    "my_df.to_hdf(output_path+'/'+outname, key='df', mode='w')"
   ]
  },
  {
   "cell_type": "code",
   "execution_count": null,
   "id": "4ea3198c-4b4a-4acc-8403-8930a494f37c",
   "metadata": {},
   "outputs": [],
   "source": []
  },
  {
   "cell_type": "code",
   "execution_count": null,
   "id": "469d33ef-26e6-4bbd-a41b-585d697344d9",
   "metadata": {},
   "outputs": [],
   "source": []
  },
  {
   "cell_type": "code",
   "execution_count": 18,
   "id": "f8915b8a-695e-4cc6-bd8d-9596679314f8",
   "metadata": {},
   "outputs": [],
   "source": [
    "dpath = '/home/jodafons/public/cern_data/new_files/mc16_13TeV.309995.sgn.boosted_probes.GGF_radion_ZZ_llqq.merge.25bins.v2'\n",
    "dpath+= '/mc16_13TeV.309995.sgn.boosted_probes.GGF_radion_ZZ_llqq.merge.25bins.v2_et{ET}_eta{ETA}.h5'\n",
    "paths = []\n",
    "for et in range(5):\n",
    "    for eta in range(5):\n",
    "        paths.append( dpath.format(ET=et,ETA=eta) )"
   ]
  },
  {
   "cell_type": "code",
   "execution_count": 19,
   "id": "24be3a2d-7169-47d5-a0a6-7ca580d1da4f",
   "metadata": {},
   "outputs": [
    {
     "name": "stderr",
     "output_type": "stream",
     "text": [
      "Reading files...: 100%|██████████| 25/25 [00:00<00:00, 69.03it/s]\n"
     ]
    }
   ],
   "source": [
    "my_df = load_in_loop(paths, drop_columns)"
   ]
  },
  {
   "cell_type": "code",
   "execution_count": 20,
   "id": "52d03eb8-aaba-462b-b79b-e2a548cb186c",
   "metadata": {},
   "outputs": [],
   "source": [
    "outname='mc16_13TeV.309995.sgn.boosted_probes.GGF_radion_ZZ_llqq.merge.25bins.v2.dataframe.h5'"
   ]
  },
  {
   "cell_type": "code",
   "execution_count": 21,
   "id": "5ecf8300-6681-4593-9465-97b872cedc4d",
   "metadata": {},
   "outputs": [],
   "source": [
    "my_df.to_hdf(output_path+'/'+outname, key='df', mode='w')"
   ]
  },
  {
   "cell_type": "code",
   "execution_count": null,
   "id": "19d77375-0dcf-4627-b491-accf77cb3c62",
   "metadata": {},
   "outputs": [],
   "source": []
  }
 ],
 "metadata": {
  "kernelspec": {
   "display_name": "Python 3",
   "language": "python",
   "name": "python3"
  },
  "language_info": {
   "codemirror_mode": {
    "name": "ipython",
    "version": 3
   },
   "file_extension": ".py",
   "mimetype": "text/x-python",
   "name": "python",
   "nbconvert_exporter": "python",
   "pygments_lexer": "ipython3",
   "version": "3.6.9"
  }
 },
 "nbformat": 4,
 "nbformat_minor": 5
}
