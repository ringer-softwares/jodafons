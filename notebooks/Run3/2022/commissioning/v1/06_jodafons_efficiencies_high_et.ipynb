{
 "cells": [
  {
   "cell_type": "markdown",
   "metadata": {},
   "source": [
    "# Efficiency Plots for 2017 (High Et):\n",
    "\n",
    "Check efficiency plots w.r.t the reference (noringer)"
   ]
  },
  {
   "cell_type": "code",
   "execution_count": 1,
   "metadata": {},
   "outputs": [
    {
     "name": "stdout",
     "output_type": "stream",
     "text": [
      "Welcome to JupyROOT 6.16/00\n",
      "Using all sub packages with ROOT dependence\n",
      "INFO: Pandarallel will run on 40 workers.\n",
      "INFO: Pandarallel will use Memory file system to transfer data between the main process and workers.\n",
      "\n",
      "Applying ATLAS style settings...\n",
      "\n",
      "Applying ATLAS style settings...\n",
      "\n",
      "Applying ATLAS style settings...\n"
     ]
    }
   ],
   "source": [
    "from kepler.pandas.menu       import ElectronSequence as Chain\n",
    "from kepler.pandas.readers    import load, load_in_loop, load_hdf\n",
    "from core import Efficiency, restore_efficiencies\n",
    "from Gaugi import mkdir_p, progressbar\n",
    "import numpy as np\n",
    "import pandas as pd\n",
    "import collections\n",
    "import os\n",
    "import array\n",
    "import root_numpy\n",
    "import rootplotlib as rpl\n",
    "from pprint import pprint\n",
    "from copy import deepcopy\n",
    "import gc\n",
    "from ROOT import kBlack,kBlue,kRed,kAzure,kGreen,kMagenta,kCyan,kOrange,kGray,kYellow,kWhite,TColor,gStyle,TCanvas,gPad,TGaxis\n",
    "import ROOT\n",
    "%config InlineBackend.figure_format = 'retina'\n",
    "%load_ext autoreload\n",
    "%autoreload 2"
   ]
  },
  {
   "cell_type": "markdown",
   "metadata": {},
   "source": [
    "## 1) Read all files:"
   ]
  },
  {
   "cell_type": "code",
   "execution_count": 2,
   "metadata": {},
   "outputs": [],
   "source": [
    "output_path = 'output/emulation'\n",
    "mkdir_p(output_path)\n",
    "version = 'v12'\n",
    "ref = 'v8'"
   ]
  },
  {
   "cell_type": "code",
   "execution_count": 3,
   "metadata": {},
   "outputs": [
    {
     "name": "stdout",
     "output_type": "stream",
     "text": [
      "OrderedDict([('L1Seed', 'L1_EM15VHI'),\n",
      "             ('L2Calo', (14000.0, 'ringer_v8_vloose')),\n",
      "             ('L2', 'trig_L2_el_cut_pt15to20'),\n",
      "             ('EFCalo', 17000.0),\n",
      "             ('HLT', (17000.0, 'trig_EF_el_lhvloose'))])\n",
      "OrderedDict([('L1Seed', 'L1_EM22VHI'),\n",
      "             ('L2Calo', (25000.0, 'ringer_v8_tight')),\n",
      "             ('L2', 'trig_L2_el_cut_pt20to50'),\n",
      "             ('EFCalo', 28000.0),\n",
      "             ('HLT', (28000.0, 'trig_EF_el_lhtight_ivarloose'))])\n",
      "OrderedDict([('L1Seed', 'L1_EM24VHI'),\n",
      "             ('L2Calo', (57000.0, 'ringer_v8_medium')),\n",
      "             ('L2', 'trig_L2_el_cut_pt50toInf'),\n",
      "             ('EFCalo', 60000.0),\n",
      "             ('HLT', (60000.0, 'trig_EF_el_lhmedium'))])\n",
      "OrderedDict([('L1Seed', 'L1_EM24VHI'),\n",
      "             ('L2Calo', (137000.0, 'ringer_v8_loose')),\n",
      "             ('L2', 'trig_L2_el_cut_pt50toInf'),\n",
      "             ('EFCalo', 140000.0),\n",
      "             ('HLT', (140000.0, 'trig_EF_el_lhloose'))])\n",
      "OrderedDict([('L1Seed', 'L1_EM15VHI'),\n",
      "             ('L2Calo', (14000.0, 'ringer_v12_vloose')),\n",
      "             ('L2', 'trig_L2_el_cut_pt15to20'),\n",
      "             ('EFCalo', 17000.0),\n",
      "             ('HLT', (17000.0, 'trig_EF_el_lhvloose'))])\n",
      "OrderedDict([('L1Seed', 'L1_EM22VHI'),\n",
      "             ('L2Calo', (25000.0, 'ringer_v12_tight')),\n",
      "             ('L2', 'trig_L2_el_cut_pt20to50'),\n",
      "             ('EFCalo', 28000.0),\n",
      "             ('HLT', (28000.0, 'trig_EF_el_lhtight_ivarloose'))])\n",
      "OrderedDict([('L1Seed', 'L1_EM24VHI'),\n",
      "             ('L2Calo', (57000.0, 'ringer_v12_medium')),\n",
      "             ('L2', 'trig_L2_el_cut_pt50toInf'),\n",
      "             ('EFCalo', 60000.0),\n",
      "             ('HLT', (60000.0, 'trig_EF_el_lhmedium'))])\n",
      "OrderedDict([('L1Seed', 'L1_EM24VHI'),\n",
      "             ('L2Calo', (137000.0, 'ringer_v12_loose')),\n",
      "             ('L2', 'trig_L2_el_cut_pt50toInf'),\n",
      "             ('EFCalo', 140000.0),\n",
      "             ('HLT', (140000.0, 'trig_EF_el_lhloose'))])\n"
     ]
    }
   ],
   "source": [
    "# create my chain\n",
    "chains = [\n",
    "\n",
    "            Chain( \"HLT_e17_lhvloose_nod0_ringer_%s_L1EM15VHI\"%ref, L1Seed = 'L1_EM15VHI' , \n",
    "                  l2calo_column = 'ringer_%s_vloose'%ref),\n",
    "            Chain( \"HLT_e28_lhtight_nod0_ringer_%s_ivarloose\"%ref, L1Seed = 'L1_EM22VHI' , \n",
    "                  l2calo_column = 'ringer_%s_tight'%ref ),\n",
    "            Chain( \"HLT_e60_lhmedium_nod0_ringer_%s_L1EM24VHI\"%ref, L1Seed = 'L1_EM24VHI' , \n",
    "                  l2calo_column = 'ringer_%s_medium'%ref),\n",
    "            Chain( \"HLT_e140_lhloose_nod0_ringer_%s\"%ref , L1Seed = 'L1_EM24VHI', \n",
    "                  l2calo_column = 'ringer_%s_loose'%ref),\n",
    "\n",
    "\n",
    "            Chain( \"HLT_e17_lhvloose_nod0_ringer_%s_L1EM15VHI\"%version, L1Seed = 'L1_EM15VHI' , \n",
    "                  l2calo_column = 'ringer_%s_vloose'%version),\n",
    "            Chain( \"HLT_e28_lhtight_nod0_ringer_%s_ivarloose\"%version, L1Seed = 'L1_EM22VHI' , \n",
    "                  l2calo_column = 'ringer_%s_tight'%version ),\n",
    "            Chain( \"HLT_e60_lhmedium_nod0_ringer_%s_L1EM24VHI\"%version, L1Seed = 'L1_EM24VHI' , \n",
    "                  l2calo_column = 'ringer_%s_medium'%version),\n",
    "            Chain( \"HLT_e140_lhloose_nod0_ringer_%s\"%version , L1Seed = 'L1_EM24VHI', \n",
    "                  l2calo_column = 'ringer_%s_loose'%version),\n",
    "\n",
    "]\n",
    "\n",
    "def emulate( df ):\n",
    "    for chain in progressbar(chains, prefix='Emulate...'):\n",
    "        chain.apply(df)"
   ]
  },
  {
   "cell_type": "code",
   "execution_count": 4,
   "metadata": {},
   "outputs": [],
   "source": [
    "dpath = '../data/output/data17_13TeV.AllPeriods.sgn.probes_lhvloose_EGAM1.bkg.vprobes_vlhvloose_EGAM7.GRL_v97.dataframe.h5'"
   ]
  },
  {
   "cell_type": "code",
   "execution_count": 5,
   "metadata": {},
   "outputs": [],
   "source": [
    "data_df = pd.concat( (load_hdf(dpath), \n",
    "                      load_hdf('../%s/output/emulation/data17_table_%s.h5'%(ref,ref) ),\n",
    "                      load_hdf('output/emulation/data17_table_%s.h5'%version),\n",
    "                     ), axis=1)"
   ]
  },
  {
   "cell_type": "code",
   "execution_count": 6,
   "metadata": {},
   "outputs": [
    {
     "name": "stderr",
     "output_type": "stream",
     "text": [
      "Emulate...: 100%|██████████| 8/8 [02:42<00:00, 20.35s/it]\n"
     ]
    }
   ],
   "source": [
    "emulate(data_df)"
   ]
  },
  {
   "cell_type": "code",
   "execution_count": 7,
   "metadata": {},
   "outputs": [
    {
     "data": {
      "text/plain": [
       "(43311283, 139)"
      ]
     },
     "execution_count": 7,
     "metadata": {},
     "output_type": "execute_result"
    }
   ],
   "source": [
    "data_df.shape"
   ]
  },
  {
   "cell_type": "code",
   "execution_count": 8,
   "metadata": {},
   "outputs": [
    {
     "data": {
      "text/plain": [
       "array(['avgmu', 'trig_L2_cl_et', 'trig_L2_cl_eta', 'trig_L2_cl_phi',\n",
       "       'trig_L2_cl_reta', 'trig_L2_cl_ehad1', 'trig_L2_cl_eratio',\n",
       "       'trig_L2_cl_f1', 'trig_L2_cl_f3', 'trig_L2_cl_weta2',\n",
       "       'trig_L2_cl_wstot', 'trig_EF_cl_et', 'trig_EF_el_et',\n",
       "       'trig_EF_el_lhtight', 'trig_EF_el_lhmedium', 'trig_EF_el_lhloose',\n",
       "       'trig_EF_el_lhvloose', 'el_et', 'el_eta', 'el_phi', 'el_rhad1',\n",
       "       'el_rhad', 'el_f3', 'el_weta2', 'el_rphi', 'el_reta', 'el_wtots1',\n",
       "       'el_eratio', 'el_f1', 'el_hastrack', 'el_d0', 'el_d0significance',\n",
       "       'el_eProbabilityHT', 'el_deltaEta1', 'el_deltaPhi2Rescaled',\n",
       "       'el_deltaPOverP', 'el_lhtight', 'el_lhmedium', 'el_lhloose',\n",
       "       'el_lhvloose', 'trig_EF_el_lhtight_ivarloose', 'el_TaP_deltaR',\n",
       "       'L1_EM3', 'L1_EM7', 'L1_EM15VH', 'L1_EM15VHI', 'L1_EM20VH',\n",
       "       'L1_EM20VHI', 'L1_EM22VH', 'L1_EM22VHI', 'L1_EM24VHI',\n",
       "       'trig_L2_cl_vloose_et0to12', 'trig_L2_cl_vloose_et12to22',\n",
       "       'trig_L2_cl_vloose_et22toInf', 'trig_L2_cl_loose_et0to12',\n",
       "       'trig_L2_cl_loose_et12to22', 'trig_L2_cl_loose_et22toInf',\n",
       "       'trig_L2_cl_medium_et0to12', 'trig_L2_cl_medium_et12to22',\n",
       "       'trig_L2_cl_medium_et22toInf', 'trig_L2_cl_tight_et0to12',\n",
       "       'trig_L2_cl_tight_et12to22', 'trig_L2_cl_tight_et22toInf',\n",
       "       'trig_L2_el_cut_pt0to15', 'trig_L2_el_cut_pt15to20',\n",
       "       'trig_L2_el_cut_pt20to50', 'trig_L2_el_cut_pt50toInf',\n",
       "       'TDT__L1Calo__e28_lhtight_nod0_ivarloose',\n",
       "       'TDT__L2Calo__e28_lhtight_nod0_ivarloose',\n",
       "       'TDT__L2__e28_lhtight_nod0_ivarloose',\n",
       "       'TDT__EFCalo__e28_lhtight_nod0_ivarloose',\n",
       "       'TDT__HLT__e28_lhtight_nod0_ivarloose',\n",
       "       'TDT__L1Calo__e28_lhtight_nod0_noringer_ivarloose',\n",
       "       'TDT__L2Calo__e28_lhtight_nod0_noringer_ivarloose',\n",
       "       'TDT__L2__e28_lhtight_nod0_noringer_ivarloose',\n",
       "       'TDT__EFCalo__e28_lhtight_nod0_noringer_ivarloose',\n",
       "       'TDT__HLT__e28_lhtight_nod0_noringer_ivarloose', 'target',\n",
       "       'trig_L2_cl_tight', 'trig_L2_cl_medium', 'trig_L2_cl_loose',\n",
       "       'trig_L2_cl_vloose', 'trig_L2_el_accept', 'ringer_v8_tight',\n",
       "       'ringer_v8_tight_output', 'ringer_v8_medium',\n",
       "       'ringer_v8_medium_output', 'ringer_v8_loose',\n",
       "       'ringer_v8_loose_output', 'ringer_v8_vloose',\n",
       "       'ringer_v8_vloose_output', 'ringer_v12_tight',\n",
       "       'ringer_v12_tight_output', 'ringer_v12_medium',\n",
       "       'ringer_v12_medium_output', 'ringer_v12_loose',\n",
       "       'ringer_v12_loose_output', 'ringer_v12_vloose',\n",
       "       'ringer_v12_vloose_output',\n",
       "       'L1Calo_e17_lhvloose_nod0_ringer_v8_L1EM15VHI',\n",
       "       'L2Calo_e17_lhvloose_nod0_ringer_v8_L1EM15VHI',\n",
       "       'L2_e17_lhvloose_nod0_ringer_v8_L1EM15VHI',\n",
       "       'EFCalo_e17_lhvloose_nod0_ringer_v8_L1EM15VHI',\n",
       "       'HLT_e17_lhvloose_nod0_ringer_v8_L1EM15VHI',\n",
       "       'L1Calo_e28_lhtight_nod0_ringer_v8_ivarloose',\n",
       "       'L2Calo_e28_lhtight_nod0_ringer_v8_ivarloose',\n",
       "       'L2_e28_lhtight_nod0_ringer_v8_ivarloose',\n",
       "       'EFCalo_e28_lhtight_nod0_ringer_v8_ivarloose',\n",
       "       'HLT_e28_lhtight_nod0_ringer_v8_ivarloose',\n",
       "       'L1Calo_e60_lhmedium_nod0_ringer_v8_L1EM24VHI',\n",
       "       'L2Calo_e60_lhmedium_nod0_ringer_v8_L1EM24VHI',\n",
       "       'L2_e60_lhmedium_nod0_ringer_v8_L1EM24VHI',\n",
       "       'EFCalo_e60_lhmedium_nod0_ringer_v8_L1EM24VHI',\n",
       "       'HLT_e60_lhmedium_nod0_ringer_v8_L1EM24VHI',\n",
       "       'L1Calo_e140_lhloose_nod0_ringer_v8',\n",
       "       'L2Calo_e140_lhloose_nod0_ringer_v8',\n",
       "       'L2_e140_lhloose_nod0_ringer_v8',\n",
       "       'EFCalo_e140_lhloose_nod0_ringer_v8',\n",
       "       'HLT_e140_lhloose_nod0_ringer_v8',\n",
       "       'L1Calo_e17_lhvloose_nod0_ringer_v12_L1EM15VHI',\n",
       "       'L2Calo_e17_lhvloose_nod0_ringer_v12_L1EM15VHI',\n",
       "       'L2_e17_lhvloose_nod0_ringer_v12_L1EM15VHI',\n",
       "       'EFCalo_e17_lhvloose_nod0_ringer_v12_L1EM15VHI',\n",
       "       'HLT_e17_lhvloose_nod0_ringer_v12_L1EM15VHI',\n",
       "       'L1Calo_e28_lhtight_nod0_ringer_v12_ivarloose',\n",
       "       'L2Calo_e28_lhtight_nod0_ringer_v12_ivarloose',\n",
       "       'L2_e28_lhtight_nod0_ringer_v12_ivarloose',\n",
       "       'EFCalo_e28_lhtight_nod0_ringer_v12_ivarloose',\n",
       "       'HLT_e28_lhtight_nod0_ringer_v12_ivarloose',\n",
       "       'L1Calo_e60_lhmedium_nod0_ringer_v12_L1EM24VHI',\n",
       "       'L2Calo_e60_lhmedium_nod0_ringer_v12_L1EM24VHI',\n",
       "       'L2_e60_lhmedium_nod0_ringer_v12_L1EM24VHI',\n",
       "       'EFCalo_e60_lhmedium_nod0_ringer_v12_L1EM24VHI',\n",
       "       'HLT_e60_lhmedium_nod0_ringer_v12_L1EM24VHI',\n",
       "       'L1Calo_e140_lhloose_nod0_ringer_v12',\n",
       "       'L2Calo_e140_lhloose_nod0_ringer_v12',\n",
       "       'L2_e140_lhloose_nod0_ringer_v12',\n",
       "       'EFCalo_e140_lhloose_nod0_ringer_v12',\n",
       "       'HLT_e140_lhloose_nod0_ringer_v12'], dtype=object)"
      ]
     },
     "execution_count": 8,
     "metadata": {},
     "output_type": "execute_result"
    }
   ],
   "source": [
    "data_df.columns.values"
   ]
  },
  {
   "cell_type": "markdown",
   "metadata": {},
   "source": [
    "## Make plots:"
   ]
  },
  {
   "cell_type": "code",
   "execution_count": 9,
   "metadata": {},
   "outputs": [],
   "source": [
    "etbins    = [0.,2.,4.,6.,8.,10.,12.,14.,16.,18.,20.,22.,24.,26.,28.,\n",
    "             30.,32.,34.,36.,38.,40.,42.,44.,46.,48.,50.,55.,60.,65.,70.,100.]\n",
    "step      = 200\n",
    "etbins.extend( np.arange(200, 800+step, step=step).tolist() )\n",
    "\n",
    "etbins_ext = [100., 120., 140., 160., 180., 200.]\n",
    "step      = 200\n",
    "etbins_ext.extend( np.arange(200, 800+step, step=step).tolist() )"
   ]
  },
  {
   "cell_type": "code",
   "execution_count": 10,
   "metadata": {},
   "outputs": [],
   "source": [
    "def hist1d( name, values, bins, density=False ):\n",
    "    H, _ = np.histogram(values, bins=bins, density=density )\n",
    "    hist = ROOT.TH1F( name, '', len(bins)-1, array.array('d',bins))\n",
    "    root_numpy.array2hist(H, hist)\n",
    "    return hist\n",
    "\n",
    "def get_profile( df, trigger, bins, target, etcut, pidname=None ):\n",
    "    if pidname:\n",
    "        num = df.loc[(df[trigger]==True) & (df['el_et']/1000 >= etcut) & (df['target']==target) &\n",
    "                   (df[pidname]==True)]['el_et'].values/1000 \n",
    "        den = df.loc[(df[pidname]==True) & (df['target']==target) & \n",
    "                     (df['el_et']/1000 >= etcut)]['el_et'].values/1000\n",
    "    else:\n",
    "        num = df.loc[(df[trigger]==True) & (df['el_et']/1000 >= etcut) & (df['target']==target)\n",
    "                     ]['el_et'].values/1000 \n",
    "        den = df.loc[(df['target']==target) & (df['el_et']/1000 >= etcut)]['el_et'].values/1000     \n",
    "        \n",
    "    h_num = hist1d('et_num', num, bins )\n",
    "    h_den = hist1d('et_den', den, bins )\n",
    "    h_eff = rpl.hist1d.divide(h_num,h_den)  \n",
    "    return h_eff\n",
    "\n",
    "def add_legend(x, y, legends):\n",
    "    rpl.add_legend( legends,x,y,x+0.98,y+0.20,textsize=18, option='p' )"
   ]
  },
  {
   "cell_type": "code",
   "execution_count": 11,
   "metadata": {},
   "outputs": [],
   "source": [
    "legends = ['with Ringer (%s)'%version,'with Ringer (%s)'%ref]"
   ]
  },
  {
   "cell_type": "markdown",
   "metadata": {},
   "source": [
    "## Check EGAM1 Efficiency:"
   ]
  },
  {
   "cell_type": "code",
   "execution_count": 12,
   "metadata": {},
   "outputs": [],
   "source": [
    "hists = [\n",
    "        get_profile(data_df, 'HLT_e28_lhtight_nod0_ringer_%s_ivarloose'%version,etbins, 1, 23, 'el_lhtight'),\n",
    "        get_profile(data_df, 'HLT_e28_lhtight_nod0_ringer_%s_ivarloose'%ref,etbins, 1, 23, 'el_lhtight'),\n",
    "        ]"
   ]
  },
  {
   "cell_type": "code",
   "execution_count": 13,
   "metadata": {},
   "outputs": [
    {
     "data": {
      "image/png": "[encoded data removed]",
      "text/plain": [
       "<IPython.core.display.Image object>"
      ]
     },
     "metadata": {},
     "output_type": "display_data"
    }
   ],
   "source": [
    "colors = [kBlack,kBlue-4, kBlue-9]\n",
    "markers = [23, 24, 8]\n",
    "fig = rpl.create_canvas('my_canvas')\n",
    "rpl.plot_profiles( hists, 'Offline isolated electron E_{T} [GeV]', colors, markers )\n",
    "rpl.set_atlas_label(0.2,0.88,'Internal, pp data 2017 #sqrt{s}= 13TeV')\n",
    "add_legend( 0.51,0.25,legends )\n",
    "rpl.add_text( 0.42, 0.45, 'HLT_e28_lhtight_nod0_ivarloose', textsize=0.04)\n",
    "rpl.fix_yaxis_ranges( ignore_zeros=True, ignore_errors=True , ymaxf=1.2) \n",
    "fig.show()\n",
    "fig.savefig(output_path+'/eff_emu_EGAM1_e28_ringer_%s_2017_HLT_high_et.pdf'%version)"
   ]
  },
  {
   "cell_type": "code",
   "execution_count": 14,
   "metadata": {},
   "outputs": [],
   "source": [
    "hists = [\n",
    "        get_profile(data_df, \"HLT_e60_lhmedium_nod0_ringer_%s_L1EM24VHI\"%version,etbins, 1, 57, 'el_lhmedium'),\n",
    "        get_profile(data_df, \"HLT_e60_lhmedium_nod0_ringer_%s_L1EM24VHI\"%ref,etbins, 1, 57, 'el_lhmedium'),\n",
    "        ]"
   ]
  },
  {
   "cell_type": "code",
   "execution_count": 15,
   "metadata": {},
   "outputs": [
    {
     "data": {
      "image/png": "[encoded data removed]",
      "text/plain": [
       "<IPython.core.display.Image object>"
      ]
     },
     "metadata": {},
     "output_type": "display_data"
    }
   ],
   "source": [
    "colors = [kBlack,kBlue-4, kBlue-9]\n",
    "markers = [23, 24, 8]\n",
    "fig = rpl.create_canvas('my_canvas')\n",
    "rpl.plot_profiles( hists, 'Offline isolated electron E_{T} [GeV]', colors, markers )\n",
    "rpl.set_atlas_label(0.2,0.88,'Internal, pp data 2017 #sqrt{s}= 13TeV')\n",
    "add_legend( 0.41,0.25,legends )\n",
    "rpl.add_text( 0.32, 0.45, 'HLT_e60_lhmedium_nod0_L1EM24VHI', textsize=0.04)\n",
    "rpl.fix_yaxis_ranges( ignore_zeros=True, ignore_errors=True , ymaxf=1.2) \n",
    "fig.show()\n",
    "fig.savefig(output_path+'/eff_emu_EGAM1_e28_ringer_%s_2017_HLT_high_et.pdf'%version)"
   ]
  },
  {
   "cell_type": "code",
   "execution_count": 16,
   "metadata": {},
   "outputs": [],
   "source": [
    "hists = [\n",
    "        get_profile(data_df, \"HLT_e140_lhloose_nod0_ringer_%s\"%version,etbins_ext, 1, 135, 'el_lhloose'),\n",
    "        get_profile(data_df, \"HLT_e140_lhloose_nod0_ringer_%s\"%ref,etbins_ext, 1, 135, 'el_lhloose'),\n",
    "        ]"
   ]
  },
  {
   "cell_type": "code",
   "execution_count": 17,
   "metadata": {},
   "outputs": [
    {
     "data": {
      "image/png": "[encoded data removed]",
      "text/plain": [
       "<IPython.core.display.Image object>"
      ]
     },
     "metadata": {},
     "output_type": "display_data"
    }
   ],
   "source": [
    "colors = [kBlack,kBlue-4, kBlue-9]\n",
    "markers = [23, 24, 8]\n",
    "fig = rpl.create_canvas('my_canvas')\n",
    "rpl.plot_profiles( hists, 'Offline isolated electron E_{T} [GeV]', colors, markers )\n",
    "rpl.set_atlas_label(0.2,0.88,'Internal, pp data 2017 #sqrt{s}= 13TeV')\n",
    "add_legend( 0.41,0.35,legends)\n",
    "rpl.add_text( 0.37, 0.55, \"HLT_e140_lhloose_nod0\", textsize=0.04)\n",
    "rpl.fix_yaxis_ranges( ignore_zeros=True, ignore_errors=True , ymaxf=1.2) \n",
    "fig.show()\n",
    "fig.savefig(output_path+'/eff_emu_EGAM1_e28_ringer_%s_2017_HLT_high_et.pdf'%version)"
   ]
  },
  {
   "cell_type": "markdown",
   "metadata": {},
   "source": [
    "### Check EGAM7 Rejection:"
   ]
  },
  {
   "cell_type": "code",
   "execution_count": 18,
   "metadata": {},
   "outputs": [],
   "source": [
    "hists = [\n",
    "        get_profile(data_df, 'L2Calo_e28_lhtight_nod0_ringer_%s_ivarloose'%version,etbins, 0, 23),\n",
    "        get_profile(data_df, 'L2Calo_e28_lhtight_nod0_ringer_%s_ivarloose'%ref,etbins, 0, 23),\n",
    "        ]"
   ]
  },
  {
   "cell_type": "code",
   "execution_count": 19,
   "metadata": {},
   "outputs": [
    {
     "data": {
      "image/png": "[encoded data removed]",
      "text/plain": [
       "<IPython.core.display.Image object>"
      ]
     },
     "metadata": {},
     "output_type": "display_data"
    }
   ],
   "source": [
    "colors = [kGray+2,kRed-4]\n",
    "markers = [23, 20]\n",
    "fig = rpl.create_canvas('my_canvas')\n",
    "rpl.plot_profiles( hists, 'Offline isolated electron E_{T} [GeV]', colors, markers )\n",
    "rpl.set_atlas_label(0.2,0.88,'Internal, pp data 2017 #sqrt{s}= 13TeV')\n",
    "add_legend( 0.51,0.25,legends)\n",
    "rpl.add_text( 0.42, 0.45, 'HLT_e28_lhtight_nod0_ivarloose', textsize=0.04)\n",
    "rpl.fix_yaxis_ranges( ignore_zeros=True, ignore_errors=True , ymaxf=1.2) \n",
    "fig.show()\n",
    "fig.savefig(output_path+'/eff_emu_EGAM1_e28_ringer_%s_2017_HLT_high_et.pdf'%version)"
   ]
  },
  {
   "cell_type": "code",
   "execution_count": null,
   "metadata": {},
   "outputs": [],
   "source": []
  },
  {
   "cell_type": "code",
   "execution_count": null,
   "metadata": {},
   "outputs": [],
   "source": []
  },
  {
   "cell_type": "code",
   "execution_count": null,
   "metadata": {},
   "outputs": [],
   "source": []
  },
  {
   "cell_type": "code",
   "execution_count": null,
   "metadata": {},
   "outputs": [],
   "source": []
  },
  {
   "cell_type": "code",
   "execution_count": null,
   "metadata": {},
   "outputs": [],
   "source": []
  },
  {
   "cell_type": "code",
   "execution_count": null,
   "metadata": {},
   "outputs": [],
   "source": []
  }
 ],
 "metadata": {
  "kernelspec": {
   "display_name": "Python 3",
   "language": "python",
   "name": "python3"
  },
  "language_info": {
   "codemirror_mode": {
    "name": "ipython",
    "version": 3
   },
   "file_extension": ".py",
   "mimetype": "text/x-python",
   "name": "python",
   "nbconvert_exporter": "python",
   "pygments_lexer": "ipython3",
   "version": "3.6.9"
  }
 },
 "nbformat": 4,
 "nbformat_minor": 4
}
