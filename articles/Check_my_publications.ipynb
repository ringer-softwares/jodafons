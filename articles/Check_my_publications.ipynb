{
 "cells": [
  {
   "cell_type": "code",
   "execution_count": 67,
   "id": "f2b7b778-ff4f-4787-8b93-c91dbffc6d7d",
   "metadata": {},
   "outputs": [],
   "source": [
    "import numpy as np\n",
    "import pandas as pd\n",
    "import bibtexparser"
   ]
  },
  {
   "cell_type": "code",
   "execution_count": 68,
   "id": "7393d7b7-b421-456d-bcd7-4d1546cac468",
   "metadata": {},
   "outputs": [],
   "source": [
    "path = 'inspire_published.bib'"
   ]
  },
  {
   "cell_type": "code",
   "execution_count": 69,
   "id": "412c32b5-334b-4b41-8d0f-b60edbb56831",
   "metadata": {},
   "outputs": [],
   "source": [
    "with open(path) as f:\n",
    "    database = bibtexparser.load(f)"
   ]
  },
  {
   "cell_type": "code",
   "execution_count": 70,
   "id": "464754ec-6ba8-49f1-bc79-7acda78428ce",
   "metadata": {},
   "outputs": [],
   "source": [
    "my_df = pd.DataFrame(database.entries)"
   ]
  },
  {
   "cell_type": "code",
   "execution_count": 71,
   "id": "6637f45b-f437-487d-8818-bd7fe76e10f9",
   "metadata": {},
   "outputs": [
    {
     "data": {
      "text/plain": [
       "(170, 16)"
      ]
     },
     "execution_count": 71,
     "metadata": {},
     "output_type": "execute_result"
    }
   ],
   "source": [
    "my_df.shape"
   ]
  },
  {
   "cell_type": "code",
   "execution_count": 72,
   "id": "9ead40f3-220b-4f14-b059-6075f5287808",
   "metadata": {},
   "outputs": [
    {
     "data": {
      "text/plain": [
       "array(['Phys. Rev. D', 'JHEP', 'JINST', 'Phys. Lett. B',\n",
       "       'Eur. Phys. J. C', 'Phys. Rev. Lett.', 'Phys. Rev. C',\n",
       "       'Nature Phys.', 'PoS'], dtype=object)"
      ]
     },
     "execution_count": 72,
     "metadata": {},
     "output_type": "execute_result"
    }
   ],
   "source": [
    "my_df['journal'].unique()"
   ]
  },
  {
   "cell_type": "code",
   "execution_count": 73,
   "id": "231a235d-195b-46df-866b-4256bad7d486",
   "metadata": {},
   "outputs": [],
   "source": [
    "qualis = {\n",
    "            'Phys. Rev. D'    : ('PHYSICAL REVIEW D (PARTICLES, FIELDS, GRAVITATION AND COSMOLOGY)', 'A2'),\n",
    "            'Phys. Lett. B'   : ('MODERN PHYSICS LETTERS B', 'B5'), # not allow\n",
    "            'Eur. Phys. J. C' : ('The European Physical Journal C', '0'), \n",
    "            'Phys. Rev. Lett.': ('PHYSICAL REVIEW LETTERS', 'A1'),\n",
    "            'Phys. Rev. C'    : ('PHYSICAL REVIEW C', 'A2'),\n",
    "            'Nature Phys.'    : ('NATURE PHYSICS (PRINT)', 'A1'),\n",
    "            'JHEP'            : ('Journal of High Energy Physics', 'A1' ),\n",
    "            'JINST'           : ('Journal of Instrumentation', 'B1'),\n",
    "            'Pos'             : ('Proceeding of science', '0'), # not allow\n",
    "        }"
   ]
  },
  {
   "cell_type": "code",
   "execution_count": 74,
   "id": "cbb6bc2d-a01a-4932-9144-2d83fdff651c",
   "metadata": {},
   "outputs": [
    {
     "data": {
      "text/plain": [
       "(170, 16)"
      ]
     },
     "execution_count": 74,
     "metadata": {},
     "output_type": "execute_result"
    }
   ],
   "source": [
    "my_df.shape"
   ]
  },
  {
   "cell_type": "code",
   "execution_count": 75,
   "id": "49cc38ec-0097-4050-9f63-940faabd26cf",
   "metadata": {},
   "outputs": [],
   "source": [
    "def add_qualis_factor( row ):\n",
    "    journal = row['journal']\n",
    "    if journal in qualis.keys():\n",
    "        return qualis[journal][1]\n",
    "    else:\n",
    "        return np.nan\n",
    "def add_qualis_full_name(row):\n",
    "    journal = row['journal']\n",
    "    if journal in qualis.keys():\n",
    "        return qualis[journal][0]\n",
    "    else:\n",
    "        return np.nan\n",
    "    "
   ]
  },
  {
   "cell_type": "code",
   "execution_count": 76,
   "id": "39c965b0-b28c-4a30-8c79-22e98fcb5412",
   "metadata": {},
   "outputs": [],
   "source": [
    "my_df['Factor'] = my_df.apply( add_qualis_factor , axis=1)\n",
    "my_df['Journal name'] = my_df.apply( add_qualis_full_name , axis=1)"
   ]
  },
  {
   "cell_type": "code",
   "execution_count": 77,
   "id": "18d308b6-2574-4eae-b40e-3af0bd15c4b8",
   "metadata": {},
   "outputs": [],
   "source": [
    "my_articles = my_df.loc[(my_df['Factor']=='A1')|(my_df['Factor']=='A2')|(my_df['Factor']=='B1')]"
   ]
  },
  {
   "cell_type": "code",
   "execution_count": 78,
   "id": "94490390-c140-4eaa-aa27-837f6e258f69",
   "metadata": {},
   "outputs": [
    {
     "data": {
      "text/plain": [
       "(101, 18)"
      ]
     },
     "execution_count": 78,
     "metadata": {},
     "output_type": "execute_result"
    }
   ],
   "source": [
    "my_articles.shape"
   ]
  },
  {
   "cell_type": "code",
   "execution_count": 79,
   "id": "5d3550be-f1e8-43e7-98a3-0282a298a6f0",
   "metadata": {},
   "outputs": [
    {
     "data": {
      "text/html": [
       "<div>\n",
       "<style scoped>\n",
       "    .dataframe tbody tr th:only-of-type {\n",
       "        vertical-align: middle;\n",
       "    }\n",
       "\n",
       "    .dataframe tbody tr th {\n",
       "        vertical-align: top;\n",
       "    }\n",
       "\n",
       "    .dataframe thead th {\n",
       "        text-align: right;\n",
       "    }\n",
       "</style>\n",
       "<table border=\"1\" class=\"dataframe\">\n",
       "  <thead>\n",
       "    <tr style=\"text-align: right;\">\n",
       "      <th></th>\n",
       "      <th>year</th>\n",
       "      <th>pages</th>\n",
       "      <th>number</th>\n",
       "      <th>volume</th>\n",
       "      <th>journal</th>\n",
       "      <th>doi</th>\n",
       "      <th>reportnumber</th>\n",
       "      <th>primaryclass</th>\n",
       "      <th>archiveprefix</th>\n",
       "      <th>eprint</th>\n",
       "      <th>title</th>\n",
       "      <th>collaboration</th>\n",
       "      <th>author</th>\n",
       "      <th>ENTRYTYPE</th>\n",
       "      <th>ID</th>\n",
       "      <th>note</th>\n",
       "      <th>Factor</th>\n",
       "      <th>Journal name</th>\n",
       "    </tr>\n",
       "  </thead>\n",
       "  <tbody>\n",
       "    <tr>\n",
       "      <th>0</th>\n",
       "      <td>2022</td>\n",
       "      <td>012006</td>\n",
       "      <td>1</td>\n",
       "      <td>105</td>\n",
       "      <td>Phys. Rev. D</td>\n",
       "      <td>10.1103/PhysRevD.105.012006</td>\n",
       "      <td>CERN-EP-2021-157</td>\n",
       "      <td>hep-ex</td>\n",
       "      <td>arXiv</td>\n",
       "      <td>2110.00313</td>\n",
       "      <td>{Search for Higgs boson decays into a pair of ...</td>\n",
       "      <td>ATLAS</td>\n",
       "      <td>Aad, Georges and others</td>\n",
       "      <td>article</td>\n",
       "      <td>ATLAS:2021hbr</td>\n",
       "      <td>NaN</td>\n",
       "      <td>A2</td>\n",
       "      <td>PHYSICAL REVIEW D (PARTICLES, FIELDS, GRAVITAT...</td>\n",
       "    </tr>\n",
       "    <tr>\n",
       "      <th>1</th>\n",
       "      <td>2022</td>\n",
       "      <td>063</td>\n",
       "      <td>NaN</td>\n",
       "      <td>01</td>\n",
       "      <td>JHEP</td>\n",
       "      <td>10.1007/JHEP01(2022)063</td>\n",
       "      <td>CERN-EP-2021-098</td>\n",
       "      <td>hep-ex</td>\n",
       "      <td>arXiv</td>\n",
       "      <td>2109.02447</td>\n",
       "      <td>{Search for exotic decays of the Higgs boson i...</td>\n",
       "      <td>ATLAS</td>\n",
       "      <td>Aad, Georges and others</td>\n",
       "      <td>article</td>\n",
       "      <td>ATLAS:2021edm</td>\n",
       "      <td>NaN</td>\n",
       "      <td>A1</td>\n",
       "      <td>Journal of High Energy Physics</td>\n",
       "    </tr>\n",
       "    <tr>\n",
       "      <th>2</th>\n",
       "      <td>2022</td>\n",
       "      <td>P01013</td>\n",
       "      <td>01</td>\n",
       "      <td>17</td>\n",
       "      <td>JINST</td>\n",
       "      <td>10.1088/1748-0221/17/01/P01013</td>\n",
       "      <td>CERN-EP-2021-178</td>\n",
       "      <td>physics.ins-det</td>\n",
       "      <td>arXiv</td>\n",
       "      <td>2109.02591</td>\n",
       "      <td>{Operation and performance of the ATLAS semico...</td>\n",
       "      <td>ATLAS</td>\n",
       "      <td>Aad, Georges and others</td>\n",
       "      <td>article</td>\n",
       "      <td>ATLAS:2021zxb</td>\n",
       "      <td>NaN</td>\n",
       "      <td>B1</td>\n",
       "      <td>Journal of Instrumentation</td>\n",
       "    </tr>\n",
       "    <tr>\n",
       "      <th>3</th>\n",
       "      <td>2021</td>\n",
       "      <td>209</td>\n",
       "      <td>NaN</td>\n",
       "      <td>11</td>\n",
       "      <td>JHEP</td>\n",
       "      <td>10.1007/JHEP11(2021)209</td>\n",
       "      <td>CERN-EP-2021-074</td>\n",
       "      <td>hep-ex</td>\n",
       "      <td>arXiv</td>\n",
       "      <td>2108.13391</td>\n",
       "      <td>{Search for dark matter produced in associatio...</td>\n",
       "      <td>ATLAS</td>\n",
       "      <td>Aad, Georges and others</td>\n",
       "      <td>article</td>\n",
       "      <td>ATLAS:2021shl</td>\n",
       "      <td>NaN</td>\n",
       "      <td>A1</td>\n",
       "      <td>Journal of High Energy Physics</td>\n",
       "    </tr>\n",
       "    <tr>\n",
       "      <th>4</th>\n",
       "      <td>2022</td>\n",
       "      <td>012001</td>\n",
       "      <td>1</td>\n",
       "      <td>105</td>\n",
       "      <td>Phys. Rev. D</td>\n",
       "      <td>10.1103/PhysRevD.105.012001</td>\n",
       "      <td>CERN-EP-2021-119</td>\n",
       "      <td>hep-ex</td>\n",
       "      <td>arXiv</td>\n",
       "      <td>2108.09059</td>\n",
       "      <td>{Search for heavy particles in the $b$-tagged ...</td>\n",
       "      <td>ATLAS</td>\n",
       "      <td>Aad, Georges and others</td>\n",
       "      <td>article</td>\n",
       "      <td>ATLAS:2021suo</td>\n",
       "      <td>NaN</td>\n",
       "      <td>A2</td>\n",
       "      <td>PHYSICAL REVIEW D (PARTICLES, FIELDS, GRAVITAT...</td>\n",
       "    </tr>\n",
       "  </tbody>\n",
       "</table>\n",
       "</div>"
      ],
      "text/plain": [
       "   year   pages number volume       journal                             doi  \\\n",
       "0  2022  012006      1    105  Phys. Rev. D     10.1103/PhysRevD.105.012006   \n",
       "1  2022     063    NaN     01          JHEP         10.1007/JHEP01(2022)063   \n",
       "2  2022  P01013     01     17         JINST  10.1088/1748-0221/17/01/P01013   \n",
       "3  2021     209    NaN     11          JHEP         10.1007/JHEP11(2021)209   \n",
       "4  2022  012001      1    105  Phys. Rev. D     10.1103/PhysRevD.105.012001   \n",
       "\n",
       "       reportnumber     primaryclass archiveprefix      eprint  \\\n",
       "0  CERN-EP-2021-157           hep-ex         arXiv  2110.00313   \n",
       "1  CERN-EP-2021-098           hep-ex         arXiv  2109.02447   \n",
       "2  CERN-EP-2021-178  physics.ins-det         arXiv  2109.02591   \n",
       "3  CERN-EP-2021-074           hep-ex         arXiv  2108.13391   \n",
       "4  CERN-EP-2021-119           hep-ex         arXiv  2108.09059   \n",
       "\n",
       "                                               title collaboration  \\\n",
       "0  {Search for Higgs boson decays into a pair of ...         ATLAS   \n",
       "1  {Search for exotic decays of the Higgs boson i...         ATLAS   \n",
       "2  {Operation and performance of the ATLAS semico...         ATLAS   \n",
       "3  {Search for dark matter produced in associatio...         ATLAS   \n",
       "4  {Search for heavy particles in the $b$-tagged ...         ATLAS   \n",
       "\n",
       "                    author ENTRYTYPE             ID note Factor  \\\n",
       "0  Aad, Georges and others   article  ATLAS:2021hbr  NaN     A2   \n",
       "1  Aad, Georges and others   article  ATLAS:2021edm  NaN     A1   \n",
       "2  Aad, Georges and others   article  ATLAS:2021zxb  NaN     B1   \n",
       "3  Aad, Georges and others   article  ATLAS:2021shl  NaN     A1   \n",
       "4  Aad, Georges and others   article  ATLAS:2021suo  NaN     A2   \n",
       "\n",
       "                                        Journal name  \n",
       "0  PHYSICAL REVIEW D (PARTICLES, FIELDS, GRAVITAT...  \n",
       "1                     Journal of High Energy Physics  \n",
       "2                         Journal of Instrumentation  \n",
       "3                     Journal of High Energy Physics  \n",
       "4  PHYSICAL REVIEW D (PARTICLES, FIELDS, GRAVITAT...  "
      ]
     },
     "execution_count": 79,
     "metadata": {},
     "output_type": "execute_result"
    }
   ],
   "source": [
    "my_articles.head()"
   ]
  },
  {
   "cell_type": "code",
   "execution_count": 80,
   "id": "5d59157e-d10e-4926-96dc-2626b4d487fd",
   "metadata": {},
   "outputs": [],
   "source": [
    "my_articles = my_articles.sort_values(by=['Factor'])"
   ]
  },
  {
   "cell_type": "code",
   "execution_count": 81,
   "id": "f67689a5-1cc0-4ebe-b403-ad28f9659fc1",
   "metadata": {},
   "outputs": [
    {
     "data": {
      "text/html": [
       "<div>\n",
       "<style scoped>\n",
       "    .dataframe tbody tr th:only-of-type {\n",
       "        vertical-align: middle;\n",
       "    }\n",
       "\n",
       "    .dataframe tbody tr th {\n",
       "        vertical-align: top;\n",
       "    }\n",
       "\n",
       "    .dataframe thead th {\n",
       "        text-align: right;\n",
       "    }\n",
       "</style>\n",
       "<table border=\"1\" class=\"dataframe\">\n",
       "  <thead>\n",
       "    <tr style=\"text-align: right;\">\n",
       "      <th></th>\n",
       "      <th>year</th>\n",
       "      <th>pages</th>\n",
       "      <th>number</th>\n",
       "      <th>volume</th>\n",
       "      <th>journal</th>\n",
       "      <th>doi</th>\n",
       "      <th>reportnumber</th>\n",
       "      <th>primaryclass</th>\n",
       "      <th>archiveprefix</th>\n",
       "      <th>eprint</th>\n",
       "      <th>title</th>\n",
       "      <th>collaboration</th>\n",
       "      <th>author</th>\n",
       "      <th>ENTRYTYPE</th>\n",
       "      <th>ID</th>\n",
       "      <th>note</th>\n",
       "      <th>Factor</th>\n",
       "      <th>Journal name</th>\n",
       "    </tr>\n",
       "  </thead>\n",
       "  <tbody>\n",
       "    <tr>\n",
       "      <th>169</th>\n",
       "      <td>2019</td>\n",
       "      <td>093</td>\n",
       "      <td>NaN</td>\n",
       "      <td>04</td>\n",
       "      <td>JHEP</td>\n",
       "      <td>10.1007/JHEP04(2019)093</td>\n",
       "      <td>CERN-EP-2018-340</td>\n",
       "      <td>hep-ex</td>\n",
       "      <td>arXiv</td>\n",
       "      <td>1901.10075</td>\n",
       "      <td>{Measurement of the ratio of cross sections fo...</td>\n",
       "      <td>ATLAS</td>\n",
       "      <td>Aaboud, Morad and others</td>\n",
       "      <td>article</td>\n",
       "      <td>ATLAS:2019drj</td>\n",
       "      <td>NaN</td>\n",
       "      <td>A1</td>\n",
       "      <td>Journal of High Energy Physics</td>\n",
       "    </tr>\n",
       "    <tr>\n",
       "      <th>108</th>\n",
       "      <td>2020</td>\n",
       "      <td>042</td>\n",
       "      <td>NaN</td>\n",
       "      <td>02</td>\n",
       "      <td>JHEP</td>\n",
       "      <td>10.1007/JHEP02(2020)042</td>\n",
       "      <td>CERN-EP-2019-190</td>\n",
       "      <td>hep-ex</td>\n",
       "      <td>arXiv</td>\n",
       "      <td>1911.00453</td>\n",
       "      <td>{Measurement of differential cross sections fo...</td>\n",
       "      <td>ATLAS</td>\n",
       "      <td>Aad, Georges and others</td>\n",
       "      <td>article</td>\n",
       "      <td>ATLAS:2019asg</td>\n",
       "      <td>[Erratum: JHEP 10, 182 (2020)]</td>\n",
       "      <td>A1</td>\n",
       "      <td>Journal of High Energy Physics</td>\n",
       "    </tr>\n",
       "    <tr>\n",
       "      <th>56</th>\n",
       "      <td>2021</td>\n",
       "      <td>188</td>\n",
       "      <td>NaN</td>\n",
       "      <td>01</td>\n",
       "      <td>JHEP</td>\n",
       "      <td>10.1007/JHEP01(2021)188</td>\n",
       "      <td>CERN-EP-2020-077</td>\n",
       "      <td>hep-ex</td>\n",
       "      <td>arXiv</td>\n",
       "      <td>2007.12600</td>\n",
       "      <td>{Measurement of hadronic event shapes in high-...</td>\n",
       "      <td>ATLAS</td>\n",
       "      <td>Aad, Georges and others</td>\n",
       "      <td>article</td>\n",
       "      <td>ATLAS:2020vup</td>\n",
       "      <td>NaN</td>\n",
       "      <td>A1</td>\n",
       "      <td>Journal of High Energy Physics</td>\n",
       "    </tr>\n",
       "    <tr>\n",
       "      <th>146</th>\n",
       "      <td>2019</td>\n",
       "      <td>265</td>\n",
       "      <td>NaN</td>\n",
       "      <td>10</td>\n",
       "      <td>JHEP</td>\n",
       "      <td>10.1007/JHEP10(2019)265</td>\n",
       "      <td>CERN-EP-2019-071</td>\n",
       "      <td>hep-ex</td>\n",
       "      <td>arXiv</td>\n",
       "      <td>1905.09787</td>\n",
       "      <td>{Search for heavy neutral leptons in decays of...</td>\n",
       "      <td>ATLAS</td>\n",
       "      <td>Aad, Georges and others</td>\n",
       "      <td>article</td>\n",
       "      <td>ATLAS:2019kpx</td>\n",
       "      <td>NaN</td>\n",
       "      <td>A1</td>\n",
       "      <td>Journal of High Energy Physics</td>\n",
       "    </tr>\n",
       "    <tr>\n",
       "      <th>61</th>\n",
       "      <td>2020</td>\n",
       "      <td>049</td>\n",
       "      <td>NaN</td>\n",
       "      <td>09</td>\n",
       "      <td>JHEP</td>\n",
       "      <td>10.1007/JHEP09(2020)049</td>\n",
       "      <td>CERN-EP-2020-100</td>\n",
       "      <td>hep-ex</td>\n",
       "      <td>arXiv</td>\n",
       "      <td>2007.06946</td>\n",
       "      <td>{Measurements of inclusive and differential cr...</td>\n",
       "      <td>ATLAS</td>\n",
       "      <td>Aad, Georges and others</td>\n",
       "      <td>article</td>\n",
       "      <td>ATLAS:2020yrp</td>\n",
       "      <td>NaN</td>\n",
       "      <td>A1</td>\n",
       "      <td>Journal of High Energy Physics</td>\n",
       "    </tr>\n",
       "  </tbody>\n",
       "</table>\n",
       "</div>"
      ],
      "text/plain": [
       "     year pages number volume journal                      doi  \\\n",
       "169  2019   093    NaN     04    JHEP  10.1007/JHEP04(2019)093   \n",
       "108  2020   042    NaN     02    JHEP  10.1007/JHEP02(2020)042   \n",
       "56   2021   188    NaN     01    JHEP  10.1007/JHEP01(2021)188   \n",
       "146  2019   265    NaN     10    JHEP  10.1007/JHEP10(2019)265   \n",
       "61   2020   049    NaN     09    JHEP  10.1007/JHEP09(2020)049   \n",
       "\n",
       "         reportnumber primaryclass archiveprefix      eprint  \\\n",
       "169  CERN-EP-2018-340       hep-ex         arXiv  1901.10075   \n",
       "108  CERN-EP-2019-190       hep-ex         arXiv  1911.00453   \n",
       "56   CERN-EP-2020-077       hep-ex         arXiv  2007.12600   \n",
       "146  CERN-EP-2019-071       hep-ex         arXiv  1905.09787   \n",
       "61   CERN-EP-2020-100       hep-ex         arXiv  2007.06946   \n",
       "\n",
       "                                                 title collaboration  \\\n",
       "169  {Measurement of the ratio of cross sections fo...         ATLAS   \n",
       "108  {Measurement of differential cross sections fo...         ATLAS   \n",
       "56   {Measurement of hadronic event shapes in high-...         ATLAS   \n",
       "146  {Search for heavy neutral leptons in decays of...         ATLAS   \n",
       "61   {Measurements of inclusive and differential cr...         ATLAS   \n",
       "\n",
       "                       author ENTRYTYPE             ID  \\\n",
       "169  Aaboud, Morad and others   article  ATLAS:2019drj   \n",
       "108   Aad, Georges and others   article  ATLAS:2019asg   \n",
       "56    Aad, Georges and others   article  ATLAS:2020vup   \n",
       "146   Aad, Georges and others   article  ATLAS:2019kpx   \n",
       "61    Aad, Georges and others   article  ATLAS:2020yrp   \n",
       "\n",
       "                               note Factor                    Journal name  \n",
       "169                             NaN     A1  Journal of High Energy Physics  \n",
       "108  [Erratum: JHEP 10, 182 (2020)]     A1  Journal of High Energy Physics  \n",
       "56                              NaN     A1  Journal of High Energy Physics  \n",
       "146                             NaN     A1  Journal of High Energy Physics  \n",
       "61                              NaN     A1  Journal of High Energy Physics  "
      ]
     },
     "execution_count": 81,
     "metadata": {},
     "output_type": "execute_result"
    }
   ],
   "source": [
    "my_articles.head()"
   ]
  },
  {
   "cell_type": "code",
   "execution_count": 82,
   "id": "f1eac8be-08a4-4964-8097-83313453c482",
   "metadata": {},
   "outputs": [],
   "source": [
    "my_articles.to_excel(\"articles.xlsx\", sheet_name='Articles') "
   ]
  },
  {
   "cell_type": "markdown",
   "id": "ff47db31-1546-48c3-a6b0-7419932ba891",
   "metadata": {},
   "source": [
    "## How many points?"
   ]
  },
  {
   "cell_type": "code",
   "execution_count": 91,
   "id": "9f9e3a15-3fe7-44c7-8a2e-0f3d781aa740",
   "metadata": {},
   "outputs": [],
   "source": [
    "many_to_one = 1"
   ]
  },
  {
   "cell_type": "code",
   "execution_count": 92,
   "id": "66e284d9-647b-415a-9886-e36a2101861f",
   "metadata": {},
   "outputs": [
    {
     "name": "stdout",
     "output_type": "stream",
     "text": [
      "183.7\n"
     ]
    }
   ],
   "source": [
    "count = int(my_articles.loc[my_articles['Factor']=='A1'].shape[0]/many_to_one) * 2\n",
    "count+= int(my_articles.loc[my_df['Factor']=='A2'].shape[0]/many_to_one) * 1.8\n",
    "count+= int(my_articles.loc[my_articles['Factor']=='B1'].shape[0]/many_to_one) * 0.5\n",
    "print(count)"
   ]
  },
  {
   "cell_type": "code",
   "execution_count": 84,
   "id": "5aa71644-4827-4793-8eda-88fc86e86cbc",
   "metadata": {},
   "outputs": [
    {
     "data": {
      "text/plain": [
       "68"
      ]
     },
     "execution_count": 84,
     "metadata": {},
     "output_type": "execute_result"
    }
   ],
   "source": [
    " my_articles.loc[my_articles['Factor']=='A1'].shape[0]"
   ]
  },
  {
   "cell_type": "code",
   "execution_count": 85,
   "id": "94c4d431-5e1e-4e83-90e3-07ccce8a2a41",
   "metadata": {},
   "outputs": [
    {
     "data": {
      "text/plain": [
       "24"
      ]
     },
     "execution_count": 85,
     "metadata": {},
     "output_type": "execute_result"
    }
   ],
   "source": [
    " my_articles.loc[my_articles['Factor']=='A2'].shape[0]"
   ]
  },
  {
   "cell_type": "code",
   "execution_count": 86,
   "id": "ac27accd-5985-41c7-8535-9adbf95c2ecd",
   "metadata": {},
   "outputs": [
    {
     "data": {
      "text/plain": [
       "9"
      ]
     },
     "execution_count": 86,
     "metadata": {},
     "output_type": "execute_result"
    }
   ],
   "source": [
    " my_articles.loc[my_articles['Factor']=='B1'].shape[0]"
   ]
  },
  {
   "cell_type": "code",
   "execution_count": null,
   "id": "b08148e4-94ac-4213-a1bb-a692d1ede6df",
   "metadata": {},
   "outputs": [],
   "source": []
  }
 ],
 "metadata": {
  "kernelspec": {
   "display_name": "Python 3",
   "language": "python",
   "name": "python3"
  },
  "language_info": {
   "codemirror_mode": {
    "name": "ipython",
    "version": 3
   },
   "file_extension": ".py",
   "mimetype": "text/x-python",
   "name": "python",
   "nbconvert_exporter": "python",
   "pygments_lexer": "ipython3",
   "version": "3.6.9"
  }
 },
 "nbformat": 4,
 "nbformat_minor": 5
}
